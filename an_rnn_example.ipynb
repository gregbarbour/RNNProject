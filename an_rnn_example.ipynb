{
 "cells": [
  {
   "cell_type": "code",
   "execution_count": 1,
   "metadata": {},
   "outputs": [
    {
     "name": "stderr",
     "output_type": "stream",
     "text": [
      "Using TensorFlow backend.\n"
     ]
    }
   ],
   "source": [
    "import numpy as np\n",
    "import matplotlib.pyplot as plt\n",
    "import pandas as pd\n",
    "import math\n",
    "import copy\n",
    "import pickle\n",
    "from keras.models import Sequential, Model\n",
    "from keras.callbacks import EarlyStopping, ModelCheckpoint\n",
    "\n",
    "from keras.layers import BatchNormalization, Layer, TimeDistributed, Dropout\n",
    "from keras.layers import Dense, Input, Masking, LSTM\n",
    "from sklearn.preprocessing import MinMaxScaler\n",
    "from sklearn.metrics import mean_squared_error"
   ]
  },
  {
   "cell_type": "markdown",
   "metadata": {},
   "source": [
    "## Data Loading and Pre-Processing"
   ]
  },
  {
   "cell_type": "markdown",
   "metadata": {},
   "source": [
    "Let's start by trying to load in our toy jets, and then separate into features (to train on) and labels (to predict).\n",
    "\n",
    "For features, first try d0, z0, phi, theta, qOverP, (refPx, refPy, refPz)?. Essentially the track parameters.\n",
    "\n",
    "For labels, Xs, Ys, Zs, Xt, Yt, Zt. That is the secondary and tertiary vertices. Omit the primary as this has been fixed to (0,0,0). This will require some smart selection for c and light jets, where not all vertices are present. If a vertex is not present, could try predicting (0,0,0) or (-1,-1,-1) or previous vertex (prim or sec)."
   ]
  },
  {
   "cell_type": "code",
   "execution_count": 2,
   "metadata": {},
   "outputs": [],
   "source": [
    "bjets_DF = pd.read_pickle(\"./bjets_NaN_and_oneOverP_errs.pkl\")\n",
    "#cjets_DF = pd.read_pickle(\"./cjets.pkl\")\n",
    "#ljets_DF = pd.read_pickle(\"./ljets.pkl\")"
   ]
  },
  {
   "cell_type": "markdown",
   "metadata": {},
   "source": [
    "Extract the track parameters as our features"
   ]
  },
  {
   "cell_type": "code",
   "execution_count": 46,
   "metadata": {},
   "outputs": [
    {
     "name": "stdout",
     "output_type": "stream",
     "text": [
      "Wall time: 15.2 s\n"
     ]
    }
   ],
   "source": [
    "%%time\n",
    "trks=np.zeros((len(bjets_DF), 30, 5))\n",
    "\n",
    "for i in range(len(bjets_DF)):\n",
    "    trks[i] = np.array([bjets_DF['tracks'][i]])[:,:,0:5]\n",
    "    \n"
   ]
  },
  {
   "cell_type": "code",
   "execution_count": 47,
   "metadata": {},
   "outputs": [],
   "source": [
    "X = trks # following convention name the features as the vector 'X'"
   ]
  },
  {
   "cell_type": "code",
   "execution_count": 79,
   "metadata": {},
   "outputs": [],
   "source": [
    "#X = np.nan_to_num(X)"
   ]
  },
  {
   "cell_type": "markdown",
   "metadata": {},
   "source": [
    "### Data Handling: Change 1/p to p"
   ]
  },
  {
   "cell_type": "markdown",
   "metadata": {},
   "source": [
    "Let's try changing the 1/p feature to p, see what happens"
   ]
  },
  {
   "cell_type": "markdown",
   "metadata": {},
   "source": [
    " No Change to end accuracy nor speed-up so won't do this"
   ]
  },
  {
   "cell_type": "code",
   "execution_count": 80,
   "metadata": {},
   "outputs": [
    {
     "data": {
      "text/plain": [
       "array([[ 4850.46696803,  3060.74292196,  4054.83541082, ...,\n",
       "                   nan,            nan,            nan],\n",
       "       [ 2050.96833157,  5200.69668043,  1918.47163884, ...,\n",
       "                   nan,            nan,            nan],\n",
       "       [ 3774.24046227, 14472.05631949,  2894.37128725, ...,\n",
       "                   nan,            nan,            nan],\n",
       "       ...,\n",
       "       [ 2883.77907606,  5114.71929641,  2072.69149129, ...,\n",
       "                   nan,            nan,            nan],\n",
       "       [ 2566.318433  ,   620.46562403,   563.21545658, ...,\n",
       "                   nan,            nan,            nan],\n",
       "       [ 4284.22553045,  7638.42365794,  1493.57056224, ...,\n",
       "                   nan,            nan,            nan]])"
      ]
     },
     "execution_count": 80,
     "metadata": {},
     "output_type": "execute_result"
    }
   ],
   "source": [
    "#1/X[:,:,4]  # these are individual tracks remember so p<10,000 is allowed"
   ]
  },
  {
   "cell_type": "code",
   "execution_count": 81,
   "metadata": {},
   "outputs": [],
   "source": [
    "#X[:,:,4] = 1/X[:,:,4]"
   ]
  },
  {
   "cell_type": "code",
   "execution_count": 82,
   "metadata": {},
   "outputs": [],
   "source": [
    "#X = np.nan_to_num(X)"
   ]
  },
  {
   "cell_type": "markdown",
   "metadata": {},
   "source": [
    "### Track Ordering"
   ]
  },
  {
   "cell_type": "markdown",
   "metadata": {},
   "source": [
    "Use numpy sort function should work, order in descending value say of impact parameter or something (shouldnt be any negatives)"
   ]
  },
  {
   "cell_type": "code",
   "execution_count": 45,
   "metadata": {},
   "outputs": [
    {
     "data": {
      "text/plain": [
       "0.0"
      ]
     },
     "execution_count": 45,
     "metadata": {},
     "output_type": "execute_result"
    }
   ],
   "source": [
    "np.min(X[:,:,0])"
   ]
  },
  {
   "cell_type": "code",
   "execution_count": 49,
   "metadata": {},
   "outputs": [
    {
     "name": "stdout",
     "output_type": "stream",
     "text": [
      "Wall time: 4.37 s\n"
     ]
    }
   ],
   "source": [
    "%%time\n",
    "\n",
    "# This code should do the trick, ordering here by d0 in descinding order,\n",
    "# checked that there are no d0 negative vals, so i don't take absolute values\n",
    "\n",
    "for jet in range(len(bjets_DF)):\n",
    "    mat=np.nan_to_num(X[jet]) # Converts nan to 0.0 !!! May need to run this step later if want to minmax scale\n",
    "    mat_sort = mat[mat[:,0].argsort()[::-1]]\n",
    "    X[jet]=mat_sort"
   ]
  },
  {
   "cell_type": "code",
   "execution_count": 50,
   "metadata": {},
   "outputs": [
    {
     "data": {
      "text/plain": [
       "array([[[ 7.48773333e-04, -9.65963118e-05, -2.11493938e+00,\n",
       "          2.93390487e+00,  1.62024732e-04],\n",
       "        [ 4.67363941e-04,  2.17068009e-05, -1.77145540e+00,\n",
       "          3.09125710e+00,  7.33671864e-05],\n",
       "        [ 4.35472118e-04, -1.23074278e-05, -1.04056037e+00,\n",
       "          2.98124820e+00,  1.58138612e-04],\n",
       "        ...,\n",
       "        [ 0.00000000e+00,  0.00000000e+00,  0.00000000e+00,\n",
       "          0.00000000e+00,  0.00000000e+00],\n",
       "        [ 0.00000000e+00,  0.00000000e+00,  0.00000000e+00,\n",
       "          0.00000000e+00,  0.00000000e+00],\n",
       "        [ 0.00000000e+00,  0.00000000e+00,  0.00000000e+00,\n",
       "          0.00000000e+00,  0.00000000e+00]],\n",
       "\n",
       "       [[ 1.95433368e-03, -2.58651399e-03,  6.42807661e-01,\n",
       "          1.04267568e+00,  2.32396558e-04],\n",
       "        [ 1.93720514e-03,  1.43839722e-03,  5.82598525e-01,\n",
       "          1.40702647e+00,  1.48369940e-04],\n",
       "        [ 7.81975509e-04,  1.57580711e-04,  8.11333647e-01,\n",
       "          1.30535613e+00,  4.47963290e-05],\n",
       "        ...,\n",
       "        [ 0.00000000e+00,  0.00000000e+00,  0.00000000e+00,\n",
       "          0.00000000e+00,  0.00000000e+00],\n",
       "        [ 0.00000000e+00,  0.00000000e+00,  0.00000000e+00,\n",
       "          0.00000000e+00,  0.00000000e+00],\n",
       "        [ 0.00000000e+00,  0.00000000e+00,  0.00000000e+00,\n",
       "          0.00000000e+00,  0.00000000e+00]],\n",
       "\n",
       "       [[ 7.92387572e-04,  2.42781360e-04,  7.29107086e-01,\n",
       "          2.97427249e-01,  3.45498176e-04],\n",
       "        [ 7.87020778e-04,  2.25221971e-04,  3.10944700e+00,\n",
       "          2.78857555e-01,  1.02178690e-03],\n",
       "        [ 6.55551969e-05,  1.05984509e-06, -2.48764440e+00,\n",
       "          1.73680307e-02,  2.26673348e-05],\n",
       "        ...,\n",
       "        [ 0.00000000e+00,  0.00000000e+00,  0.00000000e+00,\n",
       "          0.00000000e+00,  0.00000000e+00],\n",
       "        [ 0.00000000e+00,  0.00000000e+00,  0.00000000e+00,\n",
       "          0.00000000e+00,  0.00000000e+00],\n",
       "        [ 0.00000000e+00,  0.00000000e+00,  0.00000000e+00,\n",
       "          0.00000000e+00,  0.00000000e+00]],\n",
       "\n",
       "       ...,\n",
       "\n",
       "       [[ 9.95209125e-04,  8.60995613e-04,  1.40893737e+00,\n",
       "          2.42435778e+00,  1.02252208e-04],\n",
       "        [ 7.93154173e-04, -6.37480058e-04,  1.45604682e+00,\n",
       "          2.31399696e+00,  6.02234664e-05],\n",
       "        [ 5.07041824e-04,  3.32136638e-04,  1.39735028e+00,\n",
       "          2.38328797e+00,  7.60725043e-05],\n",
       "        ...,\n",
       "        [ 0.00000000e+00,  0.00000000e+00,  0.00000000e+00,\n",
       "          0.00000000e+00,  0.00000000e+00],\n",
       "        [ 0.00000000e+00,  0.00000000e+00,  0.00000000e+00,\n",
       "          0.00000000e+00,  0.00000000e+00],\n",
       "        [ 0.00000000e+00,  0.00000000e+00,  0.00000000e+00,\n",
       "          0.00000000e+00,  0.00000000e+00]],\n",
       "\n",
       "       [[ 2.37889742e-03,  1.60526135e-03, -1.31018586e+00,\n",
       "          1.07768110e+00,  8.79707683e-04],\n",
       "        [ 8.37746294e-04,  1.15534547e-03, -2.28380308e+00,\n",
       "          1.25740524e+00,  2.93613839e-04],\n",
       "        [ 4.86087987e-04, -3.35207675e-04, -2.00347956e+00,\n",
       "          6.84392273e-01,  1.22923228e-04],\n",
       "        ...,\n",
       "        [ 0.00000000e+00,  0.00000000e+00,  0.00000000e+00,\n",
       "          0.00000000e+00,  0.00000000e+00],\n",
       "        [ 0.00000000e+00,  0.00000000e+00,  0.00000000e+00,\n",
       "          0.00000000e+00,  0.00000000e+00],\n",
       "        [ 0.00000000e+00,  0.00000000e+00,  0.00000000e+00,\n",
       "          0.00000000e+00,  0.00000000e+00]],\n",
       "\n",
       "       [[ 1.11233585e-03, -1.06636097e-03,  2.81803219e-01,\n",
       "          7.81472580e-01,  1.83810025e-03],\n",
       "        [ 4.62435196e-04, -1.85796758e-04,  3.57198762e-01,\n",
       "          1.26751011e+00,  3.07055390e-04],\n",
       "        [ 1.24872255e-04,  2.03627511e-04,  1.30879477e-01,\n",
       "          1.42412917e+00,  6.50138354e-05],\n",
       "        ...,\n",
       "        [ 0.00000000e+00,  0.00000000e+00,  0.00000000e+00,\n",
       "          0.00000000e+00,  0.00000000e+00],\n",
       "        [ 0.00000000e+00,  0.00000000e+00,  0.00000000e+00,\n",
       "          0.00000000e+00,  0.00000000e+00],\n",
       "        [ 0.00000000e+00,  0.00000000e+00,  0.00000000e+00,\n",
       "          0.00000000e+00,  0.00000000e+00]]])"
      ]
     },
     "execution_count": 50,
     "metadata": {},
     "output_type": "execute_result"
    }
   ],
   "source": [
    "X"
   ]
  },
  {
   "cell_type": "markdown",
   "metadata": {},
   "source": [
    "## Data Normalization"
   ]
  },
  {
   "cell_type": "markdown",
   "metadata": {},
   "source": [
    "I think we want to ensure all paramters are approx unity in order not to bias the RNN towards a particular feature. phi and theta are already approx unity (order pi), but qOverP is very small order 1e-4 and IP are also small (but scale multiple orders of magnitude) 1e-6 to 1e-2 (unfortunately)\n",
    "\n",
    "So maybe want to use a min max scaler or some thing."
   ]
  },
  {
   "cell_type": "code",
   "execution_count": 66,
   "metadata": {},
   "outputs": [
    {
     "data": {
      "text/plain": [
       "(array([4.13328e+05, 3.94200e+04, 2.76730e+04, ..., 0.00000e+00,\n",
       "        0.00000e+00, 1.00000e+00]),\n",
       " array([1.44259736e-09, 2.48700174e-05, 4.97385922e-05, ...,\n",
       "        2.58135821e-02, 2.58384507e-02, 2.58633192e-02]),\n",
       " <a list of 1040 Patch objects>)"
      ]
     },
     "execution_count": 66,
     "metadata": {},
     "output_type": "execute_result"
    },
    {
     "data": {
      "image/png": "[encoded data removed]",
      "text/plain": [
       "<Figure size 432x288 with 1 Axes>"
      ]
     },
     "metadata": {
      "needs_background": "light"
     },
     "output_type": "display_data"
    }
   ],
   "source": [
    "d0s = np.reshape(X[:,:,0],(3000000))\n",
    "d0s = d0s[~(d0s == np.NaN)]\n",
    "d0s\n",
    "plt.hist(d0s,bins='scott') # I believe this is the array containing all the d0s"
   ]
  },
  {
   "cell_type": "code",
   "execution_count": 90,
   "metadata": {
    "scrolled": true
   },
   "outputs": [
    {
     "name": "stdout",
     "output_type": "stream",
     "text": [
      "0.9568257995346341\n",
      "0.31995557915629463\n",
      "0.18227903038956314\n",
      "\n",
      "4.016282118952634\n",
      "347.65219898040107\n",
      "0.5286935888204137\n"
     ]
    }
   ],
   "source": [
    "print(np.mean(X[:,:,0]*1e4))\n",
    "print(np.mean(X[:,:,1]*1e6))\n",
    "print(np.mean(X[:,:,4]*1e4))\n",
    "print()\n",
    "print(np.std(X[:,:,0]*1e4)) # these are troublesome yes\n",
    "print(np.std(X[:,:,1]*1e6))\n",
    "print(np.std(X[:,:,4]*1e4))\n",
    "# so we will apply the above multiples, this will bring the averages to about unity (unfortunately some outliers will\n",
    "# be very large, so probs better to use a min max scaler or something but then exclude 0?)"
   ]
  },
  {
   "cell_type": "markdown",
   "metadata": {},
   "source": [
    "Here we scale all the features to bring them to average unity, this is very simplistic so we need a better way in future\n",
    "\n",
    "It means it works faster."
   ]
  },
  {
   "cell_type": "code",
   "execution_count": 91,
   "metadata": {},
   "outputs": [],
   "source": [
    "firsttime=True"
   ]
  },
  {
   "cell_type": "code",
   "execution_count": 92,
   "metadata": {},
   "outputs": [],
   "source": [
    "if firsttime==True:\n",
    "    X[:,:,0]=X[:,:,0]*1e4\n",
    "    X[:,:,1]=X[:,:,1]*1e6\n",
    "    X[:,:,4]=X[:,:,4]/1e4\n",
    "    firsttime = False"
   ]
  },
  {
   "cell_type": "markdown",
   "metadata": {},
   "source": [
    "Here we instead use a min-max scaler to try and solve the problem of scale i.e. certain IPs are 10^4 times larger than others. The min-max scaler means all features will be scaled equivalently."
   ]
  },
  {
   "cell_type": "markdown",
   "metadata": {},
   "source": [
    "Here we go, minmax scaling"
   ]
  },
  {
   "cell_type": "code",
   "execution_count": 13,
   "metadata": {},
   "outputs": [],
   "source": [
    "Xscaled = copy.copy(X)"
   ]
  },
  {
   "cell_type": "code",
   "execution_count": 14,
   "metadata": {},
   "outputs": [
    {
     "name": "stderr",
     "output_type": "stream",
     "text": [
      "C:\\Users\\Greg\\Anaconda3\\lib\\site-packages\\sklearn\\preprocessing\\data.py:355: RuntimeWarning: All-NaN slice encountered\n",
      "  data_min = np.nanmin(X, axis=0)\n",
      "C:\\Users\\Greg\\Anaconda3\\lib\\site-packages\\sklearn\\preprocessing\\data.py:356: RuntimeWarning: All-NaN slice encountered\n",
      "  data_max = np.nanmax(X, axis=0)\n",
      "C:\\Users\\Greg\\Anaconda3\\lib\\site-packages\\sklearn\\preprocessing\\data.py:355: RuntimeWarning: All-NaN slice encountered\n",
      "  data_min = np.nanmin(X, axis=0)\n",
      "C:\\Users\\Greg\\Anaconda3\\lib\\site-packages\\sklearn\\preprocessing\\data.py:356: RuntimeWarning: All-NaN slice encountered\n",
      "  data_max = np.nanmax(X, axis=0)\n",
      "C:\\Users\\Greg\\Anaconda3\\lib\\site-packages\\sklearn\\preprocessing\\data.py:355: RuntimeWarning: All-NaN slice encountered\n",
      "  data_min = np.nanmin(X, axis=0)\n",
      "C:\\Users\\Greg\\Anaconda3\\lib\\site-packages\\sklearn\\preprocessing\\data.py:356: RuntimeWarning: All-NaN slice encountered\n",
      "  data_max = np.nanmax(X, axis=0)\n",
      "C:\\Users\\Greg\\Anaconda3\\lib\\site-packages\\sklearn\\preprocessing\\data.py:355: RuntimeWarning: All-NaN slice encountered\n",
      "  data_min = np.nanmin(X, axis=0)\n",
      "C:\\Users\\Greg\\Anaconda3\\lib\\site-packages\\sklearn\\preprocessing\\data.py:356: RuntimeWarning: All-NaN slice encountered\n",
      "  data_max = np.nanmax(X, axis=0)\n",
      "C:\\Users\\Greg\\Anaconda3\\lib\\site-packages\\sklearn\\preprocessing\\data.py:355: RuntimeWarning: All-NaN slice encountered\n",
      "  data_min = np.nanmin(X, axis=0)\n",
      "C:\\Users\\Greg\\Anaconda3\\lib\\site-packages\\sklearn\\preprocessing\\data.py:356: RuntimeWarning: All-NaN slice encountered\n",
      "  data_max = np.nanmax(X, axis=0)\n"
     ]
    }
   ],
   "source": [
    "for track_variable in range(5):\n",
    "    var_to_scale = Xscaled[:,:,track_variable]\n",
    "    if (track_variable == 2 or track_variable == 3):\n",
    "        scaler=MinMaxScaler([-1,1])\n",
    "    else:\n",
    "        scaler=MinMaxScaler([0,1])\n",
    "    scaler.fit(var_to_scale)\n",
    "    Xscaled[:,:,track_variable] = scaler.transform(var_to_scale)"
   ]
  },
  {
   "cell_type": "code",
   "execution_count": 15,
   "metadata": {},
   "outputs": [
    {
     "name": "stdout",
     "output_type": "stream",
     "text": [
      "3000000\n"
     ]
    },
    {
     "name": "stderr",
     "output_type": "stream",
     "text": [
      "C:\\Users\\Greg\\Anaconda3\\lib\\site-packages\\numpy\\lib\\histograms.py:391: RuntimeWarning: invalid value encountered in greater_equal\n",
      "  keep = (a >= first_edge)\n",
      "C:\\Users\\Greg\\Anaconda3\\lib\\site-packages\\numpy\\lib\\histograms.py:392: RuntimeWarning: invalid value encountered in less_equal\n",
      "  keep &= (a <= last_edge)\n",
      "C:\\Users\\Greg\\Anaconda3\\lib\\site-packages\\numpy\\lib\\histograms.py:824: RuntimeWarning: invalid value encountered in greater_equal\n",
      "  keep = (tmp_a >= first_edge)\n",
      "C:\\Users\\Greg\\Anaconda3\\lib\\site-packages\\numpy\\lib\\histograms.py:825: RuntimeWarning: invalid value encountered in less_equal\n",
      "  keep &= (tmp_a <= last_edge)\n"
     ]
    },
    {
     "data": {
      "image/png": "[encoded data removed]",
      "text/plain": [
       "<Figure size 432x288 with 1 Axes>"
      ]
     },
     "metadata": {
      "needs_background": "light"
     },
     "output_type": "display_data"
    }
   ],
   "source": [
    "trackvar = X[:,:,0]\n",
    "trackvar = trackvar[~(trackvar == np.NaN)]\n",
    "print(len(trackvar))\n",
    "\n",
    "plt.hist(trackvar,bins='scott')\n",
    "plt.show()"
   ]
  },
  {
   "cell_type": "code",
   "execution_count": 16,
   "metadata": {},
   "outputs": [
    {
     "name": "stdout",
     "output_type": "stream",
     "text": [
      "3000000\n"
     ]
    },
    {
     "data": {
      "image/png": "[encoded data removed]",
      "text/plain": [
       "<Figure size 432x288 with 1 Axes>"
      ]
     },
     "metadata": {
      "needs_background": "light"
     },
     "output_type": "display_data"
    }
   ],
   "source": [
    "trackvar = Xscaled[:,:,0]\n",
    "trackvar = trackvar[~(trackvar == np.NaN)]\n",
    "print(len(trackvar))\n",
    "\n",
    "\n",
    "plt.hist(trackvar,bins='scott')\n",
    "plt.show()"
   ]
  },
  {
   "cell_type": "code",
   "execution_count": 17,
   "metadata": {},
   "outputs": [],
   "source": [
    "Xscaled = np.nan_to_num(Xscaled)"
   ]
  },
  {
   "cell_type": "code",
   "execution_count": null,
   "metadata": {},
   "outputs": [],
   "source": []
  },
  {
   "cell_type": "markdown",
   "metadata": {},
   "source": [
    "Now we scale the outputs, actually more simple, we change units from metres to millimetres"
   ]
  },
  {
   "cell_type": "markdown",
   "metadata": {},
   "source": [
    "And the secondary and tertiary vertices as our labels"
   ]
  },
  {
   "cell_type": "code",
   "execution_count": 93,
   "metadata": {},
   "outputs": [],
   "source": [
    "y = bjets_DF[['secVtx_x','secVtx_y','secVtx_z','terVtx_x','terVtx_y','terVtx_z']].values \n",
    "y = y*1000 # change units of vertices from m to mm, keep vals close to unity\n",
    "# again convention call labels 'y'"
   ]
  },
  {
   "cell_type": "markdown",
   "metadata": {},
   "source": [
    "Split first 80000 jets as train and next 20000 as test. Below some plots to show these jets are equivalently distributed"
   ]
  },
  {
   "cell_type": "code",
   "execution_count": 19,
   "metadata": {},
   "outputs": [],
   "source": [
    "X=np.nan_to_num(X)"
   ]
  },
  {
   "cell_type": "code",
   "execution_count": 95,
   "metadata": {},
   "outputs": [],
   "source": [
    "X_train=X[:90000]\n",
    "X_test=X[90000:]\n",
    "y_train=y[:90000]\n",
    "y_test=y[90000:]"
   ]
  },
  {
   "cell_type": "code",
   "execution_count": 96,
   "metadata": {},
   "outputs": [],
   "source": [
    "b_s1=np.linalg.norm(bjets_DF[['secVtx_x','secVtx_y','secVtx_z']],axis=1)[:90000]\n",
    "b_s2=np.linalg.norm(bjets_DF[['secVtx_x','secVtx_y','secVtx_z']],axis=1)[90000:]\n",
    "b_t1=np.linalg.norm(bjets_DF[['terVtx_x','terVtx_y','terVtx_z']],axis=1)[:90000]\n",
    "b_t2=np.linalg.norm(bjets_DF[['terVtx_x','terVtx_y','terVtx_z']],axis=1)[90000:]\n",
    "plt.show()"
   ]
  },
  {
   "cell_type": "code",
   "execution_count": 97,
   "metadata": {},
   "outputs": [
    {
     "name": "stdout",
     "output_type": "stream",
     "text": [
      "0.003680845648113255\n",
      "0.007007205248563903\n"
     ]
    },
    {
     "data": {
      "image/png": "[encoded data removed]",
      "text/plain": [
       "<Figure size 432x288 with 1 Axes>"
      ]
     },
     "metadata": {
      "needs_background": "light"
     },
     "output_type": "display_data"
    }
   ],
   "source": [
    "plt.hist(b_s1,bins='scott',range=[0,0.01])\n",
    "#plt.hist(c_SecVtx,bins='scott',range=[0,0.01])\n",
    "plt.hist(b_t1,bins='scott',range=[0,0.01])\n",
    "\n",
    "print(np.mean(b_s1))\n",
    "print(np.mean(b_t1))\n"
   ]
  },
  {
   "cell_type": "code",
   "execution_count": 98,
   "metadata": {},
   "outputs": [
    {
     "name": "stdout",
     "output_type": "stream",
     "text": [
      "0.003685262818106623\n",
      "0.007117036917486118\n"
     ]
    },
    {
     "data": {
      "image/png": "[encoded data removed]",
      "text/plain": [
       "<Figure size 432x288 with 1 Axes>"
      ]
     },
     "metadata": {
      "needs_background": "light"
     },
     "output_type": "display_data"
    }
   ],
   "source": [
    "plt.hist(b_s2,bins='scott',range=[0,0.01])\n",
    "#plt.hist(c_SecVtx,bins='scott',range=[0,0.01])\n",
    "plt.hist(b_t2,bins='scott',range=[0,0.01])\n",
    "\n",
    "print(np.mean(b_s2))\n",
    "print(np.mean(b_t2))\n"
   ]
  },
  {
   "cell_type": "markdown",
   "metadata": {},
   "source": [
    "So finally we have our features, X, and labels, y. Split into training and testing samples."
   ]
  },
  {
   "cell_type": "code",
   "execution_count": null,
   "metadata": {},
   "outputs": [],
   "source": []
  },
  {
   "cell_type": "markdown",
   "metadata": {},
   "source": [
    "## Data Plots and Sanity Checks"
   ]
  },
  {
   "cell_type": "markdown",
   "metadata": {},
   "source": [
    "Here I should have some plots on the track variables to ensure everything is logical and working fine, especially when I make changes to the data. Can potentially use seaborn..."
   ]
  },
  {
   "cell_type": "code",
   "execution_count": null,
   "metadata": {},
   "outputs": [],
   "source": []
  },
  {
   "cell_type": "code",
   "execution_count": null,
   "metadata": {},
   "outputs": [],
   "source": []
  },
  {
   "cell_type": "code",
   "execution_count": null,
   "metadata": {},
   "outputs": [],
   "source": []
  },
  {
   "cell_type": "markdown",
   "metadata": {},
   "source": [
    "## Constructing and Training an RNN"
   ]
  },
  {
   "cell_type": "markdown",
   "metadata": {},
   "source": [
    "Here we create an RNN based on LSTM cells using keras and tensorflow. The RNN will for each jet candidate take the tracks as inputs and attempt to predict the secondary and tertiary vertex positions. Let's see how well it does.\n",
    "\n",
    "I anticipate having to set a tolerance on the predicted values, it will never get them perfectly but we need to tell it how close it has to get for it to be considered successful."
   ]
  },
  {
   "cell_type": "markdown",
   "metadata": {},
   "source": [
    "Let's begin by creating the RNN architecture"
   ]
  },
  {
   "cell_type": "code",
   "execution_count": 99,
   "metadata": {},
   "outputs": [],
   "source": [
    "# Select number of hidden and dense layers. Initially use same as RNNIP but these can be tuned going forward.\n",
    "\n",
    "nHidden = 100\n",
    "nDense = 20"
   ]
  },
  {
   "cell_type": "code",
   "execution_count": 100,
   "metadata": {},
   "outputs": [],
   "source": [
    "nJets, nTrks, nFeatures = X_train.shape\n",
    "nOutputs = y.shape[1] # ie sec and ter vtx xyz, so 6"
   ]
  },
  {
   "cell_type": "code",
   "execution_count": 101,
   "metadata": {},
   "outputs": [],
   "source": [
    "trk_inputs = Input(shape=(nTrks,nFeatures),name=\"Trk_inputs\")\n",
    "masked_input = Masking()(trk_inputs)\n",
    "\n",
    "# Feed this merged layer to an RNN\n",
    "lstm = LSTM(nHidden, return_sequences=False, name='LSTM')(masked_input)\n",
    "dpt = Dropout(rate=0.2)(lstm) # this is a very high dropout rate, reduce it\n",
    "\n",
    "my_inputs = trk_inputs\n",
    "\n",
    "# Fully connected layer: This will convert the output of the RNN to our vtx postion predicitons\n",
    "FC = Dense(nDense, activation='relu', name=\"Dense\")(dpt) # is relu fine here? i think so...\n",
    "\n",
    "# Ouptut layer. Sec and Ter Vtx. No activation as this is a regression problem\n",
    "output = Dense(nOutputs, name=\"Vertex_Predictions\")(FC)\n",
    "\n",
    "myRNN = Model(inputs=my_inputs, outputs=output)\n"
   ]
  },
  {
   "cell_type": "code",
   "execution_count": 102,
   "metadata": {},
   "outputs": [
    {
     "name": "stdout",
     "output_type": "stream",
     "text": [
      "_________________________________________________________________\n",
      "Layer (type)                 Output Shape              Param #   \n",
      "=================================================================\n",
      "Trk_inputs (InputLayer)      (None, 30, 5)             0         \n",
      "_________________________________________________________________\n",
      "masking_3 (Masking)          (None, 30, 5)             0         \n",
      "_________________________________________________________________\n",
      "LSTM (LSTM)                  (None, 100)               42400     \n",
      "_________________________________________________________________\n",
      "dropout_3 (Dropout)          (None, 100)               0         \n",
      "_________________________________________________________________\n",
      "Dense (Dense)                (None, 20)                2020      \n",
      "_________________________________________________________________\n",
      "Vertex_Predictions (Dense)   (None, 6)                 126       \n",
      "=================================================================\n",
      "Total params: 44,546\n",
      "Trainable params: 44,546\n",
      "Non-trainable params: 0\n",
      "_________________________________________________________________\n"
     ]
    }
   ],
   "source": [
    "myRNN.summary()"
   ]
  },
  {
   "cell_type": "code",
   "execution_count": 103,
   "metadata": {},
   "outputs": [],
   "source": [
    "myRNN.compile(loss='mean_absolute_error', optimizer='adam', metrics=['mae']) # do i want to add a metric like mse to evaluate during training\n"
   ]
  },
  {
   "cell_type": "markdown",
   "metadata": {},
   "source": [
    " checkpoints, training, evaluation of performance\n",
    " different ways of evaluating performance obviously\n",
    " either akin to Nicole's method for RNNIP\n",
    " or the slighlty different method in https://github.com/agu3rra/NeuralNetwork-RegressionExample/blob/master/Tutorial.ipynb"
   ]
  },
  {
   "cell_type": "code",
   "execution_count": 104,
   "metadata": {},
   "outputs": [],
   "source": [
    "myRNN_mChkPt = ModelCheckpoint('myRNN_weights.h5',monitor='val_loss', verbose=True,\n",
    "                               save_best_only=True,\n",
    "                               save_weights_only=True)"
   ]
  },
  {
   "cell_type": "code",
   "execution_count": 105,
   "metadata": {},
   "outputs": [],
   "source": [
    "earlyStop = EarlyStopping(monitor='val_loss', verbose=True, patience=10)\n"
   ]
  },
  {
   "cell_type": "code",
   "execution_count": 106,
   "metadata": {},
   "outputs": [
    {
     "name": "stdout",
     "output_type": "stream",
     "text": [
      "Train on 72000 samples, validate on 18000 samples\n",
      "Epoch 1/100\n",
      "71936/72000 [============================>.] - ETA: 0s - loss: 1.9789 - mean_absolute_error: 1.9789Epoch 00001: val_loss improved from inf to 1.49518, saving model to myRNN_weights.h5\n",
      "72000/72000 [==============================] - 23s 325us/step - loss: 1.9783 - mean_absolute_error: 1.9783 - val_loss: 1.4952 - val_mean_absolute_error: 1.4952\n",
      "Epoch 2/100\n",
      "71936/72000 [============================>.] - ETA: 0s - loss: 1.3268 - mean_absolute_error: 1.3268Epoch 00002: val_loss improved from 1.49518 to 1.12483, saving model to myRNN_weights.h5\n",
      "72000/72000 [==============================] - 23s 318us/step - loss: 1.3266 - mean_absolute_error: 1.3266 - val_loss: 1.1248 - val_mean_absolute_error: 1.1248\n",
      "Epoch 3/100\n",
      "71936/72000 [============================>.] - ETA: 0s - loss: 1.1412 - mean_absolute_error: 1.1412Epoch 00003: val_loss improved from 1.12483 to 0.99325, saving model to myRNN_weights.h5\n",
      "72000/72000 [==============================] - 24s 328us/step - loss: 1.1415 - mean_absolute_error: 1.1415 - val_loss: 0.9933 - val_mean_absolute_error: 0.9933\n",
      "Epoch 4/100\n",
      "71936/72000 [============================>.] - ETA: 0s - loss: 1.0760 - mean_absolute_error: 1.0760Epoch 00004: val_loss improved from 0.99325 to 0.94297, saving model to myRNN_weights.h5\n",
      "72000/72000 [==============================] - 25s 345us/step - loss: 1.0760 - mean_absolute_error: 1.0760 - val_loss: 0.9430 - val_mean_absolute_error: 0.9430\n",
      "Epoch 5/100\n",
      "71936/72000 [============================>.] - ETA: 0s - loss: 1.0335 - mean_absolute_error: 1.0335Epoch 00005: val_loss did not improve\n",
      "72000/72000 [==============================] - 25s 341us/step - loss: 1.0334 - mean_absolute_error: 1.0334 - val_loss: 0.9523 - val_mean_absolute_error: 0.9523\n",
      "Epoch 6/100\n",
      "71936/72000 [============================>.] - ETA: 0s - loss: 1.0137 - mean_absolute_error: 1.0137Epoch 00006: val_loss improved from 0.94297 to 0.92664, saving model to myRNN_weights.h5\n",
      "72000/72000 [==============================] - 24s 337us/step - loss: 1.0136 - mean_absolute_error: 1.0136 - val_loss: 0.9266 - val_mean_absolute_error: 0.9266\n",
      "Epoch 7/100\n",
      "71936/72000 [============================>.] - ETA: 0s - loss: 1.0003 - mean_absolute_error: 1.0003Epoch 00007: val_loss improved from 0.92664 to 0.90210, saving model to myRNN_weights.h5\n",
      "72000/72000 [==============================] - 24s 335us/step - loss: 1.0002 - mean_absolute_error: 1.0002 - val_loss: 0.9021 - val_mean_absolute_error: 0.9021\n",
      "Epoch 8/100\n",
      "71936/72000 [============================>.] - ETA: 0s - loss: 0.9769 - mean_absolute_error: 0.9769Epoch 00008: val_loss improved from 0.90210 to 0.88012, saving model to myRNN_weights.h5\n",
      "72000/72000 [==============================] - 24s 339us/step - loss: 0.9769 - mean_absolute_error: 0.9769 - val_loss: 0.8801 - val_mean_absolute_error: 0.8801\n",
      "Epoch 9/100\n",
      "71936/72000 [============================>.] - ETA: 0s - loss: 0.9697 - mean_absolute_error: 0.9697Epoch 00009: val_loss did not improve\n",
      "72000/72000 [==============================] - 25s 342us/step - loss: 0.9698 - mean_absolute_error: 0.9698 - val_loss: 0.9023 - val_mean_absolute_error: 0.9023\n",
      "Epoch 10/100\n",
      "71936/72000 [============================>.] - ETA: 0s - loss: 0.9521 - mean_absolute_error: 0.9521Epoch 00010: val_loss did not improve\n",
      "72000/72000 [==============================] - 25s 343us/step - loss: 0.9520 - mean_absolute_error: 0.9520 - val_loss: 0.9019 - val_mean_absolute_error: 0.9019\n",
      "Epoch 11/100\n",
      "71936/72000 [============================>.] - ETA: 0s - loss: 0.9460 - mean_absolute_error: 0.9460Epoch 00011: val_loss improved from 0.88012 to 0.85799, saving model to myRNN_weights.h5\n",
      "72000/72000 [==============================] - 25s 346us/step - loss: 0.9460 - mean_absolute_error: 0.9460 - val_loss: 0.8580 - val_mean_absolute_error: 0.8580\n",
      "Epoch 12/100\n",
      "71936/72000 [============================>.] - ETA: 0s - loss: 0.9420 - mean_absolute_error: 0.9420Epoch 00012: val_loss did not improve\n",
      "72000/72000 [==============================] - 25s 345us/step - loss: 0.9418 - mean_absolute_error: 0.9418 - val_loss: 0.8585 - val_mean_absolute_error: 0.8585\n",
      "Epoch 13/100\n",
      "71936/72000 [============================>.] - ETA: 0s - loss: 0.9291 - mean_absolute_error: 0.9291- ETA: 1s - loss: 0.9260 - mean_absolute_eEpoch 00013: val_loss did not improve\n",
      "72000/72000 [==============================] - 26s 360us/step - loss: 0.9292 - mean_absolute_error: 0.9292 - val_loss: 0.8680 - val_mean_absolute_error: 0.8680\n",
      "Epoch 14/100\n",
      "71936/72000 [============================>.] - ETA: 0s - loss: 0.9264 - mean_absolute_error: 0.9264  ETA: 11s - lo - ETA: 9s - Epoch 00014: val_loss improved from 0.85799 to 0.85665, saving model to myRNN_weights.h5\n",
      "72000/72000 [==============================] - 28s 395us/step - loss: 0.9261 - mean_absolute_error: 0.9261 - val_loss: 0.8567 - val_mean_absolute_error: 0.8567\n",
      "Epoch 15/100\n",
      "71936/72000 [============================>.] - ETA: 0s - loss: 0.9232 - mean_absolute_error: 0.9232Epoch 00015: val_loss improved from 0.85665 to 0.82847, saving model to myRNN_weights.h5\n",
      "72000/72000 [==============================] - 25s 347us/step - loss: 0.9230 - mean_absolute_error: 0.9230 - val_loss: 0.8285 - val_mean_absolute_error: 0.8285\n",
      "Epoch 16/100\n",
      "71936/72000 [============================>.] - ETA: 0s - loss: 0.9167 - mean_absolute_error: 0.9167- ETA: 0s - loss: 0.9171 - mean_absolute_error: 0Epoch 00016: val_loss did not improve\n",
      "72000/72000 [==============================] - 26s 356us/step - loss: 0.9167 - mean_absolute_error: 0.9167 - val_loss: 0.8403 - val_mean_absolute_error: 0.8403\n",
      "Epoch 17/100\n",
      "71936/72000 [============================>.] - ETA: 0s - loss: 0.9112 - mean_absolute_error: 0.9112Epoch 00017: val_loss did not improve\n",
      "72000/72000 [==============================] - 26s 364us/step - loss: 0.9113 - mean_absolute_error: 0.9113 - val_loss: 0.8732 - val_mean_absolute_error: 0.8732\n",
      "Epoch 18/100\n",
      "71936/72000 [============================>.] - ETA: 0s - loss: 0.9061 - mean_absolute_error: 0.9061Epoch 00018: val_loss did not improve\n",
      "72000/72000 [==============================] - 24s 340us/step - loss: 0.9059 - mean_absolute_error: 0.9059 - val_loss: 0.8491 - val_mean_absolute_error: 0.8491\n",
      "Epoch 19/100\n",
      "71936/72000 [============================>.] - ETA: 0s - loss: 0.9200 - mean_absolute_error: 0.9200Epoch 00019: val_loss improved from 0.82847 to 0.82478, saving model to myRNN_weights.h5\n",
      "72000/72000 [==============================] - 27s 370us/step - loss: 0.9200 - mean_absolute_error: 0.9200 - val_loss: 0.8248 - val_mean_absolute_error: 0.8248\n",
      "Epoch 20/100\n",
      "71936/72000 [============================>.] - ETA: 0s - loss: 0.9018 - mean_absolute_error: 0.9018Epoch 00020: val_loss improved from 0.82478 to 0.81420, saving model to myRNN_weights.h5\n",
      "72000/72000 [==============================] - 24s 328us/step - loss: 0.9019 - mean_absolute_error: 0.9019 - val_loss: 0.8142 - val_mean_absolute_error: 0.8142\n",
      "Epoch 21/100\n",
      "71936/72000 [============================>.] - ETA: 0s - loss: 0.8963 - mean_absolute_error: 0.8963Epoch 00021: val_loss did not improve\n",
      "72000/72000 [==============================] - 26s 363us/step - loss: 0.8964 - mean_absolute_error: 0.8964 - val_loss: 0.8372 - val_mean_absolute_error: 0.8372\n",
      "Epoch 22/100\n",
      "71936/72000 [============================>.] - ETA: 0s - loss: 0.8886 - mean_absolute_error: 0.8886Epoch 00022: val_loss improved from 0.81420 to 0.80950, saving model to myRNN_weights.h5\n",
      "72000/72000 [==============================] - 25s 342us/step - loss: 0.8885 - mean_absolute_error: 0.8885 - val_loss: 0.8095 - val_mean_absolute_error: 0.8095\n",
      "Epoch 23/100\n",
      "71936/72000 [============================>.] - ETA: 0s - loss: 0.8861 - mean_absolute_error: 0.8861- ETA: 0s - loss: 0.8870 - mean_absolute_error: Epoch 00023: val_loss did not improve\n",
      "72000/72000 [==============================] - 27s 380us/step - loss: 0.8863 - mean_absolute_error: 0.8863 - val_loss: 0.8202 - val_mean_absolute_error: 0.8202\n",
      "Epoch 24/100\n",
      "71936/72000 [============================>.] - ETA: 0s - loss: 0.8839 - mean_absolute_error: 0.8839Epoch 00024: val_loss did not improve\n",
      "72000/72000 [==============================] - 25s 354us/step - loss: 0.8839 - mean_absolute_error: 0.8839 - val_loss: 0.8206 - val_mean_absolute_error: 0.8206\n",
      "Epoch 25/100\n",
      "71936/72000 [============================>.] - ETA: 0s - loss: 0.8882 - mean_absolute_error: 0.8882Epoch 00025: val_loss did not improve\n",
      "72000/72000 [==============================] - 24s 328us/step - loss: 0.8882 - mean_absolute_error: 0.8882 - val_loss: 0.8345 - val_mean_absolute_error: 0.8345\n",
      "Epoch 26/100\n",
      "71936/72000 [============================>.] - ETA: 0s - loss: 0.8785 - mean_absolute_error: 0.8785- ETA: 6s - loss: 0.8833 - ETA: 3s - lossEpoch 00026: val_loss did not improve\n",
      "72000/72000 [==============================] - 28s 385us/step - loss: 0.8785 - mean_absolute_error: 0.8785 - val_loss: 0.8369 - val_mean_absolute_error: 0.8369\n",
      "Epoch 27/100\n",
      "71936/72000 [============================>.] - ETA: 0s - loss: 0.8729 - mean_absolute_error: 0.8729Epoch 00027: val_loss improved from 0.80950 to 0.79046, saving model to myRNN_weights.h5\n",
      "72000/72000 [==============================] - 24s 335us/step - loss: 0.8729 - mean_absolute_error: 0.8729 - val_loss: 0.7905 - val_mean_absolute_error: 0.7905\n",
      "Epoch 28/100\n",
      "71936/72000 [============================>.] - ETA: 0s - loss: 0.8704 - mean_absolute_error: 0.8704Epoch 00028: val_loss did not improve\n",
      "72000/72000 [==============================] - 25s 350us/step - loss: 0.8703 - mean_absolute_error: 0.8703 - val_loss: 0.8263 - val_mean_absolute_error: 0.8263\n",
      "Epoch 29/100\n",
      "71936/72000 [============================>.] - ETA: 0s - loss: 0.8724 - mean_absolute_error: 0.8724Epoch 00029: val_loss did not improve\n",
      "72000/72000 [==============================] - 27s 381us/step - loss: 0.8724 - mean_absolute_error: 0.8724 - val_loss: 0.8039 - val_mean_absolute_error: 0.8039\n",
      "Epoch 30/100\n",
      "71936/72000 [============================>.] - ETA: 0s - loss: 0.8773 - mean_absolute_error: 0.8773Epoch 00030: val_loss improved from 0.79046 to 0.78937, saving model to myRNN_weights.h5\n",
      "72000/72000 [==============================] - 24s 329us/step - loss: 0.8773 - mean_absolute_error: 0.8773 - val_loss: 0.7894 - val_mean_absolute_error: 0.7894\n",
      "Epoch 31/100\n",
      "71936/72000 [============================>.] - ETA: 0s - loss: 0.8662 - mean_absolute_error: 0.8662Epoch 00031: val_loss did not improve\n",
      "72000/72000 [==============================] - 28s 388us/step - loss: 0.8661 - mean_absolute_error: 0.8661 - val_loss: 0.8060 - val_mean_absolute_error: 0.8060\n",
      "Epoch 32/100\n",
      "71936/72000 [============================>.] - ETA: 0s - loss: 0.8578 - mean_absolute_error: 0.8578Epoch 00032: val_loss did not improve\n",
      "72000/72000 [==============================] - 25s 349us/step - loss: 0.8582 - mean_absolute_error: 0.8582 - val_loss: 0.7980 - val_mean_absolute_error: 0.7980\n",
      "Epoch 33/100\n",
      "71936/72000 [============================>.] - ETA: 0s - loss: 0.8574 - mean_absolute_error: 0.8574Epoch 00033: val_loss improved from 0.78937 to 0.78459, saving model to myRNN_weights.h5\n",
      "72000/72000 [==============================] - 24s 340us/step - loss: 0.8572 - mean_absolute_error: 0.8572 - val_loss: 0.7846 - val_mean_absolute_error: 0.7846\n",
      "Epoch 34/100\n",
      "71936/72000 [============================>.] - ETA: 0s - loss: 0.8589 - mean_absolute_error: 0.8589- ETA: 3s - Epoch 00034: val_loss did not improve\n",
      "72000/72000 [==============================] - 28s 392us/step - loss: 0.8589 - mean_absolute_error: 0.8589 - val_loss: 0.7905 - val_mean_absolute_error: 0.7905\n",
      "Epoch 35/100\n",
      "71936/72000 [============================>.] - ETA: 0s - loss: 0.8588 - mean_absolute_error: 0.8588Epoch 00035: val_loss did not improve\n",
      "72000/72000 [==============================] - 24s 338us/step - loss: 0.8589 - mean_absolute_error: 0.8589 - val_loss: 0.8159 - val_mean_absolute_error: 0.8159\n",
      "Epoch 36/100\n",
      "71936/72000 [============================>.] - ETA: 0s - loss: 0.8447 - mean_absolute_error: 0.8447Epoch 00036: val_loss improved from 0.78459 to 0.76599, saving model to myRNN_weights.h5\n",
      "72000/72000 [==============================] - 27s 375us/step - loss: 0.8447 - mean_absolute_error: 0.8447 - val_loss: 0.7660 - val_mean_absolute_error: 0.7660\n",
      "Epoch 37/100\n",
      "71936/72000 [============================>.] - ETA: 0s - loss: 0.8463 - mean_absolute_error: 0.8463Epoch 00037: val_loss did not improve\n",
      "72000/72000 [==============================] - 25s 353us/step - loss: 0.8464 - mean_absolute_error: 0.8464 - val_loss: 0.7770 - val_mean_absolute_error: 0.7770\n",
      "Epoch 38/100\n",
      "71936/72000 [============================>.] - ETA: 0s - loss: 0.8504 - mean_absolute_error: 0.8504Epoch 00038: val_loss did not improve\n",
      "72000/72000 [==============================] - 27s 374us/step - loss: 0.8503 - mean_absolute_error: 0.8503 - val_loss: 0.7726 - val_mean_absolute_error: 0.7726\n",
      "Epoch 39/100\n",
      "71936/72000 [============================>.] - ETA: 0s - loss: 0.8531 - mean_absolute_error: 0.8531Epoch 00039: val_loss did not improve\n",
      "72000/72000 [==============================] - 26s 366us/step - loss: 0.8533 - mean_absolute_error: 0.8533 - val_loss: 0.7821 - val_mean_absolute_error: 0.7821\n",
      "Epoch 40/100\n",
      "71936/72000 [============================>.] - ETA: 0s - loss: 0.8474 - mean_absolute_error: 0.8474Epoch 00040: val_loss did not improve\n",
      "72000/72000 [==============================] - 27s 373us/step - loss: 0.8473 - mean_absolute_error: 0.8473 - val_loss: 0.7687 - val_mean_absolute_error: 0.7687\n",
      "Epoch 41/100\n",
      "71936/72000 [============================>.] - ETA: 0s - loss: 0.8387 - mean_absolute_error: 0.8387Epoch 00041: val_loss improved from 0.76599 to 0.75806, saving model to myRNN_weights.h5\n",
      "72000/72000 [==============================] - 27s 369us/step - loss: 0.8387 - mean_absolute_error: 0.8387 - val_loss: 0.7581 - val_mean_absolute_error: 0.7581\n",
      "Epoch 42/100\n",
      "71936/72000 [============================>.] - ETA: 0s - loss: 0.8479 - mean_absolute_error: 0.8479Epoch 00042: val_loss did not improve\n",
      "72000/72000 [==============================] - 26s 358us/step - loss: 0.8482 - mean_absolute_error: 0.8482 - val_loss: 0.7742 - val_mean_absolute_error: 0.7742\n",
      "Epoch 43/100\n",
      "71936/72000 [============================>.] - ETA: 0s - loss: 0.8424 - mean_absolute_error: 0.8424Epoch 00043: val_loss did not improve\n",
      "72000/72000 [==============================] - 28s 385us/step - loss: 0.8423 - mean_absolute_error: 0.8423 - val_loss: 0.8531 - val_mean_absolute_error: 0.8531\n",
      "Epoch 44/100\n",
      "71936/72000 [============================>.] - ETA: 0s - loss: 0.8287 - mean_absolute_error: 0.8287Epoch 00044: val_loss improved from 0.75806 to 0.74459, saving model to myRNN_weights.h5\n",
      "72000/72000 [==============================] - 25s 350us/step - loss: 0.8287 - mean_absolute_error: 0.8287 - val_loss: 0.7446 - val_mean_absolute_error: 0.7446\n",
      "Epoch 45/100\n",
      "71936/72000 [============================>.] - ETA: 0s - loss: 0.8257 - mean_absolute_error: 0.8257Epoch 00045: val_loss did not improve\n",
      "72000/72000 [==============================] - 27s 373us/step - loss: 0.8254 - mean_absolute_error: 0.8254 - val_loss: 0.7521 - val_mean_absolute_error: 0.7521\n",
      "Epoch 46/100\n",
      "71936/72000 [============================>.] - ETA: 0s - loss: 0.8313 - mean_absolute_error: 0.8313Epoch 00046: val_loss did not improve\n",
      "72000/72000 [==============================] - 26s 356us/step - loss: 0.8312 - mean_absolute_error: 0.8312 - val_loss: 0.7489 - val_mean_absolute_error: 0.7489\n",
      "Epoch 47/100\n",
      "71936/72000 [============================>.] - ETA: 0s - loss: 0.8301 - mean_absolute_error: 0.8301Epoch 00047: val_loss improved from 0.74459 to 0.74345, saving model to myRNN_weights.h5\n",
      "72000/72000 [==============================] - 28s 384us/step - loss: 0.8300 - mean_absolute_error: 0.8300 - val_loss: 0.7434 - val_mean_absolute_error: 0.7434\n",
      "Epoch 48/100\n",
      "71936/72000 [============================>.] - ETA: 0s - loss: 0.8267 - mean_absolute_error: 0.8267Epoch 00048: val_loss did not improve\n",
      "72000/72000 [==============================] - 25s 345us/step - loss: 0.8267 - mean_absolute_error: 0.8267 - val_loss: 0.7437 - val_mean_absolute_error: 0.7437\n",
      "Epoch 49/100\n"
     ]
    },
    {
     "name": "stdout",
     "output_type": "stream",
     "text": [
      "71936/72000 [============================>.] - ETA: 0s - loss: 0.8222 - mean_absolute_error: 0.8222Epoch 00049: val_loss improved from 0.74345 to 0.74321, saving model to myRNN_weights.h5\n",
      "72000/72000 [==============================] - 27s 370us/step - loss: 0.8223 - mean_absolute_error: 0.8223 - val_loss: 0.7432 - val_mean_absolute_error: 0.7432\n",
      "Epoch 50/100\n",
      "71936/72000 [============================>.] - ETA: 0s - loss: 0.8251 - mean_absolute_error: 0.8251Epoch 00050: val_loss did not improve\n",
      "72000/72000 [==============================] - 24s 328us/step - loss: 0.8250 - mean_absolute_error: 0.8250 - val_loss: 0.7484 - val_mean_absolute_error: 0.7484\n",
      "Epoch 51/100\n",
      "71936/72000 [============================>.] - ETA: 0s - loss: 0.8215 - mean_absolute_error: 0.8215Epoch 00051: val_loss did not improve\n",
      "72000/72000 [==============================] - 27s 375us/step - loss: 0.8214 - mean_absolute_error: 0.8214 - val_loss: 0.7771 - val_mean_absolute_error: 0.7771\n",
      "Epoch 52/100\n",
      "71936/72000 [============================>.] - ETA: 0s - loss: 0.8222 - mean_absolute_error: 0.8222Epoch 00052: val_loss did not improve\n",
      "72000/72000 [==============================] - 24s 330us/step - loss: 0.8221 - mean_absolute_error: 0.8221 - val_loss: 0.7512 - val_mean_absolute_error: 0.7512\n",
      "Epoch 53/100\n",
      "71936/72000 [============================>.] - ETA: 0s - loss: 0.8176 - mean_absolute_error: 0.8176- ETA: 2s - loss: 0.Epoch 00053: val_loss improved from 0.74321 to 0.73238, saving model to myRNN_weights.h5\n",
      "72000/72000 [==============================] - 25s 353us/step - loss: 0.8176 - mean_absolute_error: 0.8176 - val_loss: 0.7324 - val_mean_absolute_error: 0.7324\n",
      "Epoch 54/100\n",
      "71936/72000 [============================>.] - ETA: 0s - loss: 0.8117 - mean_absolute_error: 0.8117Epoch 00054: val_loss did not improve\n",
      "72000/72000 [==============================] - 24s 337us/step - loss: 0.8118 - mean_absolute_error: 0.8118 - val_loss: 0.7331 - val_mean_absolute_error: 0.7331\n",
      "Epoch 55/100\n",
      "71936/72000 [============================>.] - ETA: 0s - loss: 0.8062 - mean_absolute_error: 0.8062Epoch 00055: val_loss did not improve\n",
      "72000/72000 [==============================] - 26s 362us/step - loss: 0.8061 - mean_absolute_error: 0.8061 - val_loss: 0.7409 - val_mean_absolute_error: 0.7409\n",
      "Epoch 56/100\n",
      "71936/72000 [============================>.] - ETA: 0s - loss: 0.8081 - mean_absolute_error: 0.8081Epoch 00056: val_loss did not improve\n",
      "72000/72000 [==============================] - 24s 333us/step - loss: 0.8080 - mean_absolute_error: 0.8080 - val_loss: 0.7712 - val_mean_absolute_error: 0.7712\n",
      "Epoch 57/100\n",
      "71936/72000 [============================>.] - ETA: 0s - loss: 0.7998 - mean_absolute_error: 0.7998- ETA: 0s - loss: 0.7996 - mean_absolute_error - ETA: 0s - loss: 0.7994 - mean_absolute_error: 0.7Epoch 00057: val_loss improved from 0.73238 to 0.72472, saving model to myRNN_weights.h5\n",
      "72000/72000 [==============================] - 26s 359us/step - loss: 0.7999 - mean_absolute_error: 0.7999 - val_loss: 0.7247 - val_mean_absolute_error: 0.7247\n",
      "Epoch 58/100\n",
      "71936/72000 [============================>.] - ETA: 0s - loss: 0.7984 - mean_absolute_error: 0.7984Epoch 00058: val_loss improved from 0.72472 to 0.71797, saving model to myRNN_weights.h5\n",
      "72000/72000 [==============================] - 25s 353us/step - loss: 0.7984 - mean_absolute_error: 0.7984 - val_loss: 0.7180 - val_mean_absolute_error: 0.7180\n",
      "Epoch 59/100\n",
      "71936/72000 [============================>.] - ETA: 0s - loss: 0.7941 - mean_absolute_error: 0.7941Epoch 00059: val_loss did not improve\n",
      "72000/72000 [==============================] - 25s 343us/step - loss: 0.7939 - mean_absolute_error: 0.7939 - val_loss: 0.7629 - val_mean_absolute_error: 0.7629\n",
      "Epoch 60/100\n",
      "71936/72000 [============================>.] - ETA: 0s - loss: 0.7980 - mean_absolute_error: 0.7980Epoch 00060: val_loss improved from 0.71797 to 0.71308, saving model to myRNN_weights.h5\n",
      "72000/72000 [==============================] - 26s 367us/step - loss: 0.7979 - mean_absolute_error: 0.7979 - val_loss: 0.7131 - val_mean_absolute_error: 0.7131\n",
      "Epoch 61/100\n",
      "71936/72000 [============================>.] - ETA: 0s - loss: 0.7939 - mean_absolute_error: 0.7939Epoch 00061: val_loss did not improve\n",
      "72000/72000 [==============================] - 27s 368us/step - loss: 0.7940 - mean_absolute_error: 0.7940 - val_loss: 0.7282 - val_mean_absolute_error: 0.7282\n",
      "Epoch 62/100\n",
      "71936/72000 [============================>.] - ETA: 0s - loss: 0.7900 - mean_absolute_error: 0.7900Epoch 00062: val_loss did not improve\n",
      "72000/72000 [==============================] - 26s 355us/step - loss: 0.7901 - mean_absolute_error: 0.7901 - val_loss: 0.7174 - val_mean_absolute_error: 0.7174\n",
      "Epoch 63/100\n",
      "71936/72000 [============================>.] - ETA: 0s - loss: 0.7857 - mean_absolute_error: 0.7857- ETA: 2s - loss: 0.Epoch 00063: val_loss improved from 0.71308 to 0.70233, saving model to myRNN_weights.h5\n",
      "72000/72000 [==============================] - 24s 332us/step - loss: 0.7857 - mean_absolute_error: 0.7857 - val_loss: 0.7023 - val_mean_absolute_error: 0.7023\n",
      "Epoch 64/100\n",
      "71936/72000 [============================>.] - ETA: 0s - loss: 0.7819 - mean_absolute_error: 0.7819Epoch 00064: val_loss improved from 0.70233 to 0.69914, saving model to myRNN_weights.h5\n",
      "72000/72000 [==============================] - 28s 389us/step - loss: 0.7818 - mean_absolute_error: 0.7818 - val_loss: 0.6991 - val_mean_absolute_error: 0.6991\n",
      "Epoch 65/100\n",
      "71936/72000 [============================>.] - ETA: 0s - loss: 0.7811 - mean_absolute_error: 0.7811Epoch 00065: val_loss did not improve\n",
      "72000/72000 [==============================] - 24s 338us/step - loss: 0.7812 - mean_absolute_error: 0.7812 - val_loss: 0.7278 - val_mean_absolute_error: 0.7278\n",
      "Epoch 66/100\n",
      "71936/72000 [============================>.] - ETA: 0s - loss: 0.7786 - mean_absolute_error: 0.7786Epoch 00066: val_loss did not improve\n",
      "72000/72000 [==============================] - 27s 369us/step - loss: 0.7787 - mean_absolute_error: 0.7787 - val_loss: 0.7257 - val_mean_absolute_error: 0.7257\n",
      "Epoch 67/100\n",
      "71936/72000 [============================>.] - ETA: 0s - loss: 0.7760 - mean_absolute_error: 0.7760Epoch 00067: val_loss improved from 0.69914 to 0.68545, saving model to myRNN_weights.h5\n",
      "72000/72000 [==============================] - 26s 357us/step - loss: 0.7759 - mean_absolute_error: 0.7759 - val_loss: 0.6854 - val_mean_absolute_error: 0.6854\n",
      "Epoch 68/100\n",
      "71936/72000 [============================>.] - ETA: 0s - loss: 0.7670 - mean_absolute_error: 0.7670Epoch 00068: val_loss did not improve\n",
      "72000/72000 [==============================] - 26s 357us/step - loss: 0.7675 - mean_absolute_error: 0.7675 - val_loss: 0.7385 - val_mean_absolute_error: 0.7385\n",
      "Epoch 69/100\n",
      "71936/72000 [============================>.] - ETA: 0s - loss: 0.7781 - mean_absolute_error: 0.7781Epoch 00069: val_loss did not improve\n",
      "72000/72000 [==============================] - 26s 360us/step - loss: 0.7780 - mean_absolute_error: 0.7780 - val_loss: 0.6996 - val_mean_absolute_error: 0.6996\n",
      "Epoch 70/100\n",
      "71936/72000 [============================>.] - ETA: 0s - loss: 0.7651 - mean_absolute_error: 0.7651Epoch 00070: val_loss did not improve\n",
      "72000/72000 [==============================] - 24s 338us/step - loss: 0.7651 - mean_absolute_error: 0.7651 - val_loss: 0.7130 - val_mean_absolute_error: 0.7130\n",
      "Epoch 71/100\n",
      "71936/72000 [============================>.] - ETA: 0s - loss: 0.7705 - mean_absolute_error: 0.7705- ETA: 6s - loss: 0.7712 - me - ETA:Epoch 00071: val_loss did not improve\n",
      "72000/72000 [==============================] - 28s 393us/step - loss: 0.7706 - mean_absolute_error: 0.7706 - val_loss: 0.6931 - val_mean_absolute_error: 0.6931\n",
      "Epoch 72/100\n",
      "71936/72000 [============================>.] - ETA: 0s - loss: 0.7606 - mean_absolute_error: 0.7606Epoch 00072: val_loss did not improve\n",
      "72000/72000 [==============================] - 25s 342us/step - loss: 0.7606 - mean_absolute_error: 0.7606 - val_loss: 0.6977 - val_mean_absolute_error: 0.6977\n",
      "Epoch 73/100\n",
      "71936/72000 [============================>.] - ETA: 0s - loss: 0.7698 - mean_absolute_error: 0.7698Epoch 00073: val_loss did not improve\n",
      "72000/72000 [==============================] - 27s 372us/step - loss: 0.7697 - mean_absolute_error: 0.7697 - val_loss: 0.7008 - val_mean_absolute_error: 0.7008\n"
     ]
    },
    {
     "name": "stdout",
     "output_type": "stream",
     "text": [
      "Epoch 74/100\n",
      "71936/72000 [============================>.] - ETA: 0s - loss: 0.7627 - mean_absolute_error: 0.7627Epoch 00074: val_loss did not improve\n",
      "72000/72000 [==============================] - 24s 335us/step - loss: 0.7627 - mean_absolute_error: 0.7627 - val_loss: 0.7037 - val_mean_absolute_error: 0.7037\n",
      "Epoch 75/100\n",
      "71936/72000 [============================>.] - ETA: 0s - loss: 0.7634 - mean_absolute_error: 0.7634Epoch 00075: val_loss improved from 0.68545 to 0.67417, saving model to myRNN_weights.h5\n",
      "72000/72000 [==============================] - 26s 363us/step - loss: 0.7634 - mean_absolute_error: 0.7634 - val_loss: 0.6742 - val_mean_absolute_error: 0.6742\n",
      "Epoch 76/100\n",
      "71936/72000 [============================>.] - ETA: 0s - loss: 0.7576 - mean_absolute_error: 0.7576Epoch 00076: val_loss did not improve\n",
      "72000/72000 [==============================] - 25s 340us/step - loss: 0.7578 - mean_absolute_error: 0.7578 - val_loss: 0.7367 - val_mean_absolute_error: 0.7367\n",
      "Epoch 77/100\n",
      "71936/72000 [============================>.] - ETA: 0s - loss: 0.7591 - mean_absolute_error: 0.7591- ETA: 2s - loss: 0.7564 - ETA: 0s - loss: 0.7589 - mean_absolute_error: 0.7Epoch 00077: val_loss did not improve\n",
      "72000/72000 [==============================] - 26s 359us/step - loss: 0.7590 - mean_absolute_error: 0.7590 - val_loss: 0.7180 - val_mean_absolute_error: 0.7180\n",
      "Epoch 78/100\n",
      "71936/72000 [============================>.] - ETA: 0s - loss: 0.7542 - mean_absolute_error: 0.7542Epoch 00078: val_loss improved from 0.67417 to 0.67042, saving model to myRNN_weights.h5\n",
      "72000/72000 [==============================] - 25s 342us/step - loss: 0.7543 - mean_absolute_error: 0.7543 - val_loss: 0.6704 - val_mean_absolute_error: 0.6704\n",
      "Epoch 79/100\n",
      "71936/72000 [============================>.] - ETA: 0s - loss: 0.7472 - mean_absolute_error: 0.7472- - ETA: 1s - loss: 0.7489 - mean_absolutEpoch 00079: val_loss did not improve\n",
      "72000/72000 [==============================] - 26s 366us/step - loss: 0.7473 - mean_absolute_error: 0.7473 - val_loss: 0.6839 - val_mean_absolute_error: 0.6839\n",
      "Epoch 80/100\n",
      "71936/72000 [============================>.] - ETA: 0s - loss: 0.7550 - mean_absolute_error: 0.7550Epoch 00080: val_loss did not improve\n",
      "72000/72000 [==============================] - 25s 351us/step - loss: 0.7551 - mean_absolute_error: 0.7551 - val_loss: 0.6726 - val_mean_absolute_error: 0.6726\n",
      "Epoch 81/100\n",
      "71936/72000 [============================>.] - ETA: 0s - loss: 0.7473 - mean_absolute_error: 0.7473Epoch 00081: val_loss improved from 0.67042 to 0.65665, saving model to myRNN_weights.h5\n",
      "72000/72000 [==============================] - 24s 336us/step - loss: 0.7472 - mean_absolute_error: 0.7472 - val_loss: 0.6567 - val_mean_absolute_error: 0.6567\n",
      "Epoch 82/100\n",
      "71936/72000 [============================>.] - ETA: 0s - loss: 0.7491 - mean_absolute_error: 0.7491Epoch 00082: val_loss did not improve\n",
      "72000/72000 [==============================] - 27s 379us/step - loss: 0.7491 - mean_absolute_error: 0.7491 - val_loss: 0.6801 - val_mean_absolute_error: 0.6801\n",
      "Epoch 83/100\n",
      "71936/72000 [============================>.] - ETA: 0s - loss: 0.7469 - mean_absolute_error: 0.7469Epoch 00083: val_loss did not improve\n",
      "72000/72000 [==============================] - 24s 335us/step - loss: 0.7470 - mean_absolute_error: 0.7470 - val_loss: 0.6796 - val_mean_absolute_error: 0.6796\n",
      "Epoch 84/100\n",
      "71936/72000 [============================>.] - ETA: 0s - loss: 0.7473 - mean_absolute_error: 0.7473Epoch 00084: val_loss did not improve\n",
      "72000/72000 [==============================] - 26s 360us/step - loss: 0.7474 - mean_absolute_error: 0.7474 - val_loss: 0.6972 - val_mean_absolute_error: 0.6972\n",
      "Epoch 85/100\n",
      "71936/72000 [============================>.] - ETA: 0s - loss: 0.7487 - mean_absolute_error: 0.7487Epoch 00085: val_loss did not improve\n",
      "72000/72000 [==============================] - 25s 343us/step - loss: 0.7485 - mean_absolute_error: 0.7485 - val_loss: 0.6999 - val_mean_absolute_error: 0.6999\n",
      "Epoch 86/100\n",
      "71936/72000 [============================>.] - ETA: 0s - loss: 0.7373 - mean_absolute_error: 0.7373Epoch 00086: val_loss did not improve\n",
      "72000/72000 [==============================] - 27s 374us/step - loss: 0.7372 - mean_absolute_error: 0.7372 - val_loss: 0.6748 - val_mean_absolute_error: 0.6748\n",
      "Epoch 87/100\n",
      "71936/72000 [============================>.] - ETA: 0s - loss: 0.7357 - mean_absolute_error: 0.7357Epoch 00087: val_loss did not improve\n",
      "72000/72000 [==============================] - 24s 338us/step - loss: 0.7356 - mean_absolute_error: 0.7356 - val_loss: 0.6734 - val_mean_absolute_error: 0.6734\n",
      "Epoch 88/100\n",
      "71936/72000 [============================>.] - ETA: 0s - loss: 0.7361 - mean_absolute_error: 0.7361Epoch 00088: val_loss did not improve\n",
      "72000/72000 [==============================] - 28s 391us/step - loss: 0.7361 - mean_absolute_error: 0.7361 - val_loss: 0.6696 - val_mean_absolute_error: 0.6696\n",
      "Epoch 89/100\n",
      "71936/72000 [============================>.] - ETA: 0s - loss: 0.7435 - mean_absolute_error: 0.7435Epoch 00089: val_loss did not improve\n",
      "72000/72000 [==============================] - 24s 339us/step - loss: 0.7435 - mean_absolute_error: 0.7435 - val_loss: 0.6948 - val_mean_absolute_error: 0.6948\n",
      "Epoch 90/100\n",
      "71936/72000 [============================>.] - ETA: 0s - loss: 0.7388 - mean_absolute_error: 0.7388Epoch 00090: val_loss did not improve\n",
      "72000/72000 [==============================] - 26s 361us/step - loss: 0.7388 - mean_absolute_error: 0.7388 - val_loss: 0.6844 - val_mean_absolute_error: 0.6844\n",
      "Epoch 91/100\n",
      "71936/72000 [============================>.] - ETA: 0s - loss: 0.7334 - mean_absolute_error: 0.7334Epoch 00091: val_loss did not improve\n",
      "72000/72000 [==============================] - 26s 364us/step - loss: 0.7334 - mean_absolute_error: 0.7334 - val_loss: 0.6669 - val_mean_absolute_error: 0.6669\n",
      "Epoch 00091: early stopping\n"
     ]
    }
   ],
   "source": [
    "nEpochs = 100\n",
    "\n",
    "myRNN_hist = myRNN.fit(X_train, y_train, epochs=nEpochs, batch_size=256,validation_split=0.20,\n",
    "                 callbacks=[earlyStop, myRNN_mChkPt],) # callbacks=[earlyStop, myRNN_mChkPt])"
   ]
  },
  {
   "cell_type": "code",
   "execution_count": 107,
   "metadata": {},
   "outputs": [
    {
     "data": {
      "text/plain": [
       "<matplotlib.legend.Legend at 0x1a991865c88>"
      ]
     },
     "execution_count": 107,
     "metadata": {},
     "output_type": "execute_result"
    },
    {
     "data": {
      "image/png": "[encoded data removed]",
      "text/plain": [
       "<Figure size 432x288 with 1 Axes>"
      ]
     },
     "metadata": {
      "needs_background": "light"
     },
     "output_type": "display_data"
    }
   ],
   "source": [
    "epochs = np.arange(1,len(myRNN_hist.history['loss'])+1)\n",
    "\n",
    "plt.plot(epochs,myRNN_hist.history['loss'],label='training')\n",
    "plt.plot(epochs,myRNN_hist.history['val_loss'],label='validation')\n",
    "plt.xlabel('epochs',fontsize=14)\n",
    "plt.ylabel('MSE loss',fontsize=14)\n",
    "plt.legend()"
   ]
  },
  {
   "cell_type": "code",
   "execution_count": 49,
   "metadata": {},
   "outputs": [],
   "source": [
    "results=myRNN.predict(X_test)"
   ]
  },
  {
   "cell_type": "code",
   "execution_count": 50,
   "metadata": {},
   "outputs": [
    {
     "data": {
      "text/plain": [
       "array([[-1.06539709e+00, -7.61532432e-01, -6.75432167e-01,\n",
       "        -2.36472757e+00, -1.78343179e+00, -1.45118979e+00],\n",
       "       [-2.50030854e-01,  6.98754926e-02, -8.97436086e-01,\n",
       "        -3.03779238e-01,  5.93151184e-02, -1.03808858e+00],\n",
       "       [-1.41926028e-03,  1.24233139e-02,  1.32501143e-02,\n",
       "        -2.73928483e-01,  3.18875444e+00,  3.31695037e+00],\n",
       "       ...,\n",
       "       [ 2.59502785e-01,  1.18875115e+00, -1.19260277e+00,\n",
       "         2.08426245e+00,  1.37403028e+01, -1.40827716e+01],\n",
       "       [-8.54168917e-01, -2.13091426e+00,  1.97510391e+00,\n",
       "        -1.34604489e+00, -3.59519445e+00,  3.74493634e+00],\n",
       "       [ 2.61064368e+00,  4.71863327e-01,  5.97985815e-01,\n",
       "         2.70212451e+00,  4.84300743e-01,  6.13586173e-01]])"
      ]
     },
     "execution_count": 50,
     "metadata": {},
     "output_type": "execute_result"
    }
   ],
   "source": [
    "y_test"
   ]
  },
  {
   "cell_type": "code",
   "execution_count": 52,
   "metadata": {},
   "outputs": [
    {
     "data": {
      "text/plain": [
       "0.5925093147291125"
      ]
     },
     "execution_count": 52,
     "metadata": {},
     "output_type": "execute_result"
    }
   ],
   "source": [
    "np.mean((results-y_test)/y_test) # average error of 60%, so for vtx at 1mm, we get within 0.6mm"
   ]
  },
  {
   "cell_type": "code",
   "execution_count": 27,
   "metadata": {},
   "outputs": [
    {
     "data": {
      "text/plain": [
       "jet_energy                                               43075.4\n",
       "jet_flavour                                                    5\n",
       "secVtx_x                                              0.00417528\n",
       "secVtx_y                                             -0.00100887\n",
       "secVtx_z                                              0.00289704\n",
       "terVtx_x                                              0.00559305\n",
       "terVtx_y                                             -0.00135187\n",
       "terVtx_z                                              0.00407726\n",
       "tracks         [[2.010621651929816e-06, -4.989406079403125e-0...\n",
       "Name: 99999, dtype: object"
      ]
     },
     "execution_count": 27,
     "metadata": {},
     "output_type": "execute_result"
    }
   ],
   "source": [
    "bjets_DF.iloc[-1]"
   ]
  },
  {
   "cell_type": "code",
   "execution_count": null,
   "metadata": {},
   "outputs": [],
   "source": [
    "# look at worst perfoming cases and examine the tracks\n",
    "# look at actual uncertainty on overlap for the vertex\n",
    "# re-run with minimised errors on tracks see if performance is better"
   ]
  },
  {
   "cell_type": "code",
   "execution_count": 152,
   "metadata": {},
   "outputs": [
    {
     "data": {
      "text/plain": [
       "array([[-0.05486715, -0.45196092, -2.455217  , -0.1861686 , -0.99255735,\n",
       "        -5.3714914 ]], dtype=float32)"
      ]
     },
     "execution_count": 152,
     "metadata": {},
     "output_type": "execute_result"
    }
   ],
   "source": [
    "myRNN.predict(np.array([X_test[2]]))"
   ]
  },
  {
   "cell_type": "markdown",
   "metadata": {},
   "source": [
    "couple of things, first the RNN looks like it predicts the same value for all cases. This might be because it uses the null tracks at the end of every single jet and just predicts off of those.\n",
    "Maybe should consider predicting values that are at least order unity, because mse is gonna be very small otherwise, so convert the vertices into different units (I dunno maybe millimeters or microns)"
   ]
  },
  {
   "cell_type": "code",
   "execution_count": null,
   "metadata": {},
   "outputs": [],
   "source": []
  }
 ],
 "metadata": {
  "kernelspec": {
   "display_name": "Python 3",
   "language": "python",
   "name": "python3"
  },
  "language_info": {
   "codemirror_mode": {
    "name": "ipython",
    "version": 3
   },
   "file_extension": ".py",
   "mimetype": "text/x-python",
   "name": "python",
   "nbconvert_exporter": "python",
   "pygments_lexer": "ipython3",
   "version": "3.6.7"
  }
 },
 "nbformat": 4,
 "nbformat_minor": 2
}
