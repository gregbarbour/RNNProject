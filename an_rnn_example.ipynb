{
 "cells": [
  {
   "cell_type": "code",
   "execution_count": 1,
   "metadata": {},
   "outputs": [
    {
     "name": "stderr",
     "output_type": "stream",
     "text": [
      "Using TensorFlow backend.\n"
     ]
    }
   ],
   "source": [
    "import numpy as np\n",
    "import matplotlib.pyplot as plt\n",
    "import mpl_toolkits.mplot3d as plt3d\n",
    "\n",
    "import pandas as pd\n",
    "import math\n",
    "import copy\n",
    "import pickle\n",
    "from keras.models import Sequential, Model\n",
    "from keras.callbacks import EarlyStopping, ModelCheckpoint\n",
    "\n",
    "from keras.layers import BatchNormalization, Layer, TimeDistributed, Dropout\n",
    "from keras.layers import Dense, Input, Masking, LSTM\n",
    "from sklearn.preprocessing import MinMaxScaler, RobustScaler\n",
    "from sklearn.metrics import mean_squared_error"
   ]
  },
  {
   "cell_type": "markdown",
   "metadata": {},
   "source": [
    "## Data Loading and Pre-Processing"
   ]
  },
  {
   "cell_type": "markdown",
   "metadata": {},
   "source": [
    "Let's start by trying to load in our toy jets, and then separate into features (to train on) and labels (to predict).\n",
    "\n",
    "For features, first try d0, z0, phi, theta, qOverP, (refPx, refPy, refPz)?. Essentially the track parameters.\n",
    "\n",
    "For labels, Xs, Ys, Zs, Xt, Yt, Zt. That is the secondary and tertiary vertices. Omit the primary as this has been fixed to (0,0,0). This will require some smart selection for c and light jets, where not all vertices are present. If a vertex is not present, could try predicting (0,0,0) or (-1,-1,-1) or previous vertex (prim or sec)."
   ]
  },
  {
   "cell_type": "code",
   "execution_count": 2,
   "metadata": {},
   "outputs": [],
   "source": [
    "bjets_DF = pd.read_pickle(\"./bjets_MIN_IPerrs_separate.pkl\")\n",
    "#cjets_DF = pd.read_pickle(\"./cjets.pkl\")\n",
    "#ljets_DF = pd.read_pickle(\"./ljets.pkl\")"
   ]
  },
  {
   "cell_type": "code",
   "execution_count": 3,
   "metadata": {},
   "outputs": [
    {
     "data": {
      "text/plain": [
       "array([[0.00000000e+00, 1.51338350e-03, 1.51349181e-03, 6.39290444e-03,\n",
       "        6.39299002e-03, 2.68756665e-05, 2.20370461e-05, 6.28882218e-06,\n",
       "        2.45950043e-05,            nan,            nan,            nan,\n",
       "                   nan,            nan,            nan,            nan,\n",
       "                   nan,            nan,            nan,            nan,\n",
       "                   nan,            nan,            nan,            nan,\n",
       "                   nan,            nan,            nan,            nan,\n",
       "                   nan,            nan]])"
      ]
     },
     "execution_count": 3,
     "metadata": {},
     "output_type": "execute_result"
    }
   ],
   "source": [
    "np.linalg.norm(np.array([bjets_DF['tracks'][0]])[:,:,5:8], axis=2) #gives a feel for ordering, lists r of ref postion"
   ]
  },
  {
   "cell_type": "markdown",
   "metadata": {},
   "source": [
    "Extract the track parameters as our features"
   ]
  },
  {
   "cell_type": "code",
   "execution_count": 3,
   "metadata": {},
   "outputs": [
    {
     "name": "stdout",
     "output_type": "stream",
     "text": [
      "Wall time: 27.9 s\n"
     ]
    }
   ],
   "source": [
    "%%time\n",
    "trks=np.zeros((len(bjets_DF), 30, 5))\n",
    "\n",
    "for i in range(len(bjets_DF)):\n",
    "    trks[i] = np.array([bjets_DF['tracks'][i]])[:,:,0:5]\n",
    "    \n"
   ]
  },
  {
   "cell_type": "code",
   "execution_count": 4,
   "metadata": {},
   "outputs": [],
   "source": [
    "X = trks # following convention name the features as the vector 'X'"
   ]
  },
  {
   "cell_type": "markdown",
   "metadata": {},
   "source": [
    "### Track Ordering"
   ]
  },
  {
   "cell_type": "markdown",
   "metadata": {},
   "source": [
    "Use numpy sort function should work, order in descending value say of impact parameter or something (shouldnt be any negatives)"
   ]
  },
  {
   "cell_type": "markdown",
   "metadata": {},
   "source": [
    "Maybe want to move this section and order later, after normalization"
   ]
  },
  {
   "cell_type": "code",
   "execution_count": 5,
   "metadata": {},
   "outputs": [
    {
     "name": "stdout",
     "output_type": "stream",
     "text": [
      "Wall time: 5.09 s\n"
     ]
    }
   ],
   "source": [
    "%%time\n",
    "Xordered = copy.copy(X)#\n",
    "Xordered = np.nan_to_num(Xordered)\n",
    "\n",
    "for i,jet in enumerate(Xordered[:,1:]):\n",
    "    Xordered[i,1:] = jet[np.abs(jet[:,0]).argsort()[::-1]]\n"
   ]
  },
  {
   "cell_type": "code",
   "execution_count": 6,
   "metadata": {},
   "outputs": [
    {
     "data": {
      "text/plain": [
       "array([[ 0.00000000e+00,  0.00000000e+00,  7.85401221e-01,\n",
       "         7.85385606e-01,  2.03575370e-05],\n",
       "       [ 2.53864068e-03, -9.35718254e-04,  1.01956011e+00,\n",
       "         6.46098546e-01,  2.18954695e-04],\n",
       "       [ 1.03940795e-03,  5.88169106e-04,  7.82932879e-01,\n",
       "         7.76422993e-01,  2.36268539e-04],\n",
       "       [ 2.81902833e-04,  2.24104502e-04,  8.36959886e-01,\n",
       "         7.51062329e-01,  8.46175955e-05],\n",
       "       [ 2.34737378e-04,  1.67468072e-05,  8.30335571e-01,\n",
       "         7.35367562e-01,  8.43133487e-05],\n",
       "       [ 5.05658114e-05,  4.15250929e-05,  6.83020540e-01,\n",
       "         8.86462535e-01,  5.64068021e-05],\n",
       "       [ 2.00091696e-06,  2.77014161e-07,  7.18407642e-01,\n",
       "         7.33982804e-01,  1.11788994e-04],\n",
       "       [-1.33094960e-06,  4.16166694e-07,  8.14479189e-01,\n",
       "         8.36968238e-01,  5.62930653e-04],\n",
       "       [ 6.29181397e-07,  1.17581884e-06,  1.20298441e+00,\n",
       "         1.33208692e+00,  9.82380302e-04],\n",
       "       [-2.03025840e-08,  1.08385208e-07,  7.06717601e-01,\n",
       "         6.70453788e-01,  1.27349168e-03],\n",
       "       [ 0.00000000e+00,  0.00000000e+00,  0.00000000e+00,\n",
       "         0.00000000e+00,  0.00000000e+00],\n",
       "       [ 0.00000000e+00,  0.00000000e+00,  0.00000000e+00,\n",
       "         0.00000000e+00,  0.00000000e+00],\n",
       "       [ 0.00000000e+00,  0.00000000e+00,  0.00000000e+00,\n",
       "         0.00000000e+00,  0.00000000e+00],\n",
       "       [ 0.00000000e+00,  0.00000000e+00,  0.00000000e+00,\n",
       "         0.00000000e+00,  0.00000000e+00],\n",
       "       [ 0.00000000e+00,  0.00000000e+00,  0.00000000e+00,\n",
       "         0.00000000e+00,  0.00000000e+00],\n",
       "       [ 0.00000000e+00,  0.00000000e+00,  0.00000000e+00,\n",
       "         0.00000000e+00,  0.00000000e+00],\n",
       "       [ 0.00000000e+00,  0.00000000e+00,  0.00000000e+00,\n",
       "         0.00000000e+00,  0.00000000e+00],\n",
       "       [ 0.00000000e+00,  0.00000000e+00,  0.00000000e+00,\n",
       "         0.00000000e+00,  0.00000000e+00],\n",
       "       [ 0.00000000e+00,  0.00000000e+00,  0.00000000e+00,\n",
       "         0.00000000e+00,  0.00000000e+00],\n",
       "       [ 0.00000000e+00,  0.00000000e+00,  0.00000000e+00,\n",
       "         0.00000000e+00,  0.00000000e+00],\n",
       "       [ 0.00000000e+00,  0.00000000e+00,  0.00000000e+00,\n",
       "         0.00000000e+00,  0.00000000e+00],\n",
       "       [ 0.00000000e+00,  0.00000000e+00,  0.00000000e+00,\n",
       "         0.00000000e+00,  0.00000000e+00],\n",
       "       [ 0.00000000e+00,  0.00000000e+00,  0.00000000e+00,\n",
       "         0.00000000e+00,  0.00000000e+00],\n",
       "       [ 0.00000000e+00,  0.00000000e+00,  0.00000000e+00,\n",
       "         0.00000000e+00,  0.00000000e+00],\n",
       "       [ 0.00000000e+00,  0.00000000e+00,  0.00000000e+00,\n",
       "         0.00000000e+00,  0.00000000e+00],\n",
       "       [ 0.00000000e+00,  0.00000000e+00,  0.00000000e+00,\n",
       "         0.00000000e+00,  0.00000000e+00],\n",
       "       [ 0.00000000e+00,  0.00000000e+00,  0.00000000e+00,\n",
       "         0.00000000e+00,  0.00000000e+00],\n",
       "       [ 0.00000000e+00,  0.00000000e+00,  0.00000000e+00,\n",
       "         0.00000000e+00,  0.00000000e+00],\n",
       "       [ 0.00000000e+00,  0.00000000e+00,  0.00000000e+00,\n",
       "         0.00000000e+00,  0.00000000e+00],\n",
       "       [ 0.00000000e+00,  0.00000000e+00,  0.00000000e+00,\n",
       "         0.00000000e+00,  0.00000000e+00]])"
      ]
     },
     "execution_count": 6,
     "metadata": {},
     "output_type": "execute_result"
    }
   ],
   "source": [
    "Xordered[5]"
   ]
  },
  {
   "cell_type": "markdown",
   "metadata": {},
   "source": [
    "## Data Normalization"
   ]
  },
  {
   "cell_type": "markdown",
   "metadata": {},
   "source": [
    "I think we want to ensure all paramters are approx unity in order not to bias the RNN towards a particular feature. phi and theta are already approx unity (order pi), but qOverP is very small order 1e-4 and IP are also small (but scale multiple orders of magnitude) 1e-6 to 1e-2 (unfortunately)\n",
    "\n",
    "So want to use a min max scaler or RobustScaler (so we don't bias to outliers)."
   ]
  },
  {
   "cell_type": "code",
   "execution_count": 7,
   "metadata": {},
   "outputs": [
    {
     "name": "stderr",
     "output_type": "stream",
     "text": [
      "C:\\Users\\Greg\\Anaconda3\\lib\\site-packages\\numpy\\lib\\histograms.py:391: RuntimeWarning: invalid value encountered in greater_equal\n",
      "  keep = (a >= first_edge)\n",
      "C:\\Users\\Greg\\Anaconda3\\lib\\site-packages\\numpy\\lib\\histograms.py:392: RuntimeWarning: invalid value encountered in less_equal\n",
      "  keep &= (a <= last_edge)\n",
      "C:\\Users\\Greg\\Anaconda3\\lib\\site-packages\\numpy\\lib\\histograms.py:824: RuntimeWarning: invalid value encountered in greater_equal\n",
      "  keep = (tmp_a >= first_edge)\n",
      "C:\\Users\\Greg\\Anaconda3\\lib\\site-packages\\numpy\\lib\\histograms.py:825: RuntimeWarning: invalid value encountered in less_equal\n",
      "  keep &= (tmp_a <= last_edge)\n"
     ]
    },
    {
     "data": {
      "text/plain": [
       "(array([1.509101e+06, 4.850100e+04, 4.808600e+04, ..., 0.000000e+00,\n",
       "        0.000000e+00, 1.000000e+00]),\n",
       " array([-4.48167053e-06,  1.05739131e-05,  2.56294966e-05, ...,\n",
       "         2.60567335e-02,  2.60717891e-02,  2.60868447e-02]),\n",
       " <a list of 1733 Patch objects>)"
      ]
     },
     "execution_count": 7,
     "metadata": {},
     "output_type": "execute_result"
    },
    {
     "data": {
      "image/png": "[encoded data removed]",
      "text/plain": [
       "<Figure size 432x288 with 1 Axes>"
      ]
     },
     "metadata": {
      "needs_background": "light"
     },
     "output_type": "display_data"
    }
   ],
   "source": [
    "d0s = np.reshape(X[:,:,0],(30*len(bjets_DF)))\n",
    "d0s = d0s[~(d0s == np.NaN)]\n",
    "d0s\n",
    "plt.hist(d0s,bins='scott') # I believe this is the array containing all the d0s"
   ]
  },
  {
   "cell_type": "code",
   "execution_count": 8,
   "metadata": {
    "scrolled": true
   },
   "outputs": [
    {
     "name": "stdout",
     "output_type": "stream",
     "text": [
      "nan\n",
      "nan\n",
      "nan\n",
      "\n",
      "nan\n",
      "nan\n",
      "nan\n"
     ]
    }
   ],
   "source": [
    "print(np.mean(X[:,:,0]*1e4))\n",
    "print(np.mean(X[:,:,1]*1e6)) # difficult one to handle this due to large variance\n",
    "print(np.mean(X[:,:,4]*1e4))\n",
    "print()\n",
    "print(np.std(X[:,:,0]*1e4)) # these are troublesome yes\n",
    "print(np.std(X[:,:,1]*1e6))\n",
    "print(np.std(X[:,:,4]*1e4))\n",
    "# so we will apply the above multiples, this will bring the averages to about unity (unfortunately some outliers will\n",
    "# be very large, so probs better to use a min max scaler or something but then exclude 0?)"
   ]
  },
  {
   "cell_type": "markdown",
   "metadata": {},
   "source": [
    "Here we scale all the features to bring them to average unity, this is very simplistic so we need a better way in future\n",
    "\n",
    "It means it works faster."
   ]
  },
  {
   "cell_type": "markdown",
   "metadata": {},
   "source": [
    "Here we instead use a min-max scaler to try and solve the problem of scale i.e. certain IPs are 10^4 times larger than others. The min-max scaler means all features will be scaled equivalently."
   ]
  },
  {
   "cell_type": "markdown",
   "metadata": {},
   "source": [
    "Here we go, minmax scaling"
   ]
  },
  {
   "cell_type": "code",
   "execution_count": 8,
   "metadata": {},
   "outputs": [],
   "source": [
    "Xscaled = copy.copy(X)"
   ]
  },
  {
   "cell_type": "code",
   "execution_count": 9,
   "metadata": {},
   "outputs": [
    {
     "name": "stdout",
     "output_type": "stream",
     "text": [
      "True\n",
      "0\n"
     ]
    },
    {
     "name": "stderr",
     "output_type": "stream",
     "text": [
      "C:\\Users\\Greg\\Anaconda3\\lib\\site-packages\\numpy\\lib\\nanfunctions.py:959: RuntimeWarning: All-NaN slice encountered\n",
      "  result = np.apply_along_axis(_nanmedian1d, axis, a, overwrite_input)\n",
      "C:\\Users\\Greg\\Anaconda3\\lib\\site-packages\\numpy\\lib\\function_base.py:3405: RuntimeWarning: All-NaN slice encountered\n",
      "  r = func(a, **kwargs)\n"
     ]
    },
    {
     "name": "stdout",
     "output_type": "stream",
     "text": [
      "1\n"
     ]
    },
    {
     "name": "stderr",
     "output_type": "stream",
     "text": [
      "C:\\Users\\Greg\\Anaconda3\\lib\\site-packages\\numpy\\lib\\nanfunctions.py:959: RuntimeWarning: All-NaN slice encountered\n",
      "  result = np.apply_along_axis(_nanmedian1d, axis, a, overwrite_input)\n",
      "C:\\Users\\Greg\\Anaconda3\\lib\\site-packages\\numpy\\lib\\function_base.py:3405: RuntimeWarning: All-NaN slice encountered\n",
      "  r = func(a, **kwargs)\n",
      "C:\\Users\\Greg\\Anaconda3\\lib\\site-packages\\sklearn\\preprocessing\\data.py:355: RuntimeWarning: All-NaN slice encountered\n",
      "  data_min = np.nanmin(X, axis=0)\n",
      "C:\\Users\\Greg\\Anaconda3\\lib\\site-packages\\sklearn\\preprocessing\\data.py:356: RuntimeWarning: All-NaN slice encountered\n",
      "  data_max = np.nanmax(X, axis=0)\n",
      "C:\\Users\\Greg\\Anaconda3\\lib\\site-packages\\sklearn\\preprocessing\\data.py:355: RuntimeWarning: All-NaN slice encountered\n",
      "  data_min = np.nanmin(X, axis=0)\n",
      "C:\\Users\\Greg\\Anaconda3\\lib\\site-packages\\sklearn\\preprocessing\\data.py:356: RuntimeWarning: All-NaN slice encountered\n",
      "  data_max = np.nanmax(X, axis=0)\n"
     ]
    },
    {
     "name": "stdout",
     "output_type": "stream",
     "text": [
      "True\n",
      "4\n"
     ]
    },
    {
     "name": "stderr",
     "output_type": "stream",
     "text": [
      "C:\\Users\\Greg\\Anaconda3\\lib\\site-packages\\numpy\\lib\\nanfunctions.py:959: RuntimeWarning: All-NaN slice encountered\n",
      "  result = np.apply_along_axis(_nanmedian1d, axis, a, overwrite_input)\n",
      "C:\\Users\\Greg\\Anaconda3\\lib\\site-packages\\numpy\\lib\\function_base.py:3405: RuntimeWarning: All-NaN slice encountered\n",
      "  r = func(a, **kwargs)\n"
     ]
    },
    {
     "name": "stdout",
     "output_type": "stream",
     "text": [
      "Wall time: 6.27 s\n"
     ]
    }
   ],
   "source": [
    "%%time\n",
    "for track_variable in range(5):\n",
    "    var_to_scale = Xscaled[:,:,track_variable]\n",
    "    if (track_variable == 0):\n",
    "        print((track_variable == 0))\n",
    "        print(track_variable)\n",
    "        scaler=RobustScaler()\n",
    "    elif (track_variable == 4):\n",
    "        print((track_variable == 4))\n",
    "        print(track_variable)\n",
    "        scaler=RobustScaler()\n",
    "    elif (track_variable == 1):\n",
    "        print(track_variable)\n",
    "        scaler = RobustScaler()\n",
    "    else:\n",
    "        scaler=MinMaxScaler([-1,1])\n",
    "    scaler.fit(var_to_scale)\n",
    "    Xscaled[:,:,track_variable] = scaler.transform(var_to_scale)"
   ]
  },
  {
   "cell_type": "code",
   "execution_count": 11,
   "metadata": {},
   "outputs": [],
   "source": [
    "#X"
   ]
  },
  {
   "cell_type": "code",
   "execution_count": 10,
   "metadata": {},
   "outputs": [
    {
     "name": "stdout",
     "output_type": "stream",
     "text": [
      "9000000\n"
     ]
    },
    {
     "name": "stderr",
     "output_type": "stream",
     "text": [
      "C:\\Users\\Greg\\Anaconda3\\lib\\site-packages\\numpy\\lib\\histograms.py:391: RuntimeWarning: invalid value encountered in greater_equal\n",
      "  keep = (a >= first_edge)\n",
      "C:\\Users\\Greg\\Anaconda3\\lib\\site-packages\\numpy\\lib\\histograms.py:392: RuntimeWarning: invalid value encountered in less_equal\n",
      "  keep &= (a <= last_edge)\n",
      "C:\\Users\\Greg\\Anaconda3\\lib\\site-packages\\numpy\\lib\\histograms.py:824: RuntimeWarning: invalid value encountered in greater_equal\n",
      "  keep = (tmp_a >= first_edge)\n",
      "C:\\Users\\Greg\\Anaconda3\\lib\\site-packages\\numpy\\lib\\histograms.py:825: RuntimeWarning: invalid value encountered in less_equal\n",
      "  keep &= (tmp_a <= last_edge)\n"
     ]
    },
    {
     "data": {
      "image/png": "[encoded data removed]",
      "text/plain": [
       "<Figure size 432x288 with 1 Axes>"
      ]
     },
     "metadata": {
      "needs_background": "light"
     },
     "output_type": "display_data"
    },
    {
     "name": "stdout",
     "output_type": "stream",
     "text": [
      "9000000\n"
     ]
    },
    {
     "data": {
      "image/png": "[encoded data removed]",
      "text/plain": [
       "<Figure size 432x288 with 1 Axes>"
      ]
     },
     "metadata": {
      "needs_background": "light"
     },
     "output_type": "display_data"
    }
   ],
   "source": [
    "var=4\n",
    "trackvar = X[:,:,var]\n",
    "trackvar = trackvar[~(trackvar == np.NaN)]\n",
    "print(len(trackvar))\n",
    "\n",
    "plt.hist(trackvar,bins='scott',log=True)\n",
    "plt.show()\n",
    "\n",
    "trackvar2 = Xscaled[:,:,var]\n",
    "trackvar2 = trackvar2[~(trackvar2 == np.NaN)]\n",
    "print(len(trackvar2))\n",
    "\n",
    "\n",
    "plt.hist(trackvar2,bins='scott',log=True)\n",
    "plt.show()"
   ]
  },
  {
   "cell_type": "code",
   "execution_count": 11,
   "metadata": {},
   "outputs": [],
   "source": [
    "Xscaled = np.nan_to_num(Xscaled)"
   ]
  },
  {
   "cell_type": "markdown",
   "metadata": {},
   "source": [
    "Now we scale the outputs, actually more simple, we change units from metres to millimetres"
   ]
  },
  {
   "cell_type": "markdown",
   "metadata": {},
   "source": [
    "And the secondary and tertiary vertices as our labels"
   ]
  },
  {
   "cell_type": "code",
   "execution_count": 12,
   "metadata": {},
   "outputs": [],
   "source": [
    "y = bjets_DF[['secVtx_x','secVtx_y','secVtx_z','terVtx_x','terVtx_y','terVtx_z']].values \n",
    "y = y*1000 # change units of vertices from m to mm, keep vals close to unity \n",
    "# again convention call labels 'y'"
   ]
  },
  {
   "cell_type": "markdown",
   "metadata": {},
   "source": [
    "Split first 80000 jets as train and next 20000 as test. Below some plots to show these jets are equivalently distributed"
   ]
  },
  {
   "cell_type": "code",
   "execution_count": 15,
   "metadata": {},
   "outputs": [],
   "source": [
    "X=np.nan_to_num(X)"
   ]
  },
  {
   "cell_type": "code",
   "execution_count": 13,
   "metadata": {},
   "outputs": [
    {
     "name": "stdout",
     "output_type": "stream",
     "text": [
      "280000\n"
     ]
    }
   ],
   "source": [
    "split= 280000 #int(0.9*len(bjets_DF))\n",
    "X_train=Xscaled[:split]\n",
    "X_test=Xscaled[split:]\n",
    "y_train=y[:split]\n",
    "y_test=y[split:]\n",
    "print(split)"
   ]
  },
  {
   "cell_type": "code",
   "execution_count": 14,
   "metadata": {},
   "outputs": [],
   "source": [
    "b_s1=np.linalg.norm(bjets_DF[['secVtx_x','secVtx_y','secVtx_z']],axis=1)[:split]\n",
    "b_s2=np.linalg.norm(bjets_DF[['secVtx_x','secVtx_y','secVtx_z']],axis=1)[split:]\n",
    "b_t1=np.linalg.norm(bjets_DF[['terVtx_x','terVtx_y','terVtx_z']],axis=1)[:split]\n",
    "b_t2=np.linalg.norm(bjets_DF[['terVtx_x','terVtx_y','terVtx_z']],axis=1)[split:]\n",
    "plt.show()"
   ]
  },
  {
   "cell_type": "code",
   "execution_count": 15,
   "metadata": {},
   "outputs": [
    {
     "name": "stdout",
     "output_type": "stream",
     "text": [
      "0.003692907440001235\n",
      "0.007052196938718495\n"
     ]
    },
    {
     "data": {
      "image/png": "[encoded data removed]",
      "text/plain": [
       "<Figure size 432x288 with 1 Axes>"
      ]
     },
     "metadata": {
      "needs_background": "light"
     },
     "output_type": "display_data"
    }
   ],
   "source": [
    "plt.hist(b_s1,bins='scott',range=[0,0.01])\n",
    "#plt.hist(c_SecVtx,bins='scott',range=[0,0.01])\n",
    "plt.hist(b_t1,bins='scott',range=[0,0.01])\n",
    "\n",
    "print(np.mean(b_s1))\n",
    "print(np.mean(b_t1))\n"
   ]
  },
  {
   "cell_type": "code",
   "execution_count": 16,
   "metadata": {},
   "outputs": [
    {
     "name": "stdout",
     "output_type": "stream",
     "text": [
      "0.003677823824678882\n",
      "0.007054699605665886\n"
     ]
    },
    {
     "data": {
      "image/png": "[encoded data removed]",
      "text/plain": [
       "<Figure size 432x288 with 1 Axes>"
      ]
     },
     "metadata": {
      "needs_background": "light"
     },
     "output_type": "display_data"
    }
   ],
   "source": [
    "plt.hist(b_s2,bins='scott',range=[0,0.01])\n",
    "#plt.hist(c_SecVtx,bins='scott',range=[0,0.01])\n",
    "plt.hist(b_t2,bins='scott',range=[0,0.01])\n",
    "\n",
    "print(np.mean(b_s2))\n",
    "print(np.mean(b_t2))\n"
   ]
  },
  {
   "cell_type": "markdown",
   "metadata": {},
   "source": [
    "So finally we have our features, X, and labels, y. Split into training and testing samples."
   ]
  },
  {
   "cell_type": "code",
   "execution_count": null,
   "metadata": {},
   "outputs": [],
   "source": []
  },
  {
   "cell_type": "markdown",
   "metadata": {},
   "source": [
    "## Data Plots and Sanity Checks"
   ]
  },
  {
   "cell_type": "markdown",
   "metadata": {},
   "source": [
    "Here I should have some plots on the track variables to ensure everything is logical and working fine, especially when I make changes to the data. Can potentially use seaborn..."
   ]
  },
  {
   "cell_type": "code",
   "execution_count": null,
   "metadata": {},
   "outputs": [],
   "source": []
  },
  {
   "cell_type": "code",
   "execution_count": null,
   "metadata": {},
   "outputs": [],
   "source": []
  },
  {
   "cell_type": "code",
   "execution_count": null,
   "metadata": {},
   "outputs": [],
   "source": []
  },
  {
   "cell_type": "markdown",
   "metadata": {},
   "source": [
    "## Constructing and Training an RNN"
   ]
  },
  {
   "cell_type": "markdown",
   "metadata": {},
   "source": [
    "Here we create an RNN based on LSTM cells using keras and tensorflow. The RNN will for each jet candidate take the tracks as inputs and attempt to predict the secondary and tertiary vertex positions. Let's see how well it does.\n",
    "\n",
    "I anticipate having to set a tolerance on the predicted values, it will never get them perfectly but we need to tell it how close it has to get for it to be considered successful."
   ]
  },
  {
   "cell_type": "markdown",
   "metadata": {},
   "source": [
    "Let's begin by creating the RNN architecture"
   ]
  },
  {
   "cell_type": "code",
   "execution_count": 17,
   "metadata": {},
   "outputs": [],
   "source": [
    "# Select number of hidden and dense layers. Initially use same as RNNIP but these can be tuned going forward.\n",
    "\n",
    "nHidden = 512\n",
    "nDense = 32"
   ]
  },
  {
   "cell_type": "code",
   "execution_count": 18,
   "metadata": {},
   "outputs": [],
   "source": [
    "nJets, nTrks, nFeatures = X_train.shape\n",
    "nOutputs = y.shape[1] # ie sec and ter vtx xyz, so 6"
   ]
  },
  {
   "cell_type": "code",
   "execution_count": 19,
   "metadata": {},
   "outputs": [],
   "source": [
    "trk_inputs = Input(shape=(nTrks,nFeatures),name=\"Trk_inputs\")\n",
    "masked_input = Masking()(trk_inputs)\n",
    "\n",
    "# Feed this merged layer to an RNN\n",
    "lstm = LSTM(nHidden, return_sequences=False, name='LSTM')(masked_input)\n",
    "dpt = Dropout(rate=0.2)(lstm) # this is a very high dropout rate, reduce it\n",
    "\n",
    "my_inputs = trk_inputs\n",
    "\n",
    "# Fully connected layer: This will convert the output of the RNN to our vtx postion predicitons\n",
    "FC = Dense(nDense, activation='relu', name=\"Dense\")(dpt) # is relu fine here? i think so...\n",
    "\n",
    "# Ouptut layer. Sec and Ter Vtx. No activation as this is a regression problem\n",
    "output = Dense(nOutputs, name=\"Vertex_Predictions\")(FC)\n",
    "\n",
    "myRNN = Model(inputs=my_inputs, outputs=output)\n"
   ]
  },
  {
   "cell_type": "code",
   "execution_count": 20,
   "metadata": {},
   "outputs": [
    {
     "name": "stdout",
     "output_type": "stream",
     "text": [
      "_________________________________________________________________\n",
      "Layer (type)                 Output Shape              Param #   \n",
      "=================================================================\n",
      "Trk_inputs (InputLayer)      (None, 30, 5)             0         \n",
      "_________________________________________________________________\n",
      "masking_1 (Masking)          (None, 30, 5)             0         \n",
      "_________________________________________________________________\n",
      "LSTM (LSTM)                  (None, 512)               1060864   \n",
      "_________________________________________________________________\n",
      "dropout_1 (Dropout)          (None, 512)               0         \n",
      "_________________________________________________________________\n",
      "Dense (Dense)                (None, 32)                16416     \n",
      "_________________________________________________________________\n",
      "Vertex_Predictions (Dense)   (None, 6)                 198       \n",
      "=================================================================\n",
      "Total params: 1,077,478\n",
      "Trainable params: 1,077,478\n",
      "Non-trainable params: 0\n",
      "_________________________________________________________________\n"
     ]
    }
   ],
   "source": [
    "myRNN.summary()"
   ]
  },
  {
   "cell_type": "code",
   "execution_count": 21,
   "metadata": {},
   "outputs": [],
   "source": [
    "myRNN.compile(loss='mean_absolute_error', optimizer='adam', metrics=['mae']) # do i want to add a metric like mse to evaluate during training\n"
   ]
  },
  {
   "cell_type": "markdown",
   "metadata": {},
   "source": [
    " checkpoints, training, evaluation of performance\n",
    " different ways of evaluating performance obviously\n",
    " either akin to Nicole's method for RNNIP\n",
    " or the slighlty different method in https://github.com/agu3rra/NeuralNetwork-RegressionExample/blob/master/Tutorial.ipynb"
   ]
  },
  {
   "cell_type": "code",
   "execution_count": 22,
   "metadata": {},
   "outputs": [],
   "source": [
    "myRNN_mChkPt = ModelCheckpoint('myRNN_weights.h5',monitor='val_loss', verbose=True,\n",
    "                               save_best_only=True,\n",
    "                               save_weights_only=True)"
   ]
  },
  {
   "cell_type": "code",
   "execution_count": 23,
   "metadata": {},
   "outputs": [],
   "source": [
    "earlyStop = EarlyStopping(monitor='val_loss', verbose=True, patience=10)\n"
   ]
  },
  {
   "cell_type": "code",
   "execution_count": 51,
   "metadata": {},
   "outputs": [
    {
     "name": "stdout",
     "output_type": "stream",
     "text": [
      "Train on 224000 samples, validate on 56000 samples\n",
      "Epoch 1/100\n",
      "223744/224000 [============================>.] - ETA: 0s - loss: 0.9770 - mean_absolute_error: 0.9770Epoch 00001: val_loss improved from inf to 0.80139, saving model to myRNN_weights.h5\n",
      "224000/224000 [==============================] - 73s 324us/step - loss: 0.9767 - mean_absolute_error: 0.9767 - val_loss: 0.8014 - val_mean_absolute_error: 0.8014\n",
      "Epoch 2/100\n",
      "223744/224000 [============================>.] - ETA: 0s - loss: 0.7799 - mean_absolute_error: 0.7799Epoch 00002: val_loss improved from 0.80139 to 0.71249, saving model to myRNN_weights.h5\n",
      "224000/224000 [==============================] - 77s 345us/step - loss: 0.7798 - mean_absolute_error: 0.7798 - val_loss: 0.7125 - val_mean_absolute_error: 0.7125\n",
      "Epoch 3/100\n",
      "223744/224000 [============================>.] - ETA: 0s - loss: 0.7018 - mean_absolute_error: 0.7018Epoch 00003: val_loss improved from 0.71249 to 0.63366, saving model to myRNN_weights.h5\n",
      "224000/224000 [==============================] - 77s 343us/step - loss: 0.7018 - mean_absolute_error: 0.7018 - val_loss: 0.6337 - val_mean_absolute_error: 0.6337\n",
      "Epoch 4/100\n",
      "223744/224000 [============================>.] - ETA: 0s - loss: 0.6380 - mean_absolute_error: 0.6380Epoch 00004: val_loss improved from 0.63366 to 0.58976, saving model to myRNN_weights.h5\n",
      "224000/224000 [==============================] - 76s 341us/step - loss: 0.6381 - mean_absolute_error: 0.6381 - val_loss: 0.5898 - val_mean_absolute_error: 0.5898\n",
      "Epoch 5/100\n",
      "223744/224000 [============================>.] - ETA: 0s - loss: 0.5966 - mean_absolute_error: 0.5966Epoch 00005: val_loss improved from 0.58976 to 0.55174, saving model to myRNN_weights.h5\n",
      "224000/224000 [==============================] - 78s 348us/step - loss: 0.5966 - mean_absolute_error: 0.5966 - val_loss: 0.5517 - val_mean_absolute_error: 0.5517\n",
      "Epoch 6/100\n",
      "223744/224000 [============================>.] - ETA: 0s - loss: 0.5660 - mean_absolute_error: 0.5660Epoch 00006: val_loss improved from 0.55174 to 0.52524, saving model to myRNN_weights.h5\n",
      "224000/224000 [==============================] - 76s 338us/step - loss: 0.5659 - mean_absolute_error: 0.5659 - val_loss: 0.5252 - val_mean_absolute_error: 0.5252\n",
      "Epoch 7/100\n",
      "223744/224000 [============================>.] - ETA: 0s - loss: 0.5447 - mean_absolute_error: 0.5447Epoch 00007: val_loss improved from 0.52524 to 0.51328, saving model to myRNN_weights.h5\n",
      "224000/224000 [==============================] - 77s 343us/step - loss: 0.5445 - mean_absolute_error: 0.5445 - val_loss: 0.5133 - val_mean_absolute_error: 0.5133\n",
      "Epoch 8/100\n",
      "223744/224000 [============================>.] - ETA: 0s - loss: 0.5245 - mean_absolute_error: 0.5245Epoch 00008: val_loss improved from 0.51328 to 0.49250, saving model to myRNN_weights.h5\n",
      "224000/224000 [==============================] - 77s 342us/step - loss: 0.5245 - mean_absolute_error: 0.5245 - val_loss: 0.4925 - val_mean_absolute_error: 0.4925\n",
      "Epoch 9/100\n",
      "223744/224000 [============================>.] - ETA: 0s - loss: 0.5094 - mean_absolute_error: 0.5094Epoch 00009: val_loss improved from 0.49250 to 0.47659, saving model to myRNN_weights.h5\n",
      "224000/224000 [==============================] - 73s 327us/step - loss: 0.5094 - mean_absolute_error: 0.5094 - val_loss: 0.4766 - val_mean_absolute_error: 0.4766\n",
      "Epoch 10/100\n",
      "223744/224000 [============================>.] - ETA: 0s - loss: 0.4961 - mean_absolute_error: 0.4961Epoch 00010: val_loss improved from 0.47659 to 0.47657, saving model to myRNN_weights.h5\n",
      "224000/224000 [==============================] - 74s 329us/step - loss: 0.4960 - mean_absolute_error: 0.4960 - val_loss: 0.4766 - val_mean_absolute_error: 0.4766\n",
      "Epoch 11/100\n",
      "223744/224000 [============================>.] - ETA: 0s - loss: 0.4842 - mean_absolute_error: 0.4842Epoch 00011: val_loss improved from 0.47657 to 0.46109, saving model to myRNN_weights.h5\n",
      "224000/224000 [==============================] - 74s 331us/step - loss: 0.4843 - mean_absolute_error: 0.4843 - val_loss: 0.4611 - val_mean_absolute_error: 0.4611\n",
      "Epoch 12/100\n",
      "223744/224000 [============================>.] - ETA: 0s - loss: 0.4720 - mean_absolute_error: 0.4720Epoch 00012: val_loss improved from 0.46109 to 0.45646, saving model to myRNN_weights.h5\n",
      "224000/224000 [==============================] - 75s 334us/step - loss: 0.4719 - mean_absolute_error: 0.4719 - val_loss: 0.4565 - val_mean_absolute_error: 0.4565\n",
      "Epoch 13/100\n",
      "223744/224000 [============================>.] - ETA: 0s - loss: 0.4629 - mean_absolute_error: 0.4629Epoch 00013: val_loss improved from 0.45646 to 0.43129, saving model to myRNN_weights.h5\n",
      "224000/224000 [==============================] - 75s 335us/step - loss: 0.4629 - mean_absolute_error: 0.4629 - val_loss: 0.4313 - val_mean_absolute_error: 0.4313\n",
      "Epoch 14/100\n",
      "223744/224000 [============================>.] - ETA: 0s - loss: 0.4517 - mean_absolute_error: 0.4517Epoch 00014: val_loss improved from 0.43129 to 0.42216, saving model to myRNN_weights.h5\n",
      "224000/224000 [==============================] - 74s 332us/step - loss: 0.4516 - mean_absolute_error: 0.4516 - val_loss: 0.4222 - val_mean_absolute_error: 0.4222\n",
      "Epoch 15/100\n",
      "223744/224000 [============================>.] - ETA: 0s - loss: 0.4433 - mean_absolute_error: 0.4433Epoch 00015: val_loss improved from 0.42216 to 0.41846, saving model to myRNN_weights.h5\n",
      "224000/224000 [==============================] - 75s 334us/step - loss: 0.4432 - mean_absolute_error: 0.4432 - val_loss: 0.4185 - val_mean_absolute_error: 0.4185\n",
      "Epoch 16/100\n",
      "223744/224000 [============================>.] - ETA: 0s - loss: 0.4332 - mean_absolute_error: 0.4332Epoch 00016: val_loss improved from 0.41846 to 0.40358, saving model to myRNN_weights.h5\n",
      "224000/224000 [==============================] - 75s 334us/step - loss: 0.4332 - mean_absolute_error: 0.4332 - val_loss: 0.4036 - val_mean_absolute_error: 0.4036\n",
      "Epoch 17/100\n",
      "223744/224000 [============================>.] - ETA: 0s - loss: 0.4219 - mean_absolute_error: 0.4219Epoch 00017: val_loss improved from 0.40358 to 0.39403, saving model to myRNN_weights.h5\n",
      "224000/224000 [==============================] - 75s 337us/step - loss: 0.4219 - mean_absolute_error: 0.4219 - val_loss: 0.3940 - val_mean_absolute_error: 0.3940\n",
      "Epoch 18/100\n",
      "223744/224000 [============================>.] - ETA: 0s - loss: 0.4108 - mean_absolute_error: 0.4108Epoch 00018: val_loss improved from 0.39403 to 0.37987, saving model to myRNN_weights.h5\n",
      "224000/224000 [==============================] - 75s 333us/step - loss: 0.4108 - mean_absolute_error: 0.4108 - val_loss: 0.3799 - val_mean_absolute_error: 0.3799\n",
      "Epoch 19/100\n",
      "223744/224000 [============================>.] - ETA: 0s - loss: 0.4004 - mean_absolute_error: 0.4004Epoch 00019: val_loss improved from 0.37987 to 0.37195, saving model to myRNN_weights.h5\n",
      "224000/224000 [==============================] - 76s 338us/step - loss: 0.4004 - mean_absolute_error: 0.4004 - val_loss: 0.3719 - val_mean_absolute_error: 0.3719\n",
      "Epoch 20/100\n",
      "223744/224000 [============================>.] - ETA: 0s - loss: 0.3898 - mean_absolute_error: 0.3898Epoch 00020: val_loss improved from 0.37195 to 0.36528, saving model to myRNN_weights.h5\n",
      "224000/224000 [==============================] - 76s 337us/step - loss: 0.3898 - mean_absolute_error: 0.3898 - val_loss: 0.3653 - val_mean_absolute_error: 0.3653\n",
      "Epoch 21/100\n",
      "223744/224000 [============================>.] - ETA: 0s - loss: 0.3787 - mean_absolute_error: 0.3787Epoch 00021: val_loss improved from 0.36528 to 0.36000, saving model to myRNN_weights.h5\n",
      "224000/224000 [==============================] - 76s 337us/step - loss: 0.3786 - mean_absolute_error: 0.3786 - val_loss: 0.3600 - val_mean_absolute_error: 0.3600\n",
      "Epoch 22/100\n",
      "223744/224000 [============================>.] - ETA: 0s - loss: 0.3693 - mean_absolute_error: 0.3693Epoch 00022: val_loss improved from 0.36000 to 0.34832, saving model to myRNN_weights.h5\n",
      "224000/224000 [==============================] - 74s 332us/step - loss: 0.3693 - mean_absolute_error: 0.3693 - val_loss: 0.3483 - val_mean_absolute_error: 0.3483\n",
      "Epoch 23/100\n",
      "223744/224000 [============================>.] - ETA: 0s - loss: 0.3612 - mean_absolute_error: 0.3612Epoch 00023: val_loss improved from 0.34832 to 0.33369, saving model to myRNN_weights.h5\n",
      "224000/224000 [==============================] - 74s 332us/step - loss: 0.3612 - mean_absolute_error: 0.3612 - val_loss: 0.3337 - val_mean_absolute_error: 0.3337\n"
     ]
    },
    {
     "name": "stdout",
     "output_type": "stream",
     "text": [
      "Epoch 24/100\n",
      "223744/224000 [============================>.] - ETA: 0s - loss: 0.3530 - mean_absolute_error: 0.3530Epoch 00024: val_loss did not improve\n",
      "224000/224000 [==============================] - 73s 326us/step - loss: 0.3531 - mean_absolute_error: 0.3531 - val_loss: 0.3371 - val_mean_absolute_error: 0.3371\n",
      "Epoch 25/100\n",
      "223744/224000 [============================>.] - ETA: 0s - loss: 0.3450 - mean_absolute_error: 0.3450Epoch 00025: val_loss improved from 0.33369 to 0.31258, saving model to myRNN_weights.h5\n",
      "224000/224000 [==============================] - 72s 322us/step - loss: 0.3450 - mean_absolute_error: 0.3450 - val_loss: 0.3126 - val_mean_absolute_error: 0.3126\n",
      "Epoch 26/100\n",
      "223744/224000 [============================>.] - ETA: 0s - loss: 0.3395 - mean_absolute_error: 0.3395Epoch 00026: val_loss did not improve\n",
      "224000/224000 [==============================] - 73s 326us/step - loss: 0.3395 - mean_absolute_error: 0.3395 - val_loss: 0.3141 - val_mean_absolute_error: 0.3141\n",
      "Epoch 27/100\n",
      "223744/224000 [============================>.] - ETA: 0s - loss: 0.3335 - mean_absolute_error: 0.3335Epoch 00027: val_loss improved from 0.31258 to 0.31235, saving model to myRNN_weights.h5\n",
      "224000/224000 [==============================] - 73s 327us/step - loss: 0.3335 - mean_absolute_error: 0.3335 - val_loss: 0.3123 - val_mean_absolute_error: 0.3123\n",
      "Epoch 28/100\n",
      "223744/224000 [============================>.] - ETA: 0s - loss: 0.3267 - mean_absolute_error: 0.3267Epoch 00028: val_loss improved from 0.31235 to 0.30233, saving model to myRNN_weights.h5\n",
      "224000/224000 [==============================] - 73s 327us/step - loss: 0.3267 - mean_absolute_error: 0.3267 - val_loss: 0.3023 - val_mean_absolute_error: 0.3023\n",
      "Epoch 29/100\n",
      "223744/224000 [============================>.] - ETA: 0s - loss: 0.3206 - mean_absolute_error: 0.3206Epoch 00029: val_loss did not improve\n",
      "224000/224000 [==============================] - 73s 328us/step - loss: 0.3206 - mean_absolute_error: 0.3206 - val_loss: 0.3040 - val_mean_absolute_error: 0.3040\n",
      "Epoch 30/100\n",
      "223744/224000 [============================>.] - ETA: 0s - loss: 0.3167 - mean_absolute_error: 0.3167Epoch 00030: val_loss improved from 0.30233 to 0.29074, saving model to myRNN_weights.h5\n",
      "224000/224000 [==============================] - 73s 327us/step - loss: 0.3166 - mean_absolute_error: 0.3166 - val_loss: 0.2907 - val_mean_absolute_error: 0.2907\n",
      "Epoch 31/100\n",
      "223744/224000 [============================>.] - ETA: 0s - loss: 0.3124 - mean_absolute_error: 0.3124Epoch 00031: val_loss did not improve\n",
      "224000/224000 [==============================] - 73s 328us/step - loss: 0.3124 - mean_absolute_error: 0.3124 - val_loss: 0.2966 - val_mean_absolute_error: 0.2966\n",
      "Epoch 32/100\n",
      "223744/224000 [============================>.] - ETA: 0s - loss: 0.3088 - mean_absolute_error: 0.3088Epoch 00032: val_loss did not improve\n",
      "224000/224000 [==============================] - 74s 331us/step - loss: 0.3088 - mean_absolute_error: 0.3088 - val_loss: 0.2918 - val_mean_absolute_error: 0.2918\n",
      "Epoch 33/100\n",
      "223744/224000 [============================>.] - ETA: 0s - loss: 0.3038 - mean_absolute_error: 0.3038Epoch 00033: val_loss improved from 0.29074 to 0.27592, saving model to myRNN_weights.h5\n",
      "224000/224000 [==============================] - 73s 328us/step - loss: 0.3038 - mean_absolute_error: 0.3038 - val_loss: 0.2759 - val_mean_absolute_error: 0.2759\n",
      "Epoch 34/100\n",
      "223744/224000 [============================>.] - ETA: 0s - loss: 0.2986 - mean_absolute_error: 0.2986Epoch 00034: val_loss improved from 0.27592 to 0.27423, saving model to myRNN_weights.h5\n",
      "224000/224000 [==============================] - 74s 330us/step - loss: 0.2986 - mean_absolute_error: 0.2986 - val_loss: 0.2742 - val_mean_absolute_error: 0.2742\n",
      "Epoch 35/100\n",
      "223744/224000 [============================>.] - ETA: 0s - loss: 0.2965 - mean_absolute_error: 0.2965Epoch 00035: val_loss did not improve\n",
      "224000/224000 [==============================] - 74s 329us/step - loss: 0.2965 - mean_absolute_error: 0.2965 - val_loss: 0.2798 - val_mean_absolute_error: 0.2798\n",
      "Epoch 36/100\n",
      "223744/224000 [============================>.] - ETA: 0s - loss: 0.2924 - mean_absolute_error: 0.2924Epoch 00036: val_loss improved from 0.27423 to 0.27315, saving model to myRNN_weights.h5\n",
      "224000/224000 [==============================] - 74s 332us/step - loss: 0.2924 - mean_absolute_error: 0.2924 - val_loss: 0.2731 - val_mean_absolute_error: 0.2731\n",
      "Epoch 37/100\n",
      "223744/224000 [============================>.] - ETA: 0s - loss: 0.2874 - mean_absolute_error: 0.2874Epoch 00037: val_loss did not improve\n",
      "224000/224000 [==============================] - 74s 330us/step - loss: 0.2874 - mean_absolute_error: 0.2874 - val_loss: 0.2805 - val_mean_absolute_error: 0.2805\n",
      "Epoch 38/100\n",
      "223744/224000 [============================>.] - ETA: 0s - loss: 0.2856 - mean_absolute_error: 0.2856Epoch 00038: val_loss improved from 0.27315 to 0.27010, saving model to myRNN_weights.h5\n",
      "224000/224000 [==============================] - 74s 330us/step - loss: 0.2856 - mean_absolute_error: 0.2856 - val_loss: 0.2701 - val_mean_absolute_error: 0.2701\n",
      "Epoch 39/100\n",
      "223744/224000 [============================>.] - ETA: 0s - loss: 0.2809 - mean_absolute_error: 0.2809Epoch 00039: val_loss improved from 0.27010 to 0.25343, saving model to myRNN_weights.h5\n",
      "224000/224000 [==============================] - 74s 330us/step - loss: 0.2809 - mean_absolute_error: 0.2809 - val_loss: 0.2534 - val_mean_absolute_error: 0.2534\n",
      "Epoch 40/100\n",
      "223744/224000 [============================>.] - ETA: 0s - loss: 0.2771 - mean_absolute_error: 0.2771- ETA: 2s - loss: 0Epoch 00040: val_loss did not improve\n",
      "224000/224000 [==============================] - 75s 333us/step - loss: 0.2770 - mean_absolute_error: 0.2770 - val_loss: 0.2535 - val_mean_absolute_error: 0.2535\n",
      "Epoch 41/100\n",
      "223744/224000 [============================>.] - ETA: 0s - loss: 0.2763 - mean_absolute_error: 0.2763Epoch 00041: val_loss did not improve\n",
      "224000/224000 [==============================] - 74s 330us/step - loss: 0.2763 - mean_absolute_error: 0.2763 - val_loss: 0.2588 - val_mean_absolute_error: 0.2588\n",
      "Epoch 42/100\n",
      "223744/224000 [============================>.] - ETA: 0s - loss: 0.2723 - mean_absolute_error: 0.2723Epoch 00042: val_loss improved from 0.25343 to 0.25072, saving model to myRNN_weights.h5\n",
      "224000/224000 [==============================] - 74s 332us/step - loss: 0.2723 - mean_absolute_error: 0.2723 - val_loss: 0.2507 - val_mean_absolute_error: 0.2507\n",
      "Epoch 43/100\n",
      "223744/224000 [============================>.] - ETA: 0s - loss: 0.2683 - mean_absolute_error: 0.2683Epoch 00043: val_loss improved from 0.25072 to 0.24736, saving model to myRNN_weights.h5\n",
      "224000/224000 [==============================] - 74s 332us/step - loss: 0.2684 - mean_absolute_error: 0.2684 - val_loss: 0.2474 - val_mean_absolute_error: 0.2474\n",
      "Epoch 44/100\n",
      "223744/224000 [============================>.] - ETA: 0s - loss: 0.2660 - mean_absolute_error: 0.2660Epoch 00044: val_loss improved from 0.24736 to 0.24130, saving model to myRNN_weights.h5\n",
      "224000/224000 [==============================] - 75s 333us/step - loss: 0.2661 - mean_absolute_error: 0.2661 - val_loss: 0.2413 - val_mean_absolute_error: 0.2413\n",
      "Epoch 45/100\n",
      "223744/224000 [============================>.] - ETA: 0s - loss: 0.2633 - mean_absolute_error: 0.2633Epoch 00045: val_loss did not improve\n",
      "224000/224000 [==============================] - 74s 333us/step - loss: 0.2633 - mean_absolute_error: 0.2633 - val_loss: 0.2629 - val_mean_absolute_error: 0.2629\n",
      "Epoch 46/100\n",
      "223744/224000 [============================>.] - ETA: 0s - loss: 0.2609 - mean_absolute_error: 0.2609Epoch 00046: val_loss did not improve\n",
      "224000/224000 [==============================] - 74s 332us/step - loss: 0.2609 - mean_absolute_error: 0.2609 - val_loss: 0.2454 - val_mean_absolute_error: 0.2454\n",
      "Epoch 47/100\n",
      "223744/224000 [============================>.] - ETA: 0s - loss: 0.2590 - mean_absolute_error: 0.2590Epoch 00047: val_loss did not improve\n",
      "224000/224000 [==============================] - 75s 336us/step - loss: 0.2590 - mean_absolute_error: 0.2590 - val_loss: 0.2440 - val_mean_absolute_error: 0.2440\n",
      "Epoch 48/100\n",
      "223744/224000 [============================>.] - ETA: 0s - loss: 0.2589 - mean_absolute_error: 0.2589Epoch 00048: val_loss did not improve\n",
      "224000/224000 [==============================] - 77s 346us/step - loss: 0.2589 - mean_absolute_error: 0.2589 - val_loss: 0.2444 - val_mean_absolute_error: 0.2444\n",
      "Epoch 49/100\n",
      "223744/224000 [============================>.] - ETA: 0s - loss: 0.2553 - mean_absolute_error: 0.2553Epoch 00049: val_loss improved from 0.24130 to 0.23252, saving model to myRNN_weights.h5\n",
      "224000/224000 [==============================] - 75s 333us/step - loss: 0.2553 - mean_absolute_error: 0.2553 - val_loss: 0.2325 - val_mean_absolute_error: 0.2325\n",
      "Epoch 50/100\n",
      "223744/224000 [============================>.] - ETA: 0s - loss: 0.2519 - mean_absolute_error: 0.2519Epoch 00050: val_loss did not improve\n",
      "224000/224000 [==============================] - 75s 335us/step - loss: 0.2519 - mean_absolute_error: 0.2519 - val_loss: 0.2398 - val_mean_absolute_error: 0.2398\n",
      "Epoch 51/100\n",
      "223744/224000 [============================>.] - ETA: 0s - loss: 0.2492 - mean_absolute_error: 0.2492Epoch 00051: val_loss improved from 0.23252 to 0.22606, saving model to myRNN_weights.h5\n",
      "224000/224000 [==============================] - 76s 338us/step - loss: 0.2491 - mean_absolute_error: 0.2491 - val_loss: 0.2261 - val_mean_absolute_error: 0.2261\n",
      "Epoch 52/100\n",
      "223744/224000 [============================>.] - ETA: 0s - loss: 0.2474 - mean_absolute_error: 0.2474Epoch 00052: val_loss did not improve\n",
      "224000/224000 [==============================] - 75s 334us/step - loss: 0.2474 - mean_absolute_error: 0.2474 - val_loss: 0.2279 - val_mean_absolute_error: 0.2279\n",
      "Epoch 53/100\n",
      "223744/224000 [============================>.] - ETA: 0s - loss: 0.2461 - mean_absolute_error: 0.2461Epoch 00053: val_loss did not improve\n",
      "224000/224000 [==============================] - 75s 337us/step - loss: 0.2461 - mean_absolute_error: 0.2461 - val_loss: 0.2420 - val_mean_absolute_error: 0.2420\n",
      "Epoch 54/100\n",
      "223744/224000 [============================>.] - ETA: 0s - loss: 0.2437 - mean_absolute_error: 0.2437Epoch 00054: val_loss did not improve\n",
      "224000/224000 [==============================] - 75s 335us/step - loss: 0.2437 - mean_absolute_error: 0.2437 - val_loss: 0.2323 - val_mean_absolute_error: 0.2323\n",
      "Epoch 55/100\n",
      "223744/224000 [============================>.] - ETA: 0s - loss: 0.2419 - mean_absolute_error: 0.2419Epoch 00055: val_loss did not improve\n",
      "224000/224000 [==============================] - 75s 335us/step - loss: 0.2418 - mean_absolute_error: 0.2418 - val_loss: 0.2271 - val_mean_absolute_error: 0.2271\n",
      "Epoch 56/100\n",
      "223744/224000 [============================>.] - ETA: 0s - loss: 0.2403 - mean_absolute_error: 0.2403Epoch 00056: val_loss did not improve\n",
      "224000/224000 [==============================] - 75s 337us/step - loss: 0.2404 - mean_absolute_error: 0.2404 - val_loss: 0.2316 - val_mean_absolute_error: 0.2316\n",
      "Epoch 57/100\n",
      "223744/224000 [============================>.] - ETA: 0s - loss: 0.2395 - mean_absolute_error: 0.2395Epoch 00057: val_loss did not improve\n",
      "224000/224000 [==============================] - 75s 335us/step - loss: 0.2394 - mean_absolute_error: 0.2394 - val_loss: 0.2324 - val_mean_absolute_error: 0.2324\n",
      "Epoch 58/100\n",
      "223744/224000 [============================>.] - ETA: 0s - loss: 0.2370 - mean_absolute_error: 0.2370Epoch 00058: val_loss did not improve\n",
      "224000/224000 [==============================] - 75s 336us/step - loss: 0.2370 - mean_absolute_error: 0.2370 - val_loss: 0.2279 - val_mean_absolute_error: 0.2279\n",
      "Epoch 59/100\n",
      "223744/224000 [============================>.] - ETA: 0s - loss: 0.2352 - mean_absolute_error: 0.2352Epoch 00059: val_loss improved from 0.22606 to 0.21992, saving model to myRNN_weights.h5\n",
      "224000/224000 [==============================] - 75s 336us/step - loss: 0.2352 - mean_absolute_error: 0.2352 - val_loss: 0.2199 - val_mean_absolute_error: 0.2199\n",
      "Epoch 60/100\n",
      "223744/224000 [============================>.] - ETA: 0s - loss: 0.2319 - mean_absolute_error: 0.2319Epoch 00060: val_loss improved from 0.21992 to 0.21466, saving model to myRNN_weights.h5\n",
      "224000/224000 [==============================] - 75s 337us/step - loss: 0.2319 - mean_absolute_error: 0.2319 - val_loss: 0.2147 - val_mean_absolute_error: 0.2147\n",
      "Epoch 61/100\n",
      "223744/224000 [============================>.] - ETA: 0s - loss: 0.2325 - mean_absolute_error: 0.2325Epoch 00061: val_loss did not improve\n",
      "224000/224000 [==============================] - 78s 348us/step - loss: 0.2325 - mean_absolute_error: 0.2325 - val_loss: 0.2213 - val_mean_absolute_error: 0.2213\n",
      "Epoch 62/100\n",
      "223744/224000 [============================>.] - ETA: 0s - loss: 0.2301 - mean_absolute_error: 0.2301Epoch 00062: val_loss did not improve\n",
      "224000/224000 [==============================] - 77s 345us/step - loss: 0.2302 - mean_absolute_error: 0.2302 - val_loss: 0.2263 - val_mean_absolute_error: 0.2263\n",
      "Epoch 63/100\n",
      "223744/224000 [============================>.] - ETA: 0s - loss: 0.2285 - mean_absolute_error: 0.2285Epoch 00063: val_loss did not improve\n",
      "224000/224000 [==============================] - 75s 337us/step - loss: 0.2285 - mean_absolute_error: 0.2285 - val_loss: 0.2220 - val_mean_absolute_error: 0.2220\n",
      "Epoch 64/100\n",
      "223744/224000 [============================>.] - ETA: 0s - loss: 0.2268 - mean_absolute_error: 0.2268Epoch 00064: val_loss did not improve\n",
      "224000/224000 [==============================] - 76s 339us/step - loss: 0.2268 - mean_absolute_error: 0.2268 - val_loss: 0.2228 - val_mean_absolute_error: 0.2228\n",
      "Epoch 65/100\n",
      "223744/224000 [============================>.] - ETA: 0s - loss: 0.2265 - mean_absolute_error: 0.2265Epoch 00065: val_loss improved from 0.21466 to 0.20679, saving model to myRNN_weights.h5\n",
      "224000/224000 [==============================] - 76s 339us/step - loss: 0.2265 - mean_absolute_error: 0.2265 - val_loss: 0.2068 - val_mean_absolute_error: 0.2068\n",
      "Epoch 66/100\n",
      "223744/224000 [============================>.] - ETA: 0s - loss: 0.2242 - mean_absolute_error: 0.2242Epoch 00066: val_loss did not improve\n",
      "224000/224000 [==============================] - 76s 338us/step - loss: 0.2242 - mean_absolute_error: 0.2242 - val_loss: 0.2139 - val_mean_absolute_error: 0.2139\n",
      "Epoch 67/100\n",
      "223744/224000 [============================>.] - ETA: 0s - loss: 0.2232 - mean_absolute_error: 0.2232Epoch 00067: val_loss did not improve\n",
      "224000/224000 [==============================] - 77s 343us/step - loss: 0.2233 - mean_absolute_error: 0.2233 - val_loss: 0.2187 - val_mean_absolute_error: 0.2187\n",
      "Epoch 68/100\n",
      "223744/224000 [============================>.] - ETA: 0s - loss: 0.2209 - mean_absolute_error: 0.2209Epoch 00068: val_loss did not improve\n",
      "224000/224000 [==============================] - 78s 347us/step - loss: 0.2208 - mean_absolute_error: 0.2208 - val_loss: 0.2239 - val_mean_absolute_error: 0.2239\n",
      "Epoch 69/100\n",
      "223744/224000 [============================>.] - ETA: 0s - loss: 0.2210 - mean_absolute_error: 0.2210Epoch 00069: val_loss did not improve\n",
      "224000/224000 [==============================] - 77s 342us/step - loss: 0.2210 - mean_absolute_error: 0.2210 - val_loss: 0.2309 - val_mean_absolute_error: 0.2309\n",
      "Epoch 70/100\n",
      "223744/224000 [============================>.] - ETA: 0s - loss: 0.2208 - mean_absolute_error: 0.2208Epoch 00070: val_loss did not improve\n",
      "224000/224000 [==============================] - 77s 344us/step - loss: 0.2207 - mean_absolute_error: 0.2207 - val_loss: 0.2371 - val_mean_absolute_error: 0.2371\n",
      "Epoch 71/100\n",
      "223744/224000 [============================>.] - ETA: 0s - loss: 0.2196 - mean_absolute_error: 0.2196Epoch 00071: val_loss did not improve\n",
      "224000/224000 [==============================] - 78s 350us/step - loss: 0.2196 - mean_absolute_error: 0.2196 - val_loss: 0.2415 - val_mean_absolute_error: 0.2415\n",
      "Epoch 72/100\n",
      "223744/224000 [============================>.] - ETA: 0s - loss: 0.2172 - mean_absolute_error: 0.2172Epoch 00072: val_loss did not improve\n",
      "224000/224000 [==============================] - 77s 345us/step - loss: 0.2172 - mean_absolute_error: 0.2172 - val_loss: 0.2163 - val_mean_absolute_error: 0.2163\n",
      "Epoch 73/100\n"
     ]
    },
    {
     "name": "stdout",
     "output_type": "stream",
     "text": [
      "223744/224000 [============================>.] - ETA: 0s - loss: 0.2147 - mean_absolute_error: 0.2147Epoch 00073: val_loss did not improve\n",
      "224000/224000 [==============================] - 75s 334us/step - loss: 0.2147 - mean_absolute_error: 0.2147 - val_loss: 0.2091 - val_mean_absolute_error: 0.2091\n",
      "Epoch 74/100\n",
      "223744/224000 [============================>.] - ETA: 0s - loss: 0.2145 - mean_absolute_error: 0.2145Epoch 00074: val_loss did not improve\n",
      "224000/224000 [==============================] - 76s 337us/step - loss: 0.2144 - mean_absolute_error: 0.2144 - val_loss: 0.2177 - val_mean_absolute_error: 0.2177\n",
      "Epoch 75/100\n",
      "223744/224000 [============================>.] - ETA: 0s - loss: 0.2124 - mean_absolute_error: 0.2124Epoch 00075: val_loss did not improve\n",
      "224000/224000 [==============================] - 75s 334us/step - loss: 0.2124 - mean_absolute_error: 0.2124 - val_loss: 0.2113 - val_mean_absolute_error: 0.2113\n",
      "Epoch 00075: early stopping\n"
     ]
    }
   ],
   "source": [
    "nEpochs = 100\n",
    "\n",
    "myRNN_hist = myRNN.fit(X_train, y_train, epochs=nEpochs, batch_size=256,validation_split=0.20,\n",
    "                 callbacks=[earlyStop, myRNN_mChkPt],) # callbacks=[earlyStop, myRNN_mChkPt])"
   ]
  },
  {
   "cell_type": "code",
   "execution_count": 52,
   "metadata": {
    "scrolled": true
   },
   "outputs": [
    {
     "data": {
      "text/plain": [
       "<matplotlib.legend.Legend at 0x1f4d14a53c8>"
      ]
     },
     "execution_count": 52,
     "metadata": {},
     "output_type": "execute_result"
    },
    {
     "data": {
      "image/png": "[encoded data removed]",
      "text/plain": [
       "<Figure size 432x288 with 1 Axes>"
      ]
     },
     "metadata": {
      "needs_background": "light"
     },
     "output_type": "display_data"
    }
   ],
   "source": [
    "epochs = np.arange(1,len(myRNN_hist.history['loss'])+1)\n",
    "\n",
    "plt.plot(epochs,myRNN_hist.history['loss'],label='training')\n",
    "plt.plot(epochs,myRNN_hist.history['val_loss'],label='validation')\n",
    "plt.xlabel('epochs',fontsize=14)\n",
    "plt.ylabel('MSE loss',fontsize=14)\n",
    "plt.legend()"
   ]
  },
  {
   "cell_type": "markdown",
   "metadata": {},
   "source": [
    "# Result Analysis"
   ]
  },
  {
   "cell_type": "markdown",
   "metadata": {},
   "source": [
    "Section to produce plots to understand our RNN performance. Ultimately we want to understand how our RNN gets its results, and why it gets these particular results. E.g. is our performance limited by resolution, bad results due to one particular track, how do different displacements of the sec vertex affect performance, how do n of sec or tertiary tracks, ...\n"
   ]
  },
  {
   "cell_type": "markdown",
   "metadata": {},
   "source": [
    "First we load the best performing model from its weights file"
   ]
  },
  {
   "cell_type": "code",
   "execution_count": 28,
   "metadata": {},
   "outputs": [],
   "source": [
    "# load model\n",
    "myRNN.load_weights('./512over32RNNweights.h5')\n"
   ]
  },
  {
   "cell_type": "markdown",
   "metadata": {},
   "source": [
    "Use the RNN now to predict the vertices of a test sample X_test. This is essentially 20000 jets, each jet consisting of its track collection (the first track in the collection is an artificial one consisting of the measured jet direction)"
   ]
  },
  {
   "cell_type": "code",
   "execution_count": 29,
   "metadata": {},
   "outputs": [
    {
     "data": {
      "text/plain": [
       "array([[2.1222038 , 2.1254056 , 3.0007064 , 3.8185515 , 3.8182008 ,\n",
       "        4.664886  ],\n",
       "       [2.1364229 , 2.1410332 , 3.0219123 , 3.8928642 , 3.9022589 ,\n",
       "        5.8403635 ],\n",
       "       [0.5065276 , 0.510499  , 0.7176912 , 2.3371904 , 2.335762  ,\n",
       "        3.461834  ],\n",
       "       ...,\n",
       "       [0.92011166, 0.91872525, 1.298028  , 1.0607064 , 1.0509801 ,\n",
       "        1.5600872 ],\n",
       "       [0.09606165, 0.0973157 , 0.1343332 , 0.11231345, 0.11265254,\n",
       "        0.15907413],\n",
       "       [2.5558248 , 2.5581825 , 3.6128669 , 4.0789776 , 4.0837207 ,\n",
       "        5.5745354 ]], dtype=float32)"
      ]
     },
     "execution_count": 29,
     "metadata": {},
     "output_type": "execute_result"
    }
   ],
   "source": [
    "results=myRNN.predict(X_test)\n",
    "results"
   ]
  },
  {
   "cell_type": "code",
   "execution_count": 30,
   "metadata": {},
   "outputs": [],
   "source": [
    "percentage_errs=(abs((results-y_test)/y_test)*100) # average error of 50%, so for vtx at 1mm, we get within 0.5mm\n",
    "mean_abs_errs = abs((results-y_test))\n",
    "mae_per_jet = np.mean(mean_abs_errs,axis=1)"
   ]
  },
  {
   "cell_type": "markdown",
   "metadata": {},
   "source": [
    "### Errors against Sec Vtx Displacement"
   ]
  },
  {
   "cell_type": "markdown",
   "metadata": {},
   "source": [
    "Look at the percentage and absolute errors of jets in two regions. Regions separated by the absolute displacement of secondary (and tertiary) vertex, ds. Find a phase behaviour transition arond ds=1mm"
   ]
  },
  {
   "cell_type": "code",
   "execution_count": 36,
   "metadata": {},
   "outputs": [
    {
     "name": "stdout",
     "output_type": "stream",
     "text": [
      "large ds mean % err 3.0268734312891548\n",
      "small ds mean % err 23.26733196993836\n"
     ]
    }
   ],
   "source": [
    "# separate out large ds jets\n",
    "tervtx_cond = np.linalg.norm(bjets_DF[['terVtx_x','terVtx_y','terVtx_z']],axis=1)[split:] > 1.4/1000\n",
    "secvtx_cond = np.linalg.norm(bjets_DF[['secVtx_x','secVtx_y','secVtx_z']],axis=1)[split:] > 1.4/1000\n",
    "large_displaced_bs_indices= np.where(secvtx_cond & tervtx_cond)[0]\n",
    "print(\"large ds mean % err\",np.mean(percentage_errs[large_displaced_bs_indices]))\n",
    "# so for jets where both sec and ter vtx are more than 1mm displaced, the percentage error is average 3% (and median 2%)\n",
    "large_ds_perc_errs = np.mean(percentage_errs[large_displaced_bs_indices],axis=1)\n",
    "large_ds_maes = mae_per_jet[large_displaced_bs_indices]\n",
    "\n",
    "\n",
    "# now do same for small ds jets\n",
    "tervtx_cond = np.linalg.norm(bjets_DF[['terVtx_x','terVtx_y','terVtx_z']],axis=1)[split:] < 1.5/1000\n",
    "secvtx_cond = np.linalg.norm(bjets_DF[['secVtx_x','secVtx_y','secVtx_z']],axis=1)[split:] < 1.5/1000\n",
    "small_displaced_bs_indices= np.where(secvtx_cond & tervtx_cond)[0]\n",
    "print(\"small ds mean % err\",np.mean(percentage_errs[small_displaced_bs_indices]))\n",
    "small_ds_perc_errs = np.mean(percentage_errs[small_displaced_bs_indices],axis=1)\n",
    "small_ds_maes = mae_per_jet[small_displaced_bs_indices]"
   ]
  },
  {
   "cell_type": "code",
   "execution_count": 37,
   "metadata": {},
   "outputs": [
    {
     "data": {
      "text/plain": [
       "Text(0.5, 0, 'Mean Abs Error')"
      ]
     },
     "execution_count": 37,
     "metadata": {},
     "output_type": "execute_result"
    },
    {
     "data": {
      "image/png": "[encoded data removed]",
      "text/plain": [
       "<Figure size 720x576 with 4 Axes>"
      ]
     },
     "metadata": {
      "needs_background": "light"
     },
     "output_type": "display_data"
    }
   ],
   "source": [
    "fig, axs = plt.subplots(2,2,figsize=(10,8))\n",
    "\n",
    "axs[0, 0].hist(large_ds_perc_errs,np.linspace(0,100,100))\n",
    "axs[0, 0].set_ylabel('N ds>1mm jets')\n",
    "\n",
    "axs[0, 1].hist(large_ds_maes,bins=np.linspace(0,1,100))\n",
    "\n",
    "axs[1, 0].hist(small_ds_perc_errs,np.linspace(0,100,100))\n",
    "axs[1, 0].set_xlabel('Mean % Error')\n",
    "axs[1, 0].set_ylabel('N ds<1mm jets')\n",
    "\n",
    "axs[1, 1].hist(small_ds_maes,bins=np.linspace(0,1,100))\n",
    "axs[1, 1].set_xlabel('Mean Abs Error')\n"
   ]
  },
  {
   "cell_type": "markdown",
   "metadata": {},
   "source": [
    "Look at one of the outlier cases, a large ds with the largest percentage error"
   ]
  },
  {
   "cell_type": "code",
   "execution_count": 39,
   "metadata": {},
   "outputs": [
    {
     "name": "stdout",
     "output_type": "stream",
     "text": [
      "5453\n"
     ]
    },
    {
     "data": {
      "text/plain": [
       "0.0038724467979917303"
      ]
     },
     "execution_count": 39,
     "metadata": {},
     "output_type": "execute_result"
    }
   ],
   "source": [
    "print(np.argmax(np.mean(percentage_errs[large_displaced_bs_indices],axis=1)))\n",
    "argmaxind = np.argmax(np.mean(percentage_errs[large_displaced_bs_indices],axis=1))\n",
    "actual_ind = large_displaced_bs_indices[argmaxind]\n",
    "np.sqrt(bjets_DF.iloc[split+actual_ind]['secVtx_x']**2 + bjets_DF.iloc[split+actual_ind]['secVtx_y']**2 + bjets_DF.iloc[split+actual_ind]['secVtx_z']**2)\n",
    "#np.linalg.norm(bjets_DF.iloc[split+1853]['secVtx_x','secVtx_y','secVtx_z'],axis=1)"
   ]
  },
  {
   "cell_type": "markdown",
   "metadata": {},
   "source": [
    "We can use actual_ind later to plot the image of this jet."
   ]
  },
  {
   "cell_type": "markdown",
   "metadata": {},
   "source": [
    "### Plot of errors for each value"
   ]
  },
  {
   "cell_type": "markdown",
   "metadata": {},
   "source": [
    "Plots all the individual (secondary x, secondary y, secondary z, tertiary x...) % errors, the distribution looks gaussian with a very long tail"
   ]
  },
  {
   "cell_type": "code",
   "execution_count": 40,
   "metadata": {
    "scrolled": true
   },
   "outputs": [
    {
     "data": {
      "text/plain": [
       "Text(0.5, 0, '% errors in sec and ter xyz')"
      ]
     },
     "execution_count": 40,
     "metadata": {},
     "output_type": "execute_result"
    },
    {
     "data": {
      "image/png": "[encoded data removed]",
      "text/plain": [
       "<Figure size 432x288 with 1 Axes>"
      ]
     },
     "metadata": {
      "needs_background": "light"
     },
     "output_type": "display_data"
    }
   ],
   "source": [
    "percerrs=percentage_errs.reshape(120000)# plot distribution of mean errs per jet\n",
    "\n",
    "plt.hist((percerrs), bins=np.linspace(0,50,100))#90,100,200,300,400,500,600,700,800,900])\n",
    "plt.xlabel('% errors in sec and ter xyz')\n",
    "\n",
    "#plt.hist((meanerrs), bins=[0,0.1,0.2,0.3,0.4,0.5,0.6,0.7,0.8,0.9])\n"
   ]
  },
  {
   "cell_type": "code",
   "execution_count": 41,
   "metadata": {},
   "outputs": [],
   "source": [
    "mean_perc_err_per_jet=np.mean(percentage_errs,axis=1)"
   ]
  },
  {
   "cell_type": "code",
   "execution_count": 42,
   "metadata": {
    "scrolled": true
   },
   "outputs": [
    {
     "name": "stdout",
     "output_type": "stream",
     "text": [
      "0.05813817295916562\n",
      "0.10596260533642193\n"
     ]
    }
   ],
   "source": [
    "print(np.median(mae_per_jet)) # median error is 7% that's actually not too bad considering gauss err of 1% on 5 params (ish)\n",
    "print(np.mean(mae_per_jet)) # mean and median very different"
   ]
  },
  {
   "cell_type": "markdown",
   "metadata": {},
   "source": [
    "### Bad jet analysis"
   ]
  },
  {
   "cell_type": "markdown",
   "metadata": {},
   "source": [
    "Idea here to analyse the worse performing jets. Difficulty is defining bad performance. I've done this by combining bad absolute and percentage error (see below). Unfortunately also means we are looking at the tail of performance (only about 2% jets)"
   ]
  },
  {
   "cell_type": "code",
   "execution_count": 44,
   "metadata": {},
   "outputs": [
    {
     "name": "stdout",
     "output_type": "stream",
     "text": [
      "0.02465 of jets mean absolute errors above .5\n"
     ]
    }
   ],
   "source": [
    "print(len(mae_per_jet[mae_per_jet > .5])/20000, \"of jets mean absolute errors above .5\")"
   ]
  },
  {
   "cell_type": "code",
   "execution_count": 45,
   "metadata": {},
   "outputs": [],
   "source": [
    "badjets=np.where(mae_per_jet > .5)\n"
   ]
  },
  {
   "cell_type": "code",
   "execution_count": 47,
   "metadata": {},
   "outputs": [
    {
     "data": {
      "text/plain": [
       "(array([289., 110.,  33.,  25.,  14.,   5.,   6.,   5.,   1.,   0.,   1.,\n",
       "          0.,   0.,   1.,   1.,   0.,   0.,   1.,   0.,   0.,   0.,   0.,\n",
       "          0.,   0.,   0.,   0.,   0.,   0.,   0.,   0.,   1.]),\n",
       " array([ 0.50079213,  0.82052572,  1.1402593 ,  1.45999289,  1.77972648,\n",
       "         2.09946007,  2.41919366,  2.73892724,  3.05866083,  3.37839442,\n",
       "         3.69812801,  4.0178616 ,  4.33759518,  4.65732877,  4.97706236,\n",
       "         5.29679595,  5.61652953,  5.93626312,  6.25599671,  6.5757303 ,\n",
       "         6.89546389,  7.21519747,  7.53493106,  7.85466465,  8.17439824,\n",
       "         8.49413183,  8.81386541,  9.133599  ,  9.45333259,  9.77306618,\n",
       "        10.09279977, 10.41253335]),\n",
       " <a list of 31 Patch objects>)"
      ]
     },
     "execution_count": 47,
     "metadata": {},
     "output_type": "execute_result"
    },
    {
     "data": {
      "image/png": "[encoded data removed]",
      "text/plain": [
       "<Figure size 432x288 with 1 Axes>"
      ]
     },
     "metadata": {
      "needs_background": "light"
     },
     "output_type": "display_data"
    }
   ],
   "source": [
    "plt.hist(mae_per_jet[badjets],bins='scott')"
   ]
  },
  {
   "cell_type": "code",
   "execution_count": 49,
   "metadata": {},
   "outputs": [
    {
     "name": "stdout",
     "output_type": "stream",
     "text": [
      "this bad jet has a mean % err 7.123442650408525\n",
      "this bad jet has a mean abs err 0.6836568173986107\n"
     ]
    }
   ],
   "source": [
    "# here's  a particular bad jet\n",
    "jet=badjets[0][0]\n",
    "print(\"this bad jet has a mean % err\",mean_perc_err_per_jet[jet])\n",
    "print(\"this bad jet has a mean abs err\",mae_per_jet[jet])"
   ]
  },
  {
   "cell_type": "code",
   "execution_count": 50,
   "metadata": {
    "scrolled": true
   },
   "outputs": [
    {
     "data": {
      "text/plain": [
       "array([ 6.50529031,  6.50529031,  9.19986979,  9.04314636,  8.65457936,\n",
       "       12.49319372])"
      ]
     },
     "execution_count": 50,
     "metadata": {},
     "output_type": "execute_result"
    }
   ],
   "source": [
    "y_test[jet]"
   ]
  },
  {
   "cell_type": "code",
   "execution_count": 51,
   "metadata": {
    "scrolled": true
   },
   "outputs": [
    {
     "data": {
      "text/plain": [
       "array([ 6.66779  ,  6.673823 ,  9.429389 ,  7.795134 ,  7.8096933,\n",
       "       11.044703 ], dtype=float32)"
      ]
     },
     "execution_count": 51,
     "metadata": {},
     "output_type": "execute_result"
    }
   ],
   "source": [
    "results[jet]"
   ]
  },
  {
   "cell_type": "markdown",
   "metadata": {},
   "source": [
    "Now we loop over our worst jets, define these as having an abs err > 0.2mm and percentage error > 10%. We then look at the parameters of these bad jets, e.g. phi, theta, momentum, n of sec tracks, n of ter tracks, phis of the sec tracks (this last is moving towards the idea of examining the individual tracks in worst performing jets)"
   ]
  },
  {
   "cell_type": "code",
   "execution_count": 54,
   "metadata": {
    "scrolled": true
   },
   "outputs": [
    {
     "name": "stdout",
     "output_type": "stream",
     "text": [
      "we have 355 bad jets\n"
     ]
    }
   ],
   "source": [
    "indices=280000+np.where(np.logical_and(mae_per_jet > .2, mean_perc_err_per_jet> 10.))[0] # 0.2 is pretty arbitrary, 0.2 for a jet with 20mm sec vtx is actually good\n",
    "print(\"we have \"+str(len(indices))+\" bad jets\")\n",
    "bad_phis=[]\n",
    "bad_thetas=[]\n",
    "bad_1OverP=[]\n",
    "bad_sectrkphis=[]\n",
    "bad_nSecTrks=[]\n",
    "bad_nTerTrks=[]\n",
    "\n",
    "bad_sumSecTerTrks=[]\n",
    "\n",
    "for index in indices:\n",
    "    # extracts all the phi values of worst performing jets\n",
    "    bad_phis.append(abs(bjets_DF.iloc[index]['tracks'][0][2]))\n",
    "    bad_thetas.append(abs(bjets_DF.iloc[index]['tracks'][0][3]))\n",
    "    bad_1OverP.append(abs(bjets_DF.iloc[index]['tracks'][0][4]))\n",
    "    bad_sectrkphis.append(abs(bjets_DF.iloc[index]['tracks'][1][3]))\n",
    "    bad_nSecTrks.append(bjets_DF.iloc[index]['nSecTracks'])\n",
    "    bad_nTerTrks.append(bjets_DF.iloc[index]['nTerTracks'])\n",
    "\n",
    "    bad_sumSecTerTrks.append(bjets_DF.iloc[index]['nSecTracks'] + bjets_DF.iloc[index]['nTerTracks'])\n"
   ]
  },
  {
   "cell_type": "markdown",
   "metadata": {},
   "source": [
    "Below I plot the phis of sec tracks in badjets and the thetas of the the bad jets, the latter is just pi/4 as we fixed to this direction in simulation. I have suppressed the output here with %%capture as its is not instructive"
   ]
  },
  {
   "cell_type": "code",
   "execution_count": 55,
   "metadata": {
    "scrolled": true
   },
   "outputs": [],
   "source": [
    "%%capture\n",
    "plt.hist(bad_sectrkphis,bins=np.linspace(0.,3.2,65))\n",
    "plt.axvline(x=np.pi/2, color='r', linestyle='dashed', linewidth=2)\n",
    "plt.show()\n",
    "\n",
    "plt.hist(bad_thetas,bins=np.linspace(0.,3.2,65))\n",
    "plt.axvline(x=np.pi/2, color='r', linestyle='dashed', linewidth=2)\n"
   ]
  },
  {
   "cell_type": "markdown",
   "metadata": {},
   "source": [
    "More plots, first let us plot the momentum distribution of the bad jets. Higher momentum jets have more displaced vertices and thus higher absolute errors. Lower momentum jets conversely have higher percentage errors due to resolution limits."
   ]
  },
  {
   "cell_type": "code",
   "execution_count": 57,
   "metadata": {},
   "outputs": [
    {
     "data": {
      "text/plain": [
       "(array([57., 32., 50., 37., 44., 65., 70.]),\n",
       " array([ 6219.03472386, 16965.84988968, 27712.66505549, 38459.48022131,\n",
       "        49206.29538713, 59953.11055294, 70699.92571876, 81446.74088458]),\n",
       " <a list of 7 Patch objects>)"
      ]
     },
     "execution_count": 57,
     "metadata": {},
     "output_type": "execute_result"
    },
    {
     "data": {
      "image/png": "[encoded data removed]",
      "text/plain": [
       "<Figure size 432x288 with 1 Axes>"
      ]
     },
     "metadata": {
      "needs_background": "light"
     },
     "output_type": "display_data"
    }
   ],
   "source": [
    "#plt.hist(bad_1OverP,bins=np.linspace(0.,3.2,65))\n",
    "bad_ps=np.reciprocal(bad_1OverP)\n",
    "plt.hist(bad_ps,bins='scott')\n"
   ]
  },
  {
   "cell_type": "markdown",
   "metadata": {},
   "source": [
    "Next look at the (true) number of secondary and tertiary tracks in the bad jets"
   ]
  },
  {
   "cell_type": "code",
   "execution_count": 58,
   "metadata": {},
   "outputs": [
    {
     "data": {
      "text/plain": [
       "(array([121., 111., 123.]), array([1, 2, 3, 4]), <a list of 3 Patch objects>)"
      ]
     },
     "execution_count": 58,
     "metadata": {},
     "output_type": "execute_result"
    },
    {
     "data": {
      "image/png": "[encoded data removed]",
      "text/plain": [
       "<Figure size 432x288 with 1 Axes>"
      ]
     },
     "metadata": {
      "needs_background": "light"
     },
     "output_type": "display_data"
    }
   ],
   "source": [
    "plt.hist(bad_nSecTrks, bins=[1,2,3,4])\n"
   ]
  },
  {
   "cell_type": "code",
   "execution_count": 59,
   "metadata": {
    "scrolled": true
   },
   "outputs": [
    {
     "data": {
      "image/png": "[encoded data removed]",
      "text/plain": [
       "<Figure size 432x288 with 1 Axes>"
      ]
     },
     "metadata": {
      "needs_background": "light"
     },
     "output_type": "display_data"
    }
   ],
   "source": [
    "plt.hist(bad_nTerTrks, bins=[2,3,4,5,])\n",
    "plt.show()\n",
    "#plt.hist(bjets_DF['nTerTracks'], bins=[2,3,4,5])"
   ]
  },
  {
   "cell_type": "markdown",
   "metadata": {},
   "source": [
    "The bad jets tend to have more tertiary tracks? Or is there not enough stats to say this."
   ]
  },
  {
   "cell_type": "code",
   "execution_count": null,
   "metadata": {},
   "outputs": [],
   "source": [
    "#plot the ntertracks in good jets now!!"
   ]
  },
  {
   "cell_type": "code",
   "execution_count": null,
   "metadata": {},
   "outputs": [],
   "source": []
  },
  {
   "cell_type": "markdown",
   "metadata": {},
   "source": [
    "# Jet Drawings"
   ]
  },
  {
   "cell_type": "markdown",
   "metadata": {},
   "source": [
    "Here we have the code to plot the images of jets. Useful for looking at particular bad jets."
   ]
  },
  {
   "cell_type": "code",
   "execution_count": 84,
   "metadata": {},
   "outputs": [],
   "source": [
    "def get_line_from_tp(track):\n",
    "    p1 = track[5:8]\n",
    "    print(p1)\n",
    "    phi = track[2]\n",
    "    theta = track[3]\n",
    "    t = np.linspace(-.005,.005,100)\n",
    "    \n",
    "    xs = p1[0] + t * np.sin(theta) * np.cos(phi)\n",
    "    ys = p1[1] + t * np.sin(theta) * np.sin(phi)\n",
    "    zs = p1[2] + t * np.cos(theta)\n",
    "    \n",
    "    return xs, ys, zs\n",
    "\n",
    "def get_line_using_IPs(track, zoom):\n",
    "    phi = track[2]\n",
    "    theta = track[3]\n",
    "    x0 = track[0]*np.cos(phi)\n",
    "    y0 = track[0]*np.sin(phi)\n",
    "    z0 = track[1]\n",
    "    p1 = np.array([x0,y0,z0])\n",
    "    #print(p1)\n",
    "\n",
    "    t = np.linspace(zoom[0],zoom[1],100)\n",
    "    \n",
    "    xs = p1[0] + t * np.sin(theta) * np.cos(phi)\n",
    "    ys = p1[1] + t * np.sin(theta) * np.sin(phi)\n",
    "    zs = p1[2] + t * np.cos(theta)\n",
    "    \n",
    "    return xs, ys, zs"
   ]
  },
  {
   "cell_type": "code",
   "execution_count": 85,
   "metadata": {},
   "outputs": [],
   "source": [
    "def from_index_extract_tracks_and_vertices(jet_index,split,trks,bjets_DF,results):\n",
    "    \n",
    "    full_df_index = split+jet_index\n",
    "    jet_tracks = trks[full_df_index]\n",
    "    prim_vertex = np.array([0,0,0])\n",
    "    sec_vertex = bjets_DF[['secVtx_x','secVtx_y','secVtx_z']].iloc[full_df_index].values\n",
    "    ter_vertex = bjets_DF[['terVtx_x','terVtx_y','terVtx_z']].iloc[full_df_index].values\n",
    "    true_vertices =np.array([prim_vertex,sec_vertex,ter_vertex])\n",
    "    rec_vertices = results[jet_index].reshape(2,3)/1000\n",
    "    \n",
    "    return jet_tracks, true_vertices, rec_vertices"
   ]
  },
  {
   "cell_type": "code",
   "execution_count": 86,
   "metadata": {},
   "outputs": [],
   "source": [
    "def plot_jet(jet_tracks, true_vertices, rec_vertices, zoom=[-0.005,.01]):\n",
    "    \n",
    "    fig = plt.figure(figsize=(10,10))\n",
    "    ax = fig.gca(projection='3d')\n",
    "    \n",
    "    #plot the tracks\n",
    "    for i,track in enumerate(jet_tracks):\n",
    "        if i == 0: #jet direction\n",
    "            xs, ys, zs = get_line_using_IPs(track, zoom)\n",
    "            xs,ys,zs= 2*xs,2*ys,2*zs\n",
    "            ax.plot(xs,ys,zs,'--')\n",
    "        else:\n",
    "            if not np.isnan(track[0]):\n",
    "                xs, ys, zs = get_line_using_IPs(track, zoom)\n",
    "                ax.plot(xs,ys,zs)\n",
    "\n",
    "    #plot the true vertices\n",
    "    for x, y, z in true_vertices:\n",
    "        #print(x,y,z)\n",
    "        ax.scatter(x, y, z, color='black', marker='s')\n",
    "        \n",
    "    # plot the reconstructed vertices\n",
    "    for x, y, z in rec_vertices:\n",
    "        #print(x,y,z)\n",
    "        ax.scatter(x, y, z, color='red', marker='x')"
   ]
  },
  {
   "cell_type": "code",
   "execution_count": 134,
   "metadata": {},
   "outputs": [
    {
     "data": {
      "text/plain": [
       "(array([   91,   140,   180,   217,   365,   403,   437,   612,   894,\n",
       "          903,   935,  1068,  1095,  1204,  1214,  1252,  1329,  1398,\n",
       "         1415,  1445,  1577,  1608,  1658,  1667,  1694,  1815,  1876,\n",
       "         1889,  1910,  1971,  2017,  2031,  2038,  2075,  2140,  2179,\n",
       "         2306,  2371,  2484,  2504,  2538,  2539,  2556,  2595,  2634,\n",
       "         2643,  2657,  2697,  2760,  2841,  2875,  2905,  2952,  2980,\n",
       "         3059,  3070,  3088,  3092,  3123,  3177,  3217,  3328,  3334,\n",
       "         3373,  3399,  3485,  3521,  3525,  3563,  3630,  3642,  3678,\n",
       "         3733,  3754,  3927,  4026,  4032,  4061,  4131,  4132,  4151,\n",
       "         4172,  4185,  4391,  4680,  4690,  4759,  4760,  4835,  4885,\n",
       "         4940,  5015,  5104,  5237,  5296,  5331,  5383,  5389,  5452,\n",
       "         5506,  5507,  5598,  5671,  5711,  5723,  5727,  5731,  5757,\n",
       "         5776,  5809,  5831,  5881,  5892,  5920,  5922,  6028,  6068,\n",
       "         6132,  6146,  6173,  6198,  6228,  6266,  6309,  6413,  6432,\n",
       "         6589,  6591,  6674,  6721,  6763,  6890,  6999,  7023,  7032,\n",
       "         7140,  7247,  7279,  7302,  7444,  7538,  7571,  7572,  7592,\n",
       "         7674,  7681,  7685,  7726,  7753,  7776,  7783,  7820,  7862,\n",
       "         7877,  7911,  7987,  8063,  8090,  8186,  8187,  8233,  8245,\n",
       "         8368,  8469,  8491,  8538,  8582,  8611,  8695,  8718,  8729,\n",
       "         8733,  8814,  8845,  8906,  9019,  9046,  9060,  9105,  9110,\n",
       "         9121,  9131,  9200,  9221,  9254,  9297,  9300,  9324,  9340,\n",
       "         9413,  9442,  9443,  9452,  9471,  9484,  9487,  9542,  9595,\n",
       "         9634,  9657,  9677,  9704,  9749,  9851,  9856,  9917, 10080,\n",
       "        10094, 10166, 10214, 10250, 10310, 10473, 10547, 10615, 10690,\n",
       "        10695, 10733, 10761, 10777, 10828, 10840, 10872, 10891, 10994,\n",
       "        11037, 11054, 11074, 11176, 11186, 11307, 11324, 11325, 11335,\n",
       "        11382, 11410, 11440, 11450, 11472, 11598, 11680, 11681, 11764,\n",
       "        12048, 12065, 12211, 12212, 12237, 12318, 12386, 12393, 12474,\n",
       "        12490, 12553, 12600, 12639, 12708, 12713, 12749, 12798, 12857,\n",
       "        12861, 12879, 12930, 13011, 13041, 13110, 13175, 13325, 13330,\n",
       "        13549, 13582, 13604, 13641, 13658, 13684, 13691, 13727, 13736,\n",
       "        13781, 13796, 13834, 13868, 13903, 13908, 13999, 14014, 14079,\n",
       "        14118, 14139, 14140, 14242, 14377, 14394, 14436, 14449, 14562,\n",
       "        14687, 14731, 14786, 14826, 14832, 14951, 14988, 15006, 15068,\n",
       "        15176, 15294, 15345, 15393, 15398, 15482, 15525, 15558, 15572,\n",
       "        15578, 15683, 15709, 15746, 15772, 15775, 15807, 15811, 15858,\n",
       "        15873, 15932, 15979, 15985, 16011, 16023, 16131, 16137, 16180,\n",
       "        16201, 16329, 16360, 16400, 16494, 16503, 16513, 16553, 16706,\n",
       "        16806, 16823, 16855, 16883, 16898, 17058, 17085, 17179, 17206,\n",
       "        17272, 17294, 17303, 17316, 17349, 17359, 17372, 17399, 17402,\n",
       "        17463, 17467, 17481, 17638, 17734, 17813, 17854, 17876, 17918,\n",
       "        17929, 17933, 17981, 18014, 18019, 18139, 18181, 18205, 18237,\n",
       "        18251, 18262, 18297, 18316, 18329, 18381, 18396, 18401, 18403,\n",
       "        18441, 18463, 18507, 18559, 18592, 18602, 18653, 18686, 18693,\n",
       "        18711, 18713, 18756, 18937, 18965, 18976, 19030, 19065, 19089,\n",
       "        19122, 19151, 19156, 19162, 19184, 19270, 19359, 19367, 19369,\n",
       "        19380, 19406, 19528, 19571, 19580, 19584, 19672, 19699, 19726,\n",
       "        19732, 19741, 19786, 19788, 19801, 19920, 19938, 19951, 19975,\n",
       "        19981, 19992, 19996, 19998], dtype=int64),)"
      ]
     },
     "execution_count": 134,
     "metadata": {},
     "output_type": "execute_result"
    }
   ],
   "source": [
    "good_maes=np.where(mae_per_jet < .01)\n",
    "good_maes"
   ]
  },
  {
   "cell_type": "code",
   "execution_count": 112,
   "metadata": {},
   "outputs": [
    {
     "data": {
      "text/plain": [
       "(array([  139,   162,   755,   829,  4827,  5168,  5802,  8591,  9250,\n",
       "        11424, 11837, 12996, 13625, 14050, 14077, 14892, 15451, 16064,\n",
       "        16876, 17034, 17684, 17800, 18206, 18549], dtype=int64),)"
      ]
     },
     "execution_count": 112,
     "metadata": {},
     "output_type": "execute_result"
    }
   ],
   "source": [
    "bad_maes=np.where(mae_per_jet > 2.)\n",
    "bad_maes"
   ]
  },
  {
   "cell_type": "code",
   "execution_count": 255,
   "metadata": {},
   "outputs": [
    {
     "data": {
      "image/png": "[encoded data removed]",
      "text/plain": [
       "<Figure size 720x720 with 1 Axes>"
      ]
     },
     "metadata": {
      "needs_background": "light"
     },
     "output_type": "display_data"
    }
   ],
   "source": [
    "%matplotlib inline\n",
    "goodindex = 7247\n",
    "badindex = 4712\n",
    "\n",
    "zoom = [-0.001,0.004]\n",
    "#print(\"good\")\n",
    "jet_tracks, true_vertices, rec_vertices = from_index_extract_tracks_and_vertices(goodindex, split,trks,bjets_DF,results)\n",
    "plot_jet(jet_tracks, true_vertices, rec_vertices,[-0.0001,0.003])\n",
    "#print(\"bad\")\n"
   ]
  },
  {
   "cell_type": "code",
   "execution_count": 258,
   "metadata": {},
   "outputs": [
    {
     "data": {
      "image/png": "[encoded data removed]",
      "text/plain": [
       "<Figure size 720x720 with 1 Axes>"
      ]
     },
     "metadata": {
      "needs_background": "light"
     },
     "output_type": "display_data"
    }
   ],
   "source": [
    "%matplotlib inline\n",
    "\n",
    "jet_tracks, true_vertices, rec_vertices = from_index_extract_tracks_and_vertices(badindex, split,trks,bjets_DF,results)\n",
    "plot_jet(jet_tracks, true_vertices, rec_vertices,[-0.001,0.005])"
   ]
  },
  {
   "cell_type": "code",
   "execution_count": 257,
   "metadata": {},
   "outputs": [
    {
     "name": "stdout",
     "output_type": "stream",
     "text": [
      "jet_energy                                               51476.2\n",
      "jet_flavour                                                    5\n",
      "nSecTracks                                                     1\n",
      "nTerTracks                                                     2\n",
      "secVtx_x                                             0.000531498\n",
      "secVtx_y                                             0.000531498\n",
      "secVtx_z                                             0.000751652\n",
      "terVtx_x                                             0.000978392\n",
      "terVtx_y                                             0.000953937\n",
      "terVtx_z                                              0.00122943\n",
      "tracks         [[0.0, 0.0, 0.7854003036515271, 0.785399623354...\n",
      "Name: 287247, dtype: object\n",
      "\n",
      "and the bad\n",
      "\n",
      "jet_energy                                               65354.4\n",
      "jet_flavour                                                    5\n",
      "nSecTracks                                                     3\n",
      "nTerTracks                                                     4\n",
      "secVtx_x                                              0.00137254\n",
      "secVtx_y                                              0.00137254\n",
      "secVtx_z                                              0.00194106\n",
      "terVtx_x                                              0.00211332\n",
      "terVtx_y                                              0.00209623\n",
      "terVtx_z                                              0.00284788\n",
      "tracks         [[0.0, 0.0, 0.7853966944316729, 0.785393283586...\n",
      "Name: 284712, dtype: object\n"
     ]
    }
   ],
   "source": [
    "print(bjets_DF.iloc[goodindex+split])\n",
    "print(\"\\nand the bad\\n\")\n",
    "print(bjets_DF.iloc[badindex+split])\n"
   ]
  },
  {
   "cell_type": "code",
   "execution_count": 116,
   "metadata": {},
   "outputs": [
    {
     "data": {
      "text/plain": [
       "array([54.50753938,  8.71626963, 14.23357532,  9.0572393 , 12.17757914,\n",
       "       28.79841386, 13.89130788, 33.20086462, 22.78810536,  8.78969183,\n",
       "       11.9131622 , 14.10410563, 45.93297475,  8.82957475, 13.80848058,\n",
       "       10.80994759, 14.86256421, 15.43768539, 14.68760519, 15.45878964,\n",
       "       15.33526196, 14.82628395, 13.85409944, 29.69218895])"
      ]
     },
     "execution_count": 116,
     "metadata": {},
     "output_type": "execute_result"
    }
   ],
   "source": [
    "mean_err_per_jet[bad_maes]"
   ]
  },
  {
   "cell_type": "code",
   "execution_count": 115,
   "metadata": {},
   "outputs": [
    {
     "data": {
      "text/plain": [
       "(array([  139,   162,   755,   829,  4827,  5168,  5802,  8591,  9250,\n",
       "        11424, 11837, 12996, 13625, 14050, 14077, 14892, 15451, 16064,\n",
       "        16876, 17034, 17684, 17800, 18206, 18549], dtype=int64),)"
      ]
     },
     "execution_count": 115,
     "metadata": {},
     "output_type": "execute_result"
    }
   ],
   "source": [
    "bad_maes"
   ]
  },
  {
   "cell_type": "code",
   "execution_count": 143,
   "metadata": {},
   "outputs": [
    {
     "data": {
      "text/plain": [
       "(array([ 96, 268], dtype=int64),)"
      ]
     },
     "execution_count": 143,
     "metadata": {},
     "output_type": "execute_result"
    }
   ],
   "source": [
    "np.where(mean_err_per_jet[good_maes]>100.)\n"
   ]
  },
  {
   "cell_type": "code",
   "execution_count": 145,
   "metadata": {},
   "outputs": [
    {
     "data": {
      "text/plain": [
       "5383"
      ]
     },
     "execution_count": 145,
     "metadata": {},
     "output_type": "execute_result"
    }
   ],
   "source": [
    "good_maes[0][96]"
   ]
  },
  {
   "cell_type": "code",
   "execution_count": 125,
   "metadata": {},
   "outputs": [
    {
     "data": {
      "text/plain": [
       "2"
      ]
     },
     "execution_count": 125,
     "metadata": {},
     "output_type": "execute_result"
    }
   ],
   "source": []
  },
  {
   "cell_type": "code",
   "execution_count": 130,
   "metadata": {},
   "outputs": [
    {
     "data": {
      "text/plain": [
       "21.836243380864513"
      ]
     },
     "execution_count": 130,
     "metadata": {},
     "output_type": "execute_result"
    }
   ],
   "source": [
    "mean_err_per_jet[15683]"
   ]
  },
  {
   "cell_type": "code",
   "execution_count": 150,
   "metadata": {},
   "outputs": [],
   "source": [
    "def my_dummy_func(blabla):\n",
    "    blabla += 1\n",
    "    return sec_dummy_func(blabla)\n",
    "    \n",
    "def sec_dummy_func(blabla2):\n",
    "    if blabla2 == 1:\n",
    "        boolean = False\n",
    "        integer = 1\n",
    "        return boolean, integer\n",
    "    else:\n",
    "        boolean = True\n",
    "        integer = 2\n",
    "        return boolean"
   ]
  },
  {
   "cell_type": "code",
   "execution_count": 151,
   "metadata": {},
   "outputs": [
    {
     "data": {
      "text/plain": [
       "(False, 1)"
      ]
     },
     "execution_count": 151,
     "metadata": {},
     "output_type": "execute_result"
    }
   ],
   "source": [
    "my_dummy_func(0)"
   ]
  },
  {
   "cell_type": "code",
   "execution_count": 152,
   "metadata": {},
   "outputs": [
    {
     "data": {
      "text/plain": [
       "True"
      ]
     },
     "execution_count": 152,
     "metadata": {},
     "output_type": "execute_result"
    }
   ],
   "source": [
    "my_dummy_func(2)"
   ]
  },
  {
   "cell_type": "code",
   "execution_count": null,
   "metadata": {},
   "outputs": [],
   "source": []
  }
 ],
 "metadata": {
  "kernelspec": {
   "display_name": "Python 3",
   "language": "python",
   "name": "python3"
  },
  "language_info": {
   "codemirror_mode": {
    "name": "ipython",
    "version": 3
   },
   "file_extension": ".py",
   "mimetype": "text/x-python",
   "name": "python",
   "nbconvert_exporter": "python",
   "pygments_lexer": "ipython3",
   "version": "3.6.7"
  }
 },
 "nbformat": 4,
 "nbformat_minor": 2
}
