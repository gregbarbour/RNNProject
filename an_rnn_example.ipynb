{
 "cells": [
  {
   "cell_type": "code",
   "execution_count": 1,
   "metadata": {
    "scrolled": true
   },
   "outputs": [
    {
     "name": "stderr",
     "output_type": "stream",
     "text": [
      "C:\\Users\\Greg\\Anaconda3\\lib\\site-packages\\tensorboard\\compat\\tensorflow_stub\\dtypes.py:541: FutureWarning: Passing (type, 1) or '1type' as a synonym of type is deprecated; in a future version of numpy, it will be understood as (type, (1,)) / '(1,)type'.\n",
      "  _np_qint8 = np.dtype([(\"qint8\", np.int8, 1)])\n",
      "C:\\Users\\Greg\\Anaconda3\\lib\\site-packages\\tensorboard\\compat\\tensorflow_stub\\dtypes.py:542: FutureWarning: Passing (type, 1) or '1type' as a synonym of type is deprecated; in a future version of numpy, it will be understood as (type, (1,)) / '(1,)type'.\n",
      "  _np_quint8 = np.dtype([(\"quint8\", np.uint8, 1)])\n",
      "C:\\Users\\Greg\\Anaconda3\\lib\\site-packages\\tensorboard\\compat\\tensorflow_stub\\dtypes.py:543: FutureWarning: Passing (type, 1) or '1type' as a synonym of type is deprecated; in a future version of numpy, it will be understood as (type, (1,)) / '(1,)type'.\n",
      "  _np_qint16 = np.dtype([(\"qint16\", np.int16, 1)])\n",
      "C:\\Users\\Greg\\Anaconda3\\lib\\site-packages\\tensorboard\\compat\\tensorflow_stub\\dtypes.py:544: FutureWarning: Passing (type, 1) or '1type' as a synonym of type is deprecated; in a future version of numpy, it will be understood as (type, (1,)) / '(1,)type'.\n",
      "  _np_quint16 = np.dtype([(\"quint16\", np.uint16, 1)])\n",
      "C:\\Users\\Greg\\Anaconda3\\lib\\site-packages\\tensorboard\\compat\\tensorflow_stub\\dtypes.py:545: FutureWarning: Passing (type, 1) or '1type' as a synonym of type is deprecated; in a future version of numpy, it will be understood as (type, (1,)) / '(1,)type'.\n",
      "  _np_qint32 = np.dtype([(\"qint32\", np.int32, 1)])\n",
      "C:\\Users\\Greg\\Anaconda3\\lib\\site-packages\\tensorboard\\compat\\tensorflow_stub\\dtypes.py:550: FutureWarning: Passing (type, 1) or '1type' as a synonym of type is deprecated; in a future version of numpy, it will be understood as (type, (1,)) / '(1,)type'.\n",
      "  np_resource = np.dtype([(\"resource\", np.ubyte, 1)])\n",
      "Using TensorFlow backend.\n"
     ]
    }
   ],
   "source": [
    "import numpy as np\n",
    "import matplotlib.pyplot as plt\n",
    "import mpl_toolkits.mplot3d as plt3d\n",
    "\n",
    "import pandas as pd\n",
    "import math\n",
    "import copy\n",
    "import pickle\n",
    "from keras.models import Sequential, Model\n",
    "from tensorflow.keras.callbacks import EarlyStopping, ModelCheckpoint\n",
    "\n",
    "from keras.layers import BatchNormalization, Layer, TimeDistributed, Dropout\n",
    "from keras.layers import Dense, Input, Masking, LSTM\n",
    "from sklearn.preprocessing import MinMaxScaler, RobustScaler\n",
    "\n",
    "from sklearn.metrics import mean_squared_error"
   ]
  },
  {
   "cell_type": "code",
   "execution_count": 2,
   "metadata": {},
   "outputs": [],
   "source": [
    "import RNNJF"
   ]
  },
  {
   "cell_type": "markdown",
   "metadata": {},
   "source": [
    "## Data Loading and Pre-Processing"
   ]
  },
  {
   "cell_type": "markdown",
   "metadata": {},
   "source": [
    "Let's start by trying to load in our toy jets, and then separate into features (to train on) and labels (to predict).\n",
    "\n",
    "For features, first try d0, z0, phi, theta, qOverP, (refPx, refPy, refPz)?. Essentially the track parameters.\n",
    "\n",
    "For labels, Xs, Ys, Zs, Xt, Yt, Zt. That is the secondary and tertiary vertices. Omit the primary as this has been fixed to (0,0,0). This will require some smart selection for c and light jets, where not all vertices are present. If a vertex is not present, could try predicting (0,0,0) or (-1,-1,-1) or previous vertex (prim or sec)."
   ]
  },
  {
   "cell_type": "code",
   "execution_count": 3,
   "metadata": {},
   "outputs": [],
   "source": [
    "bjets_DF = pd.read_pickle(\"./bjets_newminerrs.pkl\")#./bjets_IPonly_abs_10um_errs.pkl\")\n",
    "#cjets_DF = pd.read_pickle(\"./cjets.pkl\")\n",
    "#ljets_DF = pd.read_pickle(\"./ljets.pkl\")"
   ]
  },
  {
   "cell_type": "code",
   "execution_count": 4,
   "metadata": {},
   "outputs": [],
   "source": [
    "def load_data(DF, remove_dirtrack, add_dirtrack, features=['d0', 'z0', 'phi', 'theta', 'q/p']):\n",
    "    order_by_feature = None\n",
    "    use_custom_order = 't1'\n",
    "    reverse=True\n",
    "    no_reorder=False\n",
    "    all_features = np.array(['d0', 'z0', 'phi', 'theta', 'q/p', 'x_o', 'y_o', 'z_o', 'x_p', 'y_p', 'z_p'])\n",
    "    print(\"reading the datafile\")\n",
    "    bjets_DF = pd.read_pickle(DF)  # \"./bjets_IPonly_abs_10um_errs.pkl\")\n",
    "    print(\"loading tracks\")\n",
    "    X = RNNJF.get_tracks(bjets_DF)\n",
    "    print(\"preprocessing the data\")\n",
    "    if remove_dirtrack: X = RNNJF.remove_direction_track(X, len(features))\n",
    "    nodirtrack = remove_dirtrack or not add_dirtrack\n",
    "    if order_by_feature is not None:\n",
    "        if reverse:\n",
    "            print(\"ordering by decreasing {}\".format(order_by_feature))\n",
    "        else:\n",
    "            print(\"ordering by increasing {}\".format(order_by_feature))\n",
    "        fidx = np.where(all_features == order_by_feature)[0][0]\n",
    "        X = RNNJF.order_by_feature(X, nodirtrack, reverse, feature=fidx)\n",
    "    elif use_custom_order is not None:\n",
    "        if use_custom_order == 'r0':\n",
    "            print(\"using custom ordering: by sqrt(d0^2 +z0^2)\")\n",
    "            X = RNNJF.order_by_r0(X, nodirtrack, reverse)\n",
    "        elif use_custom_order == 't1':\n",
    "            print(\"using custom ordering: by t1\")\n",
    "            X = RNNJF.order_by_t1(X, nodirtrack, reverse)\n",
    "        else:\n",
    "            raise NotImplemented(\"custom ordering with {} not implemented\".format(args.use_custom_order))\n",
    "    elif no_reorder:\n",
    "        print(\"No reorder performed\")\n",
    "    else:\n",
    "        print(\"using random order\")\n",
    "        X = RNNJF.order_random(X)\n",
    "    \n",
    "    X_allfeatures = copy.copy(X)\n",
    "    X = RNNJF.only_keep_features(X, features)\n",
    "    robust_features=['d0','z0','q/p','x_p','y_p']\n",
    "    X = RNNJF.scale_features(X, features, robust_features=robust_features)\n",
    "    X = np.nan_to_num(X)\n",
    "    y = bjets_DF[['secVtx_x', 'secVtx_y', 'secVtx_z', 'terVtx_x', 'terVtx_y', 'terVtx_z']].values\n",
    "    y = y * 1000  # change units of vertices from m to mm, keep vals close to unity\n",
    "    return X, y, X_allfeatures\n"
   ]
  },
  {
   "cell_type": "code",
   "execution_count": 5,
   "metadata": {},
   "outputs": [
    {
     "name": "stdout",
     "output_type": "stream",
     "text": [
      "reading the datafile\n",
      "loading tracks\n",
      "preprocessing the data\n",
      "using custom ordering: by t1\n",
      "no direction track, ordering by closest distance along jet axis\n",
      "Robust Scaling: d0\n",
      "Robust Scaling: z0\n",
      "MinMax Scaling: phi\n",
      "MinMax Scaling: theta\n",
      "Robust Scaling: q/p\n",
      "Robust Scaling: x_p\n",
      "Robust Scaling: y_p\n",
      "train/test split with seed 4\n",
      "(280000, 30, 7)\n"
     ]
    }
   ],
   "source": [
    "datafile = \"./bjets_newminerrs.pkl\"\n",
    "if \"new\" in datafile:\n",
    "    remove_dirtrack = False\n",
    "    # option to add dirtrack using jet information\n",
    "    add_dirtrack = False\n",
    "else:\n",
    "    remove_dirtrack = True\n",
    "    # add_dirtrack = False\n",
    "\n",
    "features = ['d0', 'z0', 'phi', 'theta', 'q/p','x_p','y_p']\n",
    "X, y, X_allfeatures = load_data(datafile,remove_dirtrack,add_dirtrack,features=features)\n",
    "X_train, X_test, y_train, y_test = RNNJF.split_train_test(X, y,split=280000, seed=4)"
   ]
  },
  {
   "cell_type": "code",
   "execution_count": null,
   "metadata": {},
   "outputs": [],
   "source": []
  },
  {
   "cell_type": "code",
   "execution_count": 6,
   "metadata": {},
   "outputs": [],
   "source": [
    "X = RNNJF.get_tracks(bjets_DF)\n"
   ]
  },
  {
   "cell_type": "markdown",
   "metadata": {},
   "source": [
    "Extract the track parameters as our features"
   ]
  },
  {
   "cell_type": "code",
   "execution_count": 7,
   "metadata": {},
   "outputs": [
    {
     "ename": "TypeError",
     "evalue": "get_tracks() takes 1 positional argument but 2 were given",
     "output_type": "error",
     "traceback": [
      "\u001b[1;31m---------------------------------------------------------------------------\u001b[0m",
      "\u001b[1;31mTypeError\u001b[0m                                 Traceback (most recent call last)",
      "\u001b[1;32m<ipython-input-7-234da1658536>\u001b[0m in \u001b[0;36m<module>\u001b[1;34m\u001b[0m\n\u001b[0;32m      1\u001b[0m \u001b[0mfeatures\u001b[0m \u001b[1;33m=\u001b[0m \u001b[1;33m[\u001b[0m\u001b[1;34m'd0'\u001b[0m\u001b[1;33m,\u001b[0m\u001b[1;34m'z0'\u001b[0m\u001b[1;33m,\u001b[0m\u001b[1;34m'phi'\u001b[0m\u001b[1;33m,\u001b[0m\u001b[1;34m'theta'\u001b[0m\u001b[1;33m,\u001b[0m\u001b[1;34m'q/p'\u001b[0m\u001b[1;33m,\u001b[0m\u001b[1;34m'x_p'\u001b[0m\u001b[1;33m,\u001b[0m\u001b[1;34m'y_p'\u001b[0m\u001b[1;33m]\u001b[0m\u001b[1;33m\u001b[0m\u001b[1;33m\u001b[0m\u001b[0m\n\u001b[1;32m----> 2\u001b[1;33m \u001b[0mtrks\u001b[0m \u001b[1;33m=\u001b[0m \u001b[0mRNNJF\u001b[0m\u001b[1;33m.\u001b[0m\u001b[0mget_tracks\u001b[0m\u001b[1;33m(\u001b[0m\u001b[0mbjets_DF\u001b[0m\u001b[1;33m,\u001b[0m\u001b[0mfeatures\u001b[0m\u001b[1;33m)\u001b[0m\u001b[1;33m\u001b[0m\u001b[1;33m\u001b[0m\u001b[0m\n\u001b[0m",
      "\u001b[1;31mTypeError\u001b[0m: get_tracks() takes 1 positional argument but 2 were given"
     ]
    }
   ],
   "source": [
    "features = ['d0','z0','phi','theta','q/p','x_p','y_p']\n",
    "trks = RNNJF.get_tracks(bjets_DF,features)"
   ]
  },
  {
   "cell_type": "code",
   "execution_count": 8,
   "metadata": {},
   "outputs": [
    {
     "ename": "NameError",
     "evalue": "name 'trks' is not defined",
     "output_type": "error",
     "traceback": [
      "\u001b[1;31m---------------------------------------------------------------------------\u001b[0m",
      "\u001b[1;31mNameError\u001b[0m                                 Traceback (most recent call last)",
      "\u001b[1;32m<ipython-input-8-ed9028b7cc28>\u001b[0m in \u001b[0;36m<module>\u001b[1;34m\u001b[0m\n\u001b[1;32m----> 1\u001b[1;33m \u001b[0mX\u001b[0m \u001b[1;33m=\u001b[0m \u001b[0mtrks\u001b[0m \u001b[1;31m# following convention name the features as the vector 'X'\u001b[0m\u001b[1;33m\u001b[0m\u001b[1;33m\u001b[0m\u001b[0m\n\u001b[0m",
      "\u001b[1;31mNameError\u001b[0m: name 'trks' is not defined"
     ]
    }
   ],
   "source": [
    "X = trks # following convention name the features as the vector 'X'"
   ]
  },
  {
   "cell_type": "code",
   "execution_count": 10,
   "metadata": {
    "scrolled": true
   },
   "outputs": [
    {
     "name": "stdout",
     "output_type": "stream",
     "text": [
      "d0\n",
      "median is  0.0003185399934682131\n"
     ]
    },
    {
     "data": {
      "image/png": "[encoded data removed]",
      "text/plain": [
       "<Figure size 432x288 with 1 Axes>"
      ]
     },
     "metadata": {
      "needs_background": "light"
     },
     "output_type": "display_data"
    },
    {
     "name": "stdout",
     "output_type": "stream",
     "text": [
      "z0\n",
      "median is  0.0002344404838608026\n"
     ]
    },
    {
     "data": {
      "image/png": "[encoded data removed]",
      "text/plain": [
       "<Figure size 432x288 with 1 Axes>"
      ]
     },
     "metadata": {
      "needs_background": "light"
     },
     "output_type": "display_data"
    },
    {
     "name": "stdout",
     "output_type": "stream",
     "text": [
      "phi\n",
      "median is  0.7992352908351905\n"
     ]
    },
    {
     "data": {
      "image/png": "[encoded data removed]",
      "text/plain": [
       "<Figure size 432x288 with 1 Axes>"
      ]
     },
     "metadata": {
      "needs_background": "light"
     },
     "output_type": "display_data"
    },
    {
     "name": "stdout",
     "output_type": "stream",
     "text": [
      "theta\n",
      "median is  0.8393435372325055\n"
     ]
    },
    {
     "data": {
      "image/png": "[encoded data removed]",
      "text/plain": [
       "<Figure size 432x288 with 1 Axes>"
      ]
     },
     "metadata": {
      "needs_background": "light"
     },
     "output_type": "display_data"
    },
    {
     "name": "stdout",
     "output_type": "stream",
     "text": [
      "q/p\n",
      "median is  0.0006373915852437133\n"
     ]
    },
    {
     "data": {
      "image/png": "[encoded data removed]",
      "text/plain": [
       "<Figure size 432x288 with 1 Axes>"
      ]
     },
     "metadata": {
      "needs_background": "light"
     },
     "output_type": "display_data"
    }
   ],
   "source": [
    "for var in range(5):\n",
    "    print(features[var])\n",
    "    trackvar = copy.copy(X[:,:,var])\n",
    "    trackvar = trackvar[~np.isnan(trackvar)]\n",
    "    print(\"median is \",np.mean(abs(trackvar)))\n",
    "    binss=np.linspace(np.min(trackvar),np.max(trackvar),1000)\n",
    "#     if features[var] == 'z0': \n",
    "    binss = np.array([0,0.0000001,0.000001,0.00001,0.0001,0.001,0.01,0.1,1])\n",
    "    plt.hist(abs(trackvar),bins=binss,log=True)\n",
    "    plt.xscale('log')\n",
    "    plt.ylabel(\"N\")\n",
    "    plt.xlabel(\"|{}| (m)\".format(features[var]))\n",
    "    plt.savefig(\"toyjets_logscale_{}_distribitons.png\".format(features[var])) if features[var] != \"q/p\" else plt.savefig(\"toyjets_logscale_{}_distribitons.png\".format(\"qp\"))\n",
    "    plt.show()"
   ]
  },
  {
   "cell_type": "code",
   "execution_count": 15,
   "metadata": {},
   "outputs": [
    {
     "name": "stdout",
     "output_type": "stream",
     "text": [
      "z0\n",
      "median is  0.0002344404838608026\n"
     ]
    },
    {
     "data": {
      "image/png": "[encoded data removed]",
      "text/plain": [
       "<Figure size 432x288 with 1 Axes>"
      ]
     },
     "metadata": {
      "needs_background": "light"
     },
     "output_type": "display_data"
    }
   ],
   "source": [
    "for var in [1]:\n",
    "    print(features[var])\n",
    "    trackvar = copy.copy(X[:,:,var])\n",
    "    trackvar = trackvar[~np.isnan(trackvar)]\n",
    "    print(\"median is \",np.mean(abs(trackvar)))\n",
    "    binss=np.linspace(np.min(trackvar),np.max(trackvar),1000)\n",
    "#     if features[var] == 'z0': \n",
    "    binss = 'scott'\n",
    "    plt.hist(trackvar,bins=binss,log=True)\n",
    "#     plt.xscale('log')\n",
    "    plt.ylabel(\"N\")\n",
    "    plt.xlabel(\"|{}| (m)\".format(features[var]))\n",
    "    plt.savefig(\"toyjets_{}_distribitons.png\".format(features[var])) if features[var] != \"q/p\" else plt.savefig(\"toyjets_logscale_{}_distribitons.png\".format(\"qp\"))\n",
    "    plt.show()"
   ]
  },
  {
   "cell_type": "code",
   "execution_count": 17,
   "metadata": {},
   "outputs": [
    {
     "data": {
      "text/plain": [
       "array([False, False, False, ...,  True,  True,  True])"
      ]
     },
     "execution_count": 17,
     "metadata": {},
     "output_type": "execute_result"
    }
   ],
   "source": [
    "np.isnan(trackvar)"
   ]
  },
  {
   "cell_type": "markdown",
   "metadata": {},
   "source": [
    "### Track Ordering"
   ]
  },
  {
   "cell_type": "markdown",
   "metadata": {},
   "source": [
    "Use numpy sort function should work, order in descending value say of impact parameter or something (shouldnt be any negatives)"
   ]
  },
  {
   "cell_type": "markdown",
   "metadata": {},
   "source": [
    "Maybe want to move this section and order later, after normalization"
   ]
  },
  {
   "cell_type": "code",
   "execution_count": null,
   "metadata": {},
   "outputs": [],
   "source": [
    "def t1(rp,d2):\n",
    "    d1 = 0.5*np.array([1,1,np.sqrt(2)])\n",
    "    if np.all(d1 == d2):\n",
    "        print(\"parallel lines!\")\n",
    "        return 0\n",
    "    numerator=np.multiply(rp,d1-(np.dot(d2,d1).reshape(-1,1)*d2)).sum(1).reshape(-1,1)\n",
    "    denominator=(1- np.dot(d2,d1).reshape(-1,1)**2)\n",
    "    t1 = numerator/denominator\n",
    "    return t1.reshape(-1)\n",
    "    "
   ]
  },
  {
   "cell_type": "code",
   "execution_count": null,
   "metadata": {
    "scrolled": false
   },
   "outputs": [],
   "source": [
    "%%time\n",
    "Xordered = copy.copy(X)#\n",
    "\n",
    "for i,jet in enumerate(Xordered[:,0:]):\n",
    "    nan_ind=np.where(np.isnan(Xordered[i]))[0][0]\n",
    "#     Xordered[i,0:nan_ind] = jet[np.linalg.norm(jet[:nan_ind,:2],axis=1).argsort()[::-1]]\n",
    "    rps=np.roll(jet[:nan_ind,[1,5,6]],-1,axis=1)\n",
    "    phis=jet[:nan_ind,2]\n",
    "    thetas=jet[:nan_ind,3]\n",
    "    dvecs=np.array([np.cos(phis)*np.sin(thetas),np.sin(phis)*np.sin(thetas),np.cos(thetas)]).transpose()\n",
    "#     print(np.linalg.norm(jet[:nan_ind,:2],axis=1))\n",
    "#     print(t1(rps,dvecs))\n",
    "    Xordered[i,0:nan_ind] = jet[t1(rps,dvecs).argsort()[::-1]]\n"
   ]
  },
  {
   "cell_type": "code",
   "execution_count": null,
   "metadata": {},
   "outputs": [],
   "source": [
    "%%time\n",
    "Xordered2 = copy.copy(X)#\n",
    "\n",
    "for i,jet in enumerate(Xordered2[:,0:]):\n",
    "    nan_ind=np.where(np.isnan(Xordered2[i]))[0][0]\n",
    "    Xordered2[i,0:] = jet[np.abs(jet[:,0]).argsort()[::-1]]\n"
   ]
  },
  {
   "cell_type": "code",
   "execution_count": null,
   "metadata": {},
   "outputs": [],
   "source": [
    "X[0][:np.where(np.isnan(X[0]))[0][0]]"
   ]
  },
  {
   "cell_type": "code",
   "execution_count": null,
   "metadata": {
    "scrolled": true
   },
   "outputs": [],
   "source": [
    "X[:,:,:5]"
   ]
  },
  {
   "cell_type": "code",
   "execution_count": null,
   "metadata": {},
   "outputs": [],
   "source": []
  },
  {
   "cell_type": "code",
   "execution_count": null,
   "metadata": {},
   "outputs": [],
   "source": [
    "Xordered2[0][19:]"
   ]
  },
  {
   "cell_type": "code",
   "execution_count": null,
   "metadata": {},
   "outputs": [],
   "source": []
  },
  {
   "cell_type": "code",
   "execution_count": null,
   "metadata": {
    "scrolled": true
   },
   "outputs": [],
   "source": [
    "t1(rps,dvecs)"
   ]
  },
  {
   "cell_type": "code",
   "execution_count": null,
   "metadata": {},
   "outputs": [],
   "source": [
    "t1(np.array([ 1.19483459e-04,  2.81524145e-04, -1.45472865e-04]),np.array([0.40522505, 0.23774613, 0.88276239]))"
   ]
  },
  {
   "cell_type": "code",
   "execution_count": null,
   "metadata": {},
   "outputs": [],
   "source": [
    "np.sqrt(10)"
   ]
  },
  {
   "cell_type": "code",
   "execution_count": null,
   "metadata": {},
   "outputs": [],
   "source": [
    "X[:,:][:100].shape"
   ]
  },
  {
   "cell_type": "code",
   "execution_count": null,
   "metadata": {},
   "outputs": [],
   "source": [
    "%%time\n",
    "Xordered2 = copy.copy(X)#\n",
    "Xordered2 = np.nan_to_num(Xordered2)\n",
    "\n",
    "for i,jet in enumerate(Xordered2[:,0:]):\n",
    "    #nan_ind=np.where(np.isnan(Xordered[i]))[0][0]\n",
    "    Xordered2[i,0:] = jet[np.abs(jet[:,0]).argsort()[::-1]]\n",
    "\n"
   ]
  },
  {
   "cell_type": "code",
   "execution_count": null,
   "metadata": {
    "scrolled": true
   },
   "outputs": [],
   "source": [
    "Xordered[0]"
   ]
  },
  {
   "cell_type": "code",
   "execution_count": null,
   "metadata": {},
   "outputs": [],
   "source": [
    "Xordered2 == np.nan_to_num(Xordered)"
   ]
  },
  {
   "cell_type": "code",
   "execution_count": null,
   "metadata": {
    "scrolled": true
   },
   "outputs": [],
   "source": [
    "X.shape\n",
    "tes=np.arange(30*5*5).reshape(30,5,5)\n",
    "#tes\n"
   ]
  },
  {
   "cell_type": "code",
   "execution_count": null,
   "metadata": {},
   "outputs": [],
   "source": []
  },
  {
   "cell_type": "code",
   "execution_count": null,
   "metadata": {},
   "outputs": [],
   "source": [
    "%%time\n",
    "\n",
    "X_random_order = copy.copy(X)\n",
    "for i in range(len(X_random_order)):\n",
    "    nan_ind=np.where(np.isnan(X_random_order[i]))[0][0]\n",
    "    np.random.shuffle(X_random_order[i][0:nan_ind])"
   ]
  },
  {
   "cell_type": "code",
   "execution_count": null,
   "metadata": {},
   "outputs": [],
   "source": []
  },
  {
   "cell_type": "code",
   "execution_count": null,
   "metadata": {},
   "outputs": [],
   "source": []
  },
  {
   "cell_type": "markdown",
   "metadata": {},
   "source": [
    "### Remove Direction Track"
   ]
  },
  {
   "cell_type": "code",
   "execution_count": null,
   "metadata": {},
   "outputs": [],
   "source": [
    "X_removed_dirtrk = copy.copy(X)\n",
    "X_removed_dirtrk[:,0] = np.full((300000,5),np.nan)\n",
    "X_removed_dirtrk2 = np.roll(X_removed_dirtrk[:],-1,axis=1)\n",
    "X_random_order = copy.copy(X_removed_dirtrk2)\n",
    "%%time\n",
    "for i in range(len(X_random_order)):\n",
    "    nan_ind=np.where(np.isnan(X_random_order[i]))[0][0]\n",
    "    np.random.shuffle(X_random_order[i][0:nan_ind-1])"
   ]
  },
  {
   "cell_type": "markdown",
   "metadata": {},
   "source": [
    "## Data Normalization"
   ]
  },
  {
   "cell_type": "markdown",
   "metadata": {},
   "source": [
    "I think we want to ensure all paramters are approx unity in order not to bias the RNN towards a particular feature. phi and theta are already approx unity (order pi), but qOverP is very small order 1e-4 and IP are also small (but scale multiple orders of magnitude) 1e-6 to 1e-2 (unfortunately)\n",
    "\n",
    "So want to use a min max scaler or RobustScaler (so we don't bias to outliers)."
   ]
  },
  {
   "cell_type": "markdown",
   "metadata": {},
   "source": [
    "Here we scale all the features to bring them to average unity, this is very simplistic so we need a better way in future\n",
    "\n",
    "It means it works faster."
   ]
  },
  {
   "cell_type": "markdown",
   "metadata": {},
   "source": [
    "Here we instead use a min-max scaler to try and solve the problem of scale i.e. certain IPs are 10^4 times larger than others. The min-max scaler means all features will be scaled equivalently."
   ]
  },
  {
   "cell_type": "markdown",
   "metadata": {},
   "source": [
    "Here we go, minmax scaling"
   ]
  },
  {
   "cell_type": "markdown",
   "metadata": {},
   "source": [
    "## New scaling"
   ]
  },
  {
   "cell_type": "code",
   "execution_count": null,
   "metadata": {},
   "outputs": [],
   "source": [
    "Xscaled = copy.copy(X)  #X)"
   ]
  },
  {
   "cell_type": "code",
   "execution_count": null,
   "metadata": {
    "scrolled": true
   },
   "outputs": [],
   "source": [
    "%%time\n",
    "print(features)\n",
    "Xscaled = RNNJF.scale_features(Xscaled,features)"
   ]
  },
  {
   "cell_type": "code",
   "execution_count": null,
   "metadata": {},
   "outputs": [],
   "source": []
  },
  {
   "cell_type": "code",
   "execution_count": null,
   "metadata": {
    "scrolled": true
   },
   "outputs": [],
   "source": [
    "var=5\n",
    "trackvar = X[:,:,var]\n",
    "trackvar = trackvar[~(trackvar == np.NaN)]\n",
    "print(len(trackvar))\n",
    "\n",
    "plt.hist(trackvar,bins='scott',log=True)\n",
    "plt.show()\n",
    "\n",
    "trackvar2 = Xscaled[:,:,var]\n",
    "trackvar2 = trackvar2[~(trackvar2 == np.NaN)]\n",
    "print(len(trackvar2))\n",
    "\n",
    "\n",
    "plt.hist(trackvar2,bins='scott',log=True)\n",
    "plt.show()"
   ]
  },
  {
   "cell_type": "markdown",
   "metadata": {},
   "source": [
    "Now do track ordering"
   ]
  },
  {
   "cell_type": "code",
   "execution_count": null,
   "metadata": {},
   "outputs": [],
   "source": [
    "%%time\n",
    "\n",
    "X_random_order = copy.copy(Xscaled)\n",
    "for i in range(len(X_random_order)):\n",
    "    nan_ind=np.where(np.isnan(X_random_order[i]))[0][0]\n",
    "    np.random.shuffle(X_random_order[i][0:nan_ind])"
   ]
  },
  {
   "cell_type": "code",
   "execution_count": null,
   "metadata": {},
   "outputs": [],
   "source": [
    "Xscaled2 = np.nan_to_num(X_random_order)"
   ]
  },
  {
   "cell_type": "code",
   "execution_count": null,
   "metadata": {},
   "outputs": [],
   "source": [
    "Xscaled = np.nan_to_num(Xscaled)"
   ]
  },
  {
   "cell_type": "markdown",
   "metadata": {},
   "source": [
    "Now we scale the outputs, actually more simple, we change units from metres to millimetres"
   ]
  },
  {
   "cell_type": "markdown",
   "metadata": {},
   "source": [
    "And the secondary and tertiary vertices as our labels"
   ]
  },
  {
   "cell_type": "code",
   "execution_count": null,
   "metadata": {},
   "outputs": [],
   "source": [
    "y = bjets_DF[['secVtx_x','secVtx_y','secVtx_z','terVtx_x','terVtx_y','terVtx_z']].values \n",
    "y = y*1000 # change units of vertices from m to mm, keep vals close to unity \n",
    "# again convention call labels 'y'"
   ]
  },
  {
   "cell_type": "markdown",
   "metadata": {},
   "source": [
    "Split first 80000 jets as train and next 20000 as test. Below some plots to show these jets are equivalently distributed"
   ]
  },
  {
   "cell_type": "code",
   "execution_count": null,
   "metadata": {},
   "outputs": [],
   "source": [
    "#X=np.nan_to_num(X)"
   ]
  },
  {
   "cell_type": "code",
   "execution_count": null,
   "metadata": {},
   "outputs": [],
   "source": [
    "split= 2000 #int(0.9*len(bjets_DF))\n",
    "X_train=Xscaled[:split]\n",
    "X_test=Xscaled[split:]\n",
    "y_train=y[:split]\n",
    "y_test=y[split:]\n",
    "print(split)"
   ]
  },
  {
   "cell_type": "code",
   "execution_count": null,
   "metadata": {},
   "outputs": [],
   "source": [
    "X_train.shape"
   ]
  },
  {
   "cell_type": "code",
   "execution_count": null,
   "metadata": {},
   "outputs": [],
   "source": [
    "y_train.shape"
   ]
  },
  {
   "cell_type": "code",
   "execution_count": null,
   "metadata": {},
   "outputs": [],
   "source": [
    "from sklearn.model_selection import train_test_split"
   ]
  },
  {
   "cell_type": "code",
   "execution_count": null,
   "metadata": {},
   "outputs": [],
   "source": [
    "xtrain, xtest, ytrain, ytest = train_test_split(X, y, test_size=290000))"
   ]
  },
  {
   "cell_type": "code",
   "execution_count": null,
   "metadata": {},
   "outputs": [],
   "source": [
    "xtrain.shape"
   ]
  },
  {
   "cell_type": "code",
   "execution_count": null,
   "metadata": {},
   "outputs": [],
   "source": [
    "X_train"
   ]
  },
  {
   "cell_type": "code",
   "execution_count": null,
   "metadata": {},
   "outputs": [],
   "source": [
    "b_s1=np.linalg.norm(bjets_DF[['secVtx_x','secVtx_y','secVtx_z']],axis=1)[:split]\n",
    "b_s2=np.linalg.norm(bjets_DF[['secVtx_x','secVtx_y','secVtx_z']],axis=1)[split:]\n",
    "b_t1=np.linalg.norm(bjets_DF[['terVtx_x','terVtx_y','terVtx_z']],axis=1)[:split]\n",
    "b_t2=np.linalg.norm(bjets_DF[['terVtx_x','terVtx_y','terVtx_z']],axis=1)[split:]\n",
    "plt.show()"
   ]
  },
  {
   "cell_type": "code",
   "execution_count": null,
   "metadata": {},
   "outputs": [],
   "source": [
    "plt.hist(b_s1,bins='scott',range=[0,0.01])\n",
    "#plt.hist(c_SecVtx,bins='scott',range=[0,0.01])\n",
    "plt.hist(b_t1,bins='scott',range=[0,0.01])\n",
    "\n",
    "print(np.mean(b_s1))\n",
    "print(np.mean(b_t1))\n"
   ]
  },
  {
   "cell_type": "code",
   "execution_count": null,
   "metadata": {},
   "outputs": [],
   "source": [
    "plt.hist(b_s2,bins='scott',range=[0,0.01])\n",
    "#plt.hist(c_SecVtx,bins='scott',range=[0,0.01])\n",
    "plt.hist(b_t2,bins='scott',range=[0,0.01])\n",
    "\n",
    "print(np.mean(b_s2))\n",
    "print(np.mean(b_t2))\n"
   ]
  },
  {
   "cell_type": "markdown",
   "metadata": {},
   "source": [
    "So finally we have our features, X, and labels, y. Split into training and testing samples."
   ]
  },
  {
   "cell_type": "code",
   "execution_count": null,
   "metadata": {},
   "outputs": [],
   "source": []
  },
  {
   "cell_type": "markdown",
   "metadata": {},
   "source": [
    "## Data Plots and Sanity Checks"
   ]
  },
  {
   "cell_type": "markdown",
   "metadata": {},
   "source": [
    "Here I should have some plots on the track variables to ensure everything is logical and working fine, especially when I make changes to the data. Can potentially use seaborn..."
   ]
  },
  {
   "cell_type": "code",
   "execution_count": null,
   "metadata": {},
   "outputs": [],
   "source": []
  },
  {
   "cell_type": "code",
   "execution_count": null,
   "metadata": {},
   "outputs": [],
   "source": []
  },
  {
   "cell_type": "code",
   "execution_count": null,
   "metadata": {},
   "outputs": [],
   "source": []
  },
  {
   "cell_type": "markdown",
   "metadata": {},
   "source": [
    "## Constructing and Training an RNN"
   ]
  },
  {
   "cell_type": "markdown",
   "metadata": {},
   "source": [
    "Here we create an RNN based on LSTM cells using keras and tensorflow. The RNN will for each jet candidate take the tracks as inputs and attempt to predict the secondary and tertiary vertex positions. Let's see how well it does.\n",
    "\n",
    "I anticipate having to set a tolerance on the predicted values, it will never get them perfectly but we need to tell it how close it has to get for it to be considered successful."
   ]
  },
  {
   "cell_type": "markdown",
   "metadata": {},
   "source": [
    "Let's begin by creating the RNN architecture"
   ]
  },
  {
   "cell_type": "code",
   "execution_count": 6,
   "metadata": {},
   "outputs": [],
   "source": [
    "# Select number of hidden and dense layers. Initially use same as RNNIP but these can be tuned going forward.\n",
    "\n",
    "nHidden = 300\n",
    "nDense = 40"
   ]
  },
  {
   "cell_type": "code",
   "execution_count": 7,
   "metadata": {},
   "outputs": [],
   "source": [
    "nJets, nTrks, nFeatures = X_train.shape\n",
    "nOutputs = y.shape[1] # ie sec and ter vtx xyz, so 6"
   ]
  },
  {
   "cell_type": "code",
   "execution_count": 8,
   "metadata": {},
   "outputs": [],
   "source": [
    "trk_inputs = Input(shape=(nTrks,nFeatures),name=\"Trk_inputs\")\n",
    "masked_input = Masking()(trk_inputs)\n",
    "\n",
    "# Feed this merged layer to an RNN\n",
    "lstm = LSTM(nHidden, return_sequences=False, name='LSTM')(masked_input)\n",
    "dpt = Dropout(rate=0.2)(lstm) # this is a very high dropout rate, reduce it\n",
    "\n",
    "my_inputs = trk_inputs\n",
    "\n",
    "# Fully connected layer: This will convert the output of the RNN to our vtx postion predicitons\n",
    "FC = Dense(nDense, activation='relu', name=\"Dense\")(dpt) # is relu fine here? i think so...\n",
    "\n",
    "# Ouptut layer. Sec and Ter Vtx. No activation as this is a regression problem\n",
    "output = Dense(nOutputs, name=\"Vertex_Predictions\")(FC)\n",
    "\n",
    "myRNN = Model(inputs=my_inputs, outputs=output)\n"
   ]
  },
  {
   "cell_type": "code",
   "execution_count": 9,
   "metadata": {},
   "outputs": [
    {
     "name": "stdout",
     "output_type": "stream",
     "text": [
      "Model: \"model\"\n",
      "_________________________________________________________________\n",
      "Layer (type)                 Output Shape              Param #   \n",
      "=================================================================\n",
      "Trk_inputs (InputLayer)      [(None, 30, 7)]           0         \n",
      "_________________________________________________________________\n",
      "masking (Masking)            (None, 30, 7)             0         \n",
      "_________________________________________________________________\n",
      "LSTM (LSTM)                  (None, 300)               369600    \n",
      "_________________________________________________________________\n",
      "dropout (Dropout)            (None, 300)               0         \n",
      "_________________________________________________________________\n",
      "Dense (Dense)                (None, 40)                12040     \n",
      "_________________________________________________________________\n",
      "Vertex_Predictions (Dense)   (None, 6)                 246       \n",
      "=================================================================\n",
      "Total params: 381,886\n",
      "Trainable params: 381,886\n",
      "Non-trainable params: 0\n",
      "_________________________________________________________________\n"
     ]
    }
   ],
   "source": [
    "myRNN.summary()"
   ]
  },
  {
   "cell_type": "code",
   "execution_count": 10,
   "metadata": {},
   "outputs": [],
   "source": [
    "myRNN.compile(loss='mean_absolute_error', optimizer='adam', metrics=['mae','mse']) # do i want to add a metric like mse to evaluate during training\n",
    "# myRNN.compile(loss='mean_squared_error', optimizer='adam', metrics=['mae','mse']) # do i want to add a metric like mse to evaluate during training\n"
   ]
  },
  {
   "cell_type": "markdown",
   "metadata": {},
   "source": [
    " checkpoints, training, evaluation of performance\n",
    " different ways of evaluating performance obviously\n",
    " either akin to Nicole's method for RNNIP\n",
    " or the slighlty different method in https://github.com/agu3rra/NeuralNetwork-RegressionExample/blob/master/Tutorial.ipynb"
   ]
  },
  {
   "cell_type": "code",
   "execution_count": null,
   "metadata": {},
   "outputs": [],
   "source": [
    "myRNN_mChkPt = ModelCheckpoint('myRNN_weightsnew.h5',monitor='val_loss', verbose=True,\n",
    "                               save_best_only=True,\n",
    "                               save_weights_only=True)"
   ]
  },
  {
   "cell_type": "code",
   "execution_count": null,
   "metadata": {},
   "outputs": [],
   "source": [
    "earlyStop = EarlyStopping(monitor='val_loss', verbose=True, patience=10)\n"
   ]
  },
  {
   "cell_type": "code",
   "execution_count": null,
   "metadata": {},
   "outputs": [],
   "source": [
    "nEpochs = 5\n",
    "\n",
    "myRNN_hist = myRNN.fit(X_train, y_train, epochs=nEpochs, batch_size=256,validation_split=0.20,\n",
    "                 callbacks=[earlyStop, myRNN_mChkPt],) # callbacks=[earlyStop, myRNN_mChkPt])"
   ]
  },
  {
   "cell_type": "code",
   "execution_count": null,
   "metadata": {},
   "outputs": [],
   "source": [
    "np.save('history.npy',myRNN_hist.history)"
   ]
  },
  {
   "cell_type": "code",
   "execution_count": null,
   "metadata": {},
   "outputs": [],
   "source": [
    "for experiment in ['order_by_increasing_z0','order_by_decreasing_z0']:\n",
    "    vals=[]\n",
    "    for trial in ['trial1','trial2','trial3']:\n",
    "        file = experiment+'/'+trial+'/'+'history.npy'\n",
    "        print(file)\n",
    "        ting=np.load(file,allow_pickle='TRUE').item()\n",
    "        val=np.min(ting['val_loss'])\n",
    "        print(val)\n",
    "        vals+=val\n",
    "    print(experiment+': {} \\pm {}'.format(np.mean(vals),np.std(vals)))\n"
   ]
  },
  {
   "cell_type": "code",
   "execution_count": 14,
   "metadata": {},
   "outputs": [],
   "source": [
    "import numpy as np\n",
    "import matplotlib.pyplot as plt"
   ]
  },
  {
   "cell_type": "code",
   "execution_count": 15,
   "metadata": {},
   "outputs": [],
   "source": [
    "ting=np.load('../history.npy',allow_pickle=True).item()"
   ]
  },
  {
   "cell_type": "code",
   "execution_count": 17,
   "metadata": {
    "scrolled": true
   },
   "outputs": [
    {
     "data": {
      "image/png": "[encoded data removed]",
      "text/plain": [
       "<Figure size 432x288 with 1 Axes>"
      ]
     },
     "metadata": {
      "needs_background": "light"
     },
     "output_type": "display_data"
    }
   ],
   "source": [
    "epochs = np.arange(1,len(ting['loss'])+1)\n",
    "\n",
    "plt.plot(epochs,ting['loss'],label='training')\n",
    "plt.plot(epochs,ting['val_loss'],label='validation')\n",
    "plt.xlabel('epochs',fontsize=14)\n",
    "plt.ylabel('MAE loss',fontsize=14)\n",
    "plt.legend()\n",
    "plt.savefig('RNNJF-loss-curve.png')"
   ]
  },
  {
   "cell_type": "code",
   "execution_count": null,
   "metadata": {},
   "outputs": [],
   "source": [
    "epochs = np.arange(1,len(myRNN_hist.history['loss'])+1)\n",
    "\n",
    "plt.plot(epochs,myRNN_hist.history['loss'],label='training')\n",
    "plt.plot(epochs,myRNN_hist.history['val_loss'],label='validation')\n",
    "plt.xlabel('epochs',fontsize=14)\n",
    "plt.ylabel('MSE loss',fontsize=14)\n",
    "plt.legend()"
   ]
  },
  {
   "cell_type": "markdown",
   "metadata": {},
   "source": [
    "# Result Analysis"
   ]
  },
  {
   "cell_type": "markdown",
   "metadata": {},
   "source": [
    "Section to produce plots to understand our RNN performance. Ultimately we want to understand how our RNN gets its results, and why it gets these particular results. E.g. is our performance limited by resolution, bad results due to one particular track, how do different displacements of the sec vertex affect performance, how do n of sec or tertiary tracks, ...\n"
   ]
  },
  {
   "cell_type": "markdown",
   "metadata": {},
   "source": [
    "First we load the best performing model from its weights file"
   ]
  },
  {
   "cell_type": "code",
   "execution_count": 11,
   "metadata": {},
   "outputs": [],
   "source": [
    "# load model\n",
    "myRNN.load_weights('./bestRNN.h5')\n"
   ]
  },
  {
   "cell_type": "markdown",
   "metadata": {},
   "source": [
    "Use the RNN now to predict the vertices of a test sample X_test. This is essentially 20000 jets, each jet consisting of its track collection (the first track in the collection is an artificial one consisting of the measured jet direction)"
   ]
  },
  {
   "cell_type": "code",
   "execution_count": 49,
   "metadata": {},
   "outputs": [
    {
     "name": "stdout",
     "output_type": "stream",
     "text": [
      "Wall time: 16.3 s\n"
     ]
    },
    {
     "data": {
      "text/plain": [
       "array([[1.4857343 , 1.4862646 , 2.104029  , 1.7463042 , 1.740516  ,\n",
       "        2.4720626 ],\n",
       "       [1.5853068 , 1.5856559 , 2.2441018 , 1.8585669 , 1.9306494 ,\n",
       "        2.6419601 ],\n",
       "       [1.4931606 , 1.4938701 , 2.1149027 , 2.0120773 , 1.7698807 ,\n",
       "        2.8708382 ],\n",
       "       ...,\n",
       "       [2.375138  , 2.3751917 , 3.360962  , 3.7921944 , 3.6204538 ,\n",
       "        5.1514063 ],\n",
       "       [0.29586148, 0.29628602, 0.41901588, 1.437701  , 1.3709806 ,\n",
       "        1.2122166 ],\n",
       "       [0.25751218, 0.25766087, 0.3642787 , 0.7288151 , 0.7197899 ,\n",
       "        0.85807943]], dtype=float32)"
      ]
     },
     "execution_count": 49,
     "metadata": {},
     "output_type": "execute_result"
    }
   ],
   "source": [
    "%%time\n",
    "results=myRNN.predict(X_test)\n",
    "results"
   ]
  },
  {
   "cell_type": "code",
   "execution_count": null,
   "metadata": {},
   "outputs": [],
   "source": [
    "%%time\n",
    "\n",
    "Xrando=copy.copy(X_test)\n",
    "\n",
    "for i in range(len(X_test)):\n",
    "    null_ind=np.where(Xrando[i]==0.)[0][0]\n",
    "    np.random.shuffle(Xrando[i][0:null_ind])\n",
    "    \n",
    "results2 = myRNN.predict(Xrando)\n",
    "percentage_errs=(abs((results-y_test)/y_test)*100) # average error of 50%, so for vtx at 1mm, we get within 0.5mm\n",
    "mean_abs_errs = abs((results-y_test))\n",
    "mae_per_jet = np.mean(mean_abs_errs,axis=1)\n",
    "\n",
    "percentage_errs2=(abs((results2-y_test)/y_test)*100) # average error of 50%, so for vtx at 1mm, we get within 0.5mm\n",
    "mean_abs_errs2 = abs((results2-y_test))\n",
    "mae_per_jet2 = np.mean(mean_abs_errs2,axis=1)"
   ]
  },
  {
   "cell_type": "code",
   "execution_count": null,
   "metadata": {},
   "outputs": [],
   "source": []
  },
  {
   "cell_type": "code",
   "execution_count": 50,
   "metadata": {},
   "outputs": [],
   "source": [
    "percentage_errs=(abs((results-y_test)/y_test)*100) # average error of 50%, so for vtx at 1mm, we get within 0.5mm\n",
    "mean_abs_errs = abs((results-y_test))\n",
    "mae_per_jet = np.mean(mean_abs_errs,axis=1)"
   ]
  },
  {
   "cell_type": "code",
   "execution_count": 51,
   "metadata": {},
   "outputs": [
    {
     "name": "stdout",
     "output_type": "stream",
     "text": [
      "0.06431171933156808\n",
      "0.11804502152656114\n"
     ]
    }
   ],
   "source": [
    "print(np.median(mae_per_jet)) \n",
    "print(np.mean(mae_per_jet))\n",
    "# print(np.median(mae_per_jet2)) \n",
    "# print(np.mean(mae_per_jet2))"
   ]
  },
  {
   "cell_type": "code",
   "execution_count": null,
   "metadata": {},
   "outputs": [],
   "source": [
    "plt.hist(mae_per_jet,bins='scott')\n",
    "plt.show()\n",
    "#plt.hist(mae_per_jet2,bins='scott')\n",
    "#plt.show()"
   ]
  },
  {
   "cell_type": "markdown",
   "metadata": {},
   "source": [
    "### Errors against Sec Vtx Displacement"
   ]
  },
  {
   "cell_type": "markdown",
   "metadata": {},
   "source": [
    "Look at the percentage and absolute errors of jets in two regions. Regions separated by the absolute displacement of secondary (and tertiary) vertex, ds. Find a phase behaviour transition arond ds=1mm"
   ]
  },
  {
   "cell_type": "code",
   "execution_count": null,
   "metadata": {},
   "outputs": [],
   "source": [
    "# separate out large ds jets\n",
    "tervtx_cond = np.linalg.norm(bjets_DF[['terVtx_x','terVtx_y','terVtx_z']],axis=1)[split:] > 1.4/1000\n",
    "secvtx_cond = np.linalg.norm(bjets_DF[['secVtx_x','secVtx_y','secVtx_z']],axis=1)[split:] > 1.4/1000\n",
    "large_displaced_bs_indices= np.where(secvtx_cond & tervtx_cond)[0]\n",
    "print(\"large ds mean % err\",np.mean(percentage_errs[large_displaced_bs_indices]))\n",
    "# so for jets where both sec and ter vtx are more than 1mm displaced, the percentage error is average 3% (and median 2%)\n",
    "large_ds_perc_errs = np.mean(percentage_errs[large_displaced_bs_indices],axis=1)\n",
    "large_ds_maes = mae_per_jet[large_displaced_bs_indices]\n",
    "\n",
    "\n",
    "# now do same for small ds jets\n",
    "tervtx_cond = np.linalg.norm(bjets_DF[['terVtx_x','terVtx_y','terVtx_z']],axis=1)[split:] < 1.5/1000\n",
    "secvtx_cond = np.linalg.norm(bjets_DF[['secVtx_x','secVtx_y','secVtx_z']],axis=1)[split:] < 1.5/1000\n",
    "small_displaced_bs_indices= np.where(secvtx_cond & tervtx_cond)[0]\n",
    "print(\"small ds mean % err\",np.mean(percentage_errs[small_displaced_bs_indices]))\n",
    "small_ds_perc_errs = np.mean(percentage_errs[small_displaced_bs_indices],axis=1)\n",
    "small_ds_maes = mae_per_jet[small_displaced_bs_indices]"
   ]
  },
  {
   "cell_type": "code",
   "execution_count": null,
   "metadata": {},
   "outputs": [],
   "source": [
    "fig, axs = plt.subplots(2,2,figsize=(10,8))\n",
    "\n",
    "axs[0, 0].hist(large_ds_perc_errs,np.linspace(0,100,100))\n",
    "axs[0, 0].set_ylabel('N ds>1mm jets')\n",
    "\n",
    "axs[0, 1].hist(large_ds_maes,bins=np.linspace(0,1,100))\n",
    "\n",
    "axs[1, 0].hist(small_ds_perc_errs,np.linspace(0,100,100))\n",
    "axs[1, 0].set_xlabel('Mean % Error')\n",
    "axs[1, 0].set_ylabel('N ds<1mm jets')\n",
    "\n",
    "axs[1, 1].hist(small_ds_maes,bins=np.linspace(0,1,100))\n",
    "axs[1, 1].set_xlabel('Mean Abs Error')\n"
   ]
  },
  {
   "cell_type": "markdown",
   "metadata": {},
   "source": [
    "Look at one of the outlier cases, a large ds with the largest percentage error"
   ]
  },
  {
   "cell_type": "code",
   "execution_count": null,
   "metadata": {},
   "outputs": [],
   "source": [
    "print(np.argmax(np.mean(percentage_errs[large_displaced_bs_indices],axis=1)))\n",
    "argmaxind = np.argmax(np.mean(percentage_errs[large_displaced_bs_indices],axis=1))\n",
    "actual_ind = large_displaced_bs_indices[argmaxind]\n",
    "np.sqrt(bjets_DF.iloc[split+actual_ind]['secVtx_x']**2 + bjets_DF.iloc[split+actual_ind]['secVtx_y']**2 + bjets_DF.iloc[split+actual_ind]['secVtx_z']**2)\n",
    "#np.linalg.norm(bjets_DF.iloc[split+1853]['secVtx_x','secVtx_y','secVtx_z'],axis=1)"
   ]
  },
  {
   "cell_type": "code",
   "execution_count": null,
   "metadata": {},
   "outputs": [],
   "source": []
  },
  {
   "cell_type": "code",
   "execution_count": null,
   "metadata": {},
   "outputs": [],
   "source": []
  },
  {
   "cell_type": "markdown",
   "metadata": {},
   "source": [
    "### Vertexing Efficiency"
   ]
  },
  {
   "cell_type": "markdown",
   "metadata": {},
   "source": [
    "Define a found vertex when a reconstructed vertex is within a specified tolerance distance of a true vertex. This tolerance is based off of the errors added at simulation level. So as a first estimate take if its within 5 sigma. Need to do some error analysis do this properly...\n",
    "\n",
    "Make a very basic guess. Errors in theta, phi propagate as sigma x ds (ds is vtx displacement). IP errors propagate simply. So add all together it would be (sigma_ip + ds x sigma_ang) (careful with units). ds ranges between 1-10mm.\n",
    "so error is approx (1.01 x sigma)m (as sigma_ip = sigma m, sigma_ang = sigma rad).\n",
    "\n",
    "Remember to apply in the longitudinal and transverse directions separately. So calculate error in xy and error in z separately."
   ]
  },
  {
   "cell_type": "code",
   "execution_count": null,
   "metadata": {},
   "outputs": [],
   "source": [
    "reconstructed_vertices = results.reshape(40000,3)"
   ]
  },
  {
   "cell_type": "code",
   "execution_count": null,
   "metadata": {},
   "outputs": [],
   "source": [
    "true_vertices = y_test.reshape(40000,3)"
   ]
  },
  {
   "cell_type": "code",
   "execution_count": null,
   "metadata": {},
   "outputs": [],
   "source": [
    "err_in_z = (reconstructed_vertices-true_vertices)[:,2]\n",
    "len(np.where(abs(err_in_z) < .05)[0])"
   ]
  },
  {
   "cell_type": "markdown",
   "metadata": {},
   "source": [
    "As an initial estimate 16316/40000 (40.8%) vertices found using only criteria on the z, i.e. err_z < 0.05mm (5x10^-5 = 5xsigma_z)\n",
    "But need to factor in the xy condition as well."
   ]
  },
  {
   "cell_type": "code",
   "execution_count": null,
   "metadata": {},
   "outputs": [],
   "source": [
    "x_x0 = (reconstructed_vertices-true_vertices)[:,0]\n",
    "y_y0 = (reconstructed_vertices-true_vertices)[:,1]\n",
    "err_in_xy = np.sqrt((x_x0)**2 + (y_y0)**2)\n",
    "len(np.where(err_in_xy < .05)[0])"
   ]
  },
  {
   "cell_type": "markdown",
   "metadata": {},
   "source": [
    "So a lot less pass the xy condition then the z condition. Only 14208/40000 (35.5%)."
   ]
  },
  {
   "cell_type": "code",
   "execution_count": null,
   "metadata": {},
   "outputs": [],
   "source": [
    "len(np.where((err_in_xy < .05) & (abs(err_in_z) < .05))[0])"
   ]
  },
  {
   "cell_type": "markdown",
   "metadata": {},
   "source": [
    "So 13087/40000 (32.7%) vertices found."
   ]
  },
  {
   "cell_type": "code",
   "execution_count": null,
   "metadata": {},
   "outputs": [],
   "source": [
    "len(np.where(err_in_xy + abs(err_in_z) < 0.1)[0])"
   ]
  },
  {
   "cell_type": "code",
   "execution_count": null,
   "metadata": {},
   "outputs": [],
   "source": [
    "plt.hist(err_in_z,bins=np.linspace(-2,2,200))\n",
    "plt.show()"
   ]
  },
  {
   "cell_type": "code",
   "execution_count": null,
   "metadata": {},
   "outputs": [],
   "source": [
    "from scipy.stats import norm, cauchy\n",
    "from sklearn.mixture import GaussianMixture\n",
    "\n",
    "import matplotlib.mlab as mlab"
   ]
  },
  {
   "cell_type": "code",
   "execution_count": null,
   "metadata": {
    "scrolled": true
   },
   "outputs": [],
   "source": [
    "plt.figure(figsize=(10,8))\n",
    "# best fit of data\n",
    "(mu, sigma) = cauchy.fit(err_in_z)\n",
    "\n",
    "# the histogram of the data\n",
    "n, bins, patches = plt.hist(err_in_z, bins=np.linspace(-2,2,200),normed=1, facecolor='green', alpha=0.75)\n",
    "\n",
    "# add a 'best fit' line\n",
    "y = cauchy.pdf( bins,mu, sigma)\n",
    "l = plt.plot(bins, y, 'r--', label='lorentzian fit',linewidth=2)\n",
    "plt.xlabel('error in z')\n",
    "plt.ylabel('Normed Count')\n",
    "plt.title(r'$\\mathrm{Error\\ in\\ z\\ for\\ 1mm\\ sample:\\:}\\ \\mu=%.3f mm,\\ \\sigma=%.3f mm$' %(mu, sigma))\n",
    "plt.grid(True)\n",
    "plt.legend()\n",
    "\n",
    "print(mu)\n",
    "print(sigma)"
   ]
  },
  {
   "cell_type": "code",
   "execution_count": null,
   "metadata": {
    "scrolled": true
   },
   "outputs": [],
   "source": [
    "plt.figure(figsize=(10,8))\n",
    "# best fit of data\n",
    "(mu, sigma) = norm.fit(err_in_z[abs(err_in_z)<.2])\n",
    "\n",
    "# the histogram of the data\n",
    "n, bins, patches = plt.hist(err_in_z, bins=np.linspace(-2,2,300),normed=1, facecolor='green', alpha=0.75)\n",
    "\n",
    "# add a 'best fit' line\n",
    "y = norm.pdf( bins, mu, sigma)\n",
    "l = plt.plot(bins, y, 'r--', label='gaussian fit',linewidth=2)\n",
    "plt.xlabel('error in z')\n",
    "plt.ylabel('Normed Count')\n",
    "plt.title(r'$\\mathrm{Error\\ in\\ z\\ for\\ 0.1mm\\ sample:\\:}\\ \\mu=%.3f mm,\\ \\sigma=%.3f mm$' %(mu, sigma))\n",
    "plt.grid(True)\n",
    "plt.legend()\n",
    "\n",
    "print(mu)\n",
    "print(sigma)"
   ]
  },
  {
   "cell_type": "code",
   "execution_count": null,
   "metadata": {},
   "outputs": [],
   "source": [
    "plt.figure(figsize=(10,8))\n",
    "# best fit of data\n",
    "gmm = GaussianMixture(n_components=2)\n",
    "gmm.fit(err_in_z.reshape(-1,1))\n",
    "mu1 = gmm.means_[0, 0]\n",
    "mu2 = gmm.means_[1, 0]\n",
    "var1, var2 = gmm.covariances_\n",
    "wgt1, wgt2 = gmm.weights_\n",
    "\n",
    "print(var1[0])\n",
    "print(var2[0])\n",
    "\n",
    "# the histogram of the data\n",
    "n, bins, patches = plt.hist(err_in_z, bins=np.linspace(-2,2,300),normed=1, facecolor='green', alpha=0.75)\n",
    "\n",
    "# add a 'best fit' line\n",
    "y = norm.pdf( bins, mu2, var2[0])\n",
    "#l = plt.plot(bins, y, 'r--', label='gaussian fit',linewidth=2)\n",
    "plt.plot(bins, norm.pdf(bins, mu1, np.sqrt(var1)).reshape(300))\n",
    "plt.plot(bins, norm.pdf(bins, mu2, np.sqrt(var2)).reshape(300),'r')\n",
    "#plt.plot(bins, norm.pdf(bins, mu1, np.sqrt(var1)).reshape(300)+norm.pdf(bins, mu2, np.sqrt(var2)).reshape(300))\n",
    "plt.xlabel('error in z')\n",
    "plt.ylabel('Normed Count')\n",
    "plt.title(r'$\\mathrm{Error\\ in\\ z\\ for\\ 0.1mm\\ sample:\\:}\\ \\mu1=%.3f mm,\\ \\sigma1=%.3f mm$' %(mu1, np.sqrt(var1[0])))\n",
    "plt.grid(True)\n",
    "plt.legend()\n",
    "\n",
    "print(mu)\n",
    "print(sigma)"
   ]
  },
  {
   "cell_type": "code",
   "execution_count": null,
   "metadata": {},
   "outputs": [],
   "source": [
    "err_in_z[abs(err_in_z)<3]"
   ]
  },
  {
   "cell_type": "markdown",
   "metadata": {},
   "source": [
    "### Impact of Tracks in a Jet"
   ]
  },
  {
   "cell_type": "markdown",
   "metadata": {},
   "source": [
    "Use this \"bootstrap\" method. Remove a single track from a jet and use the RNN to predict on this new jet. Observe the new values of mean Abs err and mean % err. Loop through tracks in the jet and see if removing tracks can improve performance."
   ]
  },
  {
   "cell_type": "code",
   "execution_count": 129,
   "metadata": {},
   "outputs": [],
   "source": [
    "def plot_mpes_and_maes(x,y1,y2, title, yaxis, ignore_dir, rescale = 1):\n",
    "    width = 0.35       # the width of the bars\n",
    "    if ignore_dir:\n",
    "        x=x[1:]\n",
    "        y1=y1[1:]\n",
    "        y2=y2[1:]\n",
    "    \n",
    "    fig = plt.figure()\n",
    "    ax = fig.add_subplot(111)\n",
    "    rects1 = ax.bar(x, rescale*np.array(y1), width, color='royalblue')\n",
    "\n",
    "    rects2 = ax.bar(x+width, y2, width, color='seagreen')\n",
    "\n",
    "    # add some\n",
    "    ax.set_ylabel(yaxis)\n",
    "    ax.set_xlabel('Removed Track')\n",
    "#     ax.set_title(title)\n",
    "    #ax.set_xticks(x + width / 2)\n",
    "    ax.legend( (rects1[0], rects2[0]), ('Sec Vtx', 'Ter Vtx') )\n",
    "\n",
    "    plt.savefig(title+'.png')\n",
    "    plt.show()"
   ]
  },
  {
   "cell_type": "markdown",
   "metadata": {},
   "source": [
    "Now select a jet and calculate the delta errors for each track removal"
   ]
  },
  {
   "cell_type": "code",
   "execution_count": 130,
   "metadata": {},
   "outputs": [],
   "source": [
    "def rm_one_track(jet_index,title='goodjettracks'):\n",
    "    jet_copy = copy.copy(X_test[jet_index])\n",
    "    original_prediction = myRNN.predict(np.array([jet_copy]))\n",
    "    true_values = y_test[jet_index]\n",
    "\n",
    "    original_abs_err = (original_prediction - true_values)\n",
    "    original_mae = np.mean(original_abs_err)\n",
    "    original_mpe = np.mean(100*original_abs_err/true_values)\n",
    "    print(original_mae)\n",
    "\n",
    "    #for sec and ter vtx separately\n",
    "    original_sec_err = np.linalg.norm((original_prediction - true_values)[0,0:3])\n",
    "    original_ter_err = np.linalg.norm((original_prediction - true_values)[0,3:])\n",
    "    true_secvtx_distance_from0 = np.linalg.norm(true_values[:3]) \n",
    "    true_tervtx_distance_from0 = np.linalg.norm(true_values[3:]) \n",
    "    original_sec_perr = 100*(original_sec_err/true_secvtx_distance_from0)\n",
    "    original_ter_perr = 100*(original_ter_err/true_tervtx_distance_from0)\n",
    "\n",
    "    print(original_sec_err)\n",
    "    print(original_ter_err)\n",
    "\n",
    "    # find the first null track, as dif n of tracks in each jet\n",
    "    for i in range(30):\n",
    "        if not np.any(jet_copy[i]):\n",
    "            null_trk_index = i\n",
    "            break\n",
    "\n",
    "    print(null_trk_index)\n",
    "\n",
    "    # now to delete the jth track and add a null track at the end of the track_collection\n",
    "    # to ensure there are still 30 tracks\n",
    "    maes=[]\n",
    "    mpes=[]\n",
    "    sec_errs=[]\n",
    "    sec_perrs=[]\n",
    "    ter_errs=[]\n",
    "    ter_perrs=[]\n",
    "    for j in range(null_trk_index):\n",
    "        actual_tracks = jet_copy[0:null_trk_index]\n",
    "        jet_minus_trk=np.zeros((30,7))\n",
    "        jet_minus_trk[0:null_trk_index-1] = np.delete(actual_tracks,j,0) # deletes the jth track\n",
    "        new_prediction = myRNN.predict(np.array([jet_minus_trk]))\n",
    "\n",
    "        #calculate delta err for sec and ter vertices separately\n",
    "        new_sec_err = np.linalg.norm((new_prediction - true_values)[0,0:3])\n",
    "        new_ter_err = np.linalg.norm((new_prediction - true_values)[0,3:])\n",
    "        new_sec_perr = 100*(new_sec_err/true_secvtx_distance_from0)\n",
    "        new_ter_perr = 100*(new_ter_err/true_tervtx_distance_from0)\n",
    "\n",
    "        sec_errs.append(new_sec_err-original_sec_err)\n",
    "        ter_errs.append(new_ter_err-original_ter_err)\n",
    "        sec_perrs.append(new_sec_perr-original_sec_perr)\n",
    "        ter_perrs.append(new_ter_perr-original_ter_perr)\n",
    "\n",
    "    t = np.linspace(1,null_trk_index,null_trk_index)\n",
    "    plot_mpes_and_maes(t, sec_errs, ter_errs,  title+\"_err\" , \"Change in Error\", ignore_dir = False)\n",
    "    plot_mpes_and_maes(t, sec_perrs, ter_perrs, title+\"_perr\", \"Change in % Error\", ignore_dir = False)"
   ]
  },
  {
   "cell_type": "code",
   "execution_count": 131,
   "metadata": {
    "scrolled": true
   },
   "outputs": [
    {
     "name": "stdout",
     "output_type": "stream",
     "text": [
      "-0.02525901151061986\n",
      "0.09035980779328222\n",
      "0.011158080797852025\n",
      "8\n"
     ]
    },
    {
     "data": {
      "image/png": "[encoded data removed]",
      "text/plain": [
       "<Figure size 432x288 with 1 Axes>"
      ]
     },
     "metadata": {
      "needs_background": "light"
     },
     "output_type": "display_data"
    },
    {
     "data": {
      "image/png": "[encoded data removed]",
      "text/plain": [
       "<Figure size 432x288 with 1 Axes>"
      ]
     },
     "metadata": {
      "needs_background": "light"
     },
     "output_type": "display_data"
    }
   ],
   "source": [
    "# jet_index = actual_ind\n",
    "jet_index = 13568\n",
    "\n",
    "rm_one_track(13568,'goodjettracks')"
   ]
  },
  {
   "cell_type": "code",
   "execution_count": 110,
   "metadata": {},
   "outputs": [
    {
     "name": "stdout",
     "output_type": "stream",
     "text": [
      "0.028447596181772578\n"
     ]
    },
    {
     "data": {
      "text/plain": [
       "array([0.44352423, 0.4606002 , 0.47059994, 0.07789667, 0.01280583,\n",
       "       0.04978114])"
      ]
     },
     "execution_count": 110,
     "metadata": {},
     "output_type": "execute_result"
    }
   ],
   "source": [
    "print(mae_per_jet[jet_index])\n",
    "percentage_errs[jet_index]"
   ]
  },
  {
   "cell_type": "code",
   "execution_count": 111,
   "metadata": {},
   "outputs": [
    {
     "data": {
      "text/plain": [
       "jet_energy                                               88497.5\n",
       "jet_flavour                                                    5\n",
       "nSecTracks                                                     1\n",
       "nTerTracks                                                     3\n",
       "secVtx_x                                              0.00979032\n",
       "secVtx_y                                              0.00979032\n",
       "secVtx_z                                               0.0138456\n",
       "terVtx_x                                               0.0105229\n",
       "terVtx_y                                               0.0106848\n",
       "terVtx_z                                               0.0149581\n",
       "tracks         [[0.0009700036196528903, -0.000116567274194510...\n",
       "Name: 80059, dtype: object"
      ]
     },
     "execution_count": 111,
     "metadata": {},
     "output_type": "execute_result"
    }
   ],
   "source": [
    "real_idx=np.where(y == y_test[jet_index])[0][0]\n",
    "bjets_DF.iloc[real_idx]\n",
    "# both i=2 and 3 are large IP tracks, both tertiary tracks but affect prediction of sec and ter vtx"
   ]
  },
  {
   "cell_type": "code",
   "execution_count": 112,
   "metadata": {},
   "outputs": [
    {
     "data": {
      "text/plain": [
       "array([[ 1.49722799e-03,  1.66943618e-03,  8.37636796e-01,\n",
       "         8.87060391e-01,  1.13699142e-04,  1.05229119e-02,\n",
       "         1.06848099e-02,  1.49580689e-02, -4.02750232e-04,\n",
       "        -1.44204157e-03,  1.66943618e-03],\n",
       "       [ 1.52404471e-03,  1.26498599e-03,  8.65168355e-01,\n",
       "         8.63319040e-01,  4.20551158e-04,  1.05229119e-02,\n",
       "         1.06848099e-02,  1.49580689e-02,  1.28873233e-04,\n",
       "        -1.51858618e-03,  1.26498599e-03],\n",
       "       [ 1.86553362e-03, -3.91941848e-04,  9.14299138e-01,\n",
       "         7.55572205e-01,  5.75051447e-05,  1.05229119e-02,\n",
       "         1.06848099e-02,  1.49580689e-02,  1.69684260e-03,\n",
       "        -7.75203770e-04, -3.91941848e-04],\n",
       "       [ 9.70003620e-04, -1.16567274e-04,  7.16551240e-01,\n",
       "         7.75261784e-01,  2.37021305e-05,  9.79031535e-03,\n",
       "         9.79031535e-03,  1.38455967e-02, -5.36368576e-04,\n",
       "         8.08217652e-04, -1.16567274e-04],\n",
       "       [ 1.05511176e-05, -2.08957798e-05,  8.10058940e-01,\n",
       "         7.85097912e-01,  1.71946777e-04,  0.00000000e+00,\n",
       "         0.00000000e+00,  0.00000000e+00,  7.46076684e-06,\n",
       "         7.46076684e-06, -2.08957798e-05],\n",
       "       [ 4.03221034e-06, -3.41436000e-06, -5.09217859e-01,\n",
       "         1.33746312e+00,  9.22664396e-03,  0.00000000e+00,\n",
       "         0.00000000e+00,  0.00000000e+00,  2.85120328e-06,\n",
       "         2.85120328e-06, -3.41436000e-06],\n",
       "       [ 8.80032179e-06, -8.25307373e-06,  8.12203684e-01,\n",
       "         8.64236023e-01,  2.29113921e-04,  0.00000000e+00,\n",
       "         0.00000000e+00,  0.00000000e+00,  6.22276722e-06,\n",
       "         6.22276722e-06, -8.25307373e-06],\n",
       "       [ 4.39136880e-06,  2.14731442e-05,  7.67332150e-01,\n",
       "         7.38609974e-01,  1.36504942e-04,  0.00000000e+00,\n",
       "         0.00000000e+00,  0.00000000e+00,  3.10516666e-06,\n",
       "         3.10516666e-06,  2.14731442e-05],\n",
       "       [            nan,             nan,             nan,\n",
       "                    nan,             nan,             nan,\n",
       "                    nan,             nan,             nan,\n",
       "                    nan,             nan],\n",
       "       [            nan,             nan,             nan,\n",
       "                    nan,             nan,             nan,\n",
       "                    nan,             nan,             nan,\n",
       "                    nan,             nan],\n",
       "       [            nan,             nan,             nan,\n",
       "                    nan,             nan,             nan,\n",
       "                    nan,             nan,             nan,\n",
       "                    nan,             nan],\n",
       "       [            nan,             nan,             nan,\n",
       "                    nan,             nan,             nan,\n",
       "                    nan,             nan,             nan,\n",
       "                    nan,             nan],\n",
       "       [            nan,             nan,             nan,\n",
       "                    nan,             nan,             nan,\n",
       "                    nan,             nan,             nan,\n",
       "                    nan,             nan],\n",
       "       [            nan,             nan,             nan,\n",
       "                    nan,             nan,             nan,\n",
       "                    nan,             nan,             nan,\n",
       "                    nan,             nan],\n",
       "       [            nan,             nan,             nan,\n",
       "                    nan,             nan,             nan,\n",
       "                    nan,             nan,             nan,\n",
       "                    nan,             nan],\n",
       "       [            nan,             nan,             nan,\n",
       "                    nan,             nan,             nan,\n",
       "                    nan,             nan,             nan,\n",
       "                    nan,             nan],\n",
       "       [            nan,             nan,             nan,\n",
       "                    nan,             nan,             nan,\n",
       "                    nan,             nan,             nan,\n",
       "                    nan,             nan],\n",
       "       [            nan,             nan,             nan,\n",
       "                    nan,             nan,             nan,\n",
       "                    nan,             nan,             nan,\n",
       "                    nan,             nan],\n",
       "       [            nan,             nan,             nan,\n",
       "                    nan,             nan,             nan,\n",
       "                    nan,             nan,             nan,\n",
       "                    nan,             nan],\n",
       "       [            nan,             nan,             nan,\n",
       "                    nan,             nan,             nan,\n",
       "                    nan,             nan,             nan,\n",
       "                    nan,             nan],\n",
       "       [            nan,             nan,             nan,\n",
       "                    nan,             nan,             nan,\n",
       "                    nan,             nan,             nan,\n",
       "                    nan,             nan],\n",
       "       [            nan,             nan,             nan,\n",
       "                    nan,             nan,             nan,\n",
       "                    nan,             nan,             nan,\n",
       "                    nan,             nan],\n",
       "       [            nan,             nan,             nan,\n",
       "                    nan,             nan,             nan,\n",
       "                    nan,             nan,             nan,\n",
       "                    nan,             nan],\n",
       "       [            nan,             nan,             nan,\n",
       "                    nan,             nan,             nan,\n",
       "                    nan,             nan,             nan,\n",
       "                    nan,             nan],\n",
       "       [            nan,             nan,             nan,\n",
       "                    nan,             nan,             nan,\n",
       "                    nan,             nan,             nan,\n",
       "                    nan,             nan],\n",
       "       [            nan,             nan,             nan,\n",
       "                    nan,             nan,             nan,\n",
       "                    nan,             nan,             nan,\n",
       "                    nan,             nan],\n",
       "       [            nan,             nan,             nan,\n",
       "                    nan,             nan,             nan,\n",
       "                    nan,             nan,             nan,\n",
       "                    nan,             nan],\n",
       "       [            nan,             nan,             nan,\n",
       "                    nan,             nan,             nan,\n",
       "                    nan,             nan,             nan,\n",
       "                    nan,             nan],\n",
       "       [            nan,             nan,             nan,\n",
       "                    nan,             nan,             nan,\n",
       "                    nan,             nan,             nan,\n",
       "                    nan,             nan],\n",
       "       [            nan,             nan,             nan,\n",
       "                    nan,             nan,             nan,\n",
       "                    nan,             nan,             nan,\n",
       "                    nan,             nan]])"
      ]
     },
     "execution_count": 112,
     "metadata": {},
     "output_type": "execute_result"
    }
   ],
   "source": [
    "X_allfeatures[real_idx]"
   ]
  },
  {
   "cell_type": "code",
   "execution_count": 113,
   "metadata": {
    "scrolled": true
   },
   "outputs": [
    {
     "name": "stdout",
     "output_type": "stream",
     "text": [
      "0.1589673679980351\n",
      "0.29183723978328413\n",
      "0.266666886517678\n",
      "10\n"
     ]
    },
    {
     "data": {
      "image/png": "[encoded data removed]",
      "text/plain": [
       "<Figure size 432x288 with 1 Axes>"
      ]
     },
     "metadata": {
      "needs_background": "light"
     },
     "output_type": "display_data"
    },
    {
     "data": {
      "text/plain": [
       "<Figure size 432x288 with 0 Axes>"
      ]
     },
     "metadata": {},
     "output_type": "display_data"
    },
    {
     "data": {
      "image/png": "[encoded data removed]",
      "text/plain": [
       "<Figure size 432x288 with 1 Axes>"
      ]
     },
     "metadata": {
      "needs_background": "light"
     },
     "output_type": "display_data"
    },
    {
     "data": {
      "text/plain": [
       "<Figure size 432x288 with 0 Axes>"
      ]
     },
     "metadata": {},
     "output_type": "display_data"
    }
   ],
   "source": [
    "# jet_index = actual_ind\n",
    "jet_index = 1618\n",
    "rm_one_track(jet_index,'badjettracks')"
   ]
  },
  {
   "cell_type": "code",
   "execution_count": 114,
   "metadata": {},
   "outputs": [
    {
     "name": "stdout",
     "output_type": "stream",
     "text": [
      "0.1589672537557993\n"
     ]
    },
    {
     "data": {
      "text/plain": [
       "array([3.72822697e+05, 3.78583123e+05, 3.90247641e+05, 2.52148680e+00,\n",
       "       2.70426329e+00, 1.28869813e+00])"
      ]
     },
     "execution_count": 114,
     "metadata": {},
     "output_type": "execute_result"
    }
   ],
   "source": [
    "print(mae_per_jet[jet_index])\n",
    "percentage_errs[jet_index]"
   ]
  },
  {
   "cell_type": "code",
   "execution_count": 65,
   "metadata": {},
   "outputs": [
    {
     "data": {
      "text/plain": [
       "jet_energy                                                 70200\n",
       "jet_flavour                                                    5\n",
       "nSecTracks                                                     3\n",
       "nTerTracks                                                     3\n",
       "secVtx_x                                              3.8094e-08\n",
       "secVtx_y                                              3.8094e-08\n",
       "secVtx_z                                              5.3873e-08\n",
       "terVtx_x                                              0.00606375\n",
       "terVtx_y                                              0.00660532\n",
       "terVtx_z                                              0.00976203\n",
       "tracks         [[1.628684627349816e-05, 2.0908664678629624e-0...\n",
       "Name: 259071, dtype: object"
      ]
     },
     "execution_count": 65,
     "metadata": {},
     "output_type": "execute_result"
    }
   ],
   "source": [
    "real_idx=np.where(y == y_test[jet_index])[0][0]\n",
    "bjets_DF.iloc[real_idx]\n",
    "# both i=2 and 3 are large IP tracks, both tertiary tracks but affect prediction of sec and ter vtx"
   ]
  },
  {
   "cell_type": "code",
   "execution_count": 115,
   "metadata": {
    "scrolled": true
   },
   "outputs": [
    {
     "name": "stdout",
     "output_type": "stream",
     "text": [
      "-0.017863942525476628\n",
      "0.10858618456673394\n",
      "0.054466693941440034\n",
      "10\n"
     ]
    },
    {
     "data": {
      "image/png": "[encoded data removed]",
      "text/plain": [
       "<Figure size 432x288 with 1 Axes>"
      ]
     },
     "metadata": {
      "needs_background": "light"
     },
     "output_type": "display_data"
    },
    {
     "data": {
      "text/plain": [
       "<Figure size 432x288 with 0 Axes>"
      ]
     },
     "metadata": {},
     "output_type": "display_data"
    },
    {
     "data": {
      "image/png": "[encoded data removed]",
      "text/plain": [
       "<Figure size 432x288 with 1 Axes>"
      ]
     },
     "metadata": {
      "needs_background": "light"
     },
     "output_type": "display_data"
    },
    {
     "data": {
      "text/plain": [
       "<Figure size 432x288 with 0 Axes>"
      ]
     },
     "metadata": {},
     "output_type": "display_data"
    }
   ],
   "source": [
    "# jet_index = actual_ind\n",
    "jet_index = 1234\n",
    "\n",
    "rm_one_track(jet_index, 'randojettracks')"
   ]
  },
  {
   "cell_type": "code",
   "execution_count": 116,
   "metadata": {},
   "outputs": [
    {
     "name": "stdout",
     "output_type": "stream",
     "text": [
      "0.04388304243056196\n"
     ]
    },
    {
     "data": {
      "text/plain": [
       "array([9.71464152, 9.67650187, 9.77234664, 0.6909151 , 2.9189434 ,\n",
       "       0.53175421])"
      ]
     },
     "execution_count": 116,
     "metadata": {},
     "output_type": "execute_result"
    }
   ],
   "source": [
    "print(mae_per_jet[jet_index])\n",
    "percentage_errs[jet_index]"
   ]
  },
  {
   "cell_type": "code",
   "execution_count": 117,
   "metadata": {},
   "outputs": [
    {
     "data": {
      "text/plain": [
       "jet_energy                                               61815.9\n",
       "jet_flavour                                                    5\n",
       "nSecTracks                                                     2\n",
       "nTerTracks                                                     4\n",
       "secVtx_x                                             0.000557763\n",
       "secVtx_y                                             0.000557763\n",
       "secVtx_z                                             0.000788797\n",
       "terVtx_x                                              0.00198787\n",
       "terVtx_y                                              0.00174698\n",
       "terVtx_z                                              0.00250678\n",
       "tracks         [[0.00013675219407009565, 9.590873898436198e-0...\n",
       "Name: 235400, dtype: object"
      ]
     },
     "execution_count": 117,
     "metadata": {},
     "output_type": "execute_result"
    }
   ],
   "source": [
    "real_idx=np.where(y == y_test[jet_index])[0][0]\n",
    "bjets_DF.iloc[real_idx]\n",
    "# both i=2 and 3 are large IP tracks, both tertiary tracks but affect prediction of sec and ter vtx"
   ]
  },
  {
   "cell_type": "code",
   "execution_count": null,
   "metadata": {},
   "outputs": [],
   "source": []
  },
  {
   "cell_type": "code",
   "execution_count": null,
   "metadata": {},
   "outputs": [],
   "source": []
  },
  {
   "cell_type": "code",
   "execution_count": null,
   "metadata": {},
   "outputs": [],
   "source": []
  },
  {
   "cell_type": "code",
   "execution_count": null,
   "metadata": {},
   "outputs": [],
   "source": [
    "tes=np.array([jet_copy])\n",
    "tes2=tes[:,:11]\n",
    "np.random.shuffle(tes2[0])\n",
    "tes[:,:11]=tes2\n",
    "myRNN.predict(tes)"
   ]
  },
  {
   "cell_type": "code",
   "execution_count": null,
   "metadata": {},
   "outputs": [],
   "source": [
    "myRNN.predict(np.array([jet_copy]))"
   ]
  },
  {
   "cell_type": "code",
   "execution_count": null,
   "metadata": {},
   "outputs": [],
   "source": [
    "myRNN.predict(np.zeros((1,30,5)))"
   ]
  },
  {
   "cell_type": "markdown",
   "metadata": {},
   "source": [
    "Maybe if I looked into histograming the above sec_maes. Problem is for one jet theres not really enough statistics, you'd need to do it across jets, but then have to account for confounders, treat them as nuisance params and integrate out. E.g. momentum, decay position etc. Bring in the fact that % and abs are dif"
   ]
  },
  {
   "cell_type": "code",
   "execution_count": null,
   "metadata": {},
   "outputs": [],
   "source": []
  },
  {
   "cell_type": "markdown",
   "metadata": {},
   "source": [
    "### Error Change as tracks added"
   ]
  },
  {
   "cell_type": "markdown",
   "metadata": {},
   "source": [
    "Idea is to plot the MAE and MPE of a jet adding in each track one by one. So start with all null tracks, then add track 1 (the direction), track 2, track 3, ...\n",
    "Look at the curve MAE, look for changes.\n",
    "Again do for sec and ter vtx separately."
   ]
  },
  {
   "cell_type": "code",
   "execution_count": 119,
   "metadata": {},
   "outputs": [],
   "source": [
    "jet_index=13568\n"
   ]
  },
  {
   "cell_type": "code",
   "execution_count": 125,
   "metadata": {},
   "outputs": [
    {
     "data": {
      "image/png": "[encoded data removed]",
      "text/plain": [
       "<Figure size 432x288 with 1 Axes>"
      ]
     },
     "metadata": {
      "needs_background": "light"
     },
     "output_type": "display_data"
    },
    {
     "data": {
      "image/png": "[encoded data removed]",
      "text/plain": [
       "<Figure size 432x288 with 1 Axes>"
      ]
     },
     "metadata": {
      "needs_background": "light"
     },
     "output_type": "display_data"
    }
   ],
   "source": [
    "jet_copy = copy.copy(X_test[jet_index])\n",
    "true_values = y_test[jet_index]\n",
    "\n",
    "#for sec and ter vtx separately\n",
    "blank_jet = np.zeros((1,30,7))\n",
    "\n",
    "blank_prediction = myRNN.predict(blank_jet)\n",
    "\n",
    "blank_sec_err = np.linalg.norm((blank_prediction - true_values)[0,0:3])\n",
    "blank_ter_err = np.linalg.norm((blank_prediction - true_values)[0,3:])\n",
    "true_secvtx_distance_from0 = np.linalg.norm(true_values[:3]) \n",
    "true_tervtx_distance_from0 = np.linalg.norm(true_values[3:]) \n",
    "blank_sec_perr = 100*(blank_sec_err/true_secvtx_distance_from0)\n",
    "blank_ter_perr = 100*(blank_ter_err/true_tervtx_distance_from0)\n",
    "\n",
    "\n",
    "sec_errs=[blank_sec_err]\n",
    "sec_perrs=[blank_sec_perr]\n",
    "ter_errs=[blank_ter_err]\n",
    "ter_perrs=[blank_ter_perr]\n",
    "\n",
    "for i in range(30):\n",
    "    if not np.any(jet_copy[i]):\n",
    "        null_trk_index = i\n",
    "        break\n",
    "\n",
    "\n",
    "for i in range((null_trk_index)):\n",
    "    blank_jet[0,i] = jet_copy[i]\n",
    "    \n",
    "    new_prediction = myRNN.predict(blank_jet)\n",
    "    \n",
    "    #calculate delta err for sec and ter vertices separately\n",
    "    new_sec_err = np.linalg.norm((new_prediction - true_values)[0,0:3])\n",
    "    new_ter_err = np.linalg.norm((new_prediction - true_values)[0,3:])\n",
    "    new_sec_perr = 100*(new_sec_err/true_secvtx_distance_from0)\n",
    "    new_ter_perr = 100*(new_ter_err/true_tervtx_distance_from0)\n",
    "\n",
    "    sec_errs.append(new_sec_err)\n",
    "    ter_errs.append(new_ter_err)\n",
    "    sec_perrs.append(new_sec_perr)\n",
    "    ter_perrs.append(new_ter_perr)\n",
    "    \n",
    "trk_n = np.linspace(0,null_trk_index,null_trk_index+1)\n",
    "plt.plot(trk_n, sec_errs, label ='sec')\n",
    "plt.plot(trk_n, ter_errs, label ='ter')\n",
    "plt.legend()\n",
    "plt.grid(which='major')\n",
    "plt.ylabel(\"Error\")\n",
    "plt.xlabel(\"N of tracks added\")\n",
    "plt.savefig('goodjet_err_over_time.png')\n",
    "\n",
    "plt.show()\n",
    "plt.plot(trk_n, sec_perrs, label ='sec')\n",
    "plt.plot(trk_n, ter_perrs, label='ter')\n",
    "plt.ylabel(\"% Error\")\n",
    "plt.xlabel(\"N of tracks added\")\n",
    "plt.legend()\n",
    "plt.grid(which='major')\n",
    "plt.savefig('goodjet_perr_over_time.png')\n",
    "\n",
    "plt.show()"
   ]
  },
  {
   "cell_type": "code",
   "execution_count": 84,
   "metadata": {},
   "outputs": [
    {
     "data": {
      "image/png": "[encoded data removed]",
      "text/plain": [
       "<Figure size 432x288 with 1 Axes>"
      ]
     },
     "metadata": {
      "needs_background": "light"
     },
     "output_type": "display_data"
    },
    {
     "data": {
      "image/png": "[encoded data removed]",
      "text/plain": [
       "<Figure size 432x288 with 1 Axes>"
      ]
     },
     "metadata": {
      "needs_background": "light"
     },
     "output_type": "display_data"
    }
   ],
   "source": []
  },
  {
   "cell_type": "markdown",
   "metadata": {},
   "source": [
    "### Plot of errors for each value"
   ]
  },
  {
   "cell_type": "markdown",
   "metadata": {},
   "source": [
    "Plots all the individual (secondary x, secondary y, secondary z, tertiary x...) % errors, the distribution looks gaussian with a very long tail"
   ]
  },
  {
   "cell_type": "code",
   "execution_count": null,
   "metadata": {
    "scrolled": true
   },
   "outputs": [],
   "source": [
    "percerrs=percentage_errs.reshape(120000)# plot distribution of mean errs per jet\n",
    "\n",
    "plt.hist((percerrs), bins=np.linspace(0,50,100))#90,100,200,300,400,500,600,700,800,900])\n",
    "plt.xlabel('% errors in sec and ter xyz')\n",
    "\n",
    "#plt.hist((meanerrs), bins=[0,0.1,0.2,0.3,0.4,0.5,0.6,0.7,0.8,0.9])\n"
   ]
  },
  {
   "cell_type": "code",
   "execution_count": null,
   "metadata": {},
   "outputs": [],
   "source": [
    "mean_perc_err_per_jet=np.mean(percentage_errs,axis=1)"
   ]
  },
  {
   "cell_type": "code",
   "execution_count": null,
   "metadata": {
    "scrolled": true
   },
   "outputs": [],
   "source": [
    "print(np.median(mae_per_jet)) # median error is 7% that's actually not too bad considering gauss err of 1% on 5 params (ish)\n",
    "print(np.mean(mae_per_jet)) # mean and median very different"
   ]
  },
  {
   "cell_type": "markdown",
   "metadata": {},
   "source": [
    "### Bad jet analysis"
   ]
  },
  {
   "cell_type": "markdown",
   "metadata": {},
   "source": [
    "Idea here to analyse the worse performing jets. Difficulty is defining bad performance. I've done this by combining bad absolute and percentage error (see below). Unfortunately also means we are looking at the tail of performance (only about 2% jets)"
   ]
  },
  {
   "cell_type": "code",
   "execution_count": null,
   "metadata": {},
   "outputs": [],
   "source": [
    "print(len(mae_per_jet[mae_per_jet > .5])/20000, \"of jets mean absolute errors above .5\")"
   ]
  },
  {
   "cell_type": "code",
   "execution_count": null,
   "metadata": {},
   "outputs": [],
   "source": [
    "badjets=np.where(mae_per_jet > .5)\n"
   ]
  },
  {
   "cell_type": "code",
   "execution_count": null,
   "metadata": {},
   "outputs": [],
   "source": [
    "plt.hist(mae_per_jet[badjets],bins='scott')"
   ]
  },
  {
   "cell_type": "code",
   "execution_count": null,
   "metadata": {},
   "outputs": [],
   "source": [
    "# here's  a particular bad jet\n",
    "jet=badjets[0][0]\n",
    "print(\"this bad jet has a mean % err\",mean_perc_err_per_jet[jet])\n",
    "print(\"this bad jet has a mean abs err\",mae_per_jet[jet])"
   ]
  },
  {
   "cell_type": "code",
   "execution_count": null,
   "metadata": {
    "scrolled": true
   },
   "outputs": [],
   "source": [
    "y_test[jet]"
   ]
  },
  {
   "cell_type": "code",
   "execution_count": null,
   "metadata": {
    "scrolled": true
   },
   "outputs": [],
   "source": [
    "results[jet]"
   ]
  },
  {
   "cell_type": "markdown",
   "metadata": {},
   "source": [
    "Now we loop over our worst jets, define these as having an abs err > 0.2mm and percentage error > 10%. We then look at the parameters of these bad jets, e.g. phi, theta, momentum, n of sec tracks, n of ter tracks, phis of the sec tracks (this last is moving towards the idea of examining the individual tracks in worst performing jets)"
   ]
  },
  {
   "cell_type": "code",
   "execution_count": null,
   "metadata": {
    "scrolled": true
   },
   "outputs": [],
   "source": [
    "indices=280000+np.where(np.logical_and(mae_per_jet > .2, mean_perc_err_per_jet> 10.))[0] # 0.2 is pretty arbitrary, 0.2 for a jet with 20mm sec vtx is actually good\n",
    "print(\"we have \"+str(len(indices))+\" bad jets\")\n",
    "bad_phis=[]\n",
    "bad_thetas=[]\n",
    "bad_1OverP=[]\n",
    "bad_sectrkphis=[]\n",
    "bad_nSecTrks=[]\n",
    "bad_nTerTrks=[]\n",
    "\n",
    "bad_sumSecTerTrks=[]\n",
    "\n",
    "for index in indices:\n",
    "    # extracts all the phi values of worst performing jets\n",
    "    bad_phis.append(abs(bjets_DF.iloc[index]['tracks'][0][2]))\n",
    "    bad_thetas.append(abs(bjets_DF.iloc[index]['tracks'][0][3]))\n",
    "    bad_1OverP.append(abs(bjets_DF.iloc[index]['tracks'][0][4]))\n",
    "    bad_sectrkphis.append(abs(bjets_DF.iloc[index]['tracks'][1][3]))\n",
    "    bad_nSecTrks.append(bjets_DF.iloc[index]['nSecTracks'])\n",
    "    bad_nTerTrks.append(bjets_DF.iloc[index]['nTerTracks'])\n",
    "\n",
    "    bad_sumSecTerTrks.append(bjets_DF.iloc[index]['nSecTracks'] + bjets_DF.iloc[index]['nTerTracks'])\n"
   ]
  },
  {
   "cell_type": "markdown",
   "metadata": {},
   "source": [
    "Below I plot the phis of sec tracks in badjets and the thetas of the the bad jets, the latter is just pi/4 as we fixed to this direction in simulation. I have suppressed the output here with %%capture as its is not instructive"
   ]
  },
  {
   "cell_type": "code",
   "execution_count": null,
   "metadata": {
    "scrolled": true
   },
   "outputs": [],
   "source": [
    "%%capture\n",
    "plt.hist(bad_sectrkphis,bins=np.linspace(0.,3.2,65))\n",
    "plt.axvline(x=np.pi/2, color='r', linestyle='dashed', linewidth=2)\n",
    "plt.show()\n",
    "\n",
    "plt.hist(bad_thetas,bins=np.linspace(0.,3.2,65))\n",
    "plt.axvline(x=np.pi/2, color='r', linestyle='dashed', linewidth=2)\n"
   ]
  },
  {
   "cell_type": "markdown",
   "metadata": {},
   "source": [
    "More plots, first let us plot the momentum distribution of the bad jets. Higher momentum jets have more displaced vertices and thus higher absolute errors. Lower momentum jets conversely have higher percentage errors due to resolution limits."
   ]
  },
  {
   "cell_type": "code",
   "execution_count": null,
   "metadata": {},
   "outputs": [],
   "source": [
    "#plt.hist(bad_1OverP,bins=np.linspace(0.,3.2,65))\n",
    "bad_ps=np.reciprocal(bad_1OverP)\n",
    "plt.hist(bad_ps,bins='scott')\n"
   ]
  },
  {
   "cell_type": "markdown",
   "metadata": {},
   "source": [
    "Next look at the (true) number of secondary and tertiary tracks in the bad jets"
   ]
  },
  {
   "cell_type": "code",
   "execution_count": null,
   "metadata": {},
   "outputs": [],
   "source": [
    "plt.hist(bad_nSecTrks, bins=[1,2,3,4])\n"
   ]
  },
  {
   "cell_type": "code",
   "execution_count": null,
   "metadata": {
    "scrolled": true
   },
   "outputs": [],
   "source": [
    "plt.hist(bad_nTerTrks, bins=[2,3,4,5,])\n",
    "plt.show()\n",
    "#plt.hist(bjets_DF['nTerTracks'], bins=[2,3,4,5])"
   ]
  },
  {
   "cell_type": "markdown",
   "metadata": {},
   "source": [
    "The bad jets tend to have more tertiary tracks? Or is there not enough stats to say this."
   ]
  },
  {
   "cell_type": "code",
   "execution_count": null,
   "metadata": {},
   "outputs": [],
   "source": [
    "#plot the ntertracks in good jets now!!"
   ]
  },
  {
   "cell_type": "code",
   "execution_count": null,
   "metadata": {},
   "outputs": [],
   "source": []
  },
  {
   "cell_type": "markdown",
   "metadata": {},
   "source": [
    "# Jet Drawings"
   ]
  },
  {
   "cell_type": "markdown",
   "metadata": {},
   "source": [
    "Here we have the code to plot the images of jets. Useful for looking at particular bad jets."
   ]
  },
  {
   "cell_type": "code",
   "execution_count": null,
   "metadata": {},
   "outputs": [],
   "source": [
    "def get_line_from_tp(track):\n",
    "    p1 = track[5:8]\n",
    "    print(p1)\n",
    "    phi = track[2]\n",
    "    theta = track[3]\n",
    "    t = np.linspace(-.005,.005,100)\n",
    "    \n",
    "    xs = p1[0] + t * np.sin(theta) * np.cos(phi)\n",
    "    ys = p1[1] + t * np.sin(theta) * np.sin(phi)\n",
    "    zs = p1[2] + t * np.cos(theta)\n",
    "    \n",
    "    return xs, ys, zs\n",
    "\n",
    "def get_line_using_IPs(track, zoom):\n",
    "    phi = track[2]\n",
    "    theta = track[3]\n",
    "    x0 = track[0]*np.cos(phi)\n",
    "    y0 = track[0]*np.sin(phi)\n",
    "    z0 = track[1]\n",
    "    p1 = np.array([x0,y0,z0])\n",
    "    #print(p1)\n",
    "\n",
    "    t = np.linspace(zoom[0],zoom[1],100)\n",
    "    \n",
    "    xs = p1[0] + t * np.sin(theta) * np.cos(phi) # array of x points\n",
    "    ys = p1[1] + t * np.sin(theta) * np.sin(phi)\n",
    "    zs = p1[2] + t * np.cos(theta)\n",
    "    \n",
    "    return xs, ys, zs"
   ]
  },
  {
   "cell_type": "code",
   "execution_count": null,
   "metadata": {},
   "outputs": [],
   "source": [
    "def from_index_extract_tracks_and_vertices(jet_index,split,trks,bjets_DF,results):\n",
    "    \n",
    "    full_df_index = split+jet_index\n",
    "    jet_tracks = trks[full_df_index]\n",
    "    prim_vertex = np.array([0,0,0])\n",
    "    sec_vertex = bjets_DF[['secVtx_x','secVtx_y','secVtx_z']].iloc[full_df_index].values\n",
    "    ter_vertex = bjets_DF[['terVtx_x','terVtx_y','terVtx_z']].iloc[full_df_index].values\n",
    "    true_vertices =np.array([prim_vertex,sec_vertex,ter_vertex])\n",
    "    rec_vertices = results[jet_index].reshape(2,3)/1000\n",
    "    \n",
    "    return jet_tracks, true_vertices, rec_vertices"
   ]
  },
  {
   "cell_type": "code",
   "execution_count": null,
   "metadata": {},
   "outputs": [],
   "source": [
    "def plot_jet(jet_tracks, true_vertices, rec_vertices, zoom=[-0.005,.01]):\n",
    "    \n",
    "    fig = plt.figure(figsize=(10,10))\n",
    "    ax = fig.gca(projection='3d')\n",
    "    \n",
    "    #plot the tracks\n",
    "    for i,track in enumerate(jet_tracks):\n",
    "        if i == 0: #jet direction\n",
    "            xs, ys, zs = get_line_using_IPs(track, zoom)\n",
    "            xs,ys,zs= 2*xs,2*ys,2*zs\n",
    "            ax.plot(xs,ys,zs,'--')\n",
    "        else:\n",
    "            if not np.isnan(track[0]):\n",
    "                xs, ys, zs = get_line_using_IPs(track, zoom)\n",
    "                ax.plot(xs,ys,zs)\n",
    "\n",
    "    #plot the true vertices\n",
    "    for x, y, z in true_vertices:\n",
    "        #print(x,y,z)\n",
    "        ax.scatter(x, y, z, color='black', marker='s')\n",
    "        \n",
    "    # plot the reconstructed vertices\n",
    "    for x, y, z in rec_vertices:\n",
    "        #print(x,y,z)\n",
    "        ax.scatter(x, y, z, color='red', marker='x')"
   ]
  },
  {
   "cell_type": "code",
   "execution_count": null,
   "metadata": {},
   "outputs": [],
   "source": [
    "good_maes=np.where(mae_per_jet < .01)\n",
    "good_maes"
   ]
  },
  {
   "cell_type": "code",
   "execution_count": null,
   "metadata": {},
   "outputs": [],
   "source": [
    "bad_maes=np.where(mae_per_jet > 2.)\n",
    "bad_maes"
   ]
  },
  {
   "cell_type": "code",
   "execution_count": null,
   "metadata": {},
   "outputs": [],
   "source": [
    "%matplotlib inline\n",
    "goodindex = 7247\n",
    "badindex = 4712\n",
    "\n",
    "zoom = [-0.001,0.004]\n",
    "#print(\"good\")\n",
    "jet_tracks, true_vertices, rec_vertices = from_index_extract_tracks_and_vertices(goodindex, split,trks,bjets_DF,results)\n",
    "plot_jet(jet_tracks, true_vertices, rec_vertices,[-0.0001,0.003])\n",
    "#print(\"bad\")\n"
   ]
  },
  {
   "cell_type": "code",
   "execution_count": null,
   "metadata": {},
   "outputs": [],
   "source": [
    "%matplotlib inline\n",
    "\n",
    "jet_tracks, true_vertices, rec_vertices = from_index_extract_tracks_and_vertices(badindex, split,trks,bjets_DF,results)\n",
    "plot_jet(jet_tracks, true_vertices, rec_vertices,[-0.001,0.005])"
   ]
  },
  {
   "cell_type": "code",
   "execution_count": null,
   "metadata": {},
   "outputs": [],
   "source": [
    "print(bjets_DF.iloc[goodindex+split])\n",
    "print(\"\\nand the bad\\n\")\n",
    "print(bjets_DF.iloc[badindex+split])\n"
   ]
  },
  {
   "cell_type": "code",
   "execution_count": null,
   "metadata": {},
   "outputs": [],
   "source": [
    "mean_err_per_jet[bad_maes]"
   ]
  },
  {
   "cell_type": "code",
   "execution_count": null,
   "metadata": {},
   "outputs": [],
   "source": [
    "bad_maes"
   ]
  },
  {
   "cell_type": "code",
   "execution_count": null,
   "metadata": {},
   "outputs": [],
   "source": [
    "np.where(mean_err_per_jet[good_maes]>100.)\n"
   ]
  },
  {
   "cell_type": "code",
   "execution_count": null,
   "metadata": {},
   "outputs": [],
   "source": [
    "good_maes[0][96]"
   ]
  },
  {
   "cell_type": "code",
   "execution_count": null,
   "metadata": {},
   "outputs": [],
   "source": []
  },
  {
   "cell_type": "code",
   "execution_count": null,
   "metadata": {},
   "outputs": [],
   "source": [
    "mean_err_per_jet[15683]"
   ]
  },
  {
   "cell_type": "code",
   "execution_count": null,
   "metadata": {},
   "outputs": [],
   "source": [
    "def my_dummy_func(blabla):\n",
    "    blabla += 1\n",
    "    return sec_dummy_func(blabla)\n",
    "    \n",
    "def sec_dummy_func(blabla2):\n",
    "    if blabla2 == 1:\n",
    "        boolean = False\n",
    "        integer = 1\n",
    "        return boolean, integer\n",
    "    else:\n",
    "        boolean = True\n",
    "        integer = 2\n",
    "        return boolean"
   ]
  },
  {
   "cell_type": "code",
   "execution_count": null,
   "metadata": {},
   "outputs": [],
   "source": [
    "my_dummy_func(0)"
   ]
  },
  {
   "cell_type": "code",
   "execution_count": null,
   "metadata": {},
   "outputs": [],
   "source": [
    "my_dummy_func(2)"
   ]
  },
  {
   "cell_type": "code",
   "execution_count": null,
   "metadata": {},
   "outputs": [],
   "source": []
  },
  {
   "cell_type": "code",
   "execution_count": null,
   "metadata": {},
   "outputs": [],
   "source": []
  },
  {
   "cell_type": "code",
   "execution_count": null,
   "metadata": {},
   "outputs": [],
   "source": []
  }
 ],
 "metadata": {
  "kernelspec": {
   "display_name": "Python 3",
   "language": "python",
   "name": "python3"
  },
  "language_info": {
   "codemirror_mode": {
    "name": "ipython",
    "version": 3
   },
   "file_extension": ".py",
   "mimetype": "text/x-python",
   "name": "python",
   "nbconvert_exporter": "python",
   "pygments_lexer": "ipython3",
   "version": "3.6.13"
  }
 },
 "nbformat": 4,
 "nbformat_minor": 2
}
