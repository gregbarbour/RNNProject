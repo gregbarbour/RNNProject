{
 "cells": [
  {
   "cell_type": "code",
   "execution_count": 1,
   "metadata": {},
   "outputs": [
    {
     "name": "stderr",
     "output_type": "stream",
     "text": [
      "Using TensorFlow backend.\n"
     ]
    }
   ],
   "source": [
    "import numpy as np\n",
    "import matplotlib.pyplot as plt\n",
    "import pandas as pd\n",
    "import math\n",
    "import pickle\n",
    "from keras.models import Sequential, Model\n",
    "from keras.callbacks import EarlyStopping, ModelCheckpoint\n",
    "\n",
    "from keras.layers import BatchNormalization, Layer, TimeDistributed, Dropout\n",
    "from keras.layers import Dense, Input, Masking, LSTM\n",
    "from sklearn.preprocessing import MinMaxScaler\n",
    "from sklearn.metrics import mean_squared_error"
   ]
  },
  {
   "cell_type": "markdown",
   "metadata": {},
   "source": [
    "## Data Loading and Pre-Processing"
   ]
  },
  {
   "cell_type": "markdown",
   "metadata": {},
   "source": [
    "Let's start by trying to load in our toy jets, and then separate into features (to train on) and labels (to predict).\n",
    "\n",
    "For features, first try d0, z0, phi, theta, qOverP, (refPx, refPy, refPz)?. Essentially the track parameters.\n",
    "\n",
    "For labels, Xs, Ys, Zs, Xt, Yt, Zt. That is the secondary and tertiary vertices. Omit the primary as this has been fixed to (0,0,0). This will require some smart selection for c and light jets, where not all vertices are present. If a vertex is not present, could try predicting (0,0,0) or (-1,-1,-1) or previous vertex (prim or sec)."
   ]
  },
  {
   "cell_type": "code",
   "execution_count": 2,
   "metadata": {},
   "outputs": [],
   "source": [
    "bjets_DF = pd.read_pickle(\"./bjets.pkl\")\n",
    "cjets_DF = pd.read_pickle(\"./cjets.pkl\")\n",
    "ljets_DF = pd.read_pickle(\"./ljets.pkl\")"
   ]
  },
  {
   "cell_type": "markdown",
   "metadata": {},
   "source": [
    "Extract the track parameters as our features"
   ]
  },
  {
   "cell_type": "code",
   "execution_count": 3,
   "metadata": {},
   "outputs": [
    {
     "name": "stdout",
     "output_type": "stream",
     "text": [
      "Wall time: 9.55 s\n"
     ]
    }
   ],
   "source": [
    "%%time\n",
    "trks=np.zeros((len(bjets_DF), 30, 5))\n",
    "\n",
    "for i in range(len(bjets_DF)):\n",
    "    trks[i] = np.array([bjets_DF['tracks'][i]])[:,:,0:5]\n",
    "    \n"
   ]
  },
  {
   "cell_type": "code",
   "execution_count": 4,
   "metadata": {},
   "outputs": [],
   "source": [
    "X = trks # following convention name the features as the vector 'X'"
   ]
  },
  {
   "cell_type": "markdown",
   "metadata": {},
   "source": [
    "And the secondary and tertiary vertices as our labels"
   ]
  },
  {
   "cell_type": "code",
   "execution_count": 5,
   "metadata": {},
   "outputs": [],
   "source": [
    "y = bjets_DF[['secVtx_x','secVtx_y','secVtx_z','terVtx_x','terVtx_y','terVtx_z']].values \n",
    "y = y*1000 # change units of vertices from m to mm, keep vals close to unity\n",
    "# again convention call labels 'y'"
   ]
  },
  {
   "cell_type": "code",
   "execution_count": null,
   "metadata": {},
   "outputs": [],
   "source": []
  },
  {
   "cell_type": "markdown",
   "metadata": {},
   "source": [
    "Split first 80000 jets as train and next 20000 as test. Below some plots to show these jets are equivalently distributed"
   ]
  },
  {
   "cell_type": "code",
   "execution_count": 6,
   "metadata": {},
   "outputs": [],
   "source": [
    "X_train=X[:80000]\n",
    "X_test=X[80000:]\n",
    "y_train=y[:80000]\n",
    "y_test=y[80000:]"
   ]
  },
  {
   "cell_type": "code",
   "execution_count": 7,
   "metadata": {},
   "outputs": [],
   "source": [
    "b_s1=np.linalg.norm(bjets_DF[['secVtx_x','secVtx_y','secVtx_z']],axis=1)[:80000]\n",
    "b_s2=np.linalg.norm(bjets_DF[['secVtx_x','secVtx_y','secVtx_z']],axis=1)[80000:]\n",
    "b_t1=np.linalg.norm(bjets_DF[['terVtx_x','terVtx_y','terVtx_z']],axis=1)[:80000]\n",
    "b_t2=np.linalg.norm(bjets_DF[['terVtx_x','terVtx_y','terVtx_z']],axis=1)[80000:]\n",
    "plt.show()"
   ]
  },
  {
   "cell_type": "code",
   "execution_count": 8,
   "metadata": {},
   "outputs": [
    {
     "name": "stdout",
     "output_type": "stream",
     "text": [
      "0.0036985106615352826\n",
      "0.007068593500451309\n"
     ]
    },
    {
     "data": {
      "image/png": "[encoded data removed]",
      "text/plain": [
       "<Figure size 432x288 with 1 Axes>"
      ]
     },
     "metadata": {
      "needs_background": "light"
     },
     "output_type": "display_data"
    }
   ],
   "source": [
    "plt.hist(b_s1,bins='scott',range=[0,0.01])\n",
    "#plt.hist(c_SecVtx,bins='scott',range=[0,0.01])\n",
    "plt.hist(b_t1,bins='scott',range=[0,0.01])\n",
    "\n",
    "print(np.mean(b_s1))\n",
    "print(np.mean(b_t1))\n"
   ]
  },
  {
   "cell_type": "code",
   "execution_count": 9,
   "metadata": {},
   "outputs": [
    {
     "name": "stdout",
     "output_type": "stream",
     "text": [
      "0.0036550417303922366\n",
      "0.006973962985526242\n"
     ]
    },
    {
     "data": {
      "image/png": "[encoded data removed]",
      "text/plain": [
       "<Figure size 432x288 with 1 Axes>"
      ]
     },
     "metadata": {
      "needs_background": "light"
     },
     "output_type": "display_data"
    }
   ],
   "source": [
    "plt.hist(b_s2,bins='scott',range=[0,0.01])\n",
    "#plt.hist(c_SecVtx,bins='scott',range=[0,0.01])\n",
    "plt.hist(b_t2,bins='scott',range=[0,0.01])\n",
    "\n",
    "print(np.mean(b_s2))\n",
    "print(np.mean(b_t2))\n"
   ]
  },
  {
   "cell_type": "markdown",
   "metadata": {},
   "source": [
    "So finally we have our features, X, and labels, y. Split into training and testing samples."
   ]
  },
  {
   "cell_type": "markdown",
   "metadata": {},
   "source": [
    "## Constructing and Training an RNN"
   ]
  },
  {
   "cell_type": "markdown",
   "metadata": {},
   "source": [
    "Here we create an RNN based on LSTM cells using keras and tensorflow. The RNN will for each jet candidate take the tracks as inputs and attempt to predict the secondary and tertiary vertex positions. Let's see how well it does.\n",
    "\n",
    "I anticipate having to set a tolerance on the predicted values, it will never get them perfectly but we need to tell it how close it has to get for it to be considered successful."
   ]
  },
  {
   "cell_type": "markdown",
   "metadata": {},
   "source": [
    "Let's begin by creating the RNN architecture"
   ]
  },
  {
   "cell_type": "code",
   "execution_count": 10,
   "metadata": {},
   "outputs": [],
   "source": [
    "# Select number of hidden and dense layers. Initially use same as RNNIP but these can be tuned going forward.\n",
    "\n",
    "nHidden = 100\n",
    "nDense = 20"
   ]
  },
  {
   "cell_type": "code",
   "execution_count": 11,
   "metadata": {},
   "outputs": [],
   "source": [
    "nJets, nTrks, nFeatures = X_train.shape\n",
    "nOutputs = y.shape[1] # ie sec and ter vtx xyz, so 6"
   ]
  },
  {
   "cell_type": "code",
   "execution_count": 12,
   "metadata": {},
   "outputs": [],
   "source": [
    "trk_inputs = Input(shape=(nTrks,nFeatures),name=\"Trk_inputs\")\n",
    "masked_input = Masking()(trk_inputs)\n",
    "\n",
    "# Feed this merged layer to an RNN\n",
    "lstm = LSTM(nHidden, return_sequences=False, name='LSTM')(masked_input)\n",
    "dpt = Dropout(rate=0.8)(lstm)\n",
    "\n",
    "my_inputs = trk_inputs\n",
    "\n",
    "# Fully connected layer: This will convert the output of the RNN to our vtx postion predicitons\n",
    "FC = Dense(nDense, activation='relu', name=\"Dense\")(dpt)\n",
    "\n",
    "# Ouptut layer. Sec and Ter Vtx. No activation as this is a regression problem\n",
    "output = Dense(nOutputs, name=\"Vertex_Predictions\")(FC)\n",
    "\n",
    "myRNN = Model(inputs=my_inputs, outputs=output)\n"
   ]
  },
  {
   "cell_type": "code",
   "execution_count": 13,
   "metadata": {},
   "outputs": [
    {
     "name": "stdout",
     "output_type": "stream",
     "text": [
      "_________________________________________________________________\n",
      "Layer (type)                 Output Shape              Param #   \n",
      "=================================================================\n",
      "Trk_inputs (InputLayer)      (None, 30, 5)             0         \n",
      "_________________________________________________________________\n",
      "masking_1 (Masking)          (None, 30, 5)             0         \n",
      "_________________________________________________________________\n",
      "LSTM (LSTM)                  (None, 100)               42400     \n",
      "_________________________________________________________________\n",
      "dropout_1 (Dropout)          (None, 100)               0         \n",
      "_________________________________________________________________\n",
      "Dense (Dense)                (None, 20)                2020      \n",
      "_________________________________________________________________\n",
      "Vertex_Predictions (Dense)   (None, 6)                 126       \n",
      "=================================================================\n",
      "Total params: 44,546\n",
      "Trainable params: 44,546\n",
      "Non-trainable params: 0\n",
      "_________________________________________________________________\n"
     ]
    }
   ],
   "source": [
    "myRNN.summary()"
   ]
  },
  {
   "cell_type": "code",
   "execution_count": 14,
   "metadata": {},
   "outputs": [],
   "source": [
    "myRNN.compile(loss='mean_absolute_error', optimizer='adam', metrics=['mae']) # do i want to add a metric like mse to evaluate during training\n"
   ]
  },
  {
   "cell_type": "markdown",
   "metadata": {},
   "source": [
    " checkpoints, training, evaluation of performance\n",
    " different ways of evaluating performance obviously\n",
    " either akin to Nicole's method for RNNIP\n",
    " or the slighlty different method in https://github.com/agu3rra/NeuralNetwork-RegressionExample/blob/master/Tutorial.ipynb"
   ]
  },
  {
   "cell_type": "code",
   "execution_count": 15,
   "metadata": {},
   "outputs": [],
   "source": [
    "myRNN_mChkPt = ModelCheckpoint('myRNN_weights.h5',monitor='val_loss', verbose=True,\n",
    "                               save_best_only=True,\n",
    "                               save_weights_only=True)"
   ]
  },
  {
   "cell_type": "code",
   "execution_count": 16,
   "metadata": {},
   "outputs": [],
   "source": [
    "earlyStop = EarlyStopping(monitor='val_loss', verbose=True, patience=10)\n"
   ]
  },
  {
   "cell_type": "code",
   "execution_count": 17,
   "metadata": {},
   "outputs": [
    {
     "name": "stdout",
     "output_type": "stream",
     "text": [
      "Train on 60000 samples, validate on 20000 samples\n",
      "Epoch 1/100\n",
      "59904/60000 [============================>.] - ETA: 0s - loss: 2.1386 - mean_absolute_error: 2.1386Epoch 00001: val_loss improved from inf to 1.84613, saving model to myRNN_weights.h5\n",
      "60000/60000 [==============================] - 34s 563us/step - loss: 2.1380 - mean_absolute_error: 2.1380 - val_loss: 1.8461 - val_mean_absolute_error: 1.8461\n",
      "Epoch 2/100\n",
      "59904/60000 [============================>.] - ETA: 0s - loss: 1.9275 - mean_absolute_error: 1.9275Epoch 00002: val_loss improved from 1.84613 to 1.80344, saving model to myRNN_weights.h5\n",
      "60000/60000 [==============================] - 29s 478us/step - loss: 1.9278 - mean_absolute_error: 1.9278 - val_loss: 1.8034 - val_mean_absolute_error: 1.8034\n",
      "Epoch 3/100\n",
      "59904/60000 [============================>.] - ETA: 0s - loss: 1.8929 - mean_absolute_error: 1.8929Epoch 00003: val_loss improved from 1.80344 to 1.79633, saving model to myRNN_weights.h5\n",
      "60000/60000 [==============================] - 28s 472us/step - loss: 1.8925 - mean_absolute_error: 1.8925 - val_loss: 1.7963 - val_mean_absolute_error: 1.7963\n",
      "Epoch 4/100\n",
      "59904/60000 [============================>.] - ETA: 0s - loss: 1.8816 - mean_absolute_error: 1.8816Epoch 00004: val_loss improved from 1.79633 to 1.78619, saving model to myRNN_weights.h5\n",
      "60000/60000 [==============================] - 33s 547us/step - loss: 1.8812 - mean_absolute_error: 1.8812 - val_loss: 1.7862 - val_mean_absolute_error: 1.7862\n",
      "Epoch 5/100\n",
      "59904/60000 [============================>.] - ETA: 0s - loss: 1.8678 - mean_absolute_error: 1.8678Epoch 00005: val_loss improved from 1.78619 to 1.77789, saving model to myRNN_weights.h5\n",
      "60000/60000 [==============================] - 32s 529us/step - loss: 1.8678 - mean_absolute_error: 1.8678 - val_loss: 1.7779 - val_mean_absolute_error: 1.7779\n",
      "Epoch 6/100\n",
      "59904/60000 [============================>.] - ETA: 0s - loss: 1.8577 - mean_absolute_error: 1.8577Epoch 00006: val_loss improved from 1.77789 to 1.77057, saving model to myRNN_weights.h5\n",
      "60000/60000 [==============================] - 33s 556us/step - loss: 1.8572 - mean_absolute_error: 1.8572 - val_loss: 1.7706 - val_mean_absolute_error: 1.7706\n",
      "Epoch 7/100\n",
      "59904/60000 [============================>.] - ETA: 0s - loss: 1.8495 - mean_absolute_error: 1.8495Epoch 00007: val_loss improved from 1.77057 to 1.77056, saving model to myRNN_weights.h5\n",
      "60000/60000 [==============================] - 33s 548us/step - loss: 1.8495 - mean_absolute_error: 1.8495 - val_loss: 1.7706 - val_mean_absolute_error: 1.7706\n",
      "Epoch 8/100\n",
      "59904/60000 [============================>.] - ETA: 0s - loss: 1.8460 - mean_absolute_error: 1.8460Epoch 00008: val_loss improved from 1.77056 to 1.76942, saving model to myRNN_weights.h5\n",
      "60000/60000 [==============================] - 33s 550us/step - loss: 1.8456 - mean_absolute_error: 1.8456 - val_loss: 1.7694 - val_mean_absolute_error: 1.7694\n",
      "Epoch 9/100\n",
      "59904/60000 [============================>.] - ETA: 0s - loss: 1.8382 - mean_absolute_error: 1.8382Epoch 00009: val_loss did not improve\n",
      "60000/60000 [==============================] - 32s 537us/step - loss: 1.8383 - mean_absolute_error: 1.8383 - val_loss: 1.7696 - val_mean_absolute_error: 1.7696\n",
      "Epoch 10/100\n",
      "59904/60000 [============================>.] - ETA: 0s - loss: 1.8348 - mean_absolute_error: 1.8348Epoch 00010: val_loss improved from 1.76942 to 1.75680, saving model to myRNN_weights.h5\n",
      "60000/60000 [==============================] - 33s 556us/step - loss: 1.8350 - mean_absolute_error: 1.8350 - val_loss: 1.7568 - val_mean_absolute_error: 1.7568\n",
      "Epoch 11/100\n",
      "59904/60000 [============================>.] - ETA: 0s - loss: 1.8309 - mean_absolute_error: 1.8309Epoch 00011: val_loss did not improve\n",
      "60000/60000 [==============================] - 33s 542us/step - loss: 1.8311 - mean_absolute_error: 1.8311 - val_loss: 1.7622 - val_mean_absolute_error: 1.7622\n",
      "Epoch 12/100\n",
      "59904/60000 [============================>.] - ETA: 0s - loss: 1.8253 - mean_absolute_error: 1.8253Epoch 00012: val_loss did not improve\n",
      "60000/60000 [==============================] - 38s 626us/step - loss: 1.8259 - mean_absolute_error: 1.8259 - val_loss: 1.7620 - val_mean_absolute_error: 1.7620\n",
      "Epoch 13/100\n",
      "59904/60000 [============================>.] - ETA: 4s - loss: 1.8180 - mean_absolute_error: 1.8180  - ETA: 1:59 - loss: 1.8177 - mean_absolute_Epoch 00013: val_loss improved from 1.75680 to 1.74759, saving model to myRNN_weights.h5\n",
      "60000/60000 [==============================] - 2867s 48ms/step - loss: 1.8182 - mean_absolute_error: 1.8182 - val_loss: 1.7476 - val_mean_absolute_error: 1.7476\n",
      "Epoch 14/100\n",
      "59904/60000 [============================>.] - ETA: 0s - loss: 1.8142 - mean_absolute_error: 1.8142Epoch 00014: val_loss improved from 1.74759 to 1.74481, saving model to myRNN_weights.h5\n",
      "60000/60000 [==============================] - 20s 340us/step - loss: 1.8140 - mean_absolute_error: 1.8140 - val_loss: 1.7448 - val_mean_absolute_error: 1.7448\n",
      "Epoch 15/100\n",
      "59904/60000 [============================>.] - ETA: 0s - loss: 1.8137 - mean_absolute_error: 1.8137Epoch 00015: val_loss did not improve\n",
      "60000/60000 [==============================] - 23s 376us/step - loss: 1.8131 - mean_absolute_error: 1.8131 - val_loss: 1.7470 - val_mean_absolute_error: 1.7470\n",
      "Epoch 16/100\n",
      "59904/60000 [============================>.] - ETA: 0s - loss: 1.8040 - mean_absolute_error: 1.8040Epoch 00016: val_loss improved from 1.74481 to 1.74032, saving model to myRNN_weights.h5\n",
      "60000/60000 [==============================] - 22s 365us/step - loss: 1.8042 - mean_absolute_error: 1.8042 - val_loss: 1.7403 - val_mean_absolute_error: 1.7403\n",
      "Epoch 17/100\n",
      "59904/60000 [============================>.] - ETA: 0s - loss: 1.8023 - mean_absolute_error: 1.8023Epoch 00017: val_loss improved from 1.74032 to 1.72496, saving model to myRNN_weights.h5\n",
      "60000/60000 [==============================] - 20s 336us/step - loss: 1.8028 - mean_absolute_error: 1.8028 - val_loss: 1.7250 - val_mean_absolute_error: 1.7250\n",
      "Epoch 18/100\n",
      "59904/60000 [============================>.] - ETA: 0s - loss: 1.7928 - mean_absolute_error: 1.7928Epoch 00018: val_loss did not improve\n",
      "60000/60000 [==============================] - 21s 343us/step - loss: 1.7931 - mean_absolute_error: 1.7931 - val_loss: 1.7259 - val_mean_absolute_error: 1.7259\n",
      "Epoch 19/100\n",
      "59904/60000 [============================>.] - ETA: 0s - loss: 1.7845 - mean_absolute_error: 1.7845Epoch 00019: val_loss improved from 1.72496 to 1.71416, saving model to myRNN_weights.h5\n",
      "60000/60000 [==============================] - 21s 346us/step - loss: 1.7847 - mean_absolute_error: 1.7847 - val_loss: 1.7142 - val_mean_absolute_error: 1.7142\n",
      "Epoch 20/100\n",
      "59904/60000 [============================>.] - ETA: 0s - loss: 1.7780 - mean_absolute_error: 1.7780Epoch 00020: val_loss improved from 1.71416 to 1.70373, saving model to myRNN_weights.h5\n",
      "60000/60000 [==============================] - 19s 313us/step - loss: 1.7785 - mean_absolute_error: 1.7785 - val_loss: 1.7037 - val_mean_absolute_error: 1.7037\n",
      "Epoch 21/100\n",
      "59904/60000 [============================>.] - ETA: 0s - loss: 1.7567 - mean_absolute_error: 1.7567Epoch 00021: val_loss improved from 1.70373 to 1.67768, saving model to myRNN_weights.h5\n",
      "60000/60000 [==============================] - 23s 384us/step - loss: 1.7568 - mean_absolute_error: 1.7568 - val_loss: 1.6777 - val_mean_absolute_error: 1.6777\n",
      "Epoch 22/100\n",
      "59904/60000 [============================>.] - ETA: 0s - loss: 1.7404 - mean_absolute_error: 1.7404Epoch 00022: val_loss improved from 1.67768 to 1.63355, saving model to myRNN_weights.h5\n",
      "60000/60000 [==============================] - 19s 318us/step - loss: 1.7402 - mean_absolute_error: 1.7402 - val_loss: 1.6336 - val_mean_absolute_error: 1.6336\n",
      "Epoch 23/100\n",
      "59904/60000 [============================>.] - ETA: 0s - loss: 1.7161 - mean_absolute_error: 1.7161Epoch 00023: val_loss improved from 1.63355 to 1.60601, saving model to myRNN_weights.h5\n",
      "60000/60000 [==============================] - 18s 299us/step - loss: 1.7161 - mean_absolute_error: 1.7161 - val_loss: 1.6060 - val_mean_absolute_error: 1.6060\n",
      "Epoch 24/100\n"
     ]
    },
    {
     "name": "stdout",
     "output_type": "stream",
     "text": [
      "59904/60000 [============================>.] - ETA: 0s - loss: 1.6827 - mean_absolute_error: 1.6827Epoch 00024: val_loss improved from 1.60601 to 1.54269, saving model to myRNN_weights.h5\n",
      "60000/60000 [==============================] - 19s 309us/step - loss: 1.6823 - mean_absolute_error: 1.6823 - val_loss: 1.5427 - val_mean_absolute_error: 1.5427\n",
      "Epoch 25/100\n",
      "59904/60000 [============================>.] - ETA: 0s - loss: 1.6319 - mean_absolute_error: 1.6319Epoch 00025: val_loss improved from 1.54269 to 1.52027, saving model to myRNN_weights.h5\n",
      "60000/60000 [==============================] - 19s 317us/step - loss: 1.6321 - mean_absolute_error: 1.6321 - val_loss: 1.5203 - val_mean_absolute_error: 1.5203\n",
      "Epoch 26/100\n",
      "59904/60000 [============================>.] - ETA: 0s - loss: 1.5893 - mean_absolute_error: 1.5893Epoch 00026: val_loss improved from 1.52027 to 1.43631, saving model to myRNN_weights.h5\n",
      "60000/60000 [==============================] - 19s 320us/step - loss: 1.5889 - mean_absolute_error: 1.5889 - val_loss: 1.4363 - val_mean_absolute_error: 1.4363\n",
      "Epoch 27/100\n",
      "59904/60000 [============================>.] - ETA: 0s - loss: 1.5599 - mean_absolute_error: 1.5599Epoch 00027: val_loss improved from 1.43631 to 1.38836, saving model to myRNN_weights.h5\n",
      "60000/60000 [==============================] - 19s 315us/step - loss: 1.5600 - mean_absolute_error: 1.5600 - val_loss: 1.3884 - val_mean_absolute_error: 1.3884\n",
      "Epoch 28/100\n",
      "59904/60000 [============================>.] - ETA: 0s - loss: 1.5242 - mean_absolute_error: 1.5242Epoch 00028: val_loss improved from 1.38836 to 1.35093, saving model to myRNN_weights.h5\n",
      "60000/60000 [==============================] - 20s 331us/step - loss: 1.5239 - mean_absolute_error: 1.5239 - val_loss: 1.3509 - val_mean_absolute_error: 1.3509\n",
      "Epoch 29/100\n",
      "59904/60000 [============================>.] - ETA: 0s - loss: 1.5037 - mean_absolute_error: 1.5037Epoch 00029: val_loss did not improve\n",
      "60000/60000 [==============================] - 20s 341us/step - loss: 1.5035 - mean_absolute_error: 1.5035 - val_loss: 1.3639 - val_mean_absolute_error: 1.3639\n",
      "Epoch 30/100\n",
      "59904/60000 [============================>.] - ETA: 0s - loss: 1.4918 - mean_absolute_error: 1.4918Epoch 00030: val_loss improved from 1.35093 to 1.33173, saving model to myRNN_weights.h5\n",
      "60000/60000 [==============================] - 22s 366us/step - loss: 1.4919 - mean_absolute_error: 1.4919 - val_loss: 1.3317 - val_mean_absolute_error: 1.3317\n",
      "Epoch 31/100\n",
      "59904/60000 [============================>.] - ETA: 0s - loss: 1.4680 - mean_absolute_error: 1.4680Epoch 00031: val_loss improved from 1.33173 to 1.26493, saving model to myRNN_weights.h5\n",
      "60000/60000 [==============================] - 23s 378us/step - loss: 1.4683 - mean_absolute_error: 1.4683 - val_loss: 1.2649 - val_mean_absolute_error: 1.2649\n",
      "Epoch 32/100\n",
      "59904/60000 [============================>.] - ETA: 0s - loss: 1.4520 - mean_absolute_error: 1.4520Epoch 00032: val_loss did not improve\n",
      "60000/60000 [==============================] - 21s 347us/step - loss: 1.4518 - mean_absolute_error: 1.4518 - val_loss: 1.2941 - val_mean_absolute_error: 1.2941\n",
      "Epoch 33/100\n",
      "59904/60000 [============================>.] - ETA: 0s - loss: 1.4424 - mean_absolute_error: 1.4424Epoch 00033: val_loss did not improve\n",
      "60000/60000 [==============================] - 21s 352us/step - loss: 1.4424 - mean_absolute_error: 1.4424 - val_loss: 1.2687 - val_mean_absolute_error: 1.2687\n",
      "Epoch 34/100\n",
      "59904/60000 [============================>.] - ETA: 0s - loss: 1.4257 - mean_absolute_error: 1.4257Epoch 00034: val_loss improved from 1.26493 to 1.23113, saving model to myRNN_weights.h5\n",
      "60000/60000 [==============================] - 25s 410us/step - loss: 1.4256 - mean_absolute_error: 1.4256 - val_loss: 1.2311 - val_mean_absolute_error: 1.2311\n",
      "Epoch 35/100\n",
      "59904/60000 [============================>.] - ETA: 0s - loss: 1.4207 - mean_absolute_error: 1.4207Epoch 00035: val_loss did not improve\n",
      "60000/60000 [==============================] - 22s 361us/step - loss: 1.4202 - mean_absolute_error: 1.4202 - val_loss: 1.2727 - val_mean_absolute_error: 1.2727\n",
      "Epoch 36/100\n",
      "59904/60000 [============================>.] - ETA: 0s - loss: 1.4095 - mean_absolute_error: 1.4095Epoch 00036: val_loss did not improve\n",
      "60000/60000 [==============================] - 21s 344us/step - loss: 1.4094 - mean_absolute_error: 1.4094 - val_loss: 1.2331 - val_mean_absolute_error: 1.2331\n",
      "Epoch 37/100\n",
      "59904/60000 [============================>.] - ETA: 0s - loss: 1.3989 - mean_absolute_error: 1.3989Epoch 00037: val_loss improved from 1.23113 to 1.22927, saving model to myRNN_weights.h5\n",
      "60000/60000 [==============================] - 18s 308us/step - loss: 1.3993 - mean_absolute_error: 1.3993 - val_loss: 1.2293 - val_mean_absolute_error: 1.2293\n",
      "Epoch 38/100\n",
      "59904/60000 [============================>.] - ETA: 0s - loss: 1.3912 - mean_absolute_error: 1.3912Epoch 00038: val_loss improved from 1.22927 to 1.19332, saving model to myRNN_weights.h5\n",
      "60000/60000 [==============================] - 20s 330us/step - loss: 1.3914 - mean_absolute_error: 1.3914 - val_loss: 1.1933 - val_mean_absolute_error: 1.1933\n",
      "Epoch 39/100\n",
      "59904/60000 [============================>.] - ETA: 0s - loss: 1.3869 - mean_absolute_error: 1.3869Epoch 00039: val_loss improved from 1.19332 to 1.18749, saving model to myRNN_weights.h5\n",
      "60000/60000 [==============================] - 19s 317us/step - loss: 1.3872 - mean_absolute_error: 1.3872 - val_loss: 1.1875 - val_mean_absolute_error: 1.1875\n",
      "Epoch 40/100\n",
      "59904/60000 [============================>.] - ETA: 0s - loss: 1.3768 - mean_absolute_error: 1.3768Epoch 00040: val_loss did not improve\n",
      "60000/60000 [==============================] - 20s 328us/step - loss: 1.3768 - mean_absolute_error: 1.3768 - val_loss: 1.1894 - val_mean_absolute_error: 1.1894\n",
      "Epoch 41/100\n",
      "59904/60000 [============================>.] - ETA: 0s - loss: 1.3698 - mean_absolute_error: 1.3698Epoch 00041: val_loss improved from 1.18749 to 1.17105, saving model to myRNN_weights.h5\n",
      "60000/60000 [==============================] - 20s 335us/step - loss: 1.3698 - mean_absolute_error: 1.3698 - val_loss: 1.1710 - val_mean_absolute_error: 1.1710\n",
      "Epoch 42/100\n",
      "59904/60000 [============================>.] - ETA: 0s - loss: 1.3660 - mean_absolute_error: 1.366 - ETA: 0s - loss: 1.3656 - mean_absolute_error: 1.3656Epoch 00042: val_loss did not improve\n",
      "60000/60000 [==============================] - 23s 379us/step - loss: 1.3656 - mean_absolute_error: 1.3656 - val_loss: 1.1722 - val_mean_absolute_error: 1.1722\n",
      "Epoch 43/100\n",
      "59904/60000 [============================>.] - ETA: 0s - loss: 1.3577 - mean_absolute_error: 1.3577Epoch 00043: val_loss did not improve\n",
      "60000/60000 [==============================] - 20s 341us/step - loss: 1.3576 - mean_absolute_error: 1.3576 - val_loss: 1.1773 - val_mean_absolute_error: 1.1773\n",
      "Epoch 44/100\n",
      "59904/60000 [============================>.] - ETA: 0s - loss: 1.3591 - mean_absolute_error: 1.3591Epoch 00044: val_loss improved from 1.17105 to 1.15700, saving model to myRNN_weights.h5\n",
      "60000/60000 [==============================] - 20s 340us/step - loss: 1.3592 - mean_absolute_error: 1.3592 - val_loss: 1.1570 - val_mean_absolute_error: 1.1570\n",
      "Epoch 45/100\n",
      "59904/60000 [============================>.] - ETA: 0s - loss: 1.3463 - mean_absolute_error: 1.3463Epoch 00045: val_loss improved from 1.15700 to 1.14155, saving model to myRNN_weights.h5\n",
      "60000/60000 [==============================] - 21s 346us/step - loss: 1.3466 - mean_absolute_error: 1.3466 - val_loss: 1.1416 - val_mean_absolute_error: 1.1416\n",
      "Epoch 46/100\n",
      "59904/60000 [============================>.] - ETA: 0s - loss: 1.3458 - mean_absolute_error: 1.3458Epoch 00046: val_loss did not improve\n",
      "60000/60000 [==============================] - 19s 320us/step - loss: 1.3457 - mean_absolute_error: 1.3457 - val_loss: 1.1487 - val_mean_absolute_error: 1.1487\n",
      "Epoch 47/100\n",
      "59904/60000 [============================>.] - ETA: 0s - loss: 1.3336 - mean_absolute_error: 1.3336Epoch 00047: val_loss did not improve\n",
      "60000/60000 [==============================] - 20s 340us/step - loss: 1.3336 - mean_absolute_error: 1.3336 - val_loss: 1.1437 - val_mean_absolute_error: 1.1437\n"
     ]
    },
    {
     "name": "stdout",
     "output_type": "stream",
     "text": [
      "Epoch 48/100\n",
      "59904/60000 [============================>.] - ETA: 0s - loss: 1.3332 - mean_absolute_error: 1.3332- ETA: 3s - loss: 1Epoch 00048: val_loss improved from 1.14155 to 1.11094, saving model to myRNN_weights.h5\n",
      "60000/60000 [==============================] - 23s 390us/step - loss: 1.3335 - mean_absolute_error: 1.3335 - val_loss: 1.1109 - val_mean_absolute_error: 1.1109\n",
      "Epoch 49/100\n",
      "59904/60000 [============================>.] - ETA: 0s - loss: 1.3269 - mean_absolute_error: 1.3269Epoch 00049: val_loss did not improve\n",
      "60000/60000 [==============================] - 25s 410us/step - loss: 1.3269 - mean_absolute_error: 1.3269 - val_loss: 1.1496 - val_mean_absolute_error: 1.1496\n",
      "Epoch 50/100\n",
      "59904/60000 [============================>.] - ETA: 0s - loss: 1.3270 - mean_absolute_error: 1.3270Epoch 00050: val_loss improved from 1.11094 to 1.09858, saving model to myRNN_weights.h5\n",
      "60000/60000 [==============================] - 25s 414us/step - loss: 1.3268 - mean_absolute_error: 1.3268 - val_loss: 1.0986 - val_mean_absolute_error: 1.0986\n",
      "Epoch 51/100\n",
      "59904/60000 [============================>.] - ETA: 0s - loss: 1.3187 - mean_absolute_error: 1.3187Epoch 00051: val_loss did not improve\n",
      "60000/60000 [==============================] - 23s 388us/step - loss: 1.3191 - mean_absolute_error: 1.3191 - val_loss: 1.1098 - val_mean_absolute_error: 1.1098\n",
      "Epoch 52/100\n",
      "59904/60000 [============================>.] - ETA: 0s - loss: 1.3186 - mean_absolute_error: 1.3186Epoch 00052: val_loss improved from 1.09858 to 1.09719, saving model to myRNN_weights.h5\n",
      "60000/60000 [==============================] - 21s 354us/step - loss: 1.3187 - mean_absolute_error: 1.3187 - val_loss: 1.0972 - val_mean_absolute_error: 1.0972\n",
      "Epoch 53/100\n",
      "59904/60000 [============================>.] - ETA: 0s - loss: 1.3103 - mean_absolute_error: 1.3103Epoch 00053: val_loss did not improve\n",
      "60000/60000 [==============================] - 20s 336us/step - loss: 1.3102 - mean_absolute_error: 1.3102 - val_loss: 1.1761 - val_mean_absolute_error: 1.1761\n",
      "Epoch 54/100\n",
      "59904/60000 [============================>.] - ETA: 0s - loss: 1.3116 - mean_absolute_error: 1.3116Epoch 00054: val_loss improved from 1.09719 to 1.08723, saving model to myRNN_weights.h5\n",
      "60000/60000 [==============================] - 20s 336us/step - loss: 1.3115 - mean_absolute_error: 1.3115 - val_loss: 1.0872 - val_mean_absolute_error: 1.0872\n",
      "Epoch 55/100\n",
      "59904/60000 [============================>.] - ETA: 0s - loss: 1.3059 - mean_absolute_error: 1.3059Epoch 00055: val_loss did not improve\n",
      "60000/60000 [==============================] - 24s 407us/step - loss: 1.3059 - mean_absolute_error: 1.3059 - val_loss: 1.1798 - val_mean_absolute_error: 1.1798\n",
      "Epoch 56/100\n",
      "59904/60000 [============================>.] - ETA: 0s - loss: 1.3035 - mean_absolute_error: 1.3035Epoch 00056: val_loss did not improve\n",
      "60000/60000 [==============================] - 26s 431us/step - loss: 1.3036 - mean_absolute_error: 1.3036 - val_loss: 1.1133 - val_mean_absolute_error: 1.1133\n",
      "Epoch 57/100\n",
      "59904/60000 [============================>.] - ETA: 0s - loss: 1.3012 - mean_absolute_error: 1.3012Epoch 00057: val_loss did not improve\n",
      "60000/60000 [==============================] - 27s 442us/step - loss: 1.3012 - mean_absolute_error: 1.3012 - val_loss: 1.0897 - val_mean_absolute_error: 1.0897\n",
      "Epoch 58/100\n",
      "59904/60000 [============================>.] - ETA: 0s - loss: 1.2964 - mean_absolute_error: 1.2964Epoch 00058: val_loss improved from 1.08723 to 1.08039, saving model to myRNN_weights.h5\n",
      "60000/60000 [==============================] - 27s 444us/step - loss: 1.2967 - mean_absolute_error: 1.2967 - val_loss: 1.0804 - val_mean_absolute_error: 1.0804\n",
      "Epoch 59/100\n",
      "59904/60000 [============================>.] - ETA: 0s - loss: 1.2951 - mean_absolute_error: 1.2951Epoch 00059: val_loss did not improve\n",
      "60000/60000 [==============================] - 27s 446us/step - loss: 1.2950 - mean_absolute_error: 1.2950 - val_loss: 1.0898 - val_mean_absolute_error: 1.0898\n",
      "Epoch 60/100\n",
      "59904/60000 [============================>.] - ETA: 0s - loss: 1.2916 - mean_absolute_error: 1.2916Epoch 00060: val_loss did not improve\n",
      "60000/60000 [==============================] - 26s 426us/step - loss: 1.2915 - mean_absolute_error: 1.2915 - val_loss: 1.1040 - val_mean_absolute_error: 1.1040\n",
      "Epoch 61/100\n",
      "59904/60000 [============================>.] - ETA: 0s - loss: 1.2840 - mean_absolute_error: 1.2840Epoch 00061: val_loss did not improve\n",
      "60000/60000 [==============================] - 26s 435us/step - loss: 1.2839 - mean_absolute_error: 1.2839 - val_loss: 1.1041 - val_mean_absolute_error: 1.1041\n",
      "Epoch 62/100\n",
      "59904/60000 [============================>.] - ETA: 0s - loss: 1.2834 - mean_absolute_error: 1.2834Epoch 00062: val_loss improved from 1.08039 to 1.06427, saving model to myRNN_weights.h5\n",
      "60000/60000 [==============================] - 25s 415us/step - loss: 1.2836 - mean_absolute_error: 1.2836 - val_loss: 1.0643 - val_mean_absolute_error: 1.0643\n",
      "Epoch 63/100\n",
      "59904/60000 [============================>.] - ETA: 0s - loss: 1.2881 - mean_absolute_error: 1.2881Epoch 00063: val_loss did not improve\n",
      "60000/60000 [==============================] - 23s 391us/step - loss: 1.2884 - mean_absolute_error: 1.2884 - val_loss: 1.0963 - val_mean_absolute_error: 1.0963\n",
      "Epoch 64/100\n",
      "59904/60000 [============================>.] - ETA: 0s - loss: 1.2865 - mean_absolute_error: 1.2865Epoch 00064: val_loss did not improve\n",
      "60000/60000 [==============================] - 27s 444us/step - loss: 1.2864 - mean_absolute_error: 1.2864 - val_loss: 1.0672 - val_mean_absolute_error: 1.0672\n",
      "Epoch 65/100\n",
      "59904/60000 [============================>.] - ETA: 0s - loss: 1.2777 - mean_absolute_error: 1.2777- ETA:Epoch 00065: val_loss did not improve\n",
      "60000/60000 [==============================] - 26s 429us/step - loss: 1.2780 - mean_absolute_error: 1.2780 - val_loss: 1.1416 - val_mean_absolute_error: 1.1416\n",
      "Epoch 66/100\n",
      "59904/60000 [============================>.] - ETA: 0s - loss: 1.2796 - mean_absolute_error: 1.2796- ETA: 0s - loss: 1.2796 - mean_absolute_error: 1.279Epoch 00066: val_loss improved from 1.06427 to 1.05147, saving model to myRNN_weights.h5\n",
      "60000/60000 [==============================] - 24s 399us/step - loss: 1.2797 - mean_absolute_error: 1.2797 - val_loss: 1.0515 - val_mean_absolute_error: 1.0515\n",
      "Epoch 67/100\n",
      "59904/60000 [============================>.] - ETA: 0s - loss: 1.2739 - mean_absolute_error: 1.2739Epoch 00067: val_loss did not improve\n",
      "60000/60000 [==============================] - 26s 427us/step - loss: 1.2740 - mean_absolute_error: 1.2740 - val_loss: 1.0568 - val_mean_absolute_error: 1.0568\n",
      "Epoch 68/100\n",
      "59904/60000 [============================>.] - ETA: 0s - loss: 1.2808 - mean_absolute_error: 1.2808Epoch 00068: val_loss did not improve\n",
      "60000/60000 [==============================] - 26s 428us/step - loss: 1.2809 - mean_absolute_error: 1.2809 - val_loss: 1.0650 - val_mean_absolute_error: 1.0650\n",
      "Epoch 69/100\n",
      "59904/60000 [============================>.] - ETA: 0s - loss: 1.2723 - mean_absolute_error: 1.2723Epoch 00069: val_loss did not improve\n",
      "60000/60000 [==============================] - 24s 401us/step - loss: 1.2725 - mean_absolute_error: 1.2725 - val_loss: 1.1006 - val_mean_absolute_error: 1.1006\n",
      "Epoch 70/100\n",
      "59904/60000 [============================>.] - ETA: 0s - loss: 1.2729 - mean_absolute_error: 1.2729Epoch 00070: val_loss improved from 1.05147 to 1.05126, saving model to myRNN_weights.h5\n",
      "60000/60000 [==============================] - 26s 427us/step - loss: 1.2731 - mean_absolute_error: 1.2731 - val_loss: 1.0513 - val_mean_absolute_error: 1.0513\n",
      "Epoch 71/100\n",
      "59904/60000 [============================>.] - ETA: 0s - loss: 1.2592 - mean_absolute_error: 1.2592Epoch 00071: val_loss did not improve\n",
      "60000/60000 [==============================] - 27s 448us/step - loss: 1.2588 - mean_absolute_error: 1.2588 - val_loss: 1.0536 - val_mean_absolute_error: 1.0536\n",
      "Epoch 72/100\n",
      "59904/60000 [============================>.] - ETA: 0s - loss: 1.2673 - mean_absolute_error: 1.2673Epoch 00072: val_loss did not improve\n",
      "60000/60000 [==============================] - 24s 405us/step - loss: 1.2675 - mean_absolute_error: 1.2675 - val_loss: 1.0825 - val_mean_absolute_error: 1.0825\n"
     ]
    },
    {
     "name": "stdout",
     "output_type": "stream",
     "text": [
      "Epoch 73/100\n",
      "59904/60000 [============================>.] - ETA: 0s - loss: 1.2602 - mean_absolute_error: 1.2602Epoch 00073: val_loss did not improve\n",
      "60000/60000 [==============================] - 22s 362us/step - loss: 1.2596 - mean_absolute_error: 1.2596 - val_loss: 1.0628 - val_mean_absolute_error: 1.0628\n",
      "Epoch 74/100\n",
      "59904/60000 [============================>.] - ETA: 0s - loss: 1.2636 - mean_absolute_error: 1.2636Epoch 00074: val_loss improved from 1.05126 to 1.04001, saving model to myRNN_weights.h5\n",
      "60000/60000 [==============================] - 19s 325us/step - loss: 1.2638 - mean_absolute_error: 1.2638 - val_loss: 1.0400 - val_mean_absolute_error: 1.0400\n",
      "Epoch 75/100\n",
      "59904/60000 [============================>.] - ETA: 0s - loss: 1.2653 - mean_absolute_error: 1.2653Epoch 00075: val_loss did not improve\n",
      "60000/60000 [==============================] - 22s 367us/step - loss: 1.2651 - mean_absolute_error: 1.2651 - val_loss: 1.0481 - val_mean_absolute_error: 1.0481\n",
      "Epoch 76/100\n",
      "59904/60000 [============================>.] - ETA: 0s - loss: 1.2595 - mean_absolute_error: 1.2595Epoch 00076: val_loss did not improve\n",
      "60000/60000 [==============================] - 21s 356us/step - loss: 1.2594 - mean_absolute_error: 1.2594 - val_loss: 1.0941 - val_mean_absolute_error: 1.0941\n",
      "Epoch 77/100\n",
      "59904/60000 [============================>.] - ETA: 0s - loss: 1.2562 - mean_absolute_error: 1.2562Epoch 00077: val_loss did not improve\n",
      "60000/60000 [==============================] - 19s 323us/step - loss: 1.2560 - mean_absolute_error: 1.2560 - val_loss: 1.0671 - val_mean_absolute_error: 1.0671\n",
      "Epoch 78/100\n",
      "59904/60000 [============================>.] - ETA: 0s - loss: 1.2498 - mean_absolute_error: 1.2498Epoch 00078: val_loss improved from 1.04001 to 1.03003, saving model to myRNN_weights.h5\n",
      "60000/60000 [==============================] - 22s 361us/step - loss: 1.2498 - mean_absolute_error: 1.2498 - val_loss: 1.0300 - val_mean_absolute_error: 1.0300\n",
      "Epoch 79/100\n",
      "59904/60000 [============================>.] - ETA: 0s - loss: 1.2438 - mean_absolute_error: 1.2438Epoch 00079: val_loss did not improve\n",
      "60000/60000 [==============================] - 22s 359us/step - loss: 1.2436 - mean_absolute_error: 1.2436 - val_loss: 1.0354 - val_mean_absolute_error: 1.0354\n",
      "Epoch 80/100\n",
      "59904/60000 [============================>.] - ETA: 0s - loss: 1.2552 - mean_absolute_error: 1.2552Epoch 00080: val_loss did not improve\n",
      "60000/60000 [==============================] - 20s 330us/step - loss: 1.2551 - mean_absolute_error: 1.2551 - val_loss: 1.0445 - val_mean_absolute_error: 1.0445\n",
      "Epoch 81/100\n",
      "59904/60000 [============================>.] - ETA: 0s - loss: 1.2508 - mean_absolute_error: 1.2508- ETA: 3s - lEpoch 00081: val_loss did not improve\n",
      "60000/60000 [==============================] - 22s 369us/step - loss: 1.2510 - mean_absolute_error: 1.2510 - val_loss: 1.0305 - val_mean_absolute_error: 1.0305\n",
      "Epoch 82/100\n",
      "59904/60000 [============================>.] - ETA: 0s - loss: 1.2430 - mean_absolute_error: 1.2430Epoch 00082: val_loss improved from 1.03003 to 1.02327, saving model to myRNN_weights.h5\n",
      "60000/60000 [==============================] - 21s 344us/step - loss: 1.2429 - mean_absolute_error: 1.2429 - val_loss: 1.0233 - val_mean_absolute_error: 1.0233\n",
      "Epoch 83/100\n",
      "59904/60000 [============================>.] - ETA: 0s - loss: 1.2474 - mean_absolute_error: 1.2474Epoch 00083: val_loss did not improve\n",
      "60000/60000 [==============================] - 22s 366us/step - loss: 1.2475 - mean_absolute_error: 1.2475 - val_loss: 1.0506 - val_mean_absolute_error: 1.0506\n",
      "Epoch 84/100\n",
      "59904/60000 [============================>.] - ETA: 0s - loss: 1.2388 - mean_absolute_error: 1.2388Epoch 00084: val_loss did not improve\n",
      "60000/60000 [==============================] - 21s 351us/step - loss: 1.2389 - mean_absolute_error: 1.2389 - val_loss: 1.0341 - val_mean_absolute_error: 1.0341\n",
      "Epoch 85/100\n",
      "59904/60000 [============================>.] - ETA: 0s - loss: 1.2424 - mean_absolute_error: 1.2424Epoch 00085: val_loss did not improve\n",
      "60000/60000 [==============================] - 20s 325us/step - loss: 1.2424 - mean_absolute_error: 1.2424 - val_loss: 1.0300 - val_mean_absolute_error: 1.0300\n",
      "Epoch 86/100\n",
      "59904/60000 [============================>.] - ETA: 0s - loss: 1.2378 - mean_absolute_error: 1.2378- ETA: 3s -Epoch 00086: val_loss improved from 1.02327 to 1.02149, saving model to myRNN_weights.h5\n",
      "60000/60000 [==============================] - 23s 377us/step - loss: 1.2376 - mean_absolute_error: 1.2376 - val_loss: 1.0215 - val_mean_absolute_error: 1.0215\n",
      "Epoch 87/100\n",
      "59904/60000 [============================>.] - ETA: 0s - loss: 1.2461 - mean_absolute_error: 1.2461Epoch 00087: val_loss did not improve\n",
      "60000/60000 [==============================] - 22s 360us/step - loss: 1.2461 - mean_absolute_error: 1.2461 - val_loss: 1.0425 - val_mean_absolute_error: 1.0425\n",
      "Epoch 88/100\n",
      "59904/60000 [============================>.] - ETA: 0s - loss: 1.2384 - mean_absolute_error: 1.2384Epoch 00088: val_loss did not improve\n",
      "60000/60000 [==============================] - 20s 331us/step - loss: 1.2385 - mean_absolute_error: 1.2385 - val_loss: 1.0335 - val_mean_absolute_error: 1.0335\n",
      "Epoch 89/100\n",
      "59904/60000 [============================>.] - ETA: 0s - loss: 1.2401 - mean_absolute_error: 1.2401Epoch 00089: val_loss did not improve\n",
      "60000/60000 [==============================] - 22s 371us/step - loss: 1.2403 - mean_absolute_error: 1.2403 - val_loss: 1.0319 - val_mean_absolute_error: 1.0319\n",
      "Epoch 90/100\n",
      "59904/60000 [============================>.] - ETA: 0s - loss: 1.2321 - mean_absolute_error: 1.2321Epoch 00090: val_loss improved from 1.02149 to 1.01519, saving model to myRNN_weights.h5\n",
      "60000/60000 [==============================] - 21s 343us/step - loss: 1.2320 - mean_absolute_error: 1.2320 - val_loss: 1.0152 - val_mean_absolute_error: 1.0152\n",
      "Epoch 91/100\n",
      "59904/60000 [============================>.] - ETA: 0s - loss: 1.2343 - mean_absolute_error: 1.2343Epoch 00091: val_loss improved from 1.01519 to 1.00773, saving model to myRNN_weights.h5\n",
      "60000/60000 [==============================] - 21s 347us/step - loss: 1.2339 - mean_absolute_error: 1.2339 - val_loss: 1.0077 - val_mean_absolute_error: 1.0077\n",
      "Epoch 92/100\n",
      "59904/60000 [============================>.] - ETA: 0s - loss: 1.2382 - mean_absolute_error: 1.2382- ETA: 1s - loss: 1.2379 - mean_abEpoch 00092: val_loss improved from 1.00773 to 1.00711, saving model to myRNN_weights.h5\n",
      "60000/60000 [==============================] - 23s 380us/step - loss: 1.2381 - mean_absolute_error: 1.2381 - val_loss: 1.0071 - val_mean_absolute_error: 1.0071\n",
      "Epoch 93/100\n",
      "59904/60000 [============================>.] - ETA: 0s - loss: 1.2274 - mean_absolute_error: 1.2274Epoch 00093: val_loss did not improve\n",
      "60000/60000 [==============================] - 20s 334us/step - loss: 1.2280 - mean_absolute_error: 1.2280 - val_loss: 1.0561 - val_mean_absolute_error: 1.0561\n",
      "Epoch 94/100\n",
      "59904/60000 [============================>.] - ETA: 0s - loss: 1.2347 - mean_absolute_error: 1.2347Epoch 00094: val_loss did not improve\n",
      "60000/60000 [==============================] - 21s 353us/step - loss: 1.2347 - mean_absolute_error: 1.2347 - val_loss: 1.0481 - val_mean_absolute_error: 1.0481\n",
      "Epoch 95/100\n",
      "59904/60000 [============================>.] - ETA: 0s - loss: 1.2252 - mean_absolute_error: 1.2252Epoch 00095: val_loss did not improve\n",
      "60000/60000 [==============================] - 23s 376us/step - loss: 1.2250 - mean_absolute_error: 1.2250 - val_loss: 1.0179 - val_mean_absolute_error: 1.0179\n",
      "Epoch 96/100\n",
      "59904/60000 [============================>.] - ETA: 0s - loss: 1.2332 - mean_absolute_error: 1.2332Epoch 00096: val_loss did not improve\n",
      "60000/60000 [==============================] - 20s 337us/step - loss: 1.2334 - mean_absolute_error: 1.2334 - val_loss: 1.0228 - val_mean_absolute_error: 1.0228\n",
      "Epoch 97/100\n",
      "59904/60000 [============================>.] - ETA: 0s - loss: 1.2313 - mean_absolute_error: 1.2313Epoch 00097: val_loss did not improve\n",
      "60000/60000 [==============================] - 23s 378us/step - loss: 1.2308 - mean_absolute_error: 1.2308 - val_loss: 1.0330 - val_mean_absolute_error: 1.0330\n",
      "Epoch 98/100\n"
     ]
    },
    {
     "name": "stdout",
     "output_type": "stream",
     "text": [
      "59904/60000 [============================>.] - ETA: 0s - loss: 1.2227 - mean_absolute_error: 1.2227Epoch 00098: val_loss improved from 1.00711 to 1.00528, saving model to myRNN_weights.h5\n",
      "60000/60000 [==============================] - 20s 339us/step - loss: 1.2226 - mean_absolute_error: 1.2226 - val_loss: 1.0053 - val_mean_absolute_error: 1.0053\n",
      "Epoch 99/100\n",
      "59904/60000 [============================>.] - ETA: 0s - loss: 1.2212 - mean_absolute_error: 1.2212Epoch 00099: val_loss improved from 1.00528 to 1.00211, saving model to myRNN_weights.h5\n",
      "60000/60000 [==============================] - 23s 386us/step - loss: 1.2213 - mean_absolute_error: 1.2213 - val_loss: 1.0021 - val_mean_absolute_error: 1.0021\n",
      "Epoch 100/100\n",
      "59904/60000 [============================>.] - ETA: 0s - loss: 1.2224 - mean_absolute_error: 1.2224Epoch 00100: val_loss did not improve\n",
      "60000/60000 [==============================] - 21s 354us/step - loss: 1.2225 - mean_absolute_error: 1.2225 - val_loss: 1.0157 - val_mean_absolute_error: 1.0157\n"
     ]
    }
   ],
   "source": [
    "nEpochs = 100\n",
    "\n",
    "myRNN_hist = myRNN.fit(X_train, y_train, epochs=nEpochs, batch_size=256,validation_split=0.25,\n",
    "                 callbacks=[earlyStop, myRNN_mChkPt],) # callbacks=[earlyStop, myRNN_mChkPt])"
   ]
  },
  {
   "cell_type": "code",
   "execution_count": 18,
   "metadata": {},
   "outputs": [
    {
     "data": {
      "text/plain": [
       "<matplotlib.legend.Legend at 0x1db34699128>"
      ]
     },
     "execution_count": 18,
     "metadata": {},
     "output_type": "execute_result"
    },
    {
     "data": {
      "image/png": "[encoded data removed]",
      "text/plain": [
       "<Figure size 432x288 with 1 Axes>"
      ]
     },
     "metadata": {
      "needs_background": "light"
     },
     "output_type": "display_data"
    }
   ],
   "source": [
    "epochs = np.arange(1,len(myRNN_hist.history['loss'])+1)\n",
    "\n",
    "plt.plot(epochs,myRNN_hist.history['loss'],label='training')\n",
    "plt.plot(epochs,myRNN_hist.history['val_loss'],label='validation')\n",
    "plt.xlabel('epochs',fontsize=14)\n",
    "plt.ylabel('MSE loss',fontsize=14)\n",
    "plt.legend()"
   ]
  },
  {
   "cell_type": "code",
   "execution_count": 19,
   "metadata": {},
   "outputs": [],
   "source": [
    "results=myRNN.predict(X_test)"
   ]
  },
  {
   "cell_type": "code",
   "execution_count": 20,
   "metadata": {},
   "outputs": [
    {
     "data": {
      "text/plain": [
       "array([[-1.24140129e+00, -8.88192000e-01,  9.94241735e-01,\n",
       "        -3.48758960e+00, -2.26321569e+00,  2.46167972e+00],\n",
       "       [-8.51117036e+00, -1.26717577e+00, -6.36053884e+00,\n",
       "        -1.91485971e+01, -2.83072612e+00, -1.51046790e+01],\n",
       "       [-1.36862621e-02, -4.78984242e-02, -2.67514389e-01,\n",
       "        -4.80987654e-02, -1.49361153e-01, -6.03017945e-01],\n",
       "       ...,\n",
       "       [-1.60835268e-01, -1.19740543e-02, -1.07830609e-01,\n",
       "        -1.10618069e+00, -1.17571043e-01, -7.76054401e-01],\n",
       "       [-7.25770497e-02, -3.50309500e-02, -2.60381413e-01,\n",
       "        -3.58773002e+00, -1.45284391e+00, -1.34700448e+01],\n",
       "       [ 4.17528040e+00, -1.00886561e+00,  2.89703501e+00,\n",
       "         5.59305105e+00, -1.35187053e+00,  4.07725993e+00]])"
      ]
     },
     "execution_count": 20,
     "metadata": {},
     "output_type": "execute_result"
    }
   ],
   "source": [
    "y_test"
   ]
  },
  {
   "cell_type": "code",
   "execution_count": 23,
   "metadata": {},
   "outputs": [
    {
     "data": {
      "text/plain": [
       "array([[ 0.41204707,  0.58094349,  0.37507779, -0.02337146,  0.21841183,\n",
       "         0.05194956],\n",
       "       [-0.56747293, -0.43625976, -0.47986848, -0.66950336, -0.54154851,\n",
       "        -0.6110813 ],\n",
       "       [ 1.09298498,  0.11684774,  0.93079942,  0.84642937, -0.06236174,\n",
       "         1.25966563],\n",
       "       ...,\n",
       "       [ 3.53251925,  4.77539957,  3.57591692,  0.6798615 ,  0.63707265,\n",
       "         0.71351295],\n",
       "       [14.09553344, 11.46632475, 10.55105835, -0.43284465, -0.4594923 ,\n",
       "        -0.57675777],\n",
       "       [-0.398921  , -0.41353872, -0.44652154, -0.15028829, -0.1378671 ,\n",
       "        -0.20613938]])"
      ]
     },
     "execution_count": 23,
     "metadata": {},
     "output_type": "execute_result"
    }
   ],
   "source": [
    "(results-y_test)/y_test"
   ]
  },
  {
   "cell_type": "code",
   "execution_count": 27,
   "metadata": {},
   "outputs": [
    {
     "data": {
      "text/plain": [
       "jet_energy                                               43075.4\n",
       "jet_flavour                                                    5\n",
       "secVtx_x                                              0.00417528\n",
       "secVtx_y                                             -0.00100887\n",
       "secVtx_z                                              0.00289704\n",
       "terVtx_x                                              0.00559305\n",
       "terVtx_y                                             -0.00135187\n",
       "terVtx_z                                              0.00407726\n",
       "tracks         [[2.010621651929816e-06, -4.989406079403125e-0...\n",
       "Name: 99999, dtype: object"
      ]
     },
     "execution_count": 27,
     "metadata": {},
     "output_type": "execute_result"
    }
   ],
   "source": [
    "bjets_DF.iloc[-1]"
   ]
  },
  {
   "cell_type": "code",
   "execution_count": null,
   "metadata": {},
   "outputs": [],
   "source": [
    "# look at worst perfoming cases and examine the tracks\n",
    "# look at actual uncertainty on overlap for the vertex\n",
    "# re-run with minimised errors on tracks see if performance is better"
   ]
  },
  {
   "cell_type": "code",
   "execution_count": 152,
   "metadata": {},
   "outputs": [
    {
     "data": {
      "text/plain": [
       "array([[-0.05486715, -0.45196092, -2.455217  , -0.1861686 , -0.99255735,\n",
       "        -5.3714914 ]], dtype=float32)"
      ]
     },
     "execution_count": 152,
     "metadata": {},
     "output_type": "execute_result"
    }
   ],
   "source": [
    "myRNN.predict(np.array([X_test[2]]))"
   ]
  },
  {
   "cell_type": "markdown",
   "metadata": {},
   "source": [
    "couple of things, first the RNN looks like it predicts the same value for all cases. This might be because it uses the null tracks at the end of every single jet and just predicts off of those.\n",
    "Maybe should consider predicting values that are at least order unity, because mse is gonna be very small otherwise, so convert the vertices into different units (I dunno maybe millimeters or microns)"
   ]
  },
  {
   "cell_type": "code",
   "execution_count": null,
   "metadata": {},
   "outputs": [],
   "source": []
  }
 ],
 "metadata": {
  "kernelspec": {
   "display_name": "Python 3",
   "language": "python",
   "name": "python3"
  },
  "language_info": {
   "codemirror_mode": {
    "name": "ipython",
    "version": 3
   },
   "file_extension": ".py",
   "mimetype": "text/x-python",
   "name": "python",
   "nbconvert_exporter": "python",
   "pygments_lexer": "ipython3",
   "version": "3.6.7"
  }
 },
 "nbformat": 4,
 "nbformat_minor": 2
}
