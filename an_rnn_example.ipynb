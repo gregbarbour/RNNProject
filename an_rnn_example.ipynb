{
 "cells": [
  {
   "cell_type": "code",
   "execution_count": 1,
   "metadata": {},
   "outputs": [
    {
     "name": "stderr",
     "output_type": "stream",
     "text": [
      "Using TensorFlow backend.\n"
     ]
    }
   ],
   "source": [
    "import numpy as np\n",
    "import matplotlib.pyplot as plt\n",
    "import pandas as pd\n",
    "import math\n",
    "import pickle\n",
    "from keras.models import Sequential, Model\n",
    "from keras.callbacks import EarlyStopping, ModelCheckpoint\n",
    "\n",
    "from keras.layers import BatchNormalization, Layer, TimeDistributed, Dropout\n",
    "from keras.layers import Dense, Input, Masking, LSTM\n",
    "from sklearn.preprocessing import MinMaxScaler\n",
    "from sklearn.metrics import mean_squared_error"
   ]
  },
  {
   "cell_type": "markdown",
   "metadata": {},
   "source": [
    "## Data Loading and Pre-Processing"
   ]
  },
  {
   "cell_type": "markdown",
   "metadata": {},
   "source": [
    "Let's start by trying to load in our toy jets, and then separate into features (to train on) and labels (to predict).\n",
    "\n",
    "For features, first try d0, z0, phi, theta, qOverP, (refPx, refPy, refPz)?. Essentially the track parameters.\n",
    "\n",
    "For labels, Xs, Ys, Zs, Xt, Yt, Zt. That is the secondary and tertiary vertices. Omit the primary as this has been fixed to (0,0,0). This will require some smart selection for c and light jets, where not all vertices are present. If a vertex is not present, could try predicting (0,0,0) or (-1,-1,-1) or previous vertex (prim or sec)."
   ]
  },
  {
   "cell_type": "code",
   "execution_count": 2,
   "metadata": {},
   "outputs": [],
   "source": [
    "bjets_DF = pd.read_pickle(\"./bjetscp.pkl\")\n",
    "#cjets_DF = pd.read_pickle(\"./cjets.pkl\")\n",
    "#ljets_DF = pd.read_pickle(\"./ljets.pkl\")"
   ]
  },
  {
   "cell_type": "markdown",
   "metadata": {},
   "source": [
    "Extract the track parameters as our features"
   ]
  },
  {
   "cell_type": "code",
   "execution_count": 3,
   "metadata": {},
   "outputs": [
    {
     "name": "stdout",
     "output_type": "stream",
     "text": [
      "Wall time: 9.83 s\n"
     ]
    }
   ],
   "source": [
    "%%time\n",
    "trks=np.zeros((len(bjets_DF), 30, 5))\n",
    "\n",
    "for i in range(len(bjets_DF)):\n",
    "    trks[i] = np.array([bjets_DF['tracks'][i]])[:,:,0:5]\n",
    "    \n"
   ]
  },
  {
   "cell_type": "code",
   "execution_count": 4,
   "metadata": {},
   "outputs": [],
   "source": [
    "X = trks # following convention name the features as the vector 'X'"
   ]
  },
  {
   "cell_type": "markdown",
   "metadata": {},
   "source": [
    "I think we want to ensure all paramters are approx unity in order not to bias the RNN towards a particular feature. phi and theta are already approx unity (order pi), but qOverP is very small order 1e-4 and IP are also small (but scale multiple orders of magnitude) 1e-6 to 1e-2 (unfortunately)\n",
    "\n",
    "So maybe want to use a min max scaler or some thing."
   ]
  },
  {
   "cell_type": "code",
   "execution_count": 77,
   "metadata": {},
   "outputs": [
    {
     "data": {
      "text/plain": [
       "(array([4.14954e+05, 3.90070e+04, 2.75800e+04, ..., 0.00000e+00,\n",
       "        0.00000e+00, 1.00000e+00]),\n",
       " array([2.84850237e-10, 2.49984511e-05, 4.99966173e-05, ...,\n",
       "        2.49731683e-02, 2.49981665e-02, 2.50231647e-02]),\n",
       " <a list of 1001 Patch objects>)"
      ]
     },
     "execution_count": 77,
     "metadata": {},
     "output_type": "execute_result"
    },
    {
     "data": {
      "image/png": "[encoded data removed]",
      "text/plain": [
       "<Figure size 432x288 with 1 Axes>"
      ]
     },
     "metadata": {
      "needs_background": "light"
     },
     "output_type": "display_data"
    }
   ],
   "source": [
    "d0s = np.reshape(X[:,:,0],(3000000))\n",
    "d0s = d0s[~(d0s == 0)]\n",
    "d0s\n",
    "plt.hist(d0s,bins='scott') # I believe this is the array containing all the d0s"
   ]
  },
  {
   "cell_type": "code",
   "execution_count": 102,
   "metadata": {},
   "outputs": [
    {
     "name": "stdout",
     "output_type": "stream",
     "text": [
      "0.9593741068094633\n",
      "-0.15895918021723643\n",
      "2.029405298393992\n"
     ]
    }
   ],
   "source": [
    "print(np.mean(X[:,:,0]*1e4))\n",
    "print(np.mean(X[:,:,1]*1e6))\n",
    "print(np.mean(X[:,:,4]*1e4))\n",
    "# so we will apply the above multiples, this will bring the averages to about unity (unfortunately some outliers will\n",
    "# be very large, so probs better to use a min max scaler or something but then exclude 0?)"
   ]
  },
  {
   "cell_type": "markdown",
   "metadata": {},
   "source": [
    "Here we scale all the features to bring them to average unity, this is very simplistic so we need a better way in future\n",
    "\n",
    "It means it works faster."
   ]
  },
  {
   "cell_type": "code",
   "execution_count": 103,
   "metadata": {},
   "outputs": [],
   "source": [
    "#firsttime=True"
   ]
  },
  {
   "cell_type": "code",
   "execution_count": 104,
   "metadata": {},
   "outputs": [],
   "source": [
    "#if firsttime==True:\n",
    "#    X[:,:,0]=X[:,:,0]*1e4\n",
    "#    X[:,:,1]=X[:,:,1]*1e6\n",
    "#    X[:,:,4]=X[:,:,4]*1e4\n",
    "#    firsttime = False"
   ]
  },
  {
   "cell_type": "markdown",
   "metadata": {},
   "source": [
    "Here we instead use a min-max scaler to try and solve the problem of scale i.e. certain IPs are 10^4 times larger than others. The min-max scaler means all features will be scaled equivalently."
   ]
  },
  {
   "cell_type": "code",
   "execution_count": 121,
   "metadata": {},
   "outputs": [],
   "source": [
    "# minmax scaling"
   ]
  },
  {
   "cell_type": "code",
   "execution_count": 142,
   "metadata": {},
   "outputs": [],
   "source": [
    "ting=np.array([[12,32,121,32,21],[222222,321323,121231231,123123123,1312311]])\n",
    "ting=ting.T"
   ]
  },
  {
   "cell_type": "code",
   "execution_count": 143,
   "metadata": {
    "scrolled": true
   },
   "outputs": [
    {
     "data": {
      "text/plain": [
       "array([[0.00000000e+00, 0.00000000e+00],\n",
       "       [1.83486239e-01, 8.06348848e-04],\n",
       "       [1.00000000e+00, 9.84606362e-01],\n",
       "       [1.83486239e-01, 1.00000000e+00],\n",
       "       [8.25688073e-02, 8.86965833e-03]])"
      ]
     },
     "execution_count": 143,
     "metadata": {},
     "output_type": "execute_result"
    }
   ],
   "source": [
    "scaler=MinMaxScaler()\n",
    "scaler.fit(ting)\n",
    "scaler.transform(ting)"
   ]
  },
  {
   "cell_type": "code",
   "execution_count": 144,
   "metadata": {},
   "outputs": [
    {
     "data": {
      "text/plain": [
       "array([[       12,    222222],\n",
       "       [       32,    321323],\n",
       "       [      121, 121231231],\n",
       "       [       32, 123123123],\n",
       "       [       21,   1312311]])"
      ]
     },
     "execution_count": 144,
     "metadata": {},
     "output_type": "execute_result"
    }
   ],
   "source": [
    "ting"
   ]
  },
  {
   "cell_type": "markdown",
   "metadata": {},
   "source": [
    "And the secondary and tertiary vertices as our labels"
   ]
  },
  {
   "cell_type": "code",
   "execution_count": 106,
   "metadata": {},
   "outputs": [],
   "source": [
    "y = bjets_DF[['secVtx_x','secVtx_y','secVtx_z','terVtx_x','terVtx_y','terVtx_z']].values \n",
    "y = y*1000 # change units of vertices from m to mm, keep vals close to unity\n",
    "# again convention call labels 'y'"
   ]
  },
  {
   "cell_type": "markdown",
   "metadata": {},
   "source": [
    "Split first 80000 jets as train and next 20000 as test. Below some plots to show these jets are equivalently distributed"
   ]
  },
  {
   "cell_type": "code",
   "execution_count": 107,
   "metadata": {},
   "outputs": [],
   "source": [
    "X_train=X[:80000]\n",
    "X_test=X[80000:]\n",
    "y_train=y[:80000]\n",
    "y_test=y[80000:]"
   ]
  },
  {
   "cell_type": "code",
   "execution_count": 108,
   "metadata": {},
   "outputs": [],
   "source": [
    "b_s1=np.linalg.norm(bjets_DF[['secVtx_x','secVtx_y','secVtx_z']],axis=1)[:80000]\n",
    "b_s2=np.linalg.norm(bjets_DF[['secVtx_x','secVtx_y','secVtx_z']],axis=1)[80000:]\n",
    "b_t1=np.linalg.norm(bjets_DF[['terVtx_x','terVtx_y','terVtx_z']],axis=1)[:80000]\n",
    "b_t2=np.linalg.norm(bjets_DF[['terVtx_x','terVtx_y','terVtx_z']],axis=1)[80000:]\n",
    "plt.show()"
   ]
  },
  {
   "cell_type": "code",
   "execution_count": 109,
   "metadata": {},
   "outputs": [
    {
     "name": "stdout",
     "output_type": "stream",
     "text": [
      "0.0036985106615352826\n",
      "0.007068593500451309\n"
     ]
    },
    {
     "data": {
      "image/png": "[encoded data removed]",
      "text/plain": [
       "<Figure size 432x288 with 1 Axes>"
      ]
     },
     "metadata": {
      "needs_background": "light"
     },
     "output_type": "display_data"
    }
   ],
   "source": [
    "plt.hist(b_s1,bins='scott',range=[0,0.01])\n",
    "#plt.hist(c_SecVtx,bins='scott',range=[0,0.01])\n",
    "plt.hist(b_t1,bins='scott',range=[0,0.01])\n",
    "\n",
    "print(np.mean(b_s1))\n",
    "print(np.mean(b_t1))\n"
   ]
  },
  {
   "cell_type": "code",
   "execution_count": 110,
   "metadata": {},
   "outputs": [
    {
     "name": "stdout",
     "output_type": "stream",
     "text": [
      "0.0036550417303922366\n",
      "0.006973962985526242\n"
     ]
    },
    {
     "data": {
      "image/png": "[encoded data removed]",
      "text/plain": [
       "<Figure size 432x288 with 1 Axes>"
      ]
     },
     "metadata": {
      "needs_background": "light"
     },
     "output_type": "display_data"
    }
   ],
   "source": [
    "plt.hist(b_s2,bins='scott',range=[0,0.01])\n",
    "#plt.hist(c_SecVtx,bins='scott',range=[0,0.01])\n",
    "plt.hist(b_t2,bins='scott',range=[0,0.01])\n",
    "\n",
    "print(np.mean(b_s2))\n",
    "print(np.mean(b_t2))\n"
   ]
  },
  {
   "cell_type": "markdown",
   "metadata": {},
   "source": [
    "So finally we have our features, X, and labels, y. Split into training and testing samples."
   ]
  },
  {
   "cell_type": "markdown",
   "metadata": {},
   "source": [
    "## Constructing and Training an RNN"
   ]
  },
  {
   "cell_type": "markdown",
   "metadata": {},
   "source": [
    "Here we create an RNN based on LSTM cells using keras and tensorflow. The RNN will for each jet candidate take the tracks as inputs and attempt to predict the secondary and tertiary vertex positions. Let's see how well it does.\n",
    "\n",
    "I anticipate having to set a tolerance on the predicted values, it will never get them perfectly but we need to tell it how close it has to get for it to be considered successful."
   ]
  },
  {
   "cell_type": "markdown",
   "metadata": {},
   "source": [
    "Let's begin by creating the RNN architecture"
   ]
  },
  {
   "cell_type": "code",
   "execution_count": 111,
   "metadata": {},
   "outputs": [],
   "source": [
    "# Select number of hidden and dense layers. Initially use same as RNNIP but these can be tuned going forward.\n",
    "\n",
    "nHidden = 100\n",
    "nDense = 20"
   ]
  },
  {
   "cell_type": "code",
   "execution_count": 112,
   "metadata": {},
   "outputs": [],
   "source": [
    "nJets, nTrks, nFeatures = X_train.shape\n",
    "nOutputs = y.shape[1] # ie sec and ter vtx xyz, so 6"
   ]
  },
  {
   "cell_type": "code",
   "execution_count": 113,
   "metadata": {},
   "outputs": [],
   "source": [
    "trk_inputs = Input(shape=(nTrks,nFeatures),name=\"Trk_inputs\")\n",
    "masked_input = Masking()(trk_inputs)\n",
    "\n",
    "# Feed this merged layer to an RNN\n",
    "lstm = LSTM(nHidden, return_sequences=False, name='LSTM')(masked_input)\n",
    "dpt = Dropout(rate=0.8)(lstm)\n",
    "\n",
    "my_inputs = trk_inputs\n",
    "\n",
    "# Fully connected layer: This will convert the output of the RNN to our vtx postion predicitons\n",
    "FC = Dense(nDense, activation='relu', name=\"Dense\")(dpt)\n",
    "\n",
    "# Ouptut layer. Sec and Ter Vtx. No activation as this is a regression problem\n",
    "output = Dense(nOutputs, name=\"Vertex_Predictions\")(FC)\n",
    "\n",
    "myRNN = Model(inputs=my_inputs, outputs=output)\n"
   ]
  },
  {
   "cell_type": "code",
   "execution_count": 114,
   "metadata": {},
   "outputs": [
    {
     "name": "stdout",
     "output_type": "stream",
     "text": [
      "_________________________________________________________________\n",
      "Layer (type)                 Output Shape              Param #   \n",
      "=================================================================\n",
      "Trk_inputs (InputLayer)      (None, 30, 5)             0         \n",
      "_________________________________________________________________\n",
      "masking_2 (Masking)          (None, 30, 5)             0         \n",
      "_________________________________________________________________\n",
      "LSTM (LSTM)                  (None, 100)               42400     \n",
      "_________________________________________________________________\n",
      "dropout_2 (Dropout)          (None, 100)               0         \n",
      "_________________________________________________________________\n",
      "Dense (Dense)                (None, 20)                2020      \n",
      "_________________________________________________________________\n",
      "Vertex_Predictions (Dense)   (None, 6)                 126       \n",
      "=================================================================\n",
      "Total params: 44,546\n",
      "Trainable params: 44,546\n",
      "Non-trainable params: 0\n",
      "_________________________________________________________________\n"
     ]
    }
   ],
   "source": [
    "myRNN.summary()"
   ]
  },
  {
   "cell_type": "code",
   "execution_count": 115,
   "metadata": {},
   "outputs": [],
   "source": [
    "myRNN.compile(loss='mean_absolute_error', optimizer='adam', metrics=['mae']) # do i want to add a metric like mse to evaluate during training\n"
   ]
  },
  {
   "cell_type": "markdown",
   "metadata": {},
   "source": [
    " checkpoints, training, evaluation of performance\n",
    " different ways of evaluating performance obviously\n",
    " either akin to Nicole's method for RNNIP\n",
    " or the slighlty different method in https://github.com/agu3rra/NeuralNetwork-RegressionExample/blob/master/Tutorial.ipynb"
   ]
  },
  {
   "cell_type": "code",
   "execution_count": 116,
   "metadata": {},
   "outputs": [],
   "source": [
    "myRNN_mChkPt = ModelCheckpoint('myRNN_weights.h5',monitor='val_loss', verbose=True,\n",
    "                               save_best_only=True,\n",
    "                               save_weights_only=True)"
   ]
  },
  {
   "cell_type": "code",
   "execution_count": 117,
   "metadata": {},
   "outputs": [],
   "source": [
    "earlyStop = EarlyStopping(monitor='val_loss', verbose=True, patience=10)\n"
   ]
  },
  {
   "cell_type": "code",
   "execution_count": 118,
   "metadata": {},
   "outputs": [
    {
     "name": "stdout",
     "output_type": "stream",
     "text": [
      "Train on 60000 samples, validate on 20000 samples\n",
      "Epoch 1/50\n",
      "59904/60000 [============================>.] - ETA: 0s - loss: 2.5296 - mean_absolute_error: 2.5296Epoch 00001: val_loss improved from inf to 2.12444, saving model to myRNN_weights.h5\n",
      "60000/60000 [==============================] - 18s 308us/step - loss: 2.5286 - mean_absolute_error: 2.5286 - val_loss: 2.1244 - val_mean_absolute_error: 2.1244\n",
      "Epoch 2/50\n",
      "59904/60000 [============================>.] - ETA: 0s - loss: 2.0530 - mean_absolute_error: 2.0530Epoch 00002: val_loss improved from 2.12444 to 1.81050, saving model to myRNN_weights.h5\n",
      "60000/60000 [==============================] - 20s 340us/step - loss: 2.0533 - mean_absolute_error: 2.0533 - val_loss: 1.8105 - val_mean_absolute_error: 1.8105\n",
      "Epoch 3/50\n",
      "59904/60000 [============================>.] - ETA: 0s - loss: 1.9034 - mean_absolute_error: 1.9034Epoch 00003: val_loss improved from 1.81050 to 1.71001, saving model to myRNN_weights.h5\n",
      "60000/60000 [==============================] - 19s 322us/step - loss: 1.9038 - mean_absolute_error: 1.9038 - val_loss: 1.7100 - val_mean_absolute_error: 1.7100\n",
      "Epoch 4/50\n",
      "59904/60000 [============================>.] - ETA: 0s - loss: 1.8191 - mean_absolute_error: 1.8191Epoch 00004: val_loss improved from 1.71001 to 1.61077, saving model to myRNN_weights.h5\n",
      "60000/60000 [==============================] - 19s 325us/step - loss: 1.8188 - mean_absolute_error: 1.8188 - val_loss: 1.6108 - val_mean_absolute_error: 1.6108\n",
      "Epoch 5/50\n",
      "59904/60000 [============================>.] - ETA: 0s - loss: 1.7677 - mean_absolute_error: 1.7677Epoch 00005: val_loss improved from 1.61077 to 1.50731, saving model to myRNN_weights.h5\n",
      "60000/60000 [==============================] - 20s 341us/step - loss: 1.7678 - mean_absolute_error: 1.7678 - val_loss: 1.5073 - val_mean_absolute_error: 1.5073\n",
      "Epoch 6/50\n",
      "59904/60000 [============================>.] - ETA: 0s - loss: 1.6910 - mean_absolute_error: 1.6910Epoch 00006: val_loss improved from 1.50731 to 1.39263, saving model to myRNN_weights.h5\n",
      "60000/60000 [==============================] - 21s 342us/step - loss: 1.6908 - mean_absolute_error: 1.6908 - val_loss: 1.3926 - val_mean_absolute_error: 1.3926\n",
      "Epoch 7/50\n",
      "59904/60000 [============================>.] - ETA: 0s - loss: 1.6245 - mean_absolute_error: 1.6245Epoch 00007: val_loss improved from 1.39263 to 1.33787, saving model to myRNN_weights.h5\n",
      "60000/60000 [==============================] - 20s 333us/step - loss: 1.6250 - mean_absolute_error: 1.6250 - val_loss: 1.3379 - val_mean_absolute_error: 1.3379\n",
      "Epoch 8/50\n",
      "59904/60000 [============================>.] - ETA: 0s - loss: 1.5729 - mean_absolute_error: 1.5729Epoch 00008: val_loss improved from 1.33787 to 1.24217, saving model to myRNN_weights.h5\n",
      "60000/60000 [==============================] - 20s 331us/step - loss: 1.5724 - mean_absolute_error: 1.5724 - val_loss: 1.2422 - val_mean_absolute_error: 1.2422\n",
      "Epoch 9/50\n",
      "59904/60000 [============================>.] - ETA: 0s - loss: 1.5421 - mean_absolute_error: 1.5421Epoch 00009: val_loss did not improve\n",
      "60000/60000 [==============================] - 20s 329us/step - loss: 1.5420 - mean_absolute_error: 1.5420 - val_loss: 1.2708 - val_mean_absolute_error: 1.2708\n",
      "Epoch 10/50\n",
      "59904/60000 [============================>.] - ETA: 0s - loss: 1.5186 - mean_absolute_error: 1.5186Epoch 00010: val_loss improved from 1.24217 to 1.16282, saving model to myRNN_weights.h5\n",
      "60000/60000 [==============================] - 20s 334us/step - loss: 1.5182 - mean_absolute_error: 1.5182 - val_loss: 1.1628 - val_mean_absolute_error: 1.1628\n",
      "Epoch 11/50\n",
      "59904/60000 [============================>.] - ETA: 0s - loss: 1.4852 - mean_absolute_error: 1.4852Epoch 00011: val_loss improved from 1.16282 to 1.15848, saving model to myRNN_weights.h5\n",
      "60000/60000 [==============================] - 20s 339us/step - loss: 1.4852 - mean_absolute_error: 1.4852 - val_loss: 1.1585 - val_mean_absolute_error: 1.1585\n",
      "Epoch 12/50\n",
      "59904/60000 [============================>.] - ETA: 0s - loss: 1.4675 - mean_absolute_error: 1.4675Epoch 00012: val_loss did not improve\n",
      "60000/60000 [==============================] - 20s 337us/step - loss: 1.4675 - mean_absolute_error: 1.4675 - val_loss: 1.1826 - val_mean_absolute_error: 1.1826\n",
      "Epoch 13/50\n",
      "59904/60000 [============================>.] - ETA: 0s - loss: 1.4512 - mean_absolute_error: 1.4512Epoch 00013: val_loss improved from 1.15848 to 1.11218, saving model to myRNN_weights.h5\n",
      "60000/60000 [==============================] - 20s 336us/step - loss: 1.4509 - mean_absolute_error: 1.4509 - val_loss: 1.1122 - val_mean_absolute_error: 1.1122\n",
      "Epoch 14/50\n",
      "59904/60000 [============================>.] - ETA: 0s - loss: 1.4255 - mean_absolute_error: 1.4255Epoch 00014: val_loss improved from 1.11218 to 1.10073, saving model to myRNN_weights.h5\n",
      "60000/60000 [==============================] - 20s 339us/step - loss: 1.4259 - mean_absolute_error: 1.4259 - val_loss: 1.1007 - val_mean_absolute_error: 1.1007\n",
      "Epoch 15/50\n",
      "59904/60000 [============================>.] - ETA: 0s - loss: 1.4314 - mean_absolute_error: 1.4314Epoch 00015: val_loss did not improve\n",
      "60000/60000 [==============================] - 20s 337us/step - loss: 1.4316 - mean_absolute_error: 1.4316 - val_loss: 1.1349 - val_mean_absolute_error: 1.1349\n",
      "Epoch 16/50\n",
      "59904/60000 [============================>.] - ETA: 0s - loss: 1.4103 - mean_absolute_error: 1.4103Epoch 00016: val_loss improved from 1.10073 to 1.07790, saving model to myRNN_weights.h5\n",
      "60000/60000 [==============================] - 20s 341us/step - loss: 1.4105 - mean_absolute_error: 1.4105 - val_loss: 1.0779 - val_mean_absolute_error: 1.0779\n",
      "Epoch 17/50\n",
      "59904/60000 [============================>.] - ETA: 0s - loss: 1.4067 - mean_absolute_error: 1.4067Epoch 00017: val_loss did not improve\n",
      "60000/60000 [==============================] - 20s 340us/step - loss: 1.4069 - mean_absolute_error: 1.4069 - val_loss: 1.1302 - val_mean_absolute_error: 1.1302\n",
      "Epoch 18/50\n",
      "59904/60000 [============================>.] - ETA: 0s - loss: 1.3934 - mean_absolute_error: 1.3934Epoch 00018: val_loss improved from 1.07790 to 1.06176, saving model to myRNN_weights.h5\n",
      "60000/60000 [==============================] - 20s 339us/step - loss: 1.3935 - mean_absolute_error: 1.3935 - val_loss: 1.0618 - val_mean_absolute_error: 1.0618\n",
      "Epoch 19/50\n",
      "59904/60000 [============================>.] - ETA: 0s - loss: 1.3782 - mean_absolute_error: 1.3782Epoch 00019: val_loss did not improve\n",
      "60000/60000 [==============================] - 20s 340us/step - loss: 1.3779 - mean_absolute_error: 1.3779 - val_loss: 1.0964 - val_mean_absolute_error: 1.0964\n",
      "Epoch 20/50\n",
      "59904/60000 [============================>.] - ETA: 0s - loss: 1.3727 - mean_absolute_error: 1.3727Epoch 00020: val_loss did not improve\n",
      "60000/60000 [==============================] - 20s 340us/step - loss: 1.3726 - mean_absolute_error: 1.3726 - val_loss: 1.0708 - val_mean_absolute_error: 1.0708\n",
      "Epoch 21/50\n",
      "59904/60000 [============================>.] - ETA: 0s - loss: 1.3687 - mean_absolute_error: 1.3687Epoch 00021: val_loss improved from 1.06176 to 1.05472, saving model to myRNN_weights.h5\n",
      "60000/60000 [==============================] - 20s 338us/step - loss: 1.3689 - mean_absolute_error: 1.3689 - val_loss: 1.0547 - val_mean_absolute_error: 1.0547\n",
      "Epoch 22/50\n",
      "59904/60000 [============================>.] - ETA: 0s - loss: 1.3562 - mean_absolute_error: 1.3562Epoch 00022: val_loss improved from 1.05472 to 1.02911, saving model to myRNN_weights.h5\n",
      "60000/60000 [==============================] - 20s 341us/step - loss: 1.3558 - mean_absolute_error: 1.3558 - val_loss: 1.0291 - val_mean_absolute_error: 1.0291\n",
      "Epoch 23/50\n",
      "59904/60000 [============================>.] - ETA: 0s - loss: 1.3540 - mean_absolute_error: 1.3540Epoch 00023: val_loss did not improve\n",
      "60000/60000 [==============================] - 21s 343us/step - loss: 1.3543 - mean_absolute_error: 1.3543 - val_loss: 1.0690 - val_mean_absolute_error: 1.0690\n",
      "Epoch 24/50\n",
      "59904/60000 [============================>.] - ETA: 0s - loss: 1.3475 - mean_absolute_error: 1.3475Epoch 00024: val_loss did not improve\n",
      "60000/60000 [==============================] - 20s 341us/step - loss: 1.3474 - mean_absolute_error: 1.3474 - val_loss: 1.0443 - val_mean_absolute_error: 1.0443\n"
     ]
    },
    {
     "name": "stdout",
     "output_type": "stream",
     "text": [
      "Epoch 25/50\n",
      "59904/60000 [============================>.] - ETA: 0s - loss: 1.3321 - mean_absolute_error: 1.3321Epoch 00025: val_loss did not improve\n",
      "60000/60000 [==============================] - 20s 328us/step - loss: 1.3321 - mean_absolute_error: 1.3321 - val_loss: 1.0547 - val_mean_absolute_error: 1.0547\n",
      "Epoch 26/50\n",
      "59904/60000 [============================>.] - ETA: 0s - loss: 1.3348 - mean_absolute_error: 1.3348Epoch 00026: val_loss did not improve\n",
      "60000/60000 [==============================] - 20s 338us/step - loss: 1.3348 - mean_absolute_error: 1.3348 - val_loss: 1.0924 - val_mean_absolute_error: 1.0924\n",
      "Epoch 27/50\n",
      "59904/60000 [============================>.] - ETA: 0s - loss: 1.3316 - mean_absolute_error: 1.3316Epoch 00027: val_loss did not improve\n",
      "60000/60000 [==============================] - 20s 328us/step - loss: 1.3316 - mean_absolute_error: 1.3316 - val_loss: 1.0782 - val_mean_absolute_error: 1.0782\n",
      "Epoch 28/50\n",
      "59904/60000 [============================>.] - ETA: 0s - loss: 1.3190 - mean_absolute_error: 1.3190Epoch 00028: val_loss did not improve\n",
      "60000/60000 [==============================] - 20s 330us/step - loss: 1.3197 - mean_absolute_error: 1.3197 - val_loss: 1.0396 - val_mean_absolute_error: 1.0396\n",
      "Epoch 29/50\n",
      "59904/60000 [============================>.] - ETA: 0s - loss: 1.3196 - mean_absolute_error: 1.3196Epoch 00029: val_loss did not improve\n",
      "60000/60000 [==============================] - 20s 336us/step - loss: 1.3200 - mean_absolute_error: 1.3200 - val_loss: 1.0391 - val_mean_absolute_error: 1.0391\n",
      "Epoch 30/50\n",
      "59904/60000 [============================>.] - ETA: 0s - loss: 1.3077 - mean_absolute_error: 1.3077Epoch 00030: val_loss improved from 1.02911 to 1.01431, saving model to myRNN_weights.h5\n",
      "60000/60000 [==============================] - 20s 337us/step - loss: 1.3075 - mean_absolute_error: 1.3075 - val_loss: 1.0143 - val_mean_absolute_error: 1.0143\n",
      "Epoch 31/50\n",
      "59904/60000 [============================>.] - ETA: 0s - loss: 1.3085 - mean_absolute_error: 1.3085Epoch 00031: val_loss did not improve\n",
      "60000/60000 [==============================] - 20s 330us/step - loss: 1.3087 - mean_absolute_error: 1.3087 - val_loss: 1.0418 - val_mean_absolute_error: 1.0418\n",
      "Epoch 32/50\n",
      "59904/60000 [============================>.] - ETA: 0s - loss: 1.2969 - mean_absolute_error: 1.2969Epoch 00032: val_loss did not improve\n",
      "60000/60000 [==============================] - 20s 331us/step - loss: 1.2970 - mean_absolute_error: 1.2970 - val_loss: 1.0319 - val_mean_absolute_error: 1.0319\n",
      "Epoch 33/50\n",
      "59904/60000 [============================>.] - ETA: 0s - loss: 1.2904 - mean_absolute_error: 1.2904Epoch 00033: val_loss improved from 1.01431 to 0.99766, saving model to myRNN_weights.h5\n",
      "60000/60000 [==============================] - 20s 337us/step - loss: 1.2904 - mean_absolute_error: 1.2904 - val_loss: 0.9977 - val_mean_absolute_error: 0.9977\n",
      "Epoch 34/50\n",
      "59904/60000 [============================>.] - ETA: 0s - loss: 1.2956 - mean_absolute_error: 1.2956Epoch 00034: val_loss did not improve\n",
      "60000/60000 [==============================] - 21s 342us/step - loss: 1.2952 - mean_absolute_error: 1.2952 - val_loss: 1.0178 - val_mean_absolute_error: 1.0178\n",
      "Epoch 35/50\n",
      "59904/60000 [============================>.] - ETA: 0s - loss: 1.2908 - mean_absolute_error: 1.2908Epoch 00035: val_loss improved from 0.99766 to 0.98801, saving model to myRNN_weights.h5\n",
      "60000/60000 [==============================] - 20s 334us/step - loss: 1.2911 - mean_absolute_error: 1.2911 - val_loss: 0.9880 - val_mean_absolute_error: 0.9880\n",
      "Epoch 36/50\n",
      "59904/60000 [============================>.] - ETA: 0s - loss: 1.2884 - mean_absolute_error: 1.2884Epoch 00036: val_loss did not improve\n",
      "60000/60000 [==============================] - 20s 332us/step - loss: 1.2883 - mean_absolute_error: 1.2883 - val_loss: 0.9946 - val_mean_absolute_error: 0.9946\n",
      "Epoch 37/50\n",
      "59904/60000 [============================>.] - ETA: 0s - loss: 1.2826 - mean_absolute_error: 1.2826Epoch 00037: val_loss did not improve\n",
      "60000/60000 [==============================] - 21s 343us/step - loss: 1.2824 - mean_absolute_error: 1.2824 - val_loss: 0.9897 - val_mean_absolute_error: 0.9897\n",
      "Epoch 38/50\n",
      "59904/60000 [============================>.] - ETA: 0s - loss: 1.2741 - mean_absolute_error: 1.2741Epoch 00038: val_loss improved from 0.98801 to 0.98535, saving model to myRNN_weights.h5\n",
      "60000/60000 [==============================] - 20s 341us/step - loss: 1.2740 - mean_absolute_error: 1.2740 - val_loss: 0.9853 - val_mean_absolute_error: 0.9853\n",
      "Epoch 39/50\n",
      "59904/60000 [============================>.] - ETA: 0s - loss: 1.2660 - mean_absolute_error: 1.2660Epoch 00039: val_loss did not improve\n",
      "60000/60000 [==============================] - 20s 338us/step - loss: 1.2660 - mean_absolute_error: 1.2660 - val_loss: 1.0324 - val_mean_absolute_error: 1.0324\n",
      "Epoch 40/50\n",
      "59904/60000 [============================>.] - ETA: 0s - loss: 1.2607 - mean_absolute_error: 1.2607Epoch 00040: val_loss improved from 0.98535 to 0.98185, saving model to myRNN_weights.h5\n",
      "60000/60000 [==============================] - 20s 334us/step - loss: 1.2609 - mean_absolute_error: 1.2609 - val_loss: 0.9819 - val_mean_absolute_error: 0.9819\n",
      "Epoch 41/50\n",
      "59904/60000 [============================>.] - ETA: 0s - loss: 1.2634 - mean_absolute_error: 1.2634Epoch 00041: val_loss did not improve\n",
      "60000/60000 [==============================] - 21s 342us/step - loss: 1.2637 - mean_absolute_error: 1.2637 - val_loss: 0.9855 - val_mean_absolute_error: 0.9855\n",
      "Epoch 42/50\n",
      "59904/60000 [============================>.] - ETA: 0s - loss: 1.2527 - mean_absolute_error: 1.2527Epoch 00042: val_loss did not improve\n",
      "60000/60000 [==============================] - 21s 345us/step - loss: 1.2526 - mean_absolute_error: 1.2526 - val_loss: 1.0296 - val_mean_absolute_error: 1.0296\n",
      "Epoch 43/50\n",
      "59904/60000 [============================>.] - ETA: 0s - loss: 1.2490 - mean_absolute_error: 1.2490Epoch 00043: val_loss did not improve\n",
      "60000/60000 [==============================] - 20s 340us/step - loss: 1.2497 - mean_absolute_error: 1.2497 - val_loss: 1.0058 - val_mean_absolute_error: 1.0058\n",
      "Epoch 44/50\n",
      "59904/60000 [============================>.] - ETA: 0s - loss: 1.2616 - mean_absolute_error: 1.2616Epoch 00044: val_loss improved from 0.98185 to 0.97973, saving model to myRNN_weights.h5\n",
      "60000/60000 [==============================] - 20s 336us/step - loss: 1.2617 - mean_absolute_error: 1.2617 - val_loss: 0.9797 - val_mean_absolute_error: 0.9797\n",
      "Epoch 45/50\n",
      "59904/60000 [============================>.] - ETA: 0s - loss: 1.2579 - mean_absolute_error: 1.2579Epoch 00045: val_loss did not improve\n",
      "60000/60000 [==============================] - 20s 340us/step - loss: 1.2578 - mean_absolute_error: 1.2578 - val_loss: 0.9841 - val_mean_absolute_error: 0.9841\n",
      "Epoch 46/50\n",
      "59904/60000 [============================>.] - ETA: 0s - loss: 1.2496 - mean_absolute_error: 1.2496Epoch 00046: val_loss did not improve\n",
      "60000/60000 [==============================] - 21s 346us/step - loss: 1.2494 - mean_absolute_error: 1.2494 - val_loss: 0.9955 - val_mean_absolute_error: 0.9955\n",
      "Epoch 47/50\n",
      "59904/60000 [============================>.] - ETA: 0s - loss: 1.2518 - mean_absolute_error: 1.2518Epoch 00047: val_loss improved from 0.97973 to 0.96928, saving model to myRNN_weights.h5\n",
      "60000/60000 [==============================] - 21s 346us/step - loss: 1.2519 - mean_absolute_error: 1.2519 - val_loss: 0.9693 - val_mean_absolute_error: 0.9693\n",
      "Epoch 48/50\n",
      "59904/60000 [============================>.] - ETA: 0s - loss: 1.2465 - mean_absolute_error: 1.2465Epoch 00048: val_loss improved from 0.96928 to 0.95919, saving model to myRNN_weights.h5\n",
      "60000/60000 [==============================] - 20s 336us/step - loss: 1.2461 - mean_absolute_error: 1.2461 - val_loss: 0.9592 - val_mean_absolute_error: 0.9592\n",
      "Epoch 49/50\n",
      "59904/60000 [============================>.] - ETA: 0s - loss: 1.2363 - mean_absolute_error: 1.2363Epoch 00049: val_loss did not improve\n",
      "60000/60000 [==============================] - 20s 339us/step - loss: 1.2364 - mean_absolute_error: 1.2364 - val_loss: 0.9836 - val_mean_absolute_error: 0.9836\n",
      "Epoch 50/50\n"
     ]
    },
    {
     "name": "stdout",
     "output_type": "stream",
     "text": [
      "59904/60000 [============================>.] - ETA: 0s - loss: 1.2374 - mean_absolute_error: 1.2374Epoch 00050: val_loss improved from 0.95919 to 0.95243, saving model to myRNN_weights.h5\n",
      "60000/60000 [==============================] - 20s 330us/step - loss: 1.2376 - mean_absolute_error: 1.2376 - val_loss: 0.9524 - val_mean_absolute_error: 0.9524\n"
     ]
    }
   ],
   "source": [
    "nEpochs = 50\n",
    "\n",
    "myRNN_hist = myRNN.fit(X_train, y_train, epochs=nEpochs, batch_size=256,validation_split=0.25,\n",
    "                 callbacks=[earlyStop, myRNN_mChkPt],) # callbacks=[earlyStop, myRNN_mChkPt])"
   ]
  },
  {
   "cell_type": "code",
   "execution_count": 119,
   "metadata": {},
   "outputs": [
    {
     "data": {
      "text/plain": [
       "<matplotlib.legend.Legend at 0x20291e4fc50>"
      ]
     },
     "execution_count": 119,
     "metadata": {},
     "output_type": "execute_result"
    },
    {
     "data": {
      "image/png": "[encoded data removed]",
      "text/plain": [
       "<Figure size 432x288 with 1 Axes>"
      ]
     },
     "metadata": {
      "needs_background": "light"
     },
     "output_type": "display_data"
    }
   ],
   "source": [
    "epochs = np.arange(1,len(myRNN_hist.history['loss'])+1)\n",
    "\n",
    "plt.plot(epochs,myRNN_hist.history['loss'],label='training')\n",
    "plt.plot(epochs,myRNN_hist.history['val_loss'],label='validation')\n",
    "plt.xlabel('epochs',fontsize=14)\n",
    "plt.ylabel('MSE loss',fontsize=14)\n",
    "plt.legend()"
   ]
  },
  {
   "cell_type": "code",
   "execution_count": 19,
   "metadata": {},
   "outputs": [],
   "source": [
    "results=myRNN.predict(X_test)"
   ]
  },
  {
   "cell_type": "code",
   "execution_count": 20,
   "metadata": {},
   "outputs": [
    {
     "data": {
      "text/plain": [
       "array([[-1.24140129e+00, -8.88192000e-01,  9.94241735e-01,\n",
       "        -3.48758960e+00, -2.26321569e+00,  2.46167972e+00],\n",
       "       [-8.51117036e+00, -1.26717577e+00, -6.36053884e+00,\n",
       "        -1.91485971e+01, -2.83072612e+00, -1.51046790e+01],\n",
       "       [-1.36862621e-02, -4.78984242e-02, -2.67514389e-01,\n",
       "        -4.80987654e-02, -1.49361153e-01, -6.03017945e-01],\n",
       "       ...,\n",
       "       [-1.60835268e-01, -1.19740543e-02, -1.07830609e-01,\n",
       "        -1.10618069e+00, -1.17571043e-01, -7.76054401e-01],\n",
       "       [-7.25770497e-02, -3.50309500e-02, -2.60381413e-01,\n",
       "        -3.58773002e+00, -1.45284391e+00, -1.34700448e+01],\n",
       "       [ 4.17528040e+00, -1.00886561e+00,  2.89703501e+00,\n",
       "         5.59305105e+00, -1.35187053e+00,  4.07725993e+00]])"
      ]
     },
     "execution_count": 20,
     "metadata": {},
     "output_type": "execute_result"
    }
   ],
   "source": [
    "y_test"
   ]
  },
  {
   "cell_type": "code",
   "execution_count": 23,
   "metadata": {},
   "outputs": [
    {
     "data": {
      "text/plain": [
       "array([[ 0.41204707,  0.58094349,  0.37507779, -0.02337146,  0.21841183,\n",
       "         0.05194956],\n",
       "       [-0.56747293, -0.43625976, -0.47986848, -0.66950336, -0.54154851,\n",
       "        -0.6110813 ],\n",
       "       [ 1.09298498,  0.11684774,  0.93079942,  0.84642937, -0.06236174,\n",
       "         1.25966563],\n",
       "       ...,\n",
       "       [ 3.53251925,  4.77539957,  3.57591692,  0.6798615 ,  0.63707265,\n",
       "         0.71351295],\n",
       "       [14.09553344, 11.46632475, 10.55105835, -0.43284465, -0.4594923 ,\n",
       "        -0.57675777],\n",
       "       [-0.398921  , -0.41353872, -0.44652154, -0.15028829, -0.1378671 ,\n",
       "        -0.20613938]])"
      ]
     },
     "execution_count": 23,
     "metadata": {},
     "output_type": "execute_result"
    }
   ],
   "source": [
    "(results-y_test)/y_test"
   ]
  },
  {
   "cell_type": "code",
   "execution_count": 27,
   "metadata": {},
   "outputs": [
    {
     "data": {
      "text/plain": [
       "jet_energy                                               43075.4\n",
       "jet_flavour                                                    5\n",
       "secVtx_x                                              0.00417528\n",
       "secVtx_y                                             -0.00100887\n",
       "secVtx_z                                              0.00289704\n",
       "terVtx_x                                              0.00559305\n",
       "terVtx_y                                             -0.00135187\n",
       "terVtx_z                                              0.00407726\n",
       "tracks         [[2.010621651929816e-06, -4.989406079403125e-0...\n",
       "Name: 99999, dtype: object"
      ]
     },
     "execution_count": 27,
     "metadata": {},
     "output_type": "execute_result"
    }
   ],
   "source": [
    "bjets_DF.iloc[-1]"
   ]
  },
  {
   "cell_type": "code",
   "execution_count": null,
   "metadata": {},
   "outputs": [],
   "source": [
    "# look at worst perfoming cases and examine the tracks\n",
    "# look at actual uncertainty on overlap for the vertex\n",
    "# re-run with minimised errors on tracks see if performance is better"
   ]
  },
  {
   "cell_type": "code",
   "execution_count": 152,
   "metadata": {},
   "outputs": [
    {
     "data": {
      "text/plain": [
       "array([[-0.05486715, -0.45196092, -2.455217  , -0.1861686 , -0.99255735,\n",
       "        -5.3714914 ]], dtype=float32)"
      ]
     },
     "execution_count": 152,
     "metadata": {},
     "output_type": "execute_result"
    }
   ],
   "source": [
    "myRNN.predict(np.array([X_test[2]]))"
   ]
  },
  {
   "cell_type": "markdown",
   "metadata": {},
   "source": [
    "couple of things, first the RNN looks like it predicts the same value for all cases. This might be because it uses the null tracks at the end of every single jet and just predicts off of those.\n",
    "Maybe should consider predicting values that are at least order unity, because mse is gonna be very small otherwise, so convert the vertices into different units (I dunno maybe millimeters or microns)"
   ]
  },
  {
   "cell_type": "code",
   "execution_count": null,
   "metadata": {},
   "outputs": [],
   "source": []
  }
 ],
 "metadata": {
  "kernelspec": {
   "display_name": "Python 3",
   "language": "python",
   "name": "python3"
  },
  "language_info": {
   "codemirror_mode": {
    "name": "ipython",
    "version": 3
   },
   "file_extension": ".py",
   "mimetype": "text/x-python",
   "name": "python",
   "nbconvert_exporter": "python",
   "pygments_lexer": "ipython3",
   "version": "3.6.7"
  }
 },
 "nbformat": 4,
 "nbformat_minor": 2
}
