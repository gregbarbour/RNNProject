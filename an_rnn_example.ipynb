{
 "cells": [
  {
   "cell_type": "code",
   "execution_count": 1,
   "metadata": {},
   "outputs": [
    {
     "name": "stderr",
     "output_type": "stream",
     "text": [
      "Using TensorFlow backend.\n"
     ]
    }
   ],
   "source": [
    "import numpy as np\n",
    "import matplotlib.pyplot as plt\n",
    "import pandas as pd\n",
    "import math\n",
    "import copy\n",
    "import pickle\n",
    "from keras.models import Sequential, Model\n",
    "from keras.callbacks import EarlyStopping, ModelCheckpoint\n",
    "\n",
    "from keras.layers import BatchNormalization, Layer, TimeDistributed, Dropout\n",
    "from keras.layers import Dense, Input, Masking, LSTM\n",
    "from sklearn.preprocessing import MinMaxScaler, RobustScaler\n",
    "from sklearn.metrics import mean_squared_error"
   ]
  },
  {
   "cell_type": "markdown",
   "metadata": {},
   "source": [
    "## Data Loading and Pre-Processing"
   ]
  },
  {
   "cell_type": "markdown",
   "metadata": {},
   "source": [
    "Let's start by trying to load in our toy jets, and then separate into features (to train on) and labels (to predict).\n",
    "\n",
    "For features, first try d0, z0, phi, theta, qOverP, (refPx, refPy, refPz)?. Essentially the track parameters.\n",
    "\n",
    "For labels, Xs, Ys, Zs, Xt, Yt, Zt. That is the secondary and tertiary vertices. Omit the primary as this has been fixed to (0,0,0). This will require some smart selection for c and light jets, where not all vertices are present. If a vertex is not present, could try predicting (0,0,0) or (-1,-1,-1) or previous vertex (prim or sec)."
   ]
  },
  {
   "cell_type": "code",
   "execution_count": 2,
   "metadata": {},
   "outputs": [],
   "source": [
    "bjets_DF = pd.read_pickle(\"./bjets_reverse_prims_jetKinTrack.pkl\")\n",
    "#cjets_DF = pd.read_pickle(\"./cjets.pkl\")\n",
    "#ljets_DF = pd.read_pickle(\"./ljets.pkl\")"
   ]
  },
  {
   "cell_type": "code",
   "execution_count": 3,
   "metadata": {},
   "outputs": [
    {
     "data": {
      "text/plain": [
       "array([[0.00000000e+00, 1.64618812e-03, 1.61855932e-03, 3.24006061e-03,\n",
       "        3.26463501e-03, 3.24387692e-03, 1.08122496e-05, 1.08997629e-05,\n",
       "                   nan,            nan,            nan,            nan,\n",
       "                   nan,            nan,            nan,            nan,\n",
       "                   nan,            nan,            nan,            nan,\n",
       "                   nan,            nan,            nan,            nan,\n",
       "                   nan,            nan,            nan,            nan,\n",
       "                   nan,            nan]])"
      ]
     },
     "execution_count": 3,
     "metadata": {},
     "output_type": "execute_result"
    }
   ],
   "source": [
    "np.linalg.norm(np.array([bjets_DF['tracks'][0]])[:,:,5:8], axis=2) #gives a feel for ordering, lists r of ref postion"
   ]
  },
  {
   "cell_type": "markdown",
   "metadata": {},
   "source": [
    "Extract the track parameters as our features"
   ]
  },
  {
   "cell_type": "code",
   "execution_count": 4,
   "metadata": {},
   "outputs": [
    {
     "name": "stdout",
     "output_type": "stream",
     "text": [
      "Wall time: 11.3 s\n"
     ]
    }
   ],
   "source": [
    "%%time\n",
    "trks=np.zeros((len(bjets_DF), 30, 5))\n",
    "\n",
    "for i in range(len(bjets_DF)):\n",
    "    trks[i] = np.array([bjets_DF['tracks'][i]])[:,:,0:5]\n",
    "    \n"
   ]
  },
  {
   "cell_type": "code",
   "execution_count": 5,
   "metadata": {},
   "outputs": [],
   "source": [
    "X = trks # following convention name the features as the vector 'X'"
   ]
  },
  {
   "cell_type": "markdown",
   "metadata": {},
   "source": [
    "### Data Handling: Change 1/p to p"
   ]
  },
  {
   "cell_type": "markdown",
   "metadata": {},
   "source": [
    "Let's try changing the 1/p feature to p, see what happens"
   ]
  },
  {
   "cell_type": "markdown",
   "metadata": {},
   "source": [
    " No Change to end accuracy nor speed-up so won't do this"
   ]
  },
  {
   "cell_type": "code",
   "execution_count": 80,
   "metadata": {},
   "outputs": [
    {
     "data": {
      "text/plain": [
       "array([[ 4850.46696803,  3060.74292196,  4054.83541082, ...,\n",
       "                   nan,            nan,            nan],\n",
       "       [ 2050.96833157,  5200.69668043,  1918.47163884, ...,\n",
       "                   nan,            nan,            nan],\n",
       "       [ 3774.24046227, 14472.05631949,  2894.37128725, ...,\n",
       "                   nan,            nan,            nan],\n",
       "       ...,\n",
       "       [ 2883.77907606,  5114.71929641,  2072.69149129, ...,\n",
       "                   nan,            nan,            nan],\n",
       "       [ 2566.318433  ,   620.46562403,   563.21545658, ...,\n",
       "                   nan,            nan,            nan],\n",
       "       [ 4284.22553045,  7638.42365794,  1493.57056224, ...,\n",
       "                   nan,            nan,            nan]])"
      ]
     },
     "execution_count": 80,
     "metadata": {},
     "output_type": "execute_result"
    }
   ],
   "source": [
    "#1/X[:,:,4]  # these are individual tracks remember so p<10,000 is allowed"
   ]
  },
  {
   "cell_type": "code",
   "execution_count": 81,
   "metadata": {},
   "outputs": [],
   "source": [
    "#X[:,:,4] = 1/X[:,:,4]"
   ]
  },
  {
   "cell_type": "markdown",
   "metadata": {},
   "source": [
    "### Track Ordering"
   ]
  },
  {
   "cell_type": "markdown",
   "metadata": {},
   "source": [
    "Use numpy sort function should work, order in descending value say of impact parameter or something (shouldnt be any negatives)"
   ]
  },
  {
   "cell_type": "markdown",
   "metadata": {},
   "source": [
    "Maybe want to move this section and order later, after normalization"
   ]
  },
  {
   "cell_type": "code",
   "execution_count": 7,
   "metadata": {},
   "outputs": [
    {
     "data": {
      "text/plain": [
       "nan"
      ]
     },
     "execution_count": 7,
     "metadata": {},
     "output_type": "execute_result"
    }
   ],
   "source": [
    "np.min(X[:,:,0])"
   ]
  },
  {
   "cell_type": "markdown",
   "metadata": {},
   "source": [
    "## Data Normalization"
   ]
  },
  {
   "cell_type": "markdown",
   "metadata": {},
   "source": [
    "I think we want to ensure all paramters are approx unity in order not to bias the RNN towards a particular feature. phi and theta are already approx unity (order pi), but qOverP is very small order 1e-4 and IP are also small (but scale multiple orders of magnitude) 1e-6 to 1e-2 (unfortunately)\n",
    "\n",
    "So want to use a min max scaler or RobustScaler (so we don't bias to outliers)."
   ]
  },
  {
   "cell_type": "code",
   "execution_count": 6,
   "metadata": {},
   "outputs": [
    {
     "name": "stderr",
     "output_type": "stream",
     "text": [
      "C:\\Users\\Greg\\Anaconda3\\lib\\site-packages\\numpy\\lib\\histograms.py:391: RuntimeWarning: invalid value encountered in greater_equal\n",
      "  keep = (a >= first_edge)\n",
      "C:\\Users\\Greg\\Anaconda3\\lib\\site-packages\\numpy\\lib\\histograms.py:392: RuntimeWarning: invalid value encountered in less_equal\n",
      "  keep &= (a <= last_edge)\n",
      "C:\\Users\\Greg\\Anaconda3\\lib\\site-packages\\numpy\\lib\\histograms.py:824: RuntimeWarning: invalid value encountered in greater_equal\n",
      "  keep = (tmp_a >= first_edge)\n",
      "C:\\Users\\Greg\\Anaconda3\\lib\\site-packages\\numpy\\lib\\histograms.py:825: RuntimeWarning: invalid value encountered in less_equal\n",
      "  keep &= (tmp_a <= last_edge)\n"
     ]
    },
    {
     "data": {
      "text/plain": [
       "(array([1.324267e+06, 2.710900e+05, 6.057000e+04, ..., 0.000000e+00,\n",
       "        0.000000e+00, 1.000000e+00]),\n",
       " array([0.00000000e+00, 1.60159944e-05, 3.20319889e-05, ...,\n",
       "        3.08788373e-02, 3.08948533e-02, 3.09108692e-02]),\n",
       " <a list of 1930 Patch objects>)"
      ]
     },
     "execution_count": 6,
     "metadata": {},
     "output_type": "execute_result"
    },
    {
     "data": {
      "image/png": "[encoded data removed]",
      "text/plain": [
       "<Figure size 432x288 with 1 Axes>"
      ]
     },
     "metadata": {
      "needs_background": "light"
     },
     "output_type": "display_data"
    }
   ],
   "source": [
    "d0s = np.reshape(X[:,:,0],(30*len(bjets_DF)))\n",
    "d0s = d0s[~(d0s == np.NaN)]\n",
    "d0s\n",
    "plt.hist(d0s,bins='scott') # I believe this is the array containing all the d0s"
   ]
  },
  {
   "cell_type": "code",
   "execution_count": 9,
   "metadata": {
    "scrolled": true
   },
   "outputs": [
    {
     "name": "stdout",
     "output_type": "stream",
     "text": [
      "nan\n",
      "nan\n",
      "nan\n",
      "\n",
      "nan\n",
      "nan\n",
      "nan\n"
     ]
    }
   ],
   "source": [
    "print(np.mean(X[:,:,0]*1e4))\n",
    "print(np.mean(X[:,:,1]*1e6)) # difficult one to handle this due to large variance\n",
    "print(np.mean(X[:,:,4]*1e4))\n",
    "print()\n",
    "print(np.std(X[:,:,0]*1e4)) # these are troublesome yes\n",
    "print(np.std(X[:,:,1]*1e6))\n",
    "print(np.std(X[:,:,4]*1e4))\n",
    "# so we will apply the above multiples, this will bring the averages to about unity (unfortunately some outliers will\n",
    "# be very large, so probs better to use a min max scaler or something but then exclude 0?)"
   ]
  },
  {
   "cell_type": "markdown",
   "metadata": {},
   "source": [
    "Here we scale all the features to bring them to average unity, this is very simplistic so we need a better way in future\n",
    "\n",
    "It means it works faster."
   ]
  },
  {
   "cell_type": "code",
   "execution_count": 6,
   "metadata": {},
   "outputs": [],
   "source": [
    "# DON'T USE, achieve better scaling below with\n",
    "firsttime=False"
   ]
  },
  {
   "cell_type": "code",
   "execution_count": 70,
   "metadata": {},
   "outputs": [],
   "source": [
    "if firsttime==True:\n",
    "    Xsimpscal=copy.copy(X)\n",
    "    Xsimpscal[:,:,0]=X[:,:,0]*1e4\n",
    "    Xsimpscal[:,:,1]=X[:,:,1]*1e6\n",
    "    Xsimpscal[:,:,4]=X[:,:,4]*1e4\n",
    "    firsttime = False"
   ]
  },
  {
   "cell_type": "markdown",
   "metadata": {},
   "source": [
    "Here we instead use a min-max scaler to try and solve the problem of scale i.e. certain IPs are 10^4 times larger than others. The min-max scaler means all features will be scaled equivalently."
   ]
  },
  {
   "cell_type": "markdown",
   "metadata": {},
   "source": [
    "Here we go, minmax scaling"
   ]
  },
  {
   "cell_type": "code",
   "execution_count": 7,
   "metadata": {},
   "outputs": [],
   "source": [
    "Xscaled = copy.copy(X)"
   ]
  },
  {
   "cell_type": "code",
   "execution_count": 8,
   "metadata": {},
   "outputs": [
    {
     "name": "stdout",
     "output_type": "stream",
     "text": [
      "True\n",
      "0\n"
     ]
    },
    {
     "name": "stderr",
     "output_type": "stream",
     "text": [
      "C:\\Users\\Greg\\Anaconda3\\lib\\site-packages\\numpy\\lib\\nanfunctions.py:959: RuntimeWarning: All-NaN slice encountered\n",
      "  result = np.apply_along_axis(_nanmedian1d, axis, a, overwrite_input)\n",
      "C:\\Users\\Greg\\Anaconda3\\lib\\site-packages\\numpy\\lib\\function_base.py:3405: RuntimeWarning: All-NaN slice encountered\n",
      "  r = func(a, **kwargs)\n"
     ]
    },
    {
     "name": "stdout",
     "output_type": "stream",
     "text": [
      "1\n"
     ]
    },
    {
     "name": "stderr",
     "output_type": "stream",
     "text": [
      "C:\\Users\\Greg\\Anaconda3\\lib\\site-packages\\numpy\\lib\\nanfunctions.py:959: RuntimeWarning: All-NaN slice encountered\n",
      "  result = np.apply_along_axis(_nanmedian1d, axis, a, overwrite_input)\n",
      "C:\\Users\\Greg\\Anaconda3\\lib\\site-packages\\numpy\\lib\\function_base.py:3405: RuntimeWarning: All-NaN slice encountered\n",
      "  r = func(a, **kwargs)\n",
      "C:\\Users\\Greg\\Anaconda3\\lib\\site-packages\\sklearn\\preprocessing\\data.py:355: RuntimeWarning: All-NaN slice encountered\n",
      "  data_min = np.nanmin(X, axis=0)\n",
      "C:\\Users\\Greg\\Anaconda3\\lib\\site-packages\\sklearn\\preprocessing\\data.py:356: RuntimeWarning: All-NaN slice encountered\n",
      "  data_max = np.nanmax(X, axis=0)\n",
      "C:\\Users\\Greg\\Anaconda3\\lib\\site-packages\\sklearn\\preprocessing\\data.py:355: RuntimeWarning: All-NaN slice encountered\n",
      "  data_min = np.nanmin(X, axis=0)\n",
      "C:\\Users\\Greg\\Anaconda3\\lib\\site-packages\\sklearn\\preprocessing\\data.py:356: RuntimeWarning: All-NaN slice encountered\n",
      "  data_max = np.nanmax(X, axis=0)\n"
     ]
    },
    {
     "name": "stdout",
     "output_type": "stream",
     "text": [
      "True\n",
      "4\n"
     ]
    },
    {
     "name": "stderr",
     "output_type": "stream",
     "text": [
      "C:\\Users\\Greg\\Anaconda3\\lib\\site-packages\\numpy\\lib\\nanfunctions.py:959: RuntimeWarning: All-NaN slice encountered\n",
      "  result = np.apply_along_axis(_nanmedian1d, axis, a, overwrite_input)\n",
      "C:\\Users\\Greg\\Anaconda3\\lib\\site-packages\\numpy\\lib\\function_base.py:3405: RuntimeWarning: All-NaN slice encountered\n",
      "  r = func(a, **kwargs)\n"
     ]
    },
    {
     "name": "stdout",
     "output_type": "stream",
     "text": [
      "Wall time: 3.75 s\n"
     ]
    }
   ],
   "source": [
    "%%time\n",
    "for track_variable in range(5):\n",
    "    var_to_scale = Xscaled[:,:,track_variable]\n",
    "    if (track_variable == 0):\n",
    "        print((track_variable == 0))\n",
    "        print(track_variable)\n",
    "        scaler=RobustScaler()\n",
    "    elif (track_variable == 4):\n",
    "        print((track_variable == 4))\n",
    "        print(track_variable)\n",
    "        scaler=RobustScaler()\n",
    "    elif (track_variable == 1):\n",
    "        print(track_variable)\n",
    "        scaler = RobustScaler()\n",
    "    else:\n",
    "        scaler=MinMaxScaler([-1,1])\n",
    "    scaler.fit(var_to_scale)\n",
    "    Xscaled[:,:,track_variable] = scaler.transform(var_to_scale)"
   ]
  },
  {
   "cell_type": "code",
   "execution_count": 20,
   "metadata": {},
   "outputs": [],
   "source": [
    "#X"
   ]
  },
  {
   "cell_type": "code",
   "execution_count": 9,
   "metadata": {},
   "outputs": [
    {
     "name": "stdout",
     "output_type": "stream",
     "text": [
      "9000000\n"
     ]
    },
    {
     "name": "stderr",
     "output_type": "stream",
     "text": [
      "C:\\Users\\Greg\\Anaconda3\\lib\\site-packages\\numpy\\lib\\histograms.py:391: RuntimeWarning: invalid value encountered in greater_equal\n",
      "  keep = (a >= first_edge)\n",
      "C:\\Users\\Greg\\Anaconda3\\lib\\site-packages\\numpy\\lib\\histograms.py:392: RuntimeWarning: invalid value encountered in less_equal\n",
      "  keep &= (a <= last_edge)\n",
      "C:\\Users\\Greg\\Anaconda3\\lib\\site-packages\\numpy\\lib\\histograms.py:824: RuntimeWarning: invalid value encountered in greater_equal\n",
      "  keep = (tmp_a >= first_edge)\n",
      "C:\\Users\\Greg\\Anaconda3\\lib\\site-packages\\numpy\\lib\\histograms.py:825: RuntimeWarning: invalid value encountered in less_equal\n",
      "  keep &= (tmp_a <= last_edge)\n"
     ]
    },
    {
     "data": {
      "image/png": "[encoded data removed]",
      "text/plain": [
       "<Figure size 432x288 with 1 Axes>"
      ]
     },
     "metadata": {
      "needs_background": "light"
     },
     "output_type": "display_data"
    },
    {
     "name": "stdout",
     "output_type": "stream",
     "text": [
      "9000000\n"
     ]
    },
    {
     "data": {
      "image/png": "[encoded data removed]",
      "text/plain": [
       "<Figure size 432x288 with 1 Axes>"
      ]
     },
     "metadata": {
      "needs_background": "light"
     },
     "output_type": "display_data"
    }
   ],
   "source": [
    "var=4\n",
    "trackvar = X[:,:,var]\n",
    "trackvar = trackvar[~(trackvar == np.NaN)]\n",
    "print(len(trackvar))\n",
    "\n",
    "plt.hist(trackvar,bins='scott',log=True)\n",
    "plt.show()\n",
    "\n",
    "trackvar2 = Xscaled[:,:,var]\n",
    "trackvar2 = trackvar2[~(trackvar2 == np.NaN)]\n",
    "print(len(trackvar2))\n",
    "\n",
    "\n",
    "plt.hist(trackvar2,bins='scott',log=True)\n",
    "plt.show()"
   ]
  },
  {
   "cell_type": "code",
   "execution_count": 11,
   "metadata": {},
   "outputs": [],
   "source": [
    "Xscaled = np.nan_to_num(Xscaled)"
   ]
  },
  {
   "cell_type": "markdown",
   "metadata": {},
   "source": [
    "Now we scale the outputs, actually more simple, we change units from metres to millimetres"
   ]
  },
  {
   "cell_type": "markdown",
   "metadata": {},
   "source": [
    "And the secondary and tertiary vertices as our labels"
   ]
  },
  {
   "cell_type": "code",
   "execution_count": 12,
   "metadata": {},
   "outputs": [],
   "source": [
    "y = bjets_DF[['secVtx_x','secVtx_y','secVtx_z','terVtx_x','terVtx_y','terVtx_z']].values \n",
    "y = y*1000 # change units of vertices from m to mm, keep vals close to unity # come back change GREGG!!!\n",
    "# again convention call labels 'y'"
   ]
  },
  {
   "cell_type": "markdown",
   "metadata": {},
   "source": [
    "Split first 80000 jets as train and next 20000 as test. Below some plots to show these jets are equivalently distributed"
   ]
  },
  {
   "cell_type": "code",
   "execution_count": 36,
   "metadata": {},
   "outputs": [],
   "source": [
    "X=np.nan_to_num(X)"
   ]
  },
  {
   "cell_type": "code",
   "execution_count": 14,
   "metadata": {},
   "outputs": [
    {
     "name": "stdout",
     "output_type": "stream",
     "text": [
      "280000\n"
     ]
    }
   ],
   "source": [
    "split= 280000 #int(0.9*len(bjets_DF))\n",
    "X_train=Xscaled[:split]\n",
    "X_test=Xscaled[split:]\n",
    "y_train=y[:split]\n",
    "y_test=y[split:]\n",
    "print(split)"
   ]
  },
  {
   "cell_type": "code",
   "execution_count": 15,
   "metadata": {},
   "outputs": [],
   "source": [
    "b_s1=np.linalg.norm(bjets_DF[['secVtx_x','secVtx_y','secVtx_z']],axis=1)[:split]\n",
    "b_s2=np.linalg.norm(bjets_DF[['secVtx_x','secVtx_y','secVtx_z']],axis=1)[split:]\n",
    "b_t1=np.linalg.norm(bjets_DF[['terVtx_x','terVtx_y','terVtx_z']],axis=1)[:split]\n",
    "b_t2=np.linalg.norm(bjets_DF[['terVtx_x','terVtx_y','terVtx_z']],axis=1)[split:]\n",
    "plt.show()"
   ]
  },
  {
   "cell_type": "code",
   "execution_count": 16,
   "metadata": {},
   "outputs": [
    {
     "name": "stdout",
     "output_type": "stream",
     "text": [
      "0.0036881077136951806\n",
      "0.007020509848532561\n"
     ]
    },
    {
     "data": {
      "image/png": "[encoded data removed]",
      "text/plain": [
       "<Figure size 432x288 with 1 Axes>"
      ]
     },
     "metadata": {
      "needs_background": "light"
     },
     "output_type": "display_data"
    }
   ],
   "source": [
    "plt.hist(b_s1,bins='scott',range=[0,0.01])\n",
    "#plt.hist(c_SecVtx,bins='scott',range=[0,0.01])\n",
    "plt.hist(b_t1,bins='scott',range=[0,0.01])\n",
    "\n",
    "print(np.mean(b_s1))\n",
    "print(np.mean(b_t1))\n"
   ]
  },
  {
   "cell_type": "code",
   "execution_count": 17,
   "metadata": {},
   "outputs": [
    {
     "name": "stdout",
     "output_type": "stream",
     "text": [
      "0.0036867697567230765\n",
      "0.0069798565303123665\n"
     ]
    },
    {
     "data": {
      "image/png": "[encoded data removed]",
      "text/plain": [
       "<Figure size 432x288 with 1 Axes>"
      ]
     },
     "metadata": {
      "needs_background": "light"
     },
     "output_type": "display_data"
    }
   ],
   "source": [
    "plt.hist(b_s2,bins='scott',range=[0,0.01])\n",
    "#plt.hist(c_SecVtx,bins='scott',range=[0,0.01])\n",
    "plt.hist(b_t2,bins='scott',range=[0,0.01])\n",
    "\n",
    "print(np.mean(b_s2))\n",
    "print(np.mean(b_t2))\n"
   ]
  },
  {
   "cell_type": "markdown",
   "metadata": {},
   "source": [
    "So finally we have our features, X, and labels, y. Split into training and testing samples."
   ]
  },
  {
   "cell_type": "code",
   "execution_count": null,
   "metadata": {},
   "outputs": [],
   "source": []
  },
  {
   "cell_type": "markdown",
   "metadata": {},
   "source": [
    "## Data Plots and Sanity Checks"
   ]
  },
  {
   "cell_type": "markdown",
   "metadata": {},
   "source": [
    "Here I should have some plots on the track variables to ensure everything is logical and working fine, especially when I make changes to the data. Can potentially use seaborn..."
   ]
  },
  {
   "cell_type": "code",
   "execution_count": null,
   "metadata": {},
   "outputs": [],
   "source": []
  },
  {
   "cell_type": "code",
   "execution_count": null,
   "metadata": {},
   "outputs": [],
   "source": []
  },
  {
   "cell_type": "code",
   "execution_count": null,
   "metadata": {},
   "outputs": [],
   "source": []
  },
  {
   "cell_type": "markdown",
   "metadata": {},
   "source": [
    "## Constructing and Training an RNN"
   ]
  },
  {
   "cell_type": "markdown",
   "metadata": {},
   "source": [
    "Here we create an RNN based on LSTM cells using keras and tensorflow. The RNN will for each jet candidate take the tracks as inputs and attempt to predict the secondary and tertiary vertex positions. Let's see how well it does.\n",
    "\n",
    "I anticipate having to set a tolerance on the predicted values, it will never get them perfectly but we need to tell it how close it has to get for it to be considered successful."
   ]
  },
  {
   "cell_type": "markdown",
   "metadata": {},
   "source": [
    "Let's begin by creating the RNN architecture"
   ]
  },
  {
   "cell_type": "code",
   "execution_count": 18,
   "metadata": {},
   "outputs": [],
   "source": [
    "# Select number of hidden and dense layers. Initially use same as RNNIP but these can be tuned going forward.\n",
    "\n",
    "nHidden = 100\n",
    "nDense = 20"
   ]
  },
  {
   "cell_type": "code",
   "execution_count": 19,
   "metadata": {},
   "outputs": [],
   "source": [
    "nJets, nTrks, nFeatures = X_train.shape\n",
    "nOutputs = y.shape[1] # ie sec and ter vtx xyz, so 6"
   ]
  },
  {
   "cell_type": "code",
   "execution_count": 20,
   "metadata": {},
   "outputs": [],
   "source": [
    "trk_inputs = Input(shape=(nTrks,nFeatures),name=\"Trk_inputs\")\n",
    "masked_input = Masking()(trk_inputs)\n",
    "\n",
    "# Feed this merged layer to an RNN\n",
    "lstm = LSTM(nHidden, return_sequences=False, name='LSTM')(masked_input)\n",
    "dpt = Dropout(rate=0.2)(lstm) # this is a very high dropout rate, reduce it\n",
    "\n",
    "my_inputs = trk_inputs\n",
    "\n",
    "# Fully connected layer: This will convert the output of the RNN to our vtx postion predicitons\n",
    "FC = Dense(nDense, activation='relu', name=\"Dense\")(dpt) # is relu fine here? i think so...\n",
    "\n",
    "# Ouptut layer. Sec and Ter Vtx. No activation as this is a regression problem\n",
    "output = Dense(nOutputs, name=\"Vertex_Predictions\")(FC)\n",
    "\n",
    "myRNN = Model(inputs=my_inputs, outputs=output)\n"
   ]
  },
  {
   "cell_type": "code",
   "execution_count": 21,
   "metadata": {},
   "outputs": [
    {
     "name": "stdout",
     "output_type": "stream",
     "text": [
      "_________________________________________________________________\n",
      "Layer (type)                 Output Shape              Param #   \n",
      "=================================================================\n",
      "Trk_inputs (InputLayer)      (None, 30, 5)             0         \n",
      "_________________________________________________________________\n",
      "masking_1 (Masking)          (None, 30, 5)             0         \n",
      "_________________________________________________________________\n",
      "LSTM (LSTM)                  (None, 100)               42400     \n",
      "_________________________________________________________________\n",
      "dropout_1 (Dropout)          (None, 100)               0         \n",
      "_________________________________________________________________\n",
      "Dense (Dense)                (None, 20)                2020      \n",
      "_________________________________________________________________\n",
      "Vertex_Predictions (Dense)   (None, 6)                 126       \n",
      "=================================================================\n",
      "Total params: 44,546\n",
      "Trainable params: 44,546\n",
      "Non-trainable params: 0\n",
      "_________________________________________________________________\n"
     ]
    }
   ],
   "source": [
    "myRNN.summary()"
   ]
  },
  {
   "cell_type": "code",
   "execution_count": 22,
   "metadata": {},
   "outputs": [],
   "source": [
    "myRNN.compile(loss='mean_absolute_error', optimizer='adam', metrics=['mae']) # do i want to add a metric like mse to evaluate during training\n"
   ]
  },
  {
   "cell_type": "markdown",
   "metadata": {},
   "source": [
    " checkpoints, training, evaluation of performance\n",
    " different ways of evaluating performance obviously\n",
    " either akin to Nicole's method for RNNIP\n",
    " or the slighlty different method in https://github.com/agu3rra/NeuralNetwork-RegressionExample/blob/master/Tutorial.ipynb"
   ]
  },
  {
   "cell_type": "code",
   "execution_count": 23,
   "metadata": {},
   "outputs": [],
   "source": [
    "myRNN_mChkPt = ModelCheckpoint('myRNN_weights.h5',monitor='val_loss', verbose=True,\n",
    "                               save_best_only=True,\n",
    "                               save_weights_only=True)"
   ]
  },
  {
   "cell_type": "code",
   "execution_count": 24,
   "metadata": {},
   "outputs": [],
   "source": [
    "earlyStop = EarlyStopping(monitor='val_loss', verbose=True, patience=10)\n"
   ]
  },
  {
   "cell_type": "code",
   "execution_count": 25,
   "metadata": {},
   "outputs": [
    {
     "name": "stdout",
     "output_type": "stream",
     "text": [
      "Train on 224000 samples, validate on 56000 samples\n",
      "Epoch 1/100\n",
      "223744/224000 [============================>.] - ETA: 0s - loss: 1.1914 - mean_absolute_error: 1.1914Epoch 00001: val_loss improved from inf to 0.87157, saving model to myRNN_weights.h5\n",
      "224000/224000 [==============================] - 68s 304us/step - loss: 1.1911 - mean_absolute_error: 1.1911 - val_loss: 0.8716 - val_mean_absolute_error: 0.8716\n",
      "Epoch 2/100\n",
      "223744/224000 [============================>.] - ETA: 0s - loss: 0.8606 - mean_absolute_error: 0.8606Epoch 00002: val_loss improved from 0.87157 to 0.79249, saving model to myRNN_weights.h5\n",
      "224000/224000 [==============================] - 72s 323us/step - loss: 0.8606 - mean_absolute_error: 0.8606 - val_loss: 0.7925 - val_mean_absolute_error: 0.7925\n",
      "Epoch 3/100\n",
      "223744/224000 [============================>.] - ETA: 0s - loss: 0.8076 - mean_absolute_error: 0.8076Epoch 00003: val_loss improved from 0.79249 to 0.76333, saving model to myRNN_weights.h5\n",
      "224000/224000 [==============================] - 70s 311us/step - loss: 0.8075 - mean_absolute_error: 0.8075 - val_loss: 0.7633 - val_mean_absolute_error: 0.7633\n",
      "Epoch 4/100\n",
      "223744/224000 [============================>.] - ETA: 0s - loss: 0.7782 - mean_absolute_error: 0.7782Epoch 00004: val_loss improved from 0.76333 to 0.72294, saving model to myRNN_weights.h5\n",
      "224000/224000 [==============================] - 77s 342us/step - loss: 0.7781 - mean_absolute_error: 0.7781 - val_loss: 0.7229 - val_mean_absolute_error: 0.7229\n",
      "Epoch 5/100\n",
      "223744/224000 [============================>.] - ETA: 0s - loss: 0.7556 - mean_absolute_error: 0.7556Epoch 00005: val_loss improved from 0.72294 to 0.70416, saving model to myRNN_weights.h5\n",
      "224000/224000 [==============================] - 80s 359us/step - loss: 0.7557 - mean_absolute_error: 0.7557 - val_loss: 0.7042 - val_mean_absolute_error: 0.7042\n",
      "Epoch 6/100\n",
      "223744/224000 [============================>.] - ETA: 0s - loss: 0.7375 - mean_absolute_error: 0.7375Epoch 00006: val_loss improved from 0.70416 to 0.69184, saving model to myRNN_weights.h5\n",
      "224000/224000 [==============================] - 84s 374us/step - loss: 0.7376 - mean_absolute_error: 0.7376 - val_loss: 0.6918 - val_mean_absolute_error: 0.6918\n",
      "Epoch 7/100\n",
      "223744/224000 [============================>.] - ETA: 0s - loss: 0.7208 - mean_absolute_error: 0.7208Epoch 00007: val_loss improved from 0.69184 to 0.67299, saving model to myRNN_weights.h5\n",
      "224000/224000 [==============================] - 81s 361us/step - loss: 0.7207 - mean_absolute_error: 0.7207 - val_loss: 0.6730 - val_mean_absolute_error: 0.6730\n",
      "Epoch 8/100\n",
      "223744/224000 [============================>.] - ETA: 0s - loss: 0.7023 - mean_absolute_error: 0.7023Epoch 00008: val_loss improved from 0.67299 to 0.64622, saving model to myRNN_weights.h5\n",
      "224000/224000 [==============================] - 79s 352us/step - loss: 0.7022 - mean_absolute_error: 0.7022 - val_loss: 0.6462 - val_mean_absolute_error: 0.6462\n",
      "Epoch 9/100\n",
      "223744/224000 [============================>.] - ETA: 0s - loss: 0.6799 - mean_absolute_error: 0.6799Epoch 00009: val_loss improved from 0.64622 to 0.61873, saving model to myRNN_weights.h5\n",
      "224000/224000 [==============================] - 82s 366us/step - loss: 0.6798 - mean_absolute_error: 0.6798 - val_loss: 0.6187 - val_mean_absolute_error: 0.6187\n",
      "Epoch 10/100\n",
      "223744/224000 [============================>.] - ETA: 0s - loss: 0.6542 - mean_absolute_error: 0.6542Epoch 00010: val_loss improved from 0.61873 to 0.59145, saving model to myRNN_weights.h5\n",
      "224000/224000 [==============================] - 82s 366us/step - loss: 0.6542 - mean_absolute_error: 0.6542 - val_loss: 0.5914 - val_mean_absolute_error: 0.5914\n",
      "Epoch 11/100\n",
      "223744/224000 [============================>.] - ETA: 0s - loss: 0.6313 - mean_absolute_error: 0.6313Epoch 00011: val_loss improved from 0.59145 to 0.56878, saving model to myRNN_weights.h5\n",
      "224000/224000 [==============================] - 81s 359us/step - loss: 0.6313 - mean_absolute_error: 0.6313 - val_loss: 0.5688 - val_mean_absolute_error: 0.5688\n",
      "Epoch 12/100\n",
      "223744/224000 [============================>.] - ETA: 0s - loss: 0.6157 - mean_absolute_error: 0.6157Epoch 00012: val_loss improved from 0.56878 to 0.55232, saving model to myRNN_weights.h5\n",
      "224000/224000 [==============================] - 80s 356us/step - loss: 0.6156 - mean_absolute_error: 0.6156 - val_loss: 0.5523 - val_mean_absolute_error: 0.5523\n",
      "Epoch 13/100\n",
      "223744/224000 [============================>.] - ETA: 0s - loss: 0.6008 - mean_absolute_error: 0.6008Epoch 00013: val_loss did not improve\n",
      "224000/224000 [==============================] - 79s 355us/step - loss: 0.6008 - mean_absolute_error: 0.6008 - val_loss: 0.5533 - val_mean_absolute_error: 0.5533\n",
      "Epoch 14/100\n",
      "223744/224000 [============================>.] - ETA: 0s - loss: 0.5895 - mean_absolute_error: 0.5895Epoch 00014: val_loss improved from 0.55232 to 0.53067, saving model to myRNN_weights.h5\n",
      "224000/224000 [==============================] - 78s 350us/step - loss: 0.5894 - mean_absolute_error: 0.5894 - val_loss: 0.5307 - val_mean_absolute_error: 0.5307\n",
      "Epoch 15/100\n",
      "223744/224000 [============================>.] - ETA: 0s - loss: 0.5783 - mean_absolute_error: 0.5783Epoch 00015: val_loss improved from 0.53067 to 0.51772, saving model to myRNN_weights.h5\n",
      "224000/224000 [==============================] - 78s 350us/step - loss: 0.5782 - mean_absolute_error: 0.5782 - val_loss: 0.5177 - val_mean_absolute_error: 0.5177\n",
      "Epoch 16/100\n",
      "223744/224000 [============================>.] - ETA: 0s - loss: 0.5702 - mean_absolute_error: 0.5702- ETA: 3s - loss:Epoch 00016: val_loss improved from 0.51772 to 0.51646, saving model to myRNN_weights.h5\n",
      "224000/224000 [==============================] - 78s 348us/step - loss: 0.5702 - mean_absolute_error: 0.5702 - val_loss: 0.5165 - val_mean_absolute_error: 0.5165\n",
      "Epoch 17/100\n",
      "223744/224000 [============================>.] - ETA: 0s - loss: 0.5627 - mean_absolute_error: 0.5627Epoch 00017: val_loss improved from 0.51646 to 0.50455, saving model to myRNN_weights.h5\n",
      "224000/224000 [==============================] - 77s 343us/step - loss: 0.5627 - mean_absolute_error: 0.5627 - val_loss: 0.5045 - val_mean_absolute_error: 0.5045\n",
      "Epoch 18/100\n",
      "223744/224000 [============================>.] - ETA: 0s - loss: 0.5561 - mean_absolute_error: 0.5561Epoch 00018: val_loss improved from 0.50455 to 0.50385, saving model to myRNN_weights.h5\n",
      "224000/224000 [==============================] - 77s 343us/step - loss: 0.5560 - mean_absolute_error: 0.5560 - val_loss: 0.5038 - val_mean_absolute_error: 0.5038\n",
      "Epoch 19/100\n",
      "223744/224000 [============================>.] - ETA: 0s - loss: 0.5498 - mean_absolute_error: 0.5498- ETA: 1s - loss: 0.5499 - mean_absoluteEpoch 00019: val_loss improved from 0.50385 to 0.49504, saving model to myRNN_weights.h5\n",
      "224000/224000 [==============================] - 78s 350us/step - loss: 0.5499 - mean_absolute_error: 0.5499 - val_loss: 0.4950 - val_mean_absolute_error: 0.4950\n",
      "Epoch 20/100\n",
      "223744/224000 [============================>.] - ETA: 0s - loss: 0.5437 - mean_absolute_error: 0.5437Epoch 00020: val_loss improved from 0.49504 to 0.47896, saving model to myRNN_weights.h5\n",
      "224000/224000 [==============================] - 76s 338us/step - loss: 0.5438 - mean_absolute_error: 0.5438 - val_loss: 0.4790 - val_mean_absolute_error: 0.4790\n",
      "Epoch 21/100\n",
      "223744/224000 [============================>.] - ETA: 0s - loss: 0.5377 - mean_absolute_error: 0.5377Epoch 00021: val_loss improved from 0.47896 to 0.47836, saving model to myRNN_weights.h5\n",
      "224000/224000 [==============================] - 82s 367us/step - loss: 0.5378 - mean_absolute_error: 0.5378 - val_loss: 0.4784 - val_mean_absolute_error: 0.4784\n",
      "Epoch 22/100\n",
      "223744/224000 [============================>.] - ETA: 0s - loss: 0.5329 - mean_absolute_error: 0.5329Epoch 00022: val_loss improved from 0.47836 to 0.47049, saving model to myRNN_weights.h5\n",
      "224000/224000 [==============================] - 78s 348us/step - loss: 0.5329 - mean_absolute_error: 0.5329 - val_loss: 0.4705 - val_mean_absolute_error: 0.4705\n",
      "Epoch 23/100\n"
     ]
    },
    {
     "name": "stdout",
     "output_type": "stream",
     "text": [
      "223744/224000 [============================>.] - ETA: 0s - loss: 0.5284 - mean_absolute_error: 0.5284Epoch 00023: val_loss improved from 0.47049 to 0.46861, saving model to myRNN_weights.h5\n",
      "224000/224000 [==============================] - 78s 348us/step - loss: 0.5285 - mean_absolute_error: 0.5285 - val_loss: 0.4686 - val_mean_absolute_error: 0.4686\n",
      "Epoch 24/100\n",
      "223744/224000 [============================>.] - ETA: 0s - loss: 0.5237 - mean_absolute_error: 0.5237Epoch 00024: val_loss improved from 0.46861 to 0.46455, saving model to myRNN_weights.h5\n",
      "224000/224000 [==============================] - 75s 335us/step - loss: 0.5236 - mean_absolute_error: 0.5236 - val_loss: 0.4645 - val_mean_absolute_error: 0.4645\n",
      "Epoch 25/100\n",
      "223744/224000 [============================>.] - ETA: 0s - loss: 0.5191 - mean_absolute_error: 0.5191Epoch 00025: val_loss improved from 0.46455 to 0.46268, saving model to myRNN_weights.h5\n",
      "224000/224000 [==============================] - 75s 337us/step - loss: 0.5190 - mean_absolute_error: 0.5190 - val_loss: 0.4627 - val_mean_absolute_error: 0.4627\n",
      "Epoch 26/100\n",
      "223744/224000 [============================>.] - ETA: 0s - loss: 0.5148 - mean_absolute_error: 0.5148Epoch 00026: val_loss improved from 0.46268 to 0.45393, saving model to myRNN_weights.h5\n",
      "224000/224000 [==============================] - 91s 406us/step - loss: 0.5147 - mean_absolute_error: 0.5147 - val_loss: 0.4539 - val_mean_absolute_error: 0.4539\n",
      "Epoch 27/100\n",
      "223744/224000 [============================>.] - ETA: 0s - loss: 0.5105 - mean_absolute_error: 0.5105Epoch 00027: val_loss improved from 0.45393 to 0.44875, saving model to myRNN_weights.h5\n",
      "224000/224000 [==============================] - 79s 353us/step - loss: 0.5104 - mean_absolute_error: 0.5104 - val_loss: 0.4487 - val_mean_absolute_error: 0.4487\n",
      "Epoch 28/100\n",
      "223744/224000 [============================>.] - ETA: 0s - loss: 0.5064 - mean_absolute_error: 0.5064Epoch 00028: val_loss did not improve\n",
      "224000/224000 [==============================] - 84s 376us/step - loss: 0.5064 - mean_absolute_error: 0.5064 - val_loss: 0.4524 - val_mean_absolute_error: 0.4524\n",
      "Epoch 29/100\n",
      "223744/224000 [============================>.] - ETA: 0s - loss: 0.5007 - mean_absolute_error: 0.5007Epoch 00029: val_loss improved from 0.44875 to 0.44637, saving model to myRNN_weights.h5\n",
      "224000/224000 [==============================] - 84s 377us/step - loss: 0.5006 - mean_absolute_error: 0.5006 - val_loss: 0.4464 - val_mean_absolute_error: 0.4464\n",
      "Epoch 30/100\n",
      "223744/224000 [============================>.] - ETA: 0s - loss: 0.4978 - mean_absolute_error: 0.4978Epoch 00030: val_loss improved from 0.44637 to 0.43591, saving model to myRNN_weights.h5\n",
      "224000/224000 [==============================] - 76s 341us/step - loss: 0.4978 - mean_absolute_error: 0.4978 - val_loss: 0.4359 - val_mean_absolute_error: 0.4359\n",
      "Epoch 31/100\n",
      "223744/224000 [============================>.] - ETA: 0s - loss: 0.4931 - mean_absolute_error: 0.4931Epoch 00031: val_loss did not improve\n",
      "224000/224000 [==============================] - 79s 353us/step - loss: 0.4931 - mean_absolute_error: 0.4931 - val_loss: 0.4383 - val_mean_absolute_error: 0.4383\n",
      "Epoch 32/100\n",
      "223744/224000 [============================>.] - ETA: 0s - loss: 0.4889 - mean_absolute_error: 0.4889Epoch 00032: val_loss improved from 0.43591 to 0.42788, saving model to myRNN_weights.h5\n",
      "224000/224000 [==============================] - 82s 367us/step - loss: 0.4889 - mean_absolute_error: 0.4889 - val_loss: 0.4279 - val_mean_absolute_error: 0.4279\n",
      "Epoch 33/100\n",
      "223744/224000 [============================>.] - ETA: 0s - loss: 0.4840 - mean_absolute_error: 0.4840- ETA: 3s - loss: 0.4837 - mean_a - ETA: 2s - loss: 0.4838 - mea - ETA: 0s - loss: 0.4840 - mean_absolute_error: 0.484Epoch 00033: val_loss improved from 0.42788 to 0.42121, saving model to myRNN_weights.h5\n",
      "224000/224000 [==============================] - 82s 366us/step - loss: 0.4840 - mean_absolute_error: 0.4840 - val_loss: 0.4212 - val_mean_absolute_error: 0.4212\n",
      "Epoch 34/100\n",
      "223744/224000 [============================>.] - ETA: 0s - loss: 0.4797 - mean_absolute_error: 0.4797  ETA: 11s - lo - ETA: 8s - l - ETA: 5s - - ETA: 1s - loss: 0.4799 - mean_aEpoch 00034: val_loss did not improve\n",
      "224000/224000 [==============================] - 80s 357us/step - loss: 0.4798 - mean_absolute_error: 0.4798 - val_loss: 0.4212 - val_mean_absolute_error: 0.4212\n",
      "Epoch 35/100\n",
      "223744/224000 [============================>.] - ETA: 0s - loss: 0.4768 - mean_absolute_error: 0.4768Epoch 00035: val_loss improved from 0.42121 to 0.42077, saving model to myRNN_weights.h5\n",
      "224000/224000 [==============================] - 78s 349us/step - loss: 0.4767 - mean_absolute_error: 0.4767 - val_loss: 0.4208 - val_mean_absolute_error: 0.4208\n",
      "Epoch 36/100\n",
      "223744/224000 [============================>.] - ETA: 0s - loss: 0.4723 - mean_absolute_error: 0.4723Epoch 00036: val_loss improved from 0.42077 to 0.41590, saving model to myRNN_weights.h5\n",
      "224000/224000 [==============================] - 82s 368us/step - loss: 0.4723 - mean_absolute_error: 0.4723 - val_loss: 0.4159 - val_mean_absolute_error: 0.4159\n",
      "Epoch 37/100\n",
      "223744/224000 [============================>.] - ETA: 0s - loss: 0.4688 - mean_absolute_error: 0.4688Epoch 00037: val_loss improved from 0.41590 to 0.40962, saving model to myRNN_weights.h5\n",
      "224000/224000 [==============================] - 79s 354us/step - loss: 0.4689 - mean_absolute_error: 0.4689 - val_loss: 0.4096 - val_mean_absolute_error: 0.4096\n",
      "Epoch 38/100\n",
      "223744/224000 [============================>.] - ETA: 0s - loss: 0.4660 - mean_absolute_error: 0.4660Epoch 00038: val_loss improved from 0.40962 to 0.40866, saving model to myRNN_weights.h5\n",
      "224000/224000 [==============================] - 79s 351us/step - loss: 0.4660 - mean_absolute_error: 0.4660 - val_loss: 0.4087 - val_mean_absolute_error: 0.4087\n",
      "Epoch 39/100\n",
      "223744/224000 [============================>.] - ETA: 0s - loss: 0.4630 - mean_absolute_error: 0.4630Epoch 00039: val_loss did not improve\n",
      "224000/224000 [==============================] - 81s 361us/step - loss: 0.4630 - mean_absolute_error: 0.4630 - val_loss: 0.4095 - val_mean_absolute_error: 0.4095\n",
      "Epoch 40/100\n",
      "223744/224000 [============================>.] - ETA: 0s - loss: 0.4599 - mean_absolute_error: 0.4599Epoch 00040: val_loss improved from 0.40866 to 0.40595, saving model to myRNN_weights.h5\n",
      "224000/224000 [==============================] - 80s 359us/step - loss: 0.4599 - mean_absolute_error: 0.4599 - val_loss: 0.4060 - val_mean_absolute_error: 0.4060\n",
      "Epoch 41/100\n",
      "223744/224000 [============================>.] - ETA: 0s - loss: 0.4568 - mean_absolute_error: 0.4568Epoch 00041: val_loss improved from 0.40595 to 0.40138, saving model to myRNN_weights.h5\n",
      "224000/224000 [==============================] - 78s 348us/step - loss: 0.4569 - mean_absolute_error: 0.4569 - val_loss: 0.4014 - val_mean_absolute_error: 0.4014\n",
      "Epoch 42/100\n",
      "223744/224000 [============================>.] - ETA: 0s - loss: 0.4540 - mean_absolute_error: 0.4540Epoch 00042: val_loss improved from 0.40138 to 0.39028, saving model to myRNN_weights.h5\n",
      "224000/224000 [==============================] - 80s 359us/step - loss: 0.4540 - mean_absolute_error: 0.4540 - val_loss: 0.3903 - val_mean_absolute_error: 0.3903\n",
      "Epoch 43/100\n",
      "223744/224000 [============================>.] - ETA: 0s - loss: 0.4511 - mean_absolute_error: 0.4511Epoch 00043: val_loss improved from 0.39028 to 0.38634, saving model to myRNN_weights.h5\n",
      "224000/224000 [==============================] - 79s 351us/step - loss: 0.4511 - mean_absolute_error: 0.4511 - val_loss: 0.3863 - val_mean_absolute_error: 0.3863\n",
      "Epoch 44/100\n",
      "223744/224000 [============================>.] - ETA: 0s - loss: 0.4482 - mean_absolute_error: 0.4482Epoch 00044: val_loss did not improve\n",
      "224000/224000 [==============================] - 79s 351us/step - loss: 0.4482 - mean_absolute_error: 0.4482 - val_loss: 0.3886 - val_mean_absolute_error: 0.3886\n",
      "Epoch 45/100\n",
      "223744/224000 [============================>.] - ETA: 0s - loss: 0.4466 - mean_absolute_error: 0.4466Epoch 00045: val_loss did not improve\n",
      "224000/224000 [==============================] - 80s 356us/step - loss: 0.4466 - mean_absolute_error: 0.4466 - val_loss: 0.3912 - val_mean_absolute_error: 0.3912\n"
     ]
    },
    {
     "name": "stdout",
     "output_type": "stream",
     "text": [
      "Epoch 46/100\n",
      "223744/224000 [============================>.] - ETA: 0s - loss: 0.4435 - mean_absolute_error: 0.4435Epoch 00046: val_loss improved from 0.38634 to 0.38477, saving model to myRNN_weights.h5\n",
      "224000/224000 [==============================] - 75s 335us/step - loss: 0.4436 - mean_absolute_error: 0.4436 - val_loss: 0.3848 - val_mean_absolute_error: 0.3848\n",
      "Epoch 47/100\n",
      "223744/224000 [============================>.] - ETA: 0s - loss: 0.4416 - mean_absolute_error: 0.4416Epoch 00047: val_loss improved from 0.38477 to 0.37851, saving model to myRNN_weights.h5\n",
      "224000/224000 [==============================] - 79s 354us/step - loss: 0.4416 - mean_absolute_error: 0.4416 - val_loss: 0.3785 - val_mean_absolute_error: 0.3785\n",
      "Epoch 48/100\n",
      "223744/224000 [============================>.] - ETA: 0s - loss: 0.4382 - mean_absolute_error: 0.4382- ETA: 0s - loss: 0.4381 - mean_absolute_error: 0.Epoch 00048: val_loss did not improve\n",
      "224000/224000 [==============================] - 77s 345us/step - loss: 0.4382 - mean_absolute_error: 0.4382 - val_loss: 0.3832 - val_mean_absolute_error: 0.3832\n",
      "Epoch 49/100\n",
      "223744/224000 [============================>.] - ETA: 0s - loss: 0.4356 - mean_absolute_error: 0.4356Epoch 00049: val_loss did not improve\n",
      "224000/224000 [==============================] - 77s 344us/step - loss: 0.4355 - mean_absolute_error: 0.4355 - val_loss: 0.3837 - val_mean_absolute_error: 0.3837\n",
      "Epoch 50/100\n",
      "223744/224000 [============================>.] - ETA: 0s - loss: 0.4336 - mean_absolute_error: 0.4336Epoch 00050: val_loss did not improve\n",
      "224000/224000 [==============================] - 76s 337us/step - loss: 0.4336 - mean_absolute_error: 0.4336 - val_loss: 0.3846 - val_mean_absolute_error: 0.3846\n",
      "Epoch 51/100\n",
      "223744/224000 [============================>.] - ETA: 0s - loss: 0.4314 - mean_absolute_error: 0.4314Epoch 00051: val_loss improved from 0.37851 to 0.37784, saving model to myRNN_weights.h5\n",
      "224000/224000 [==============================] - 78s 350us/step - loss: 0.4314 - mean_absolute_error: 0.4314 - val_loss: 0.3778 - val_mean_absolute_error: 0.3778\n",
      "Epoch 52/100\n",
      "223744/224000 [============================>.] - ETA: 0s - loss: 0.4300 - mean_absolute_error: 0.4300Epoch 00052: val_loss improved from 0.37784 to 0.37323, saving model to myRNN_weights.h5\n",
      "224000/224000 [==============================] - 76s 338us/step - loss: 0.4300 - mean_absolute_error: 0.4300 - val_loss: 0.3732 - val_mean_absolute_error: 0.3732\n",
      "Epoch 53/100\n",
      "223744/224000 [============================>.] - ETA: 0s - loss: 0.4267 - mean_absolute_error: 0.4267Epoch 00053: val_loss improved from 0.37323 to 0.36861, saving model to myRNN_weights.h5\n",
      "224000/224000 [==============================] - 77s 345us/step - loss: 0.4268 - mean_absolute_error: 0.4268 - val_loss: 0.3686 - val_mean_absolute_error: 0.3686\n",
      "Epoch 54/100\n",
      "223744/224000 [============================>.] - ETA: 0s - loss: 0.4260 - mean_absolute_error: 0.4260Epoch 00054: val_loss did not improve\n",
      "224000/224000 [==============================] - 75s 336us/step - loss: 0.4260 - mean_absolute_error: 0.4260 - val_loss: 0.3710 - val_mean_absolute_error: 0.3710\n",
      "Epoch 55/100\n",
      "223744/224000 [============================>.] - ETA: 0s - loss: 0.4238 - mean_absolute_error: 0.4238Epoch 00055: val_loss improved from 0.36861 to 0.36724, saving model to myRNN_weights.h5\n",
      "224000/224000 [==============================] - 76s 340us/step - loss: 0.4238 - mean_absolute_error: 0.4238 - val_loss: 0.3672 - val_mean_absolute_error: 0.3672\n",
      "Epoch 56/100\n",
      "223744/224000 [============================>.] - ETA: 0s - loss: 0.4208 - mean_absolute_error: 0.4208Epoch 00056: val_loss improved from 0.36724 to 0.35999, saving model to myRNN_weights.h5\n",
      "224000/224000 [==============================] - 73s 327us/step - loss: 0.4208 - mean_absolute_error: 0.4208 - val_loss: 0.3600 - val_mean_absolute_error: 0.3600\n",
      "Epoch 57/100\n",
      "223744/224000 [============================>.] - ETA: 0s - loss: 0.4196 - mean_absolute_error: 0.4196Epoch 00057: val_loss did not improve\n",
      "224000/224000 [==============================] - 74s 329us/step - loss: 0.4196 - mean_absolute_error: 0.4196 - val_loss: 0.3685 - val_mean_absolute_error: 0.3685\n",
      "Epoch 58/100\n",
      "223744/224000 [============================>.] - ETA: 0s - loss: 0.4167 - mean_absolute_error: 0.4167Epoch 00058: val_loss did not improve\n",
      "224000/224000 [==============================] - 75s 337us/step - loss: 0.4166 - mean_absolute_error: 0.4166 - val_loss: 0.3756 - val_mean_absolute_error: 0.3756\n",
      "Epoch 59/100\n",
      "223744/224000 [============================>.] - ETA: 0s - loss: 0.4152 - mean_absolute_error: 0.4152Epoch 00059: val_loss did not improve\n",
      "224000/224000 [==============================] - 75s 333us/step - loss: 0.4153 - mean_absolute_error: 0.4153 - val_loss: 0.3608 - val_mean_absolute_error: 0.3608\n",
      "Epoch 60/100\n",
      "223744/224000 [============================>.] - ETA: 0s - loss: 0.4132 - mean_absolute_error: 0.4132Epoch 00060: val_loss did not improve\n",
      "224000/224000 [==============================] - 73s 328us/step - loss: 0.4132 - mean_absolute_error: 0.4132 - val_loss: 0.3635 - val_mean_absolute_error: 0.3635\n",
      "Epoch 61/100\n",
      "223744/224000 [============================>.] - ETA: 0s - loss: 0.4108 - mean_absolute_error: 0.4108Epoch 00061: val_loss improved from 0.35999 to 0.35574, saving model to myRNN_weights.h5\n",
      "224000/224000 [==============================] - 75s 335us/step - loss: 0.4108 - mean_absolute_error: 0.4108 - val_loss: 0.3557 - val_mean_absolute_error: 0.3557\n",
      "Epoch 62/100\n",
      "223744/224000 [============================>.] - ETA: 0s - loss: 0.4101 - mean_absolute_error: 0.4101Epoch 00062: val_loss did not improve\n",
      "224000/224000 [==============================] - 74s 330us/step - loss: 0.4101 - mean_absolute_error: 0.4101 - val_loss: 0.3629 - val_mean_absolute_error: 0.3629\n",
      "Epoch 63/100\n",
      "223744/224000 [============================>.] - ETA: 0s - loss: 0.4080 - mean_absolute_error: 0.4080Epoch 00063: val_loss improved from 0.35574 to 0.35397, saving model to myRNN_weights.h5\n",
      "224000/224000 [==============================] - 75s 333us/step - loss: 0.4079 - mean_absolute_error: 0.4079 - val_loss: 0.3540 - val_mean_absolute_error: 0.3540\n",
      "Epoch 64/100\n",
      "223744/224000 [============================>.] - ETA: 0s - loss: 0.4063 - mean_absolute_error: 0.4063Epoch 00064: val_loss did not improve\n",
      "224000/224000 [==============================] - 73s 326us/step - loss: 0.4064 - mean_absolute_error: 0.4064 - val_loss: 0.3553 - val_mean_absolute_error: 0.3553\n",
      "Epoch 65/100\n",
      "223744/224000 [============================>.] - ETA: 0s - loss: 0.4050 - mean_absolute_error: 0.4050Epoch 00065: val_loss did not improve\n",
      "224000/224000 [==============================] - 75s 335us/step - loss: 0.4050 - mean_absolute_error: 0.4050 - val_loss: 0.3632 - val_mean_absolute_error: 0.3632\n",
      "Epoch 66/100\n",
      "223744/224000 [============================>.] - ETA: 0s - loss: 0.4032 - mean_absolute_error: 0.4032Epoch 00066: val_loss did not improve\n",
      "224000/224000 [==============================] - 73s 327us/step - loss: 0.4031 - mean_absolute_error: 0.4031 - val_loss: 0.3591 - val_mean_absolute_error: 0.3591\n",
      "Epoch 67/100\n",
      "223744/224000 [============================>.] - ETA: 0s - loss: 0.4032 - mean_absolute_error: 0.4032Epoch 00067: val_loss did not improve\n",
      "224000/224000 [==============================] - 74s 330us/step - loss: 0.4032 - mean_absolute_error: 0.4032 - val_loss: 0.3545 - val_mean_absolute_error: 0.3545\n",
      "Epoch 68/100\n",
      "223744/224000 [============================>.] - ETA: 0s - loss: 0.4002 - mean_absolute_error: 0.4002Epoch 00068: val_loss did not improve\n",
      "224000/224000 [==============================] - 74s 330us/step - loss: 0.4001 - mean_absolute_error: 0.4001 - val_loss: 0.3609 - val_mean_absolute_error: 0.3609\n",
      "Epoch 69/100\n",
      "223744/224000 [============================>.] - ETA: 0s - loss: 0.3995 - mean_absolute_error: 0.3995Epoch 00069: val_loss improved from 0.35397 to 0.35252, saving model to myRNN_weights.h5\n",
      "224000/224000 [==============================] - 74s 331us/step - loss: 0.3995 - mean_absolute_error: 0.3995 - val_loss: 0.3525 - val_mean_absolute_error: 0.3525\n",
      "Epoch 70/100\n"
     ]
    },
    {
     "name": "stdout",
     "output_type": "stream",
     "text": [
      "223744/224000 [============================>.] - ETA: 0s - loss: 0.3976 - mean_absolute_error: 0.3976Epoch 00070: val_loss improved from 0.35252 to 0.34544, saving model to myRNN_weights.h5\n",
      "224000/224000 [==============================] - 74s 328us/step - loss: 0.3976 - mean_absolute_error: 0.3976 - val_loss: 0.3454 - val_mean_absolute_error: 0.3454\n",
      "Epoch 71/100\n",
      "223744/224000 [============================>.] - ETA: 0s - loss: 0.3966 - mean_absolute_error: 0.3966Epoch 00071: val_loss did not improve\n",
      "224000/224000 [==============================] - 73s 328us/step - loss: 0.3966 - mean_absolute_error: 0.3966 - val_loss: 0.3515 - val_mean_absolute_error: 0.3515\n",
      "Epoch 72/100\n",
      "223744/224000 [============================>.] - ETA: 0s - loss: 0.3943 - mean_absolute_error: 0.3943Epoch 00072: val_loss did not improve\n",
      "224000/224000 [==============================] - 74s 332us/step - loss: 0.3943 - mean_absolute_error: 0.3943 - val_loss: 0.3506 - val_mean_absolute_error: 0.3506\n",
      "Epoch 73/100\n",
      "223744/224000 [============================>.] - ETA: 0s - loss: 0.3932 - mean_absolute_error: 0.3932Epoch 00073: val_loss improved from 0.34544 to 0.34522, saving model to myRNN_weights.h5\n",
      "224000/224000 [==============================] - 74s 330us/step - loss: 0.3932 - mean_absolute_error: 0.3932 - val_loss: 0.3452 - val_mean_absolute_error: 0.3452\n",
      "Epoch 74/100\n",
      "223744/224000 [============================>.] - ETA: 0s - loss: 0.3934 - mean_absolute_error: 0.3934Epoch 00074: val_loss did not improve\n",
      "224000/224000 [==============================] - 75s 333us/step - loss: 0.3933 - mean_absolute_error: 0.3933 - val_loss: 0.3571 - val_mean_absolute_error: 0.3571\n",
      "Epoch 75/100\n",
      "223744/224000 [============================>.] - ETA: 0s - loss: 0.3906 - mean_absolute_error: 0.3906Epoch 00075: val_loss did not improve\n",
      "224000/224000 [==============================] - 75s 336us/step - loss: 0.3906 - mean_absolute_error: 0.3906 - val_loss: 0.3503 - val_mean_absolute_error: 0.3503\n",
      "Epoch 76/100\n",
      "223744/224000 [============================>.] - ETA: 0s - loss: 0.3897 - mean_absolute_error: 0.3897- ETA: 2s - loss: 0.3896Epoch 00076: val_loss improved from 0.34522 to 0.34308, saving model to myRNN_weights.h5\n",
      "224000/224000 [==============================] - 78s 348us/step - loss: 0.3897 - mean_absolute_error: 0.3897 - val_loss: 0.3431 - val_mean_absolute_error: 0.3431\n",
      "Epoch 77/100\n",
      "223744/224000 [============================>.] - ETA: 0s - loss: 0.3886 - mean_absolute_error: 0.3886Epoch 00077: val_loss did not improve\n",
      "224000/224000 [==============================] - 75s 333us/step - loss: 0.3886 - mean_absolute_error: 0.3886 - val_loss: 0.3506 - val_mean_absolute_error: 0.3506\n",
      "Epoch 78/100\n",
      "223744/224000 [============================>.] - ETA: 0s - loss: 0.3866 - mean_absolute_error: 0.3866Epoch 00078: val_loss did not improve\n",
      "224000/224000 [==============================] - 77s 342us/step - loss: 0.3866 - mean_absolute_error: 0.3866 - val_loss: 0.3443 - val_mean_absolute_error: 0.3443\n",
      "Epoch 79/100\n",
      "223744/224000 [============================>.] - ETA: 0s - loss: 0.3858 - mean_absolute_error: 0.3858Epoch 00079: val_loss improved from 0.34308 to 0.33823, saving model to myRNN_weights.h5\n",
      "224000/224000 [==============================] - 79s 354us/step - loss: 0.3858 - mean_absolute_error: 0.3858 - val_loss: 0.3382 - val_mean_absolute_error: 0.3382\n",
      "Epoch 80/100\n",
      "223744/224000 [============================>.] - ETA: 0s - loss: 0.3854 - mean_absolute_error: 0.3854Epoch 00080: val_loss did not improve\n",
      "224000/224000 [==============================] - 78s 350us/step - loss: 0.3855 - mean_absolute_error: 0.3855 - val_loss: 0.3443 - val_mean_absolute_error: 0.3443\n",
      "Epoch 81/100\n",
      "223744/224000 [============================>.] - ETA: 0s - loss: 0.3843 - mean_absolute_error: 0.3843Epoch 00081: val_loss did not improve\n",
      "224000/224000 [==============================] - 76s 339us/step - loss: 0.3843 - mean_absolute_error: 0.3843 - val_loss: 0.3416 - val_mean_absolute_error: 0.3416\n",
      "Epoch 82/100\n",
      "223744/224000 [============================>.] - ETA: 0s - loss: 0.3842 - mean_absolute_error: 0.3842Epoch 00082: val_loss improved from 0.33823 to 0.33696, saving model to myRNN_weights.h5\n",
      "224000/224000 [==============================] - 77s 342us/step - loss: 0.3841 - mean_absolute_error: 0.3841 - val_loss: 0.3370 - val_mean_absolute_error: 0.3370\n",
      "Epoch 83/100\n",
      "223744/224000 [============================>.] - ETA: 0s - loss: 0.3824 - mean_absolute_error: 0.3824Epoch 00083: val_loss did not improve\n",
      "224000/224000 [==============================] - 79s 353us/step - loss: 0.3825 - mean_absolute_error: 0.3825 - val_loss: 0.3373 - val_mean_absolute_error: 0.3373\n",
      "Epoch 84/100\n",
      "223744/224000 [============================>.] - ETA: 0s - loss: 0.3810 - mean_absolute_error: 0.3810Epoch 00084: val_loss improved from 0.33696 to 0.33660, saving model to myRNN_weights.h5\n",
      "224000/224000 [==============================] - 76s 341us/step - loss: 0.3811 - mean_absolute_error: 0.3811 - val_loss: 0.3366 - val_mean_absolute_error: 0.3366\n",
      "Epoch 85/100\n",
      "223744/224000 [============================>.] - ETA: 0s - loss: 0.3800 - mean_absolute_error: 0.3800Epoch 00085: val_loss did not improve\n",
      "224000/224000 [==============================] - 77s 345us/step - loss: 0.3800 - mean_absolute_error: 0.3800 - val_loss: 0.3408 - val_mean_absolute_error: 0.3408\n",
      "Epoch 86/100\n",
      "223744/224000 [============================>.] - ETA: 0s - loss: 0.3783 - mean_absolute_error: 0.3783Epoch 00086: val_loss improved from 0.33660 to 0.33450, saving model to myRNN_weights.h5\n",
      "224000/224000 [==============================] - 79s 354us/step - loss: 0.3783 - mean_absolute_error: 0.3783 - val_loss: 0.3345 - val_mean_absolute_error: 0.3345\n",
      "Epoch 87/100\n",
      "223744/224000 [============================>.] - ETA: 0s - loss: 0.3780 - mean_absolute_error: 0.3780Epoch 00087: val_loss did not improve\n",
      "224000/224000 [==============================] - 78s 347us/step - loss: 0.3780 - mean_absolute_error: 0.3780 - val_loss: 0.3414 - val_mean_absolute_error: 0.3414\n",
      "Epoch 88/100\n",
      "223744/224000 [============================>.] - ETA: 0s - loss: 0.3768 - mean_absolute_error: 0.3768Epoch 00088: val_loss did not improve\n",
      "224000/224000 [==============================] - 78s 346us/step - loss: 0.3769 - mean_absolute_error: 0.3769 - val_loss: 0.3394 - val_mean_absolute_error: 0.3394\n",
      "Epoch 89/100\n",
      "223744/224000 [============================>.] - ETA: 0s - loss: 0.3760 - mean_absolute_error: 0.3760Epoch 00089: val_loss improved from 0.33450 to 0.32628, saving model to myRNN_weights.h5\n",
      "224000/224000 [==============================] - 78s 349us/step - loss: 0.3761 - mean_absolute_error: 0.3761 - val_loss: 0.3263 - val_mean_absolute_error: 0.3263\n",
      "Epoch 90/100\n",
      "223744/224000 [============================>.] - ETA: 0s - loss: 0.3752 - mean_absolute_error: 0.3752Epoch 00090: val_loss did not improve\n",
      "224000/224000 [==============================] - 79s 351us/step - loss: 0.3752 - mean_absolute_error: 0.3752 - val_loss: 0.3275 - val_mean_absolute_error: 0.3275\n",
      "Epoch 91/100\n",
      "223744/224000 [============================>.] - ETA: 0s - loss: 0.3738 - mean_absolute_error: 0.3738Epoch 00091: val_loss did not improve\n",
      "224000/224000 [==============================] - 80s 355us/step - loss: 0.3738 - mean_absolute_error: 0.3738 - val_loss: 0.3313 - val_mean_absolute_error: 0.3313\n",
      "Epoch 92/100\n",
      "223744/224000 [============================>.] - ETA: 0s - loss: 0.3740 - mean_absolute_error: 0.3740Epoch 00092: val_loss improved from 0.32628 to 0.32343, saving model to myRNN_weights.h5\n",
      "224000/224000 [==============================] - 79s 352us/step - loss: 0.3740 - mean_absolute_error: 0.3740 - val_loss: 0.3234 - val_mean_absolute_error: 0.3234\n",
      "Epoch 93/100\n",
      "223744/224000 [============================>.] - ETA: 0s - loss: 0.3720 - mean_absolute_error: 0.3720Epoch 00093: val_loss did not improve\n",
      "224000/224000 [==============================] - 78s 347us/step - loss: 0.3720 - mean_absolute_error: 0.3720 - val_loss: 0.3330 - val_mean_absolute_error: 0.3330\n",
      "Epoch 94/100\n",
      "223744/224000 [============================>.] - ETA: 0s - loss: 0.3710 - mean_absolute_error: 0.3710Epoch 00094: val_loss did not improve\n",
      "224000/224000 [==============================] - 78s 349us/step - loss: 0.3711 - mean_absolute_error: 0.3711 - val_loss: 0.3356 - val_mean_absolute_error: 0.3356\n"
     ]
    },
    {
     "name": "stdout",
     "output_type": "stream",
     "text": [
      "Epoch 95/100\n",
      "223744/224000 [============================>.] - ETA: 0s - loss: 0.3710 - mean_absolute_error: 0.3710- ETA: 3s - loss: 0.3709 - mean_absolute_error: 0.37 - ETA: 3s - losEpoch 00095: val_loss did not improve\n",
      "224000/224000 [==============================] - 78s 350us/step - loss: 0.3710 - mean_absolute_error: 0.3710 - val_loss: 0.3300 - val_mean_absolute_error: 0.3300\n",
      "Epoch 96/100\n",
      "223744/224000 [============================>.] - ETA: 0s - loss: 0.3697 - mean_absolute_error: 0.3697- ETA: 0s - loss: 0.3695 - mean_absolute_erEpoch 00096: val_loss did not improve\n",
      "224000/224000 [==============================] - 78s 347us/step - loss: 0.3697 - mean_absolute_error: 0.3697 - val_loss: 0.3331 - val_mean_absolute_error: 0.3331\n",
      "Epoch 97/100\n",
      "223744/224000 [============================>.] - ETA: 0s - loss: 0.3693 - mean_absolute_error: 0.3693Epoch 00097: val_loss did not improve\n",
      "224000/224000 [==============================] - 76s 341us/step - loss: 0.3693 - mean_absolute_error: 0.3693 - val_loss: 0.3246 - val_mean_absolute_error: 0.3246\n",
      "Epoch 98/100\n",
      "223744/224000 [============================>.] - ETA: 0s - loss: 0.3679 - mean_absolute_error: 0.3679Epoch 00098: val_loss did not improve\n",
      "224000/224000 [==============================] - 77s 343us/step - loss: 0.3680 - mean_absolute_error: 0.3680 - val_loss: 0.3336 - val_mean_absolute_error: 0.3336\n",
      "Epoch 99/100\n",
      "223744/224000 [============================>.] - ETA: 0s - loss: 0.3673 - mean_absolute_error: 0.3673- ETA: 0s - loss: 0.3674 - mean_absolute_erroEpoch 00099: val_loss did not improve\n",
      "224000/224000 [==============================] - 79s 351us/step - loss: 0.3673 - mean_absolute_error: 0.3673 - val_loss: 0.3299 - val_mean_absolute_error: 0.3299\n",
      "Epoch 100/100\n",
      "223744/224000 [============================>.] - ETA: 0s - loss: 0.3657 - mean_absolute_error: 0.3657Epoch 00100: val_loss did not improve\n",
      "224000/224000 [==============================] - 78s 347us/step - loss: 0.3658 - mean_absolute_error: 0.3658 - val_loss: 0.3249 - val_mean_absolute_error: 0.3249\n"
     ]
    }
   ],
   "source": [
    "nEpochs = 100\n",
    "\n",
    "myRNN_hist = myRNN.fit(X_train, y_train, epochs=nEpochs, batch_size=256,validation_split=0.20,\n",
    "                 callbacks=[earlyStop, myRNN_mChkPt],) # callbacks=[earlyStop, myRNN_mChkPt])"
   ]
  },
  {
   "cell_type": "code",
   "execution_count": 26,
   "metadata": {},
   "outputs": [
    {
     "data": {
      "text/plain": [
       "<matplotlib.legend.Legend at 0x1d697833f98>"
      ]
     },
     "execution_count": 26,
     "metadata": {},
     "output_type": "execute_result"
    },
    {
     "data": {
      "image/png": "[encoded data removed]",
      "text/plain": [
       "<Figure size 432x288 with 1 Axes>"
      ]
     },
     "metadata": {
      "needs_background": "light"
     },
     "output_type": "display_data"
    }
   ],
   "source": [
    "epochs = np.arange(1,len(myRNN_hist.history['loss'])+1)\n",
    "\n",
    "plt.plot(epochs,myRNN_hist.history['loss'],label='training')\n",
    "plt.plot(epochs,myRNN_hist.history['val_loss'],label='validation')\n",
    "plt.xlabel('epochs',fontsize=14)\n",
    "plt.ylabel('MSE loss',fontsize=14)\n",
    "plt.legend()"
   ]
  },
  {
   "cell_type": "code",
   "execution_count": 27,
   "metadata": {},
   "outputs": [
    {
     "data": {
      "text/plain": [
       "array([[  0.72788686,  -1.4395826 ,   1.1932702 ,   2.5045598 ,\n",
       "         -4.912249  ,   3.5406623 ],\n",
       "       [ -0.80760187,  -7.442497  ,  -8.630629  ,  -1.6996815 ,\n",
       "        -16.331194  , -18.601597  ],\n",
       "       [ -0.270205  ,  -0.46109116,   3.018742  ,  -0.48832706,\n",
       "         -0.94430906,   5.3533483 ],\n",
       "       ...,\n",
       "       [ -0.10353374,  -1.0832058 ,  -0.7272817 ,  -0.1281546 ,\n",
       "         -1.4839562 ,  -1.3016144 ],\n",
       "       [ -0.74823034,  -0.30717447,   2.1751206 ,  -2.113214  ,\n",
       "         -0.65330154,   5.5985956 ],\n",
       "       [  1.782252  ,   0.11208292,  -0.60954386,   2.6507761 ,\n",
       "          0.16549666,  -0.8945937 ]], dtype=float32)"
      ]
     },
     "execution_count": 27,
     "metadata": {},
     "output_type": "execute_result"
    }
   ],
   "source": [
    "results=myRNN.predict(X_test)\n",
    "results"
   ]
  },
  {
   "cell_type": "code",
   "execution_count": 28,
   "metadata": {},
   "outputs": [
    {
     "data": {
      "text/plain": [
       "20000"
      ]
     },
     "execution_count": 28,
     "metadata": {},
     "output_type": "execute_result"
    }
   ],
   "source": [
    "len(results)"
   ]
  },
  {
   "cell_type": "code",
   "execution_count": 30,
   "metadata": {},
   "outputs": [],
   "source": [
    "percentage_errs=(abs((results-y_test)/y_test)*100) # average error of 50%, so for vtx at 1mm, we get within 0.5mm\n"
   ]
  },
  {
   "cell_type": "code",
   "execution_count": 22,
   "metadata": {},
   "outputs": [],
   "source": [
    "# load model\n",
    "#myRNN.load_weights('./myRNN_weights.h5')\n"
   ]
  },
  {
   "cell_type": "code",
   "execution_count": 31,
   "metadata": {},
   "outputs": [
    {
     "data": {
      "text/plain": [
       "(array([24434., 21299., 16978., 12498.,  8902.,  6293.,  4632.,  3478.,\n",
       "         2573.,  2087.,  1622.,  1364.,  1148.,   927.,   823.,   669.]),\n",
       " array([ 0,  5, 10, 15, 20, 25, 30, 35, 40, 45, 50, 55, 60, 65, 70, 75, 80]),\n",
       " <a list of 16 Patch objects>)"
      ]
     },
     "execution_count": 31,
     "metadata": {},
     "output_type": "execute_result"
    },
    {
     "data": {
      "image/png": "[encoded data removed]",
      "text/plain": [
       "<Figure size 432x288 with 1 Axes>"
      ]
     },
     "metadata": {
      "needs_background": "light"
     },
     "output_type": "display_data"
    }
   ],
   "source": [
    "meanerrs=percentage_errs.reshape(120000)# plot distribution of mean errs per jet\n",
    "\n",
    "plt.hist((meanerrs), bins=[0,5,10,15,20,25,30,35,40,45,50,55,60,65,70,75,80])\n",
    "# from what i see, the profile drops off but with a VERY long tail\n",
    "# about 65000/120000 vals less than 15% error (so more than half)\n",
    "# but 10000 have over 80% error (1/12)\n",
    "# problem also, for a jet we might nail down the x values very well but do badly with the z or y"
   ]
  },
  {
   "cell_type": "code",
   "execution_count": 36,
   "metadata": {},
   "outputs": [],
   "source": [
    "mean_err_per_jet=np.mean(percentage_errs,axis=1)"
   ]
  },
  {
   "cell_type": "markdown",
   "metadata": {},
   "source": [
    "couple of things, first the RNN looks like it predicts the same value for all cases. This might be because it uses the null tracks at the end of every single jet and just predicts off of those.\n",
    "Maybe should consider predicting values that are at least order unity, because mse is gonna be very small otherwise, so convert the vertices into different units (I dunno maybe millimeters or microns)"
   ]
  },
  {
   "cell_type": "code",
   "execution_count": 41,
   "metadata": {},
   "outputs": [
    {
     "data": {
      "text/plain": [
       "1970"
      ]
     },
     "execution_count": 41,
     "metadata": {},
     "output_type": "execute_result"
    }
   ],
   "source": [
    "len(mean_err_per_jet[mean_err_per_jet > 100.]) # 1970/20,000 jets mean err above 100%"
   ]
  },
  {
   "cell_type": "code",
   "execution_count": 42,
   "metadata": {},
   "outputs": [
    {
     "data": {
      "text/plain": [
       "(array([   41,    51,    69, ..., 19958, 19966, 19987], dtype=int64),)"
      ]
     },
     "execution_count": 42,
     "metadata": {},
     "output_type": "execute_result"
    }
   ],
   "source": [
    "np.where(mean_err_per_jet > 100.)"
   ]
  },
  {
   "cell_type": "code",
   "execution_count": 121,
   "metadata": {},
   "outputs": [],
   "source": [
    "jet=19987"
   ]
  },
  {
   "cell_type": "code",
   "execution_count": 122,
   "metadata": {},
   "outputs": [
    {
     "data": {
      "text/plain": [
       "168.20304650395224"
      ]
     },
     "execution_count": 122,
     "metadata": {},
     "output_type": "execute_result"
    }
   ],
   "source": [
    "mean_err_per_jet[jet]"
   ]
  },
  {
   "cell_type": "code",
   "execution_count": 123,
   "metadata": {
    "scrolled": true
   },
   "outputs": [
    {
     "data": {
      "text/plain": [
       "array([-0.40814591, -0.02028324,  0.42077256, -2.32607675,  0.03202448,\n",
       "        2.27177641])"
      ]
     },
     "execution_count": 123,
     "metadata": {},
     "output_type": "execute_result"
    }
   ],
   "source": [
    "y_test[jet]"
   ]
  },
  {
   "cell_type": "code",
   "execution_count": 124,
   "metadata": {},
   "outputs": [
    {
     "data": {
      "text/plain": [
       "array([-0.15107314, -0.0069042 ,  0.30029228, -2.2044108 , -0.23734276,\n",
       "        2.3917031 ], dtype=float32)"
      ]
     },
     "execution_count": 124,
     "metadata": {},
     "output_type": "execute_result"
    }
   ],
   "source": [
    "results[jet]"
   ]
  },
  {
   "cell_type": "code",
   "execution_count": 159,
   "metadata": {},
   "outputs": [],
   "source": [
    "indices=280000+np.where(mean_err_per_jet > 100.)[0]\n",
    "bad_phis=[]\n",
    "bad_thetas=[]\n",
    "\n",
    "for index in indices:\n",
    "    # extracts all the phi values of worst performing jets\n",
    "    bad_phis.append(abs(bjets_DF.iloc[index]['tracks'][0][2]))\n",
    "    bad_thetas.append(abs(bjets_DF.iloc[index]['tracks'][0][3]))"
   ]
  },
  {
   "cell_type": "code",
   "execution_count": 161,
   "metadata": {
    "scrolled": true
   },
   "outputs": [
    {
     "data": {
      "image/png": "[encoded data removed]",
      "text/plain": [
       "<Figure size 432x288 with 1 Axes>"
      ]
     },
     "metadata": {
      "needs_background": "light"
     },
     "output_type": "display_data"
    },
    {
     "data": {
      "text/plain": [
       "<matplotlib.lines.Line2D at 0x1d6c6dc3320>"
      ]
     },
     "execution_count": 161,
     "metadata": {},
     "output_type": "execute_result"
    },
    {
     "data": {
      "image/png": "[encoded data removed]",
      "text/plain": [
       "<Figure size 432x288 with 1 Axes>"
      ]
     },
     "metadata": {
      "needs_background": "light"
     },
     "output_type": "display_data"
    }
   ],
   "source": [
    "plt.hist(bad_phis,bins=np.linspace(0.,3.2,65))\n",
    "plt.axvline(x=np.pi/2, color='r', linestyle='dashed', linewidth=2)\n",
    "plt.show()\n",
    "\n",
    "plt.hist(bad_thetas,bins=np.linspace(0.,3.2,65))\n",
    "plt.axvline(x=np.pi/2, color='r', linestyle='dashed', linewidth=2)\n"
   ]
  },
  {
   "cell_type": "code",
   "execution_count": 148,
   "metadata": {},
   "outputs": [
    {
     "data": {
      "text/plain": [
       "array([0. , 0.2, 0.4, 0.6, 0.8, 1. , 1.2, 1.4, 1.6, 1.8, 2. , 2.2, 2.4,\n",
       "       2.6, 2.8, 3. , 3.2])"
      ]
     },
     "execution_count": 148,
     "metadata": {},
     "output_type": "execute_result"
    }
   ],
   "source": [
    "np.linspace(0.,3.2,17)"
   ]
  },
  {
   "cell_type": "code",
   "execution_count": null,
   "metadata": {},
   "outputs": [],
   "source": [
    "# so in 41, we actually only had one track from the secondary vertex, three from the tertiary\n",
    "# could this be fixed wih some sort of track ordering\n",
    "# perhaps the RNN expects secondarys before tertiarys\n",
    "# so it gets thrown when the number of sec and ter tracks is different.\n",
    "\n",
    "# in 51, the jet_phi was very close to -pi/2, this undoubtedly could lead to large errs"
   ]
  },
  {
   "cell_type": "code",
   "execution_count": 81,
   "metadata": {},
   "outputs": [],
   "source": [
    "d0,z0,phi0,theta0,qoverp=1.3081643989711976e-05,-6.615451638936065e-06,-0.6557717081719833,1.800121842067036,5.373777313714585e-05\n",
    "\n",
    "jetphi,jettheta = -0.7666502947479463,1.8519400411980116\n",
    "\n",
    "x0=d0*np.cos(phi0)\n",
    "y0=d0*np.sin(phi0)\n",
    "trk_PoCA=[x0,y0,z0]\n",
    "dirvec=[100*np.sin(theta0)*np.cos(phi0), 100*np.sin(theta0)*np.sin(phi0), 100*np.cos(theta0)]\n",
    "trk_secondp=[0.,0.,0.]\n",
    "for i in range(len(trk_PoCA)):\n",
    "    trk_secondp[i]=PoCA[i]+dirvec[i]\n",
    "\n",
    "jetdir = [100*np.sin(jettheta)*np.cos(jetphi), 100*np.sin(jettheta)*np.sin(jetphi), 100*np.cos(jettheta)]"
   ]
  },
  {
   "cell_type": "code",
   "execution_count": 82,
   "metadata": {},
   "outputs": [],
   "source": [
    "from mathutils.geometry import intersect_line_line"
   ]
  },
  {
   "cell_type": "code",
   "execution_count": 83,
   "metadata": {},
   "outputs": [
    {
     "name": "stdout",
     "output_type": "stream",
     "text": [
      "(Vector((9.374803994433023e-06, -7.2125230872188695e-06, -6.322869012365118e-06)), Vector((9.028971362567972e-06, -8.696616532688495e-06, -3.620333473008941e-06)))\n"
     ]
    }
   ],
   "source": [
    "print(intersect_line_line(trk_PoCA,trk_secondp,[0,0,0],jetdir))"
   ]
  },
  {
   "cell_type": "code",
   "execution_count": 80,
   "metadata": {},
   "outputs": [
    {
     "name": "stdout",
     "output_type": "stream",
     "text": [
      "[1.0368217982231362e-05, -7.976807967257435e-06, -6.615451638936065e-06] \n",
      " [0.771838238659556, -0.5938151977634709, -0.22732736406629356] \n",
      " [0, 0, 0] \n",
      " [0.6919610134810684, -0.666489968622366, -0.277454640523474]\n"
     ]
    }
   ],
   "source": [
    "print(trk_PoCA,\"\\n\",trk_secondp,\"\\n\",[0,0,0],\"\\n\",jetdir)"
   ]
  },
  {
   "cell_type": "code",
   "execution_count": null,
   "metadata": {},
   "outputs": [],
   "source": []
  }
 ],
 "metadata": {
  "kernelspec": {
   "display_name": "Python 3",
   "language": "python",
   "name": "python3"
  },
  "language_info": {
   "codemirror_mode": {
    "name": "ipython",
    "version": 3
   },
   "file_extension": ".py",
   "mimetype": "text/x-python",
   "name": "python",
   "nbconvert_exporter": "python",
   "pygments_lexer": "ipython3",
   "version": "3.6.7"
  }
 },
 "nbformat": 4,
 "nbformat_minor": 2
}
