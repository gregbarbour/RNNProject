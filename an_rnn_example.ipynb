{
 "cells": [
  {
   "cell_type": "code",
   "execution_count": 1,
   "metadata": {},
   "outputs": [
    {
     "name": "stderr",
     "output_type": "stream",
     "text": [
      "Using TensorFlow backend.\n"
     ]
    }
   ],
   "source": [
    "import numpy as np\n",
    "import matplotlib.pyplot as plt\n",
    "import pandas as pd\n",
    "import math\n",
    "import copy\n",
    "import pickle\n",
    "from keras.models import Sequential, Model\n",
    "from keras.callbacks import EarlyStopping, ModelCheckpoint\n",
    "\n",
    "from keras.layers import BatchNormalization, Layer, TimeDistributed, Dropout\n",
    "from keras.layers import Dense, Input, Masking, LSTM\n",
    "from sklearn.preprocessing import MinMaxScaler, RobustScaler\n",
    "from sklearn.metrics import mean_squared_error"
   ]
  },
  {
   "cell_type": "markdown",
   "metadata": {},
   "source": [
    "## Data Loading and Pre-Processing"
   ]
  },
  {
   "cell_type": "markdown",
   "metadata": {},
   "source": [
    "Let's start by trying to load in our toy jets, and then separate into features (to train on) and labels (to predict).\n",
    "\n",
    "For features, first try d0, z0, phi, theta, qOverP, (refPx, refPy, refPz)?. Essentially the track parameters.\n",
    "\n",
    "For labels, Xs, Ys, Zs, Xt, Yt, Zt. That is the secondary and tertiary vertices. Omit the primary as this has been fixed to (0,0,0). This will require some smart selection for c and light jets, where not all vertices are present. If a vertex is not present, could try predicting (0,0,0) or (-1,-1,-1) or previous vertex (prim or sec)."
   ]
  },
  {
   "cell_type": "code",
   "execution_count": 50,
   "metadata": {},
   "outputs": [],
   "source": [
    "bjets_DF = pd.read_pickle(\"./bjets_fixJetAxisPiBy4.pkl\")\n",
    "#cjets_DF = pd.read_pickle(\"./cjets.pkl\")\n",
    "#ljets_DF = pd.read_pickle(\"./ljets.pkl\")"
   ]
  },
  {
   "cell_type": "code",
   "execution_count": 51,
   "metadata": {},
   "outputs": [
    {
     "data": {
      "text/plain": [
       "array([[0.00000000e+00, 8.37103452e-03, 1.17708156e-02, 1.17737862e-02,\n",
       "        1.17373107e-02, 1.17009342e-02, 1.52302552e-05, 6.78582096e-06,\n",
       "        1.22354167e-05, 1.08630882e-05, 1.38014829e-05, 6.51194847e-06,\n",
       "                   nan,            nan,            nan,            nan,\n",
       "                   nan,            nan,            nan,            nan,\n",
       "                   nan,            nan,            nan,            nan,\n",
       "                   nan,            nan,            nan,            nan,\n",
       "                   nan,            nan]])"
      ]
     },
     "execution_count": 51,
     "metadata": {},
     "output_type": "execute_result"
    }
   ],
   "source": [
    "np.linalg.norm(np.array([bjets_DF['tracks'][0]])[:,:,5:8], axis=2) #gives a feel for ordering, lists r of ref postion"
   ]
  },
  {
   "cell_type": "markdown",
   "metadata": {},
   "source": [
    "Extract the track parameters as our features"
   ]
  },
  {
   "cell_type": "code",
   "execution_count": 52,
   "metadata": {},
   "outputs": [
    {
     "name": "stdout",
     "output_type": "stream",
     "text": [
      "Wall time: 11.8 s\n"
     ]
    }
   ],
   "source": [
    "%%time\n",
    "trks=np.zeros((len(bjets_DF), 30, 5))\n",
    "\n",
    "for i in range(len(bjets_DF)):\n",
    "    trks[i] = np.array([bjets_DF['tracks'][i]])[:,:,0:5]\n",
    "    \n"
   ]
  },
  {
   "cell_type": "code",
   "execution_count": 53,
   "metadata": {},
   "outputs": [],
   "source": [
    "X = trks # following convention name the features as the vector 'X'"
   ]
  },
  {
   "cell_type": "markdown",
   "metadata": {},
   "source": [
    "### Track Ordering"
   ]
  },
  {
   "cell_type": "markdown",
   "metadata": {},
   "source": [
    "Use numpy sort function should work, order in descending value say of impact parameter or something (shouldnt be any negatives)"
   ]
  },
  {
   "cell_type": "markdown",
   "metadata": {},
   "source": [
    "Maybe want to move this section and order later, after normalization"
   ]
  },
  {
   "cell_type": "code",
   "execution_count": 67,
   "metadata": {},
   "outputs": [
    {
     "name": "stdout",
     "output_type": "stream",
     "text": [
      "Wall time: 4.97 s\n"
     ]
    }
   ],
   "source": [
    "%%time\n",
    "Xordered = copy.copy(X)#\n",
    "Xordered = np.nan_to_num(Xordered)\n",
    "\n",
    "for i,jet in enumerate(Xordered[:,1:]):\n",
    "    Xordered[i,1:] = jet[np.abs(jet[:,0]).argsort()[::-1]]\n"
   ]
  },
  {
   "cell_type": "code",
   "execution_count": 72,
   "metadata": {},
   "outputs": [
    {
     "data": {
      "text/plain": [
       "array([[ 0.00000000e+00,  0.00000000e+00,  7.85407340e-01,\n",
       "         7.85402080e-01,  1.92429924e-05],\n",
       "       [ 2.00022116e-03, -1.16675999e-03,  9.43066924e-01,\n",
       "         6.66313834e-01,  7.17339434e-04],\n",
       "       [ 1.74738381e-03,  3.25532909e-03,  7.32778516e-01,\n",
       "         1.10462290e+00,  3.89469261e-04],\n",
       "       [ 1.12789364e-03,  1.64433382e-03,  8.17002469e-01,\n",
       "         9.77021723e-01,  4.64129800e-04],\n",
       "       [ 4.02104330e-04,  4.39120457e-04,  8.00868369e-01,\n",
       "         8.56897023e-01,  1.14345654e-04],\n",
       "       [ 2.87020065e-04, -2.53868289e-04,  7.79234091e-01,\n",
       "         7.40599277e-01,  2.69554580e-05],\n",
       "       [ 1.36405868e-05,  5.91717890e-06,  7.35515071e-01,\n",
       "         8.73810237e-01,  2.40695205e-03],\n",
       "       [ 1.26771025e-05,  7.95574124e-06,  8.94972509e-01,\n",
       "         5.61415404e-01,  5.67348721e-04],\n",
       "       [ 1.23425144e-05,  1.33177882e-05,  7.48794010e-01,\n",
       "         8.91283105e-01,  2.69575499e-04],\n",
       "       [ 9.99259694e-06,  3.23455242e-06,  7.63384968e-01,\n",
       "         7.62355230e-01,  3.55380715e-04],\n",
       "       [ 8.98231200e-06, -6.05864579e-06,  8.04898600e-01,\n",
       "         8.07001006e-01,  3.61043376e-04],\n",
       "       [ 5.19219724e-06,  3.64975722e-06,  7.99492345e-01,\n",
       "         7.61532932e-01,  6.34700517e-04],\n",
       "       [ 0.00000000e+00,  0.00000000e+00,  0.00000000e+00,\n",
       "         0.00000000e+00,  0.00000000e+00],\n",
       "       [ 0.00000000e+00,  0.00000000e+00,  0.00000000e+00,\n",
       "         0.00000000e+00,  0.00000000e+00],\n",
       "       [ 0.00000000e+00,  0.00000000e+00,  0.00000000e+00,\n",
       "         0.00000000e+00,  0.00000000e+00],\n",
       "       [ 0.00000000e+00,  0.00000000e+00,  0.00000000e+00,\n",
       "         0.00000000e+00,  0.00000000e+00],\n",
       "       [ 0.00000000e+00,  0.00000000e+00,  0.00000000e+00,\n",
       "         0.00000000e+00,  0.00000000e+00],\n",
       "       [ 0.00000000e+00,  0.00000000e+00,  0.00000000e+00,\n",
       "         0.00000000e+00,  0.00000000e+00],\n",
       "       [ 0.00000000e+00,  0.00000000e+00,  0.00000000e+00,\n",
       "         0.00000000e+00,  0.00000000e+00],\n",
       "       [ 0.00000000e+00,  0.00000000e+00,  0.00000000e+00,\n",
       "         0.00000000e+00,  0.00000000e+00],\n",
       "       [ 0.00000000e+00,  0.00000000e+00,  0.00000000e+00,\n",
       "         0.00000000e+00,  0.00000000e+00],\n",
       "       [ 0.00000000e+00,  0.00000000e+00,  0.00000000e+00,\n",
       "         0.00000000e+00,  0.00000000e+00],\n",
       "       [ 0.00000000e+00,  0.00000000e+00,  0.00000000e+00,\n",
       "         0.00000000e+00,  0.00000000e+00],\n",
       "       [ 0.00000000e+00,  0.00000000e+00,  0.00000000e+00,\n",
       "         0.00000000e+00,  0.00000000e+00],\n",
       "       [ 0.00000000e+00,  0.00000000e+00,  0.00000000e+00,\n",
       "         0.00000000e+00,  0.00000000e+00],\n",
       "       [ 0.00000000e+00,  0.00000000e+00,  0.00000000e+00,\n",
       "         0.00000000e+00,  0.00000000e+00],\n",
       "       [ 0.00000000e+00,  0.00000000e+00,  0.00000000e+00,\n",
       "         0.00000000e+00,  0.00000000e+00],\n",
       "       [ 0.00000000e+00,  0.00000000e+00,  0.00000000e+00,\n",
       "         0.00000000e+00,  0.00000000e+00],\n",
       "       [ 0.00000000e+00,  0.00000000e+00,  0.00000000e+00,\n",
       "         0.00000000e+00,  0.00000000e+00],\n",
       "       [ 0.00000000e+00,  0.00000000e+00,  0.00000000e+00,\n",
       "         0.00000000e+00,  0.00000000e+00]])"
      ]
     },
     "execution_count": 72,
     "metadata": {},
     "output_type": "execute_result"
    }
   ],
   "source": [
    "Xordered[5]"
   ]
  },
  {
   "cell_type": "markdown",
   "metadata": {},
   "source": [
    "## Data Normalization"
   ]
  },
  {
   "cell_type": "markdown",
   "metadata": {},
   "source": [
    "I think we want to ensure all paramters are approx unity in order not to bias the RNN towards a particular feature. phi and theta are already approx unity (order pi), but qOverP is very small order 1e-4 and IP are also small (but scale multiple orders of magnitude) 1e-6 to 1e-2 (unfortunately)\n",
    "\n",
    "So want to use a min max scaler or RobustScaler (so we don't bias to outliers)."
   ]
  },
  {
   "cell_type": "code",
   "execution_count": 107,
   "metadata": {},
   "outputs": [
    {
     "name": "stderr",
     "output_type": "stream",
     "text": [
      "C:\\Users\\Greg\\Anaconda3\\lib\\site-packages\\numpy\\lib\\histograms.py:391: RuntimeWarning: invalid value encountered in greater_equal\n",
      "  keep = (a >= first_edge)\n",
      "C:\\Users\\Greg\\Anaconda3\\lib\\site-packages\\numpy\\lib\\histograms.py:392: RuntimeWarning: invalid value encountered in less_equal\n",
      "  keep &= (a <= last_edge)\n",
      "C:\\Users\\Greg\\Anaconda3\\lib\\site-packages\\numpy\\lib\\histograms.py:824: RuntimeWarning: invalid value encountered in greater_equal\n",
      "  keep = (tmp_a >= first_edge)\n",
      "C:\\Users\\Greg\\Anaconda3\\lib\\site-packages\\numpy\\lib\\histograms.py:825: RuntimeWarning: invalid value encountered in less_equal\n",
      "  keep &= (tmp_a <= last_edge)\n"
     ]
    },
    {
     "data": {
      "text/plain": [
       "(array([1.509757e+06, 4.832700e+04, 4.842100e+04, ..., 0.000000e+00,\n",
       "        0.000000e+00, 1.000000e+00]),\n",
       " array([-4.71476409e-06,  1.03558040e-05,  2.54263720e-05, ...,\n",
       "         2.86896468e-02,  2.87047174e-02,  2.87197880e-02]),\n",
       " <a list of 1906 Patch objects>)"
      ]
     },
     "execution_count": 107,
     "metadata": {},
     "output_type": "execute_result"
    },
    {
     "data": {
      "image/png": "[encoded data removed]",
      "text/plain": [
       "<Figure size 432x288 with 1 Axes>"
      ]
     },
     "metadata": {
      "needs_background": "light"
     },
     "output_type": "display_data"
    }
   ],
   "source": [
    "d0s = np.reshape(X[:,:,0],(30*len(bjets_DF)))\n",
    "d0s = d0s[~(d0s == np.NaN)]\n",
    "d0s\n",
    "plt.hist(d0s,bins='scott') # I believe this is the array containing all the d0s"
   ]
  },
  {
   "cell_type": "code",
   "execution_count": 9,
   "metadata": {
    "scrolled": true
   },
   "outputs": [
    {
     "name": "stdout",
     "output_type": "stream",
     "text": [
      "nan\n",
      "nan\n",
      "nan\n",
      "\n",
      "nan\n",
      "nan\n",
      "nan\n"
     ]
    }
   ],
   "source": [
    "print(np.mean(X[:,:,0]*1e4))\n",
    "print(np.mean(X[:,:,1]*1e6)) # difficult one to handle this due to large variance\n",
    "print(np.mean(X[:,:,4]*1e4))\n",
    "print()\n",
    "print(np.std(X[:,:,0]*1e4)) # these are troublesome yes\n",
    "print(np.std(X[:,:,1]*1e6))\n",
    "print(np.std(X[:,:,4]*1e4))\n",
    "# so we will apply the above multiples, this will bring the averages to about unity (unfortunately some outliers will\n",
    "# be very large, so probs better to use a min max scaler or something but then exclude 0?)"
   ]
  },
  {
   "cell_type": "markdown",
   "metadata": {},
   "source": [
    "Here we scale all the features to bring them to average unity, this is very simplistic so we need a better way in future\n",
    "\n",
    "It means it works faster."
   ]
  },
  {
   "cell_type": "markdown",
   "metadata": {},
   "source": [
    "Here we instead use a min-max scaler to try and solve the problem of scale i.e. certain IPs are 10^4 times larger than others. The min-max scaler means all features will be scaled equivalently."
   ]
  },
  {
   "cell_type": "markdown",
   "metadata": {},
   "source": [
    "Here we go, minmax scaling"
   ]
  },
  {
   "cell_type": "code",
   "execution_count": 108,
   "metadata": {},
   "outputs": [],
   "source": [
    "Xscaled = copy.copy(X)"
   ]
  },
  {
   "cell_type": "code",
   "execution_count": 109,
   "metadata": {},
   "outputs": [
    {
     "name": "stdout",
     "output_type": "stream",
     "text": [
      "True\n",
      "0\n"
     ]
    },
    {
     "name": "stderr",
     "output_type": "stream",
     "text": [
      "C:\\Users\\Greg\\Anaconda3\\lib\\site-packages\\numpy\\lib\\nanfunctions.py:959: RuntimeWarning: All-NaN slice encountered\n",
      "  result = np.apply_along_axis(_nanmedian1d, axis, a, overwrite_input)\n",
      "C:\\Users\\Greg\\Anaconda3\\lib\\site-packages\\numpy\\lib\\function_base.py:3405: RuntimeWarning: All-NaN slice encountered\n",
      "  r = func(a, **kwargs)\n"
     ]
    },
    {
     "name": "stdout",
     "output_type": "stream",
     "text": [
      "1\n"
     ]
    },
    {
     "name": "stderr",
     "output_type": "stream",
     "text": [
      "C:\\Users\\Greg\\Anaconda3\\lib\\site-packages\\numpy\\lib\\nanfunctions.py:959: RuntimeWarning: All-NaN slice encountered\n",
      "  result = np.apply_along_axis(_nanmedian1d, axis, a, overwrite_input)\n",
      "C:\\Users\\Greg\\Anaconda3\\lib\\site-packages\\numpy\\lib\\function_base.py:3405: RuntimeWarning: All-NaN slice encountered\n",
      "  r = func(a, **kwargs)\n",
      "C:\\Users\\Greg\\Anaconda3\\lib\\site-packages\\sklearn\\preprocessing\\data.py:355: RuntimeWarning: All-NaN slice encountered\n",
      "  data_min = np.nanmin(X, axis=0)\n",
      "C:\\Users\\Greg\\Anaconda3\\lib\\site-packages\\sklearn\\preprocessing\\data.py:356: RuntimeWarning: All-NaN slice encountered\n",
      "  data_max = np.nanmax(X, axis=0)\n",
      "C:\\Users\\Greg\\Anaconda3\\lib\\site-packages\\sklearn\\preprocessing\\data.py:355: RuntimeWarning: All-NaN slice encountered\n",
      "  data_min = np.nanmin(X, axis=0)\n",
      "C:\\Users\\Greg\\Anaconda3\\lib\\site-packages\\sklearn\\preprocessing\\data.py:356: RuntimeWarning: All-NaN slice encountered\n",
      "  data_max = np.nanmax(X, axis=0)\n"
     ]
    },
    {
     "name": "stdout",
     "output_type": "stream",
     "text": [
      "True\n",
      "4\n"
     ]
    },
    {
     "name": "stderr",
     "output_type": "stream",
     "text": [
      "C:\\Users\\Greg\\Anaconda3\\lib\\site-packages\\numpy\\lib\\nanfunctions.py:959: RuntimeWarning: All-NaN slice encountered\n",
      "  result = np.apply_along_axis(_nanmedian1d, axis, a, overwrite_input)\n",
      "C:\\Users\\Greg\\Anaconda3\\lib\\site-packages\\numpy\\lib\\function_base.py:3405: RuntimeWarning: All-NaN slice encountered\n",
      "  r = func(a, **kwargs)\n"
     ]
    },
    {
     "name": "stdout",
     "output_type": "stream",
     "text": [
      "Wall time: 3.55 s\n"
     ]
    }
   ],
   "source": [
    "%%time\n",
    "for track_variable in range(5):\n",
    "    var_to_scale = Xscaled[:,:,track_variable]\n",
    "    if (track_variable == 0):\n",
    "        print((track_variable == 0))\n",
    "        print(track_variable)\n",
    "        scaler=RobustScaler()\n",
    "    elif (track_variable == 4):\n",
    "        print((track_variable == 4))\n",
    "        print(track_variable)\n",
    "        scaler=RobustScaler()\n",
    "    elif (track_variable == 1):\n",
    "        print(track_variable)\n",
    "        scaler = RobustScaler()\n",
    "    else:\n",
    "        scaler=MinMaxScaler([-1,1])\n",
    "    scaler.fit(var_to_scale)\n",
    "    Xscaled[:,:,track_variable] = scaler.transform(var_to_scale)"
   ]
  },
  {
   "cell_type": "code",
   "execution_count": 20,
   "metadata": {},
   "outputs": [],
   "source": [
    "#X"
   ]
  },
  {
   "cell_type": "code",
   "execution_count": 110,
   "metadata": {},
   "outputs": [
    {
     "name": "stdout",
     "output_type": "stream",
     "text": [
      "9000000\n"
     ]
    },
    {
     "name": "stderr",
     "output_type": "stream",
     "text": [
      "C:\\Users\\Greg\\Anaconda3\\lib\\site-packages\\numpy\\lib\\histograms.py:391: RuntimeWarning: invalid value encountered in greater_equal\n",
      "  keep = (a >= first_edge)\n",
      "C:\\Users\\Greg\\Anaconda3\\lib\\site-packages\\numpy\\lib\\histograms.py:392: RuntimeWarning: invalid value encountered in less_equal\n",
      "  keep &= (a <= last_edge)\n",
      "C:\\Users\\Greg\\Anaconda3\\lib\\site-packages\\numpy\\lib\\histograms.py:824: RuntimeWarning: invalid value encountered in greater_equal\n",
      "  keep = (tmp_a >= first_edge)\n",
      "C:\\Users\\Greg\\Anaconda3\\lib\\site-packages\\numpy\\lib\\histograms.py:825: RuntimeWarning: invalid value encountered in less_equal\n",
      "  keep &= (tmp_a <= last_edge)\n"
     ]
    },
    {
     "data": {
      "image/png": "[encoded data removed]",
      "text/plain": [
       "<Figure size 432x288 with 1 Axes>"
      ]
     },
     "metadata": {
      "needs_background": "light"
     },
     "output_type": "display_data"
    },
    {
     "name": "stdout",
     "output_type": "stream",
     "text": [
      "9000000\n"
     ]
    },
    {
     "data": {
      "image/png": "[encoded data removed]",
      "text/plain": [
       "<Figure size 432x288 with 1 Axes>"
      ]
     },
     "metadata": {
      "needs_background": "light"
     },
     "output_type": "display_data"
    }
   ],
   "source": [
    "var=4\n",
    "trackvar = X[:,:,var]\n",
    "trackvar = trackvar[~(trackvar == np.NaN)]\n",
    "print(len(trackvar))\n",
    "\n",
    "plt.hist(trackvar,bins='scott',log=True)\n",
    "plt.show()\n",
    "\n",
    "trackvar2 = Xscaled[:,:,var]\n",
    "trackvar2 = trackvar2[~(trackvar2 == np.NaN)]\n",
    "print(len(trackvar2))\n",
    "\n",
    "\n",
    "plt.hist(trackvar2,bins='scott',log=True)\n",
    "plt.show()"
   ]
  },
  {
   "cell_type": "code",
   "execution_count": 111,
   "metadata": {},
   "outputs": [],
   "source": [
    "Xscaled = np.nan_to_num(Xscaled)"
   ]
  },
  {
   "cell_type": "markdown",
   "metadata": {},
   "source": [
    "Now we scale the outputs, actually more simple, we change units from metres to millimetres"
   ]
  },
  {
   "cell_type": "markdown",
   "metadata": {},
   "source": [
    "And the secondary and tertiary vertices as our labels"
   ]
  },
  {
   "cell_type": "code",
   "execution_count": 114,
   "metadata": {},
   "outputs": [],
   "source": [
    "y = bjets_DF[['secVtx_x','secVtx_y','secVtx_z','terVtx_x','terVtx_y','terVtx_z']].values \n",
    "y = y*1000 # change units of vertices from m to mm, keep vals close to unity \n",
    "# again convention call labels 'y'"
   ]
  },
  {
   "cell_type": "markdown",
   "metadata": {},
   "source": [
    "Split first 80000 jets as train and next 20000 as test. Below some plots to show these jets are equivalently distributed"
   ]
  },
  {
   "cell_type": "code",
   "execution_count": 14,
   "metadata": {},
   "outputs": [],
   "source": [
    "X=np.nan_to_num(X)"
   ]
  },
  {
   "cell_type": "code",
   "execution_count": 115,
   "metadata": {},
   "outputs": [
    {
     "name": "stdout",
     "output_type": "stream",
     "text": [
      "280000\n"
     ]
    }
   ],
   "source": [
    "split= 280000 #int(0.9*len(bjets_DF))\n",
    "X_train=Xscaled[:split]\n",
    "X_test=Xscaled[split:]\n",
    "y_train=y[:split]\n",
    "y_test=y[split:]\n",
    "print(split)"
   ]
  },
  {
   "cell_type": "code",
   "execution_count": 118,
   "metadata": {},
   "outputs": [],
   "source": [
    "b_s1=np.linalg.norm(bjets_DF[['secVtx_x','secVtx_y','secVtx_z']],axis=1)[:split]\n",
    "b_s2=np.linalg.norm(bjets_DF[['secVtx_x','secVtx_y','secVtx_z']],axis=1)[split:]\n",
    "b_t1=np.linalg.norm(bjets_DF[['terVtx_x','terVtx_y','terVtx_z']],axis=1)[:split]\n",
    "b_t2=np.linalg.norm(bjets_DF[['terVtx_x','terVtx_y','terVtx_z']],axis=1)[split:]\n",
    "plt.show()"
   ]
  },
  {
   "cell_type": "code",
   "execution_count": 119,
   "metadata": {},
   "outputs": [
    {
     "name": "stdout",
     "output_type": "stream",
     "text": [
      "0.0037009184215250172\n",
      "0.007048885228276706\n"
     ]
    },
    {
     "data": {
      "image/png": "[encoded data removed]",
      "text/plain": [
       "<Figure size 432x288 with 1 Axes>"
      ]
     },
     "metadata": {
      "needs_background": "light"
     },
     "output_type": "display_data"
    }
   ],
   "source": [
    "plt.hist(b_s1,bins='scott',range=[0,0.01])\n",
    "#plt.hist(c_SecVtx,bins='scott',range=[0,0.01])\n",
    "plt.hist(b_t1,bins='scott',range=[0,0.01])\n",
    "\n",
    "print(np.mean(b_s1))\n",
    "print(np.mean(b_t1))\n"
   ]
  },
  {
   "cell_type": "code",
   "execution_count": 120,
   "metadata": {},
   "outputs": [
    {
     "name": "stdout",
     "output_type": "stream",
     "text": [
      "0.0036771308144213847\n",
      "0.0070087130512938856\n"
     ]
    },
    {
     "data": {
      "image/png": "[encoded data removed]",
      "text/plain": [
       "<Figure size 432x288 with 1 Axes>"
      ]
     },
     "metadata": {
      "needs_background": "light"
     },
     "output_type": "display_data"
    }
   ],
   "source": [
    "plt.hist(b_s2,bins='scott',range=[0,0.01])\n",
    "#plt.hist(c_SecVtx,bins='scott',range=[0,0.01])\n",
    "plt.hist(b_t2,bins='scott',range=[0,0.01])\n",
    "\n",
    "print(np.mean(b_s2))\n",
    "print(np.mean(b_t2))\n"
   ]
  },
  {
   "cell_type": "markdown",
   "metadata": {},
   "source": [
    "So finally we have our features, X, and labels, y. Split into training and testing samples."
   ]
  },
  {
   "cell_type": "code",
   "execution_count": null,
   "metadata": {},
   "outputs": [],
   "source": []
  },
  {
   "cell_type": "markdown",
   "metadata": {},
   "source": [
    "## Data Plots and Sanity Checks"
   ]
  },
  {
   "cell_type": "markdown",
   "metadata": {},
   "source": [
    "Here I should have some plots on the track variables to ensure everything is logical and working fine, especially when I make changes to the data. Can potentially use seaborn..."
   ]
  },
  {
   "cell_type": "code",
   "execution_count": null,
   "metadata": {},
   "outputs": [],
   "source": []
  },
  {
   "cell_type": "code",
   "execution_count": null,
   "metadata": {},
   "outputs": [],
   "source": []
  },
  {
   "cell_type": "code",
   "execution_count": null,
   "metadata": {},
   "outputs": [],
   "source": []
  },
  {
   "cell_type": "markdown",
   "metadata": {},
   "source": [
    "## Constructing and Training an RNN"
   ]
  },
  {
   "cell_type": "markdown",
   "metadata": {},
   "source": [
    "Here we create an RNN based on LSTM cells using keras and tensorflow. The RNN will for each jet candidate take the tracks as inputs and attempt to predict the secondary and tertiary vertex positions. Let's see how well it does.\n",
    "\n",
    "I anticipate having to set a tolerance on the predicted values, it will never get them perfectly but we need to tell it how close it has to get for it to be considered successful."
   ]
  },
  {
   "cell_type": "markdown",
   "metadata": {},
   "source": [
    "Let's begin by creating the RNN architecture"
   ]
  },
  {
   "cell_type": "code",
   "execution_count": 44,
   "metadata": {},
   "outputs": [],
   "source": [
    "# Select number of hidden and dense layers. Initially use same as RNNIP but these can be tuned going forward.\n",
    "\n",
    "nHidden = 100\n",
    "nDense = 20"
   ]
  },
  {
   "cell_type": "code",
   "execution_count": 45,
   "metadata": {},
   "outputs": [],
   "source": [
    "nJets, nTrks, nFeatures = X_train.shape\n",
    "nOutputs = y.shape[1] # ie sec and ter vtx xyz, so 6"
   ]
  },
  {
   "cell_type": "code",
   "execution_count": 46,
   "metadata": {},
   "outputs": [],
   "source": [
    "trk_inputs = Input(shape=(nTrks,nFeatures),name=\"Trk_inputs\")\n",
    "masked_input = Masking()(trk_inputs)\n",
    "\n",
    "# Feed this merged layer to an RNN\n",
    "lstm = LSTM(nHidden, return_sequences=False, name='LSTM')(masked_input)\n",
    "dpt = Dropout(rate=0.2)(lstm) # this is a very high dropout rate, reduce it\n",
    "\n",
    "my_inputs = trk_inputs\n",
    "\n",
    "# Fully connected layer: This will convert the output of the RNN to our vtx postion predicitons\n",
    "FC = Dense(nDense, activation='relu', name=\"Dense\")(dpt) # is relu fine here? i think so...\n",
    "\n",
    "# Ouptut layer. Sec and Ter Vtx. No activation as this is a regression problem\n",
    "output = Dense(nOutputs, name=\"Vertex_Predictions\")(FC)\n",
    "\n",
    "myRNN = Model(inputs=my_inputs, outputs=output)\n"
   ]
  },
  {
   "cell_type": "code",
   "execution_count": 47,
   "metadata": {},
   "outputs": [
    {
     "name": "stdout",
     "output_type": "stream",
     "text": [
      "_________________________________________________________________\n",
      "Layer (type)                 Output Shape              Param #   \n",
      "=================================================================\n",
      "Trk_inputs (InputLayer)      (None, 30, 5)             0         \n",
      "_________________________________________________________________\n",
      "masking_3 (Masking)          (None, 30, 5)             0         \n",
      "_________________________________________________________________\n",
      "LSTM (LSTM)                  (None, 100)               42400     \n",
      "_________________________________________________________________\n",
      "dropout_3 (Dropout)          (None, 100)               0         \n",
      "_________________________________________________________________\n",
      "Dense (Dense)                (None, 20)                2020      \n",
      "_________________________________________________________________\n",
      "Vertex_Predictions (Dense)   (None, 6)                 126       \n",
      "=================================================================\n",
      "Total params: 44,546\n",
      "Trainable params: 44,546\n",
      "Non-trainable params: 0\n",
      "_________________________________________________________________\n"
     ]
    }
   ],
   "source": [
    "myRNN.summary()"
   ]
  },
  {
   "cell_type": "code",
   "execution_count": 48,
   "metadata": {},
   "outputs": [],
   "source": [
    "myRNN.compile(loss='mean_absolute_error', optimizer='adam', metrics=['mae']) # do i want to add a metric like mse to evaluate during training\n"
   ]
  },
  {
   "cell_type": "markdown",
   "metadata": {},
   "source": [
    " checkpoints, training, evaluation of performance\n",
    " different ways of evaluating performance obviously\n",
    " either akin to Nicole's method for RNNIP\n",
    " or the slighlty different method in https://github.com/agu3rra/NeuralNetwork-RegressionExample/blob/master/Tutorial.ipynb"
   ]
  },
  {
   "cell_type": "code",
   "execution_count": 49,
   "metadata": {},
   "outputs": [],
   "source": [
    "myRNN_mChkPt = ModelCheckpoint('myRNN_weights.h5',monitor='val_loss', verbose=True,\n",
    "                               save_best_only=True,\n",
    "                               save_weights_only=True)"
   ]
  },
  {
   "cell_type": "code",
   "execution_count": 50,
   "metadata": {},
   "outputs": [],
   "source": [
    "earlyStop = EarlyStopping(monitor='val_loss', verbose=True, patience=10)\n"
   ]
  },
  {
   "cell_type": "code",
   "execution_count": 51,
   "metadata": {},
   "outputs": [
    {
     "name": "stdout",
     "output_type": "stream",
     "text": [
      "Train on 224000 samples, validate on 56000 samples\n",
      "Epoch 1/100\n",
      "223744/224000 [============================>.] - ETA: 0s - loss: 0.9770 - mean_absolute_error: 0.9770Epoch 00001: val_loss improved from inf to 0.80139, saving model to myRNN_weights.h5\n",
      "224000/224000 [==============================] - 73s 324us/step - loss: 0.9767 - mean_absolute_error: 0.9767 - val_loss: 0.8014 - val_mean_absolute_error: 0.8014\n",
      "Epoch 2/100\n",
      "223744/224000 [============================>.] - ETA: 0s - loss: 0.7799 - mean_absolute_error: 0.7799Epoch 00002: val_loss improved from 0.80139 to 0.71249, saving model to myRNN_weights.h5\n",
      "224000/224000 [==============================] - 77s 345us/step - loss: 0.7798 - mean_absolute_error: 0.7798 - val_loss: 0.7125 - val_mean_absolute_error: 0.7125\n",
      "Epoch 3/100\n",
      "223744/224000 [============================>.] - ETA: 0s - loss: 0.7018 - mean_absolute_error: 0.7018Epoch 00003: val_loss improved from 0.71249 to 0.63366, saving model to myRNN_weights.h5\n",
      "224000/224000 [==============================] - 77s 343us/step - loss: 0.7018 - mean_absolute_error: 0.7018 - val_loss: 0.6337 - val_mean_absolute_error: 0.6337\n",
      "Epoch 4/100\n",
      "223744/224000 [============================>.] - ETA: 0s - loss: 0.6380 - mean_absolute_error: 0.6380Epoch 00004: val_loss improved from 0.63366 to 0.58976, saving model to myRNN_weights.h5\n",
      "224000/224000 [==============================] - 76s 341us/step - loss: 0.6381 - mean_absolute_error: 0.6381 - val_loss: 0.5898 - val_mean_absolute_error: 0.5898\n",
      "Epoch 5/100\n",
      "223744/224000 [============================>.] - ETA: 0s - loss: 0.5966 - mean_absolute_error: 0.5966Epoch 00005: val_loss improved from 0.58976 to 0.55174, saving model to myRNN_weights.h5\n",
      "224000/224000 [==============================] - 78s 348us/step - loss: 0.5966 - mean_absolute_error: 0.5966 - val_loss: 0.5517 - val_mean_absolute_error: 0.5517\n",
      "Epoch 6/100\n",
      "223744/224000 [============================>.] - ETA: 0s - loss: 0.5660 - mean_absolute_error: 0.5660Epoch 00006: val_loss improved from 0.55174 to 0.52524, saving model to myRNN_weights.h5\n",
      "224000/224000 [==============================] - 76s 338us/step - loss: 0.5659 - mean_absolute_error: 0.5659 - val_loss: 0.5252 - val_mean_absolute_error: 0.5252\n",
      "Epoch 7/100\n",
      "223744/224000 [============================>.] - ETA: 0s - loss: 0.5447 - mean_absolute_error: 0.5447Epoch 00007: val_loss improved from 0.52524 to 0.51328, saving model to myRNN_weights.h5\n",
      "224000/224000 [==============================] - 77s 343us/step - loss: 0.5445 - mean_absolute_error: 0.5445 - val_loss: 0.5133 - val_mean_absolute_error: 0.5133\n",
      "Epoch 8/100\n",
      "223744/224000 [============================>.] - ETA: 0s - loss: 0.5245 - mean_absolute_error: 0.5245Epoch 00008: val_loss improved from 0.51328 to 0.49250, saving model to myRNN_weights.h5\n",
      "224000/224000 [==============================] - 77s 342us/step - loss: 0.5245 - mean_absolute_error: 0.5245 - val_loss: 0.4925 - val_mean_absolute_error: 0.4925\n",
      "Epoch 9/100\n",
      "223744/224000 [============================>.] - ETA: 0s - loss: 0.5094 - mean_absolute_error: 0.5094Epoch 00009: val_loss improved from 0.49250 to 0.47659, saving model to myRNN_weights.h5\n",
      "224000/224000 [==============================] - 73s 327us/step - loss: 0.5094 - mean_absolute_error: 0.5094 - val_loss: 0.4766 - val_mean_absolute_error: 0.4766\n",
      "Epoch 10/100\n",
      "223744/224000 [============================>.] - ETA: 0s - loss: 0.4961 - mean_absolute_error: 0.4961Epoch 00010: val_loss improved from 0.47659 to 0.47657, saving model to myRNN_weights.h5\n",
      "224000/224000 [==============================] - 74s 329us/step - loss: 0.4960 - mean_absolute_error: 0.4960 - val_loss: 0.4766 - val_mean_absolute_error: 0.4766\n",
      "Epoch 11/100\n",
      "223744/224000 [============================>.] - ETA: 0s - loss: 0.4842 - mean_absolute_error: 0.4842Epoch 00011: val_loss improved from 0.47657 to 0.46109, saving model to myRNN_weights.h5\n",
      "224000/224000 [==============================] - 74s 331us/step - loss: 0.4843 - mean_absolute_error: 0.4843 - val_loss: 0.4611 - val_mean_absolute_error: 0.4611\n",
      "Epoch 12/100\n",
      "223744/224000 [============================>.] - ETA: 0s - loss: 0.4720 - mean_absolute_error: 0.4720Epoch 00012: val_loss improved from 0.46109 to 0.45646, saving model to myRNN_weights.h5\n",
      "224000/224000 [==============================] - 75s 334us/step - loss: 0.4719 - mean_absolute_error: 0.4719 - val_loss: 0.4565 - val_mean_absolute_error: 0.4565\n",
      "Epoch 13/100\n",
      "223744/224000 [============================>.] - ETA: 0s - loss: 0.4629 - mean_absolute_error: 0.4629Epoch 00013: val_loss improved from 0.45646 to 0.43129, saving model to myRNN_weights.h5\n",
      "224000/224000 [==============================] - 75s 335us/step - loss: 0.4629 - mean_absolute_error: 0.4629 - val_loss: 0.4313 - val_mean_absolute_error: 0.4313\n",
      "Epoch 14/100\n",
      "223744/224000 [============================>.] - ETA: 0s - loss: 0.4517 - mean_absolute_error: 0.4517Epoch 00014: val_loss improved from 0.43129 to 0.42216, saving model to myRNN_weights.h5\n",
      "224000/224000 [==============================] - 74s 332us/step - loss: 0.4516 - mean_absolute_error: 0.4516 - val_loss: 0.4222 - val_mean_absolute_error: 0.4222\n",
      "Epoch 15/100\n",
      "223744/224000 [============================>.] - ETA: 0s - loss: 0.4433 - mean_absolute_error: 0.4433Epoch 00015: val_loss improved from 0.42216 to 0.41846, saving model to myRNN_weights.h5\n",
      "224000/224000 [==============================] - 75s 334us/step - loss: 0.4432 - mean_absolute_error: 0.4432 - val_loss: 0.4185 - val_mean_absolute_error: 0.4185\n",
      "Epoch 16/100\n",
      "223744/224000 [============================>.] - ETA: 0s - loss: 0.4332 - mean_absolute_error: 0.4332Epoch 00016: val_loss improved from 0.41846 to 0.40358, saving model to myRNN_weights.h5\n",
      "224000/224000 [==============================] - 75s 334us/step - loss: 0.4332 - mean_absolute_error: 0.4332 - val_loss: 0.4036 - val_mean_absolute_error: 0.4036\n",
      "Epoch 17/100\n",
      "223744/224000 [============================>.] - ETA: 0s - loss: 0.4219 - mean_absolute_error: 0.4219Epoch 00017: val_loss improved from 0.40358 to 0.39403, saving model to myRNN_weights.h5\n",
      "224000/224000 [==============================] - 75s 337us/step - loss: 0.4219 - mean_absolute_error: 0.4219 - val_loss: 0.3940 - val_mean_absolute_error: 0.3940\n",
      "Epoch 18/100\n",
      "223744/224000 [============================>.] - ETA: 0s - loss: 0.4108 - mean_absolute_error: 0.4108Epoch 00018: val_loss improved from 0.39403 to 0.37987, saving model to myRNN_weights.h5\n",
      "224000/224000 [==============================] - 75s 333us/step - loss: 0.4108 - mean_absolute_error: 0.4108 - val_loss: 0.3799 - val_mean_absolute_error: 0.3799\n",
      "Epoch 19/100\n",
      "223744/224000 [============================>.] - ETA: 0s - loss: 0.4004 - mean_absolute_error: 0.4004Epoch 00019: val_loss improved from 0.37987 to 0.37195, saving model to myRNN_weights.h5\n",
      "224000/224000 [==============================] - 76s 338us/step - loss: 0.4004 - mean_absolute_error: 0.4004 - val_loss: 0.3719 - val_mean_absolute_error: 0.3719\n",
      "Epoch 20/100\n",
      "223744/224000 [============================>.] - ETA: 0s - loss: 0.3898 - mean_absolute_error: 0.3898Epoch 00020: val_loss improved from 0.37195 to 0.36528, saving model to myRNN_weights.h5\n",
      "224000/224000 [==============================] - 76s 337us/step - loss: 0.3898 - mean_absolute_error: 0.3898 - val_loss: 0.3653 - val_mean_absolute_error: 0.3653\n",
      "Epoch 21/100\n",
      "223744/224000 [============================>.] - ETA: 0s - loss: 0.3787 - mean_absolute_error: 0.3787Epoch 00021: val_loss improved from 0.36528 to 0.36000, saving model to myRNN_weights.h5\n",
      "224000/224000 [==============================] - 76s 337us/step - loss: 0.3786 - mean_absolute_error: 0.3786 - val_loss: 0.3600 - val_mean_absolute_error: 0.3600\n",
      "Epoch 22/100\n",
      "223744/224000 [============================>.] - ETA: 0s - loss: 0.3693 - mean_absolute_error: 0.3693Epoch 00022: val_loss improved from 0.36000 to 0.34832, saving model to myRNN_weights.h5\n",
      "224000/224000 [==============================] - 74s 332us/step - loss: 0.3693 - mean_absolute_error: 0.3693 - val_loss: 0.3483 - val_mean_absolute_error: 0.3483\n",
      "Epoch 23/100\n",
      "223744/224000 [============================>.] - ETA: 0s - loss: 0.3612 - mean_absolute_error: 0.3612Epoch 00023: val_loss improved from 0.34832 to 0.33369, saving model to myRNN_weights.h5\n",
      "224000/224000 [==============================] - 74s 332us/step - loss: 0.3612 - mean_absolute_error: 0.3612 - val_loss: 0.3337 - val_mean_absolute_error: 0.3337\n"
     ]
    },
    {
     "name": "stdout",
     "output_type": "stream",
     "text": [
      "Epoch 24/100\n",
      "223744/224000 [============================>.] - ETA: 0s - loss: 0.3530 - mean_absolute_error: 0.3530Epoch 00024: val_loss did not improve\n",
      "224000/224000 [==============================] - 73s 326us/step - loss: 0.3531 - mean_absolute_error: 0.3531 - val_loss: 0.3371 - val_mean_absolute_error: 0.3371\n",
      "Epoch 25/100\n",
      "223744/224000 [============================>.] - ETA: 0s - loss: 0.3450 - mean_absolute_error: 0.3450Epoch 00025: val_loss improved from 0.33369 to 0.31258, saving model to myRNN_weights.h5\n",
      "224000/224000 [==============================] - 72s 322us/step - loss: 0.3450 - mean_absolute_error: 0.3450 - val_loss: 0.3126 - val_mean_absolute_error: 0.3126\n",
      "Epoch 26/100\n",
      "223744/224000 [============================>.] - ETA: 0s - loss: 0.3395 - mean_absolute_error: 0.3395Epoch 00026: val_loss did not improve\n",
      "224000/224000 [==============================] - 73s 326us/step - loss: 0.3395 - mean_absolute_error: 0.3395 - val_loss: 0.3141 - val_mean_absolute_error: 0.3141\n",
      "Epoch 27/100\n",
      "223744/224000 [============================>.] - ETA: 0s - loss: 0.3335 - mean_absolute_error: 0.3335Epoch 00027: val_loss improved from 0.31258 to 0.31235, saving model to myRNN_weights.h5\n",
      "224000/224000 [==============================] - 73s 327us/step - loss: 0.3335 - mean_absolute_error: 0.3335 - val_loss: 0.3123 - val_mean_absolute_error: 0.3123\n",
      "Epoch 28/100\n",
      "223744/224000 [============================>.] - ETA: 0s - loss: 0.3267 - mean_absolute_error: 0.3267Epoch 00028: val_loss improved from 0.31235 to 0.30233, saving model to myRNN_weights.h5\n",
      "224000/224000 [==============================] - 73s 327us/step - loss: 0.3267 - mean_absolute_error: 0.3267 - val_loss: 0.3023 - val_mean_absolute_error: 0.3023\n",
      "Epoch 29/100\n",
      "223744/224000 [============================>.] - ETA: 0s - loss: 0.3206 - mean_absolute_error: 0.3206Epoch 00029: val_loss did not improve\n",
      "224000/224000 [==============================] - 73s 328us/step - loss: 0.3206 - mean_absolute_error: 0.3206 - val_loss: 0.3040 - val_mean_absolute_error: 0.3040\n",
      "Epoch 30/100\n",
      "223744/224000 [============================>.] - ETA: 0s - loss: 0.3167 - mean_absolute_error: 0.3167Epoch 00030: val_loss improved from 0.30233 to 0.29074, saving model to myRNN_weights.h5\n",
      "224000/224000 [==============================] - 73s 327us/step - loss: 0.3166 - mean_absolute_error: 0.3166 - val_loss: 0.2907 - val_mean_absolute_error: 0.2907\n",
      "Epoch 31/100\n",
      "223744/224000 [============================>.] - ETA: 0s - loss: 0.3124 - mean_absolute_error: 0.3124Epoch 00031: val_loss did not improve\n",
      "224000/224000 [==============================] - 73s 328us/step - loss: 0.3124 - mean_absolute_error: 0.3124 - val_loss: 0.2966 - val_mean_absolute_error: 0.2966\n",
      "Epoch 32/100\n",
      "223744/224000 [============================>.] - ETA: 0s - loss: 0.3088 - mean_absolute_error: 0.3088Epoch 00032: val_loss did not improve\n",
      "224000/224000 [==============================] - 74s 331us/step - loss: 0.3088 - mean_absolute_error: 0.3088 - val_loss: 0.2918 - val_mean_absolute_error: 0.2918\n",
      "Epoch 33/100\n",
      "223744/224000 [============================>.] - ETA: 0s - loss: 0.3038 - mean_absolute_error: 0.3038Epoch 00033: val_loss improved from 0.29074 to 0.27592, saving model to myRNN_weights.h5\n",
      "224000/224000 [==============================] - 73s 328us/step - loss: 0.3038 - mean_absolute_error: 0.3038 - val_loss: 0.2759 - val_mean_absolute_error: 0.2759\n",
      "Epoch 34/100\n",
      "223744/224000 [============================>.] - ETA: 0s - loss: 0.2986 - mean_absolute_error: 0.2986Epoch 00034: val_loss improved from 0.27592 to 0.27423, saving model to myRNN_weights.h5\n",
      "224000/224000 [==============================] - 74s 330us/step - loss: 0.2986 - mean_absolute_error: 0.2986 - val_loss: 0.2742 - val_mean_absolute_error: 0.2742\n",
      "Epoch 35/100\n",
      "223744/224000 [============================>.] - ETA: 0s - loss: 0.2965 - mean_absolute_error: 0.2965Epoch 00035: val_loss did not improve\n",
      "224000/224000 [==============================] - 74s 329us/step - loss: 0.2965 - mean_absolute_error: 0.2965 - val_loss: 0.2798 - val_mean_absolute_error: 0.2798\n",
      "Epoch 36/100\n",
      "223744/224000 [============================>.] - ETA: 0s - loss: 0.2924 - mean_absolute_error: 0.2924Epoch 00036: val_loss improved from 0.27423 to 0.27315, saving model to myRNN_weights.h5\n",
      "224000/224000 [==============================] - 74s 332us/step - loss: 0.2924 - mean_absolute_error: 0.2924 - val_loss: 0.2731 - val_mean_absolute_error: 0.2731\n",
      "Epoch 37/100\n",
      "223744/224000 [============================>.] - ETA: 0s - loss: 0.2874 - mean_absolute_error: 0.2874Epoch 00037: val_loss did not improve\n",
      "224000/224000 [==============================] - 74s 330us/step - loss: 0.2874 - mean_absolute_error: 0.2874 - val_loss: 0.2805 - val_mean_absolute_error: 0.2805\n",
      "Epoch 38/100\n",
      "223744/224000 [============================>.] - ETA: 0s - loss: 0.2856 - mean_absolute_error: 0.2856Epoch 00038: val_loss improved from 0.27315 to 0.27010, saving model to myRNN_weights.h5\n",
      "224000/224000 [==============================] - 74s 330us/step - loss: 0.2856 - mean_absolute_error: 0.2856 - val_loss: 0.2701 - val_mean_absolute_error: 0.2701\n",
      "Epoch 39/100\n",
      "223744/224000 [============================>.] - ETA: 0s - loss: 0.2809 - mean_absolute_error: 0.2809Epoch 00039: val_loss improved from 0.27010 to 0.25343, saving model to myRNN_weights.h5\n",
      "224000/224000 [==============================] - 74s 330us/step - loss: 0.2809 - mean_absolute_error: 0.2809 - val_loss: 0.2534 - val_mean_absolute_error: 0.2534\n",
      "Epoch 40/100\n",
      "223744/224000 [============================>.] - ETA: 0s - loss: 0.2771 - mean_absolute_error: 0.2771- ETA: 2s - loss: 0Epoch 00040: val_loss did not improve\n",
      "224000/224000 [==============================] - 75s 333us/step - loss: 0.2770 - mean_absolute_error: 0.2770 - val_loss: 0.2535 - val_mean_absolute_error: 0.2535\n",
      "Epoch 41/100\n",
      "223744/224000 [============================>.] - ETA: 0s - loss: 0.2763 - mean_absolute_error: 0.2763Epoch 00041: val_loss did not improve\n",
      "224000/224000 [==============================] - 74s 330us/step - loss: 0.2763 - mean_absolute_error: 0.2763 - val_loss: 0.2588 - val_mean_absolute_error: 0.2588\n",
      "Epoch 42/100\n",
      "223744/224000 [============================>.] - ETA: 0s - loss: 0.2723 - mean_absolute_error: 0.2723Epoch 00042: val_loss improved from 0.25343 to 0.25072, saving model to myRNN_weights.h5\n",
      "224000/224000 [==============================] - 74s 332us/step - loss: 0.2723 - mean_absolute_error: 0.2723 - val_loss: 0.2507 - val_mean_absolute_error: 0.2507\n",
      "Epoch 43/100\n",
      "223744/224000 [============================>.] - ETA: 0s - loss: 0.2683 - mean_absolute_error: 0.2683Epoch 00043: val_loss improved from 0.25072 to 0.24736, saving model to myRNN_weights.h5\n",
      "224000/224000 [==============================] - 74s 332us/step - loss: 0.2684 - mean_absolute_error: 0.2684 - val_loss: 0.2474 - val_mean_absolute_error: 0.2474\n",
      "Epoch 44/100\n",
      "223744/224000 [============================>.] - ETA: 0s - loss: 0.2660 - mean_absolute_error: 0.2660Epoch 00044: val_loss improved from 0.24736 to 0.24130, saving model to myRNN_weights.h5\n",
      "224000/224000 [==============================] - 75s 333us/step - loss: 0.2661 - mean_absolute_error: 0.2661 - val_loss: 0.2413 - val_mean_absolute_error: 0.2413\n",
      "Epoch 45/100\n",
      "223744/224000 [============================>.] - ETA: 0s - loss: 0.2633 - mean_absolute_error: 0.2633Epoch 00045: val_loss did not improve\n",
      "224000/224000 [==============================] - 74s 333us/step - loss: 0.2633 - mean_absolute_error: 0.2633 - val_loss: 0.2629 - val_mean_absolute_error: 0.2629\n",
      "Epoch 46/100\n",
      "223744/224000 [============================>.] - ETA: 0s - loss: 0.2609 - mean_absolute_error: 0.2609Epoch 00046: val_loss did not improve\n",
      "224000/224000 [==============================] - 74s 332us/step - loss: 0.2609 - mean_absolute_error: 0.2609 - val_loss: 0.2454 - val_mean_absolute_error: 0.2454\n",
      "Epoch 47/100\n",
      "223744/224000 [============================>.] - ETA: 0s - loss: 0.2590 - mean_absolute_error: 0.2590Epoch 00047: val_loss did not improve\n",
      "224000/224000 [==============================] - 75s 336us/step - loss: 0.2590 - mean_absolute_error: 0.2590 - val_loss: 0.2440 - val_mean_absolute_error: 0.2440\n",
      "Epoch 48/100\n",
      "223744/224000 [============================>.] - ETA: 0s - loss: 0.2589 - mean_absolute_error: 0.2589Epoch 00048: val_loss did not improve\n",
      "224000/224000 [==============================] - 77s 346us/step - loss: 0.2589 - mean_absolute_error: 0.2589 - val_loss: 0.2444 - val_mean_absolute_error: 0.2444\n",
      "Epoch 49/100\n",
      "223744/224000 [============================>.] - ETA: 0s - loss: 0.2553 - mean_absolute_error: 0.2553Epoch 00049: val_loss improved from 0.24130 to 0.23252, saving model to myRNN_weights.h5\n",
      "224000/224000 [==============================] - 75s 333us/step - loss: 0.2553 - mean_absolute_error: 0.2553 - val_loss: 0.2325 - val_mean_absolute_error: 0.2325\n",
      "Epoch 50/100\n",
      "223744/224000 [============================>.] - ETA: 0s - loss: 0.2519 - mean_absolute_error: 0.2519Epoch 00050: val_loss did not improve\n",
      "224000/224000 [==============================] - 75s 335us/step - loss: 0.2519 - mean_absolute_error: 0.2519 - val_loss: 0.2398 - val_mean_absolute_error: 0.2398\n",
      "Epoch 51/100\n",
      "223744/224000 [============================>.] - ETA: 0s - loss: 0.2492 - mean_absolute_error: 0.2492Epoch 00051: val_loss improved from 0.23252 to 0.22606, saving model to myRNN_weights.h5\n",
      "224000/224000 [==============================] - 76s 338us/step - loss: 0.2491 - mean_absolute_error: 0.2491 - val_loss: 0.2261 - val_mean_absolute_error: 0.2261\n",
      "Epoch 52/100\n",
      "223744/224000 [============================>.] - ETA: 0s - loss: 0.2474 - mean_absolute_error: 0.2474Epoch 00052: val_loss did not improve\n",
      "224000/224000 [==============================] - 75s 334us/step - loss: 0.2474 - mean_absolute_error: 0.2474 - val_loss: 0.2279 - val_mean_absolute_error: 0.2279\n",
      "Epoch 53/100\n",
      "223744/224000 [============================>.] - ETA: 0s - loss: 0.2461 - mean_absolute_error: 0.2461Epoch 00053: val_loss did not improve\n",
      "224000/224000 [==============================] - 75s 337us/step - loss: 0.2461 - mean_absolute_error: 0.2461 - val_loss: 0.2420 - val_mean_absolute_error: 0.2420\n",
      "Epoch 54/100\n",
      "223744/224000 [============================>.] - ETA: 0s - loss: 0.2437 - mean_absolute_error: 0.2437Epoch 00054: val_loss did not improve\n",
      "224000/224000 [==============================] - 75s 335us/step - loss: 0.2437 - mean_absolute_error: 0.2437 - val_loss: 0.2323 - val_mean_absolute_error: 0.2323\n",
      "Epoch 55/100\n",
      "223744/224000 [============================>.] - ETA: 0s - loss: 0.2419 - mean_absolute_error: 0.2419Epoch 00055: val_loss did not improve\n",
      "224000/224000 [==============================] - 75s 335us/step - loss: 0.2418 - mean_absolute_error: 0.2418 - val_loss: 0.2271 - val_mean_absolute_error: 0.2271\n",
      "Epoch 56/100\n",
      "223744/224000 [============================>.] - ETA: 0s - loss: 0.2403 - mean_absolute_error: 0.2403Epoch 00056: val_loss did not improve\n",
      "224000/224000 [==============================] - 75s 337us/step - loss: 0.2404 - mean_absolute_error: 0.2404 - val_loss: 0.2316 - val_mean_absolute_error: 0.2316\n",
      "Epoch 57/100\n",
      "223744/224000 [============================>.] - ETA: 0s - loss: 0.2395 - mean_absolute_error: 0.2395Epoch 00057: val_loss did not improve\n",
      "224000/224000 [==============================] - 75s 335us/step - loss: 0.2394 - mean_absolute_error: 0.2394 - val_loss: 0.2324 - val_mean_absolute_error: 0.2324\n",
      "Epoch 58/100\n",
      "223744/224000 [============================>.] - ETA: 0s - loss: 0.2370 - mean_absolute_error: 0.2370Epoch 00058: val_loss did not improve\n",
      "224000/224000 [==============================] - 75s 336us/step - loss: 0.2370 - mean_absolute_error: 0.2370 - val_loss: 0.2279 - val_mean_absolute_error: 0.2279\n",
      "Epoch 59/100\n",
      "223744/224000 [============================>.] - ETA: 0s - loss: 0.2352 - mean_absolute_error: 0.2352Epoch 00059: val_loss improved from 0.22606 to 0.21992, saving model to myRNN_weights.h5\n",
      "224000/224000 [==============================] - 75s 336us/step - loss: 0.2352 - mean_absolute_error: 0.2352 - val_loss: 0.2199 - val_mean_absolute_error: 0.2199\n",
      "Epoch 60/100\n",
      "223744/224000 [============================>.] - ETA: 0s - loss: 0.2319 - mean_absolute_error: 0.2319Epoch 00060: val_loss improved from 0.21992 to 0.21466, saving model to myRNN_weights.h5\n",
      "224000/224000 [==============================] - 75s 337us/step - loss: 0.2319 - mean_absolute_error: 0.2319 - val_loss: 0.2147 - val_mean_absolute_error: 0.2147\n",
      "Epoch 61/100\n",
      "223744/224000 [============================>.] - ETA: 0s - loss: 0.2325 - mean_absolute_error: 0.2325Epoch 00061: val_loss did not improve\n",
      "224000/224000 [==============================] - 78s 348us/step - loss: 0.2325 - mean_absolute_error: 0.2325 - val_loss: 0.2213 - val_mean_absolute_error: 0.2213\n",
      "Epoch 62/100\n",
      "223744/224000 [============================>.] - ETA: 0s - loss: 0.2301 - mean_absolute_error: 0.2301Epoch 00062: val_loss did not improve\n",
      "224000/224000 [==============================] - 77s 345us/step - loss: 0.2302 - mean_absolute_error: 0.2302 - val_loss: 0.2263 - val_mean_absolute_error: 0.2263\n",
      "Epoch 63/100\n",
      "223744/224000 [============================>.] - ETA: 0s - loss: 0.2285 - mean_absolute_error: 0.2285Epoch 00063: val_loss did not improve\n",
      "224000/224000 [==============================] - 75s 337us/step - loss: 0.2285 - mean_absolute_error: 0.2285 - val_loss: 0.2220 - val_mean_absolute_error: 0.2220\n",
      "Epoch 64/100\n",
      "223744/224000 [============================>.] - ETA: 0s - loss: 0.2268 - mean_absolute_error: 0.2268Epoch 00064: val_loss did not improve\n",
      "224000/224000 [==============================] - 76s 339us/step - loss: 0.2268 - mean_absolute_error: 0.2268 - val_loss: 0.2228 - val_mean_absolute_error: 0.2228\n",
      "Epoch 65/100\n",
      "223744/224000 [============================>.] - ETA: 0s - loss: 0.2265 - mean_absolute_error: 0.2265Epoch 00065: val_loss improved from 0.21466 to 0.20679, saving model to myRNN_weights.h5\n",
      "224000/224000 [==============================] - 76s 339us/step - loss: 0.2265 - mean_absolute_error: 0.2265 - val_loss: 0.2068 - val_mean_absolute_error: 0.2068\n",
      "Epoch 66/100\n",
      "223744/224000 [============================>.] - ETA: 0s - loss: 0.2242 - mean_absolute_error: 0.2242Epoch 00066: val_loss did not improve\n",
      "224000/224000 [==============================] - 76s 338us/step - loss: 0.2242 - mean_absolute_error: 0.2242 - val_loss: 0.2139 - val_mean_absolute_error: 0.2139\n",
      "Epoch 67/100\n",
      "223744/224000 [============================>.] - ETA: 0s - loss: 0.2232 - mean_absolute_error: 0.2232Epoch 00067: val_loss did not improve\n",
      "224000/224000 [==============================] - 77s 343us/step - loss: 0.2233 - mean_absolute_error: 0.2233 - val_loss: 0.2187 - val_mean_absolute_error: 0.2187\n",
      "Epoch 68/100\n",
      "223744/224000 [============================>.] - ETA: 0s - loss: 0.2209 - mean_absolute_error: 0.2209Epoch 00068: val_loss did not improve\n",
      "224000/224000 [==============================] - 78s 347us/step - loss: 0.2208 - mean_absolute_error: 0.2208 - val_loss: 0.2239 - val_mean_absolute_error: 0.2239\n",
      "Epoch 69/100\n",
      "223744/224000 [============================>.] - ETA: 0s - loss: 0.2210 - mean_absolute_error: 0.2210Epoch 00069: val_loss did not improve\n",
      "224000/224000 [==============================] - 77s 342us/step - loss: 0.2210 - mean_absolute_error: 0.2210 - val_loss: 0.2309 - val_mean_absolute_error: 0.2309\n",
      "Epoch 70/100\n",
      "223744/224000 [============================>.] - ETA: 0s - loss: 0.2208 - mean_absolute_error: 0.2208Epoch 00070: val_loss did not improve\n",
      "224000/224000 [==============================] - 77s 344us/step - loss: 0.2207 - mean_absolute_error: 0.2207 - val_loss: 0.2371 - val_mean_absolute_error: 0.2371\n",
      "Epoch 71/100\n",
      "223744/224000 [============================>.] - ETA: 0s - loss: 0.2196 - mean_absolute_error: 0.2196Epoch 00071: val_loss did not improve\n",
      "224000/224000 [==============================] - 78s 350us/step - loss: 0.2196 - mean_absolute_error: 0.2196 - val_loss: 0.2415 - val_mean_absolute_error: 0.2415\n",
      "Epoch 72/100\n",
      "223744/224000 [============================>.] - ETA: 0s - loss: 0.2172 - mean_absolute_error: 0.2172Epoch 00072: val_loss did not improve\n",
      "224000/224000 [==============================] - 77s 345us/step - loss: 0.2172 - mean_absolute_error: 0.2172 - val_loss: 0.2163 - val_mean_absolute_error: 0.2163\n",
      "Epoch 73/100\n"
     ]
    },
    {
     "name": "stdout",
     "output_type": "stream",
     "text": [
      "223744/224000 [============================>.] - ETA: 0s - loss: 0.2147 - mean_absolute_error: 0.2147Epoch 00073: val_loss did not improve\n",
      "224000/224000 [==============================] - 75s 334us/step - loss: 0.2147 - mean_absolute_error: 0.2147 - val_loss: 0.2091 - val_mean_absolute_error: 0.2091\n",
      "Epoch 74/100\n",
      "223744/224000 [============================>.] - ETA: 0s - loss: 0.2145 - mean_absolute_error: 0.2145Epoch 00074: val_loss did not improve\n",
      "224000/224000 [==============================] - 76s 337us/step - loss: 0.2144 - mean_absolute_error: 0.2144 - val_loss: 0.2177 - val_mean_absolute_error: 0.2177\n",
      "Epoch 75/100\n",
      "223744/224000 [============================>.] - ETA: 0s - loss: 0.2124 - mean_absolute_error: 0.2124Epoch 00075: val_loss did not improve\n",
      "224000/224000 [==============================] - 75s 334us/step - loss: 0.2124 - mean_absolute_error: 0.2124 - val_loss: 0.2113 - val_mean_absolute_error: 0.2113\n",
      "Epoch 00075: early stopping\n"
     ]
    }
   ],
   "source": [
    "nEpochs = 100\n",
    "\n",
    "myRNN_hist = myRNN.fit(X_train, y_train, epochs=nEpochs, batch_size=256,validation_split=0.20,\n",
    "                 callbacks=[earlyStop, myRNN_mChkPt],) # callbacks=[earlyStop, myRNN_mChkPt])"
   ]
  },
  {
   "cell_type": "code",
   "execution_count": 52,
   "metadata": {},
   "outputs": [
    {
     "data": {
      "text/plain": [
       "<matplotlib.legend.Legend at 0x1f4d14a53c8>"
      ]
     },
     "execution_count": 52,
     "metadata": {},
     "output_type": "execute_result"
    },
    {
     "data": {
      "image/png": "[encoded data removed]",
      "text/plain": [
       "<Figure size 432x288 with 1 Axes>"
      ]
     },
     "metadata": {
      "needs_background": "light"
     },
     "output_type": "display_data"
    }
   ],
   "source": [
    "epochs = np.arange(1,len(myRNN_hist.history['loss'])+1)\n",
    "\n",
    "plt.plot(epochs,myRNN_hist.history['loss'],label='training')\n",
    "plt.plot(epochs,myRNN_hist.history['val_loss'],label='validation')\n",
    "plt.xlabel('epochs',fontsize=14)\n",
    "plt.ylabel('MSE loss',fontsize=14)\n",
    "plt.legend()"
   ]
  },
  {
   "cell_type": "code",
   "execution_count": 121,
   "metadata": {},
   "outputs": [
    {
     "data": {
      "text/plain": [
       "array([[ 6.035548  ,  6.035423  ,  8.529224  ,  7.9623833 ,  7.9528184 ,\n",
       "        11.439747  ],\n",
       "       [ 1.2154033 ,  1.2163118 ,  1.7182101 ,  2.549752  ,  2.5492399 ,\n",
       "         3.6417458 ],\n",
       "       [ 1.8820744 ,  1.8781972 ,  2.646237  ,  7.1155863 ,  7.093253  ,\n",
       "        10.145479  ],\n",
       "       ...,\n",
       "       [ 0.9552002 ,  0.95508045,  1.347066  ,  2.1287427 ,  2.1214528 ,\n",
       "         2.7906845 ],\n",
       "       [ 0.18647021,  0.18860167,  0.26824802,  0.66900545,  0.67024285,\n",
       "         0.842746  ],\n",
       "       [ 3.289676  ,  3.2817354 ,  4.624417  , 10.769046  , 10.730526  ,\n",
       "        15.4407    ]], dtype=float32)"
      ]
     },
     "execution_count": 121,
     "metadata": {},
     "output_type": "execute_result"
    }
   ],
   "source": [
    "results=myRNN.predict(X_test)\n",
    "results"
   ]
  },
  {
   "cell_type": "code",
   "execution_count": 122,
   "metadata": {},
   "outputs": [
    {
     "data": {
      "text/plain": [
       "20000"
      ]
     },
     "execution_count": 122,
     "metadata": {},
     "output_type": "execute_result"
    }
   ],
   "source": [
    "len(results)"
   ]
  },
  {
   "cell_type": "code",
   "execution_count": 123,
   "metadata": {},
   "outputs": [],
   "source": [
    "percentage_errs=(abs((results-y_test)/y_test)*100) # average error of 50%, so for vtx at 1mm, we get within 0.5mm\n"
   ]
  },
  {
   "cell_type": "code",
   "execution_count": 22,
   "metadata": {},
   "outputs": [],
   "source": [
    "# load model\n",
    "#myRNN.load_weights('./myRNN_weights.h5')\n"
   ]
  },
  {
   "cell_type": "code",
   "execution_count": 124,
   "metadata": {
    "scrolled": true
   },
   "outputs": [
    {
     "data": {
      "text/plain": [
       "(array([45943., 32116., 16180.,  8490.,  4722.,  2776.,  1858.,  1297.,\n",
       "          897.,   669.,   551.,   419.,   345.,   257.,   235.,   201.,\n",
       "         2765.]),\n",
       " array([   0,    5,   10,   15,   20,   25,   30,   35,   40,   45,   50,\n",
       "          55,   60,   65,   70,   75,   80, 1000]),\n",
       " <a list of 17 Patch objects>)"
      ]
     },
     "execution_count": 124,
     "metadata": {},
     "output_type": "execute_result"
    },
    {
     "data": {
      "image/png": "[encoded data removed]",
      "text/plain": [
       "<Figure size 432x288 with 1 Axes>"
      ]
     },
     "metadata": {
      "needs_background": "light"
     },
     "output_type": "display_data"
    }
   ],
   "source": [
    "meanerrs=percentage_errs.reshape(120000)# plot distribution of mean errs per jet\n",
    "\n",
    "plt.hist((meanerrs), bins=[0,5,10,15,20,25,30,35,40,45,50,55,60,65,70,75,80,1000])#90,100,200,300,400,500,600,700,800,900])\n",
    "#plt.hist((meanerrs), bins=[0,0.1,0.2,0.3,0.4,0.5,0.6,0.7,0.8,0.9])\n",
    "\n",
    "# from what i see, the profile drops off but with a VERY long tail\n",
    "# about 65000/120000 vals less than 15% error (so more than half)\n",
    "# but 10000 have over 80% error (1/12)\n",
    "# problem also, for a jet we might nail down the x values very well but do badly with the z or y\n",
    "\n",
    "# without badphis and thetas, approx 3/4 below 15% \n",
    "# approx 1/20 above 80%\n",
    "\n",
    "# switching to seperate errs for IP, over 3/4 below 15% (96000/120000)\n",
    "# 1/40 above"
   ]
  },
  {
   "cell_type": "code",
   "execution_count": 125,
   "metadata": {},
   "outputs": [],
   "source": [
    "mean_err_per_jet=np.mean(percentage_errs,axis=1)"
   ]
  },
  {
   "cell_type": "code",
   "execution_count": 126,
   "metadata": {},
   "outputs": [
    {
     "name": "stdout",
     "output_type": "stream",
     "text": [
      "7.691437301563781\n"
     ]
    },
    {
     "data": {
      "text/plain": [
       "33.282745108060006"
      ]
     },
     "execution_count": 126,
     "metadata": {},
     "output_type": "execute_result"
    }
   ],
   "source": [
    "print(np.median(mean_err_per_jet)) # median error is 7% that's actually not too bad considering gauss err of 1% on 5 params (ish)\n",
    "np.mean(mean_err_per_jet) # mean and median very different"
   ]
  },
  {
   "cell_type": "markdown",
   "metadata": {},
   "source": [
    "couple of things, first the RNN looks like it predicts the same value for all cases. This might be because it uses the null tracks at the end of every single jet and just predicts off of those.\n",
    "Maybe should consider predicting values that are at least order unity, because mse is gonna be very small otherwise, so convert the vertices into different units (I dunno maybe millimeters or microns)"
   ]
  },
  {
   "cell_type": "code",
   "execution_count": 127,
   "metadata": {},
   "outputs": [
    {
     "data": {
      "text/plain": [
       "486"
      ]
     },
     "execution_count": 127,
     "metadata": {},
     "output_type": "execute_result"
    }
   ],
   "source": [
    "len(mean_err_per_jet[mean_err_per_jet > 100.]) # 1970/20,000 jets mean err above 100% dropd to 907/20,000"
   ]
  },
  {
   "cell_type": "code",
   "execution_count": 128,
   "metadata": {},
   "outputs": [
    {
     "data": {
      "text/plain": [
       "(array([    5,    38,   143,   149,   195,   206,   236,   240,   251,\n",
       "          279,   381,   409,   445,   449,   461,   576,   590,   608,\n",
       "          673,   719,   744,   771,   793,   899,   926,   929,   936,\n",
       "          970,   981,   995,  1034,  1055,  1086,  1127,  1258,  1263,\n",
       "         1286,  1348,  1474,  1478,  1501,  1511,  1516,  1519,  1525,\n",
       "         1559,  1613,  1630,  1640,  1690,  1734,  1745,  1795,  1798,\n",
       "         1815,  1853,  1854,  1882,  1989,  2030,  2079,  2096,  2122,\n",
       "         2218,  2331,  2365,  2367,  2377,  2378,  2384,  2413,  2434,\n",
       "         2484,  2565,  2629,  2645,  2786,  2808,  2822,  2835,  2857,\n",
       "         2926,  2946,  2957,  2959,  2974,  2980,  2987,  2988,  2996,\n",
       "         2998,  3028,  3071,  3178,  3216,  3224,  3303,  3375,  3477,\n",
       "         3513,  3544,  3619,  3623,  3659,  3661,  3680,  3696,  3697,\n",
       "         3722,  3738,  3742,  3746,  3928,  3937,  3987,  3990,  4075,\n",
       "         4085,  4105,  4254,  4279,  4281,  4309,  4368,  4406,  4538,\n",
       "         4601,  4607,  4651,  4686,  4701,  4719,  4733,  4756,  4761,\n",
       "         4864,  4868,  4890,  4931,  4936,  4967,  4996,  5006,  5058,\n",
       "         5095,  5096,  5098,  5120,  5152,  5183,  5190,  5214,  5231,\n",
       "         5248,  5279,  5358,  5475,  5490,  5523,  5545,  5578,  5598,\n",
       "         5610,  5652,  5675,  5705,  5710,  5794,  5807,  5877,  6040,\n",
       "         6116,  6169,  6218,  6267,  6314,  6430,  6445,  6525,  6556,\n",
       "         6563,  6603,  6689,  6807,  6810,  6854,  6910,  6918,  6944,\n",
       "         6951,  6956,  7012,  7182,  7203,  7216,  7269,  7273,  7340,\n",
       "         7406,  7437,  7464,  7467,  7480,  7518,  7605,  7641,  7681,\n",
       "         7707,  7778,  7871,  8006,  8040,  8041,  8080,  8150,  8190,\n",
       "         8292,  8344,  8375,  8404,  8417,  8418,  8563,  8659,  8664,\n",
       "         8679,  8732,  9001,  9055,  9069,  9089,  9118,  9189,  9225,\n",
       "         9328,  9342,  9375,  9391,  9463,  9522,  9532,  9547,  9548,\n",
       "         9606,  9669,  9713,  9744,  9750,  9772,  9895,  9901,  9923,\n",
       "        10006, 10023, 10051, 10080, 10159, 10170, 10174, 10183, 10201,\n",
       "        10216, 10328, 10342, 10442, 10486, 10627, 10664, 10667, 10778,\n",
       "        10785, 10812, 10841, 10850, 10855, 10917, 10927, 10928, 11070,\n",
       "        11075, 11107, 11110, 11157, 11172, 11273, 11314, 11402, 11449,\n",
       "        11464, 11491, 11506, 11523, 11535, 11633, 11690, 11709, 11804,\n",
       "        11932, 11943, 11990, 12016, 12066, 12100, 12104, 12185, 12239,\n",
       "        12249, 12251, 12521, 12570, 12609, 12617, 12694, 12722, 12787,\n",
       "        12788, 12809, 12858, 12860, 12885, 12967, 12979, 13010, 13011,\n",
       "        13093, 13152, 13199, 13233, 13243, 13324, 13331, 13369, 13400,\n",
       "        13412, 13440, 13508, 13520, 13528, 13535, 13565, 13620, 13627,\n",
       "        13634, 13664, 13681, 13746, 13818, 13830, 13865, 13905, 13984,\n",
       "        14129, 14167, 14213, 14239, 14290, 14320, 14347, 14448, 14585,\n",
       "        14594, 14639, 14715, 14717, 14775, 14793, 14849, 14921, 14975,\n",
       "        14983, 14995, 15030, 15134, 15409, 15416, 15467, 15546, 15730,\n",
       "        15781, 15875, 15907, 15908, 15954, 15960, 16015, 16022, 16023,\n",
       "        16029, 16071, 16076, 16088, 16179, 16305, 16377, 16395, 16522,\n",
       "        16617, 16630, 16766, 16777, 16788, 16895, 16898, 16976, 16983,\n",
       "        17016, 17024, 17063, 17079, 17082, 17175, 17203, 17217, 17221,\n",
       "        17263, 17265, 17269, 17306, 17345, 17347, 17402, 17456, 17503,\n",
       "        17541, 17558, 17586, 17632, 17634, 17662, 17668, 17690, 17712,\n",
       "        17759, 17792, 17825, 17844, 17870, 17901, 17909, 17936, 17942,\n",
       "        18093, 18114, 18116, 18191, 18309, 18404, 18414, 18448, 18453,\n",
       "        18668, 18675, 18698, 18809, 18864, 18869, 18910, 18934, 18945,\n",
       "        19030, 19083, 19181, 19184, 19187, 19196, 19199, 19202, 19246,\n",
       "        19269, 19282, 19313, 19320, 19336, 19344, 19352, 19378, 19492,\n",
       "        19542, 19544, 19581, 19599, 19707, 19858, 19863, 19935, 19986],\n",
       "       dtype=int64),)"
      ]
     },
     "execution_count": 128,
     "metadata": {},
     "output_type": "execute_result"
    }
   ],
   "source": [
    "badjets=np.where(mean_err_per_jet > 100.)\n",
    "badjets"
   ]
  },
  {
   "cell_type": "code",
   "execution_count": 74,
   "metadata": {},
   "outputs": [],
   "source": [
    "#plt.hist(mean_err_per_jet[badjets],bins='scott')"
   ]
  },
  {
   "cell_type": "code",
   "execution_count": 97,
   "metadata": {},
   "outputs": [],
   "source": [
    "jet=198"
   ]
  },
  {
   "cell_type": "code",
   "execution_count": 98,
   "metadata": {},
   "outputs": [
    {
     "data": {
      "text/plain": [
       "735.0237680616142"
      ]
     },
     "execution_count": 98,
     "metadata": {},
     "output_type": "execute_result"
    }
   ],
   "source": [
    "mean_err_per_jet[jet]"
   ]
  },
  {
   "cell_type": "code",
   "execution_count": 99,
   "metadata": {
    "scrolled": true
   },
   "outputs": [
    {
     "data": {
      "text/plain": [
       "array([0.00257813, 0.00257813, 0.00364602, 0.49234786, 0.3303915 ,\n",
       "       0.74276582])"
      ]
     },
     "execution_count": 99,
     "metadata": {},
     "output_type": "execute_result"
    }
   ],
   "source": [
    "y_test[jet]"
   ]
  },
  {
   "cell_type": "code",
   "execution_count": 100,
   "metadata": {},
   "outputs": [
    {
     "data": {
      "text/plain": [
       "array([0.0364235 , 0.04053366, 0.06108767, 0.43210566, 0.43942747,\n",
       "       0.7097888 ], dtype=float32)"
      ]
     },
     "execution_count": 100,
     "metadata": {},
     "output_type": "execute_result"
    }
   ],
   "source": [
    "results[jet]"
   ]
  },
  {
   "cell_type": "code",
   "execution_count": 101,
   "metadata": {},
   "outputs": [
    {
     "data": {
      "text/plain": [
       "[[0.0,\n",
       "  0.0,\n",
       "  0.7853867295557591,\n",
       "  0.7854047901174959,\n",
       "  0.00010714892553958463,\n",
       "  0.0,\n",
       "  0.0,\n",
       "  0.0],\n",
       " [2.8149073836295616e-06,\n",
       "  1.6806762819724374e-07,\n",
       "  1.6629304676313204,\n",
       "  0.6354896566393341,\n",
       "  0.0015174645326652314,\n",
       "  2.6052849136495596e-06,\n",
       "  2.5849095801839074e-06,\n",
       "  3.6923419673866943e-06],\n",
       " [2.050861353011359e-06,\n",
       "  4.224432757985731e-06,\n",
       "  1.2801707186704805,\n",
       "  1.8273312237871129,\n",
       "  0.0006365367422732366,\n",
       "  2.590907769114507e-06,\n",
       "  2.5853559742709803e-06,\n",
       "  3.665582783597552e-06],\n",
       " [0.0003270446116875847,\n",
       "  0.00023753313905532932,\n",
       "  1.090291734244463,\n",
       "  0.9442686319862331,\n",
       "  0.0009623637475833415,\n",
       "  0.0004925421857611689,\n",
       "  0.0003264654486746935,\n",
       "  0.000745443825903089],\n",
       " [0.00025701144032752154,\n",
       "  -6.11594052961886e-05,\n",
       "  0.19057256978585643,\n",
       "  0.49601014325002785,\n",
       "  0.0005647055449009436,\n",
       "  0.0004929006424495165,\n",
       "  0.00033307374518687046,\n",
       "  0.0007566492461165023],\n",
       " [0.0001455125128993599,\n",
       "  0.00017511524921287987,\n",
       "  0.5174361882102811,\n",
       "  0.91076482242922,\n",
       "  0.000785682683301522,\n",
       "  0.0004965376099765449,\n",
       "  0.00032849180081180503,\n",
       "  0.000741645871794662],\n",
       " [2.334916465816395e-05,\n",
       "  -1.7168015983114804e-05,\n",
       "  0.5872429429098885,\n",
       "  0.6436327483651609,\n",
       "  0.00021982441667503264,\n",
       "  0.0004975744702895913,\n",
       "  0.00033097908655781036,\n",
       "  0.0007241989058791461],\n",
       " [-5.904467915364085e-07,\n",
       "  -8.581245588991923e-08,\n",
       "  1.02557671608201,\n",
       "  0.9004994765789203,\n",
       "  0.0019861536702106886,\n",
       "  8.393013978641203e-06,\n",
       "  4.785925828377527e-06,\n",
       "  2.7394280946995112e-05],\n",
       " [1.1045206820849843e-06,\n",
       "  1.962900014319312e-07,\n",
       "  0.7232328118498956,\n",
       "  0.7616845439843672,\n",
       "  0.0004500092907685098,\n",
       "  -1.330573030676594e-05,\n",
       "  -6.146055183169475e-07,\n",
       "  8.894278994453652e-06],\n",
       " [nan, nan, nan, nan, nan, nan, nan, nan],\n",
       " [nan, nan, nan, nan, nan, nan, nan, nan],\n",
       " [nan, nan, nan, nan, nan, nan, nan, nan],\n",
       " [nan, nan, nan, nan, nan, nan, nan, nan],\n",
       " [nan, nan, nan, nan, nan, nan, nan, nan],\n",
       " [nan, nan, nan, nan, nan, nan, nan, nan],\n",
       " [nan, nan, nan, nan, nan, nan, nan, nan],\n",
       " [nan, nan, nan, nan, nan, nan, nan, nan],\n",
       " [nan, nan, nan, nan, nan, nan, nan, nan],\n",
       " [nan, nan, nan, nan, nan, nan, nan, nan],\n",
       " [nan, nan, nan, nan, nan, nan, nan, nan],\n",
       " [nan, nan, nan, nan, nan, nan, nan, nan],\n",
       " [nan, nan, nan, nan, nan, nan, nan, nan],\n",
       " [nan, nan, nan, nan, nan, nan, nan, nan],\n",
       " [nan, nan, nan, nan, nan, nan, nan, nan],\n",
       " [nan, nan, nan, nan, nan, nan, nan, nan],\n",
       " [nan, nan, nan, nan, nan, nan, nan, nan],\n",
       " [nan, nan, nan, nan, nan, nan, nan, nan],\n",
       " [nan, nan, nan, nan, nan, nan, nan, nan],\n",
       " [nan, nan, nan, nan, nan, nan, nan, nan],\n",
       " [nan, nan, nan, nan, nan, nan, nan, nan]]"
      ]
     },
     "execution_count": 101,
     "metadata": {},
     "output_type": "execute_result"
    }
   ],
   "source": [
    "bjets_DF.iloc[280000+jet]['tracks']"
   ]
  },
  {
   "cell_type": "code",
   "execution_count": 162,
   "metadata": {},
   "outputs": [],
   "source": [
    "indices=280000+np.where(mean_err_per_jet > 100.)[0]\n",
    "bad_phis=[]\n",
    "bad_thetas=[]\n",
    "bad_1OverP=[]\n",
    "bad_sectrkphis=[]\n",
    "bad_nSecTrks=[]\n",
    "bad_nTerTrks=[]\n",
    "\n",
    "bad_sumSecTerTrks=[]\n",
    "\n",
    "for index in indices:\n",
    "    # extracts all the phi values of worst performing jets\n",
    "    bad_phis.append(abs(bjets_DF.iloc[index]['tracks'][0][2]))\n",
    "    bad_thetas.append(abs(bjets_DF.iloc[index]['tracks'][0][3]))\n",
    "    bad_1OverP.append(abs(bjets_DF.iloc[index]['tracks'][0][4]))\n",
    "    bad_sectrkphis.append(abs(bjets_DF.iloc[index]['tracks'][1][3]))\n",
    "    bad_nSecTrks.append(bjets_DF.iloc[index]['nSecTracks'])\n",
    "    bad_nTerTrks.append(bjets_DF.iloc[index]['nTerTracks'])\n",
    "\n",
    "    bad_sumSecTerTrks.append(bjets_DF.iloc[index]['nSecTracks'] + bjets_DF.iloc[index]['nTerTracks'])\n"
   ]
  },
  {
   "cell_type": "code",
   "execution_count": 61,
   "metadata": {
    "scrolled": true
   },
   "outputs": [
    {
     "data": {
      "image/png": "[encoded data removed]",
      "text/plain": [
       "<Figure size 432x288 with 1 Axes>"
      ]
     },
     "metadata": {
      "needs_background": "light"
     },
     "output_type": "display_data"
    },
    {
     "data": {
      "text/plain": [
       "<matplotlib.lines.Line2D at 0x23b002f8a20>"
      ]
     },
     "execution_count": 61,
     "metadata": {},
     "output_type": "execute_result"
    },
    {
     "data": {
      "image/png": "[encoded data removed]",
      "text/plain": [
       "<Figure size 432x288 with 1 Axes>"
      ]
     },
     "metadata": {
      "needs_background": "light"
     },
     "output_type": "display_data"
    }
   ],
   "source": [
    "plt.hist(bad_sectrkphis,bins=np.linspace(0.,3.2,65))\n",
    "plt.axvline(x=np.pi/2, color='r', linestyle='dashed', linewidth=2)\n",
    "plt.show()\n",
    "\n",
    "plt.hist(bad_thetas,bins=np.linspace(0.,3.2,65))\n",
    "plt.axvline(x=np.pi/2, color='r', linestyle='dashed', linewidth=2)\n"
   ]
  },
  {
   "cell_type": "code",
   "execution_count": 46,
   "metadata": {},
   "outputs": [
    {
     "data": {
      "text/plain": [
       "(array([286., 128.,  95.,  75.,  71.,  50.,  52.,  53.,  37.,  32.,  28.]),\n",
       " array([ 5976.14207369, 12715.64852691, 19455.15498012, 26194.66143334,\n",
       "        32934.16788656, 39673.67433977, 46413.18079299, 53152.6872462 ,\n",
       "        59892.19369942, 66631.70015264, 73371.20660585, 80110.71305907]),\n",
       " <a list of 11 Patch objects>)"
      ]
     },
     "execution_count": 46,
     "metadata": {},
     "output_type": "execute_result"
    },
    {
     "data": {
      "image/png": "[encoded data removed]",
      "text/plain": [
       "<Figure size 432x288 with 1 Axes>"
      ]
     },
     "metadata": {
      "needs_background": "light"
     },
     "output_type": "display_data"
    }
   ],
   "source": [
    "#plt.hist(bad_1OverP,bins=np.linspace(0.,3.2,65))\n",
    "bad_ps=np.reciprocal(bad_1OverP)\n",
    "plt.hist(bad_ps,bins='scott')\n"
   ]
  },
  {
   "cell_type": "code",
   "execution_count": 178,
   "metadata": {},
   "outputs": [
    {
     "data": {
      "text/plain": [
       "(array([225., 134., 127.]), array([1, 2, 3, 4]), <a list of 3 Patch objects>)"
      ]
     },
     "execution_count": 178,
     "metadata": {},
     "output_type": "execute_result"
    },
    {
     "data": {
      "image/png": "[encoded data removed]",
      "text/plain": [
       "<Figure size 432x288 with 1 Axes>"
      ]
     },
     "metadata": {
      "needs_background": "light"
     },
     "output_type": "display_data"
    }
   ],
   "source": [
    "plt.hist(bad_nSecTrks, bins=[1,2,3,4])\n"
   ]
  },
  {
   "cell_type": "code",
   "execution_count": 134,
   "metadata": {},
   "outputs": [
    {
     "data": {
      "text/plain": [
       "(array([ 99748., 100135., 100117.]),\n",
       " array([1, 2, 3, 4]),\n",
       " <a list of 3 Patch objects>)"
      ]
     },
     "execution_count": 134,
     "metadata": {},
     "output_type": "execute_result"
    },
    {
     "data": {
      "image/png": "[encoded data removed]",
      "text/plain": [
       "<Figure size 432x288 with 1 Axes>"
      ]
     },
     "metadata": {
      "needs_background": "light"
     },
     "output_type": "display_data"
    }
   ],
   "source": [
    "plt.hist(bjets_DF['nSecTracks'], bins=[1,2,3,4])"
   ]
  },
  {
   "cell_type": "code",
   "execution_count": 167,
   "metadata": {
    "scrolled": true
   },
   "outputs": [
    {
     "data": {
      "text/plain": [
       "(array([148., 167., 171.]), array([2, 3, 4, 5]), <a list of 3 Patch objects>)"
      ]
     },
     "execution_count": 167,
     "metadata": {},
     "output_type": "execute_result"
    },
    {
     "data": {
      "image/png": "[encoded data removed]",
      "text/plain": [
       "<Figure size 432x288 with 1 Axes>"
      ]
     },
     "metadata": {
      "needs_background": "light"
     },
     "output_type": "display_data"
    }
   ],
   "source": [
    "plt.hist(bad_nTerTrks, bins=[2,3,4,5])\n",
    "plt.show()\n",
    "#plt.hist(bjets_DF['nTerTracks'], bins=[2,3,4,5])"
   ]
  },
  {
   "cell_type": "code",
   "execution_count": null,
   "metadata": {},
   "outputs": [],
   "source": []
  },
  {
   "cell_type": "code",
   "execution_count": 148,
   "metadata": {},
   "outputs": [
    {
     "data": {
      "text/plain": [
       "array([0. , 0.2, 0.4, 0.6, 0.8, 1. , 1.2, 1.4, 1.6, 1.8, 2. , 2.2, 2.4,\n",
       "       2.6, 2.8, 3. , 3.2])"
      ]
     },
     "execution_count": 148,
     "metadata": {},
     "output_type": "execute_result"
    }
   ],
   "source": [
    "np.linspace(0.,3.2,17)"
   ]
  },
  {
   "cell_type": "code",
   "execution_count": null,
   "metadata": {},
   "outputs": [],
   "source": [
    "# so in 41, we actually only had one track from the secondary vertex, three from the tertiary\n",
    "# could this be fixed wih some sort of track ordering\n",
    "# perhaps the RNN expects secondarys before tertiarys\n",
    "# so it gets thrown when the number of sec and ter tracks is different.\n",
    "\n",
    "# in 51, the jet_phi was very close to -pi/2, this undoubtedly could lead to large errs"
   ]
  },
  {
   "cell_type": "code",
   "execution_count": 81,
   "metadata": {},
   "outputs": [],
   "source": [
    "d0,z0,phi0,theta0,qoverp=1.3081643989711976e-05,-6.615451638936065e-06,-0.6557717081719833,1.800121842067036,5.373777313714585e-05\n",
    "\n",
    "jetphi,jettheta = -0.7666502947479463,1.8519400411980116\n",
    "\n",
    "x0=d0*np.cos(phi0)\n",
    "y0=d0*np.sin(phi0)\n",
    "trk_PoCA=[x0,y0,z0]\n",
    "dirvec=[100*np.sin(theta0)*np.cos(phi0), 100*np.sin(theta0)*np.sin(phi0), 100*np.cos(theta0)]\n",
    "trk_secondp=[0.,0.,0.]\n",
    "for i in range(len(trk_PoCA)):\n",
    "    trk_secondp[i]=PoCA[i]+dirvec[i]\n",
    "\n",
    "jetdir = [100*np.sin(jettheta)*np.cos(jetphi), 100*np.sin(jettheta)*np.sin(jetphi), 100*np.cos(jettheta)]"
   ]
  },
  {
   "cell_type": "code",
   "execution_count": 82,
   "metadata": {},
   "outputs": [],
   "source": [
    "from mathutils.geometry import intersect_line_line"
   ]
  },
  {
   "cell_type": "code",
   "execution_count": 83,
   "metadata": {},
   "outputs": [
    {
     "name": "stdout",
     "output_type": "stream",
     "text": [
      "(Vector((9.374803994433023e-06, -7.2125230872188695e-06, -6.322869012365118e-06)), Vector((9.028971362567972e-06, -8.696616532688495e-06, -3.620333473008941e-06)))\n"
     ]
    }
   ],
   "source": [
    "print(intersect_line_line(trk_PoCA,trk_secondp,[0,0,0],jetdir))"
   ]
  },
  {
   "cell_type": "code",
   "execution_count": 80,
   "metadata": {},
   "outputs": [
    {
     "name": "stdout",
     "output_type": "stream",
     "text": [
      "[1.0368217982231362e-05, -7.976807967257435e-06, -6.615451638936065e-06] \n",
      " [0.771838238659556, -0.5938151977634709, -0.22732736406629356] \n",
      " [0, 0, 0] \n",
      " [0.6919610134810684, -0.666489968622366, -0.277454640523474]\n"
     ]
    }
   ],
   "source": [
    "print(trk_PoCA,\"\\n\",trk_secondp,\"\\n\",[0,0,0],\"\\n\",jetdir)"
   ]
  },
  {
   "cell_type": "code",
   "execution_count": null,
   "metadata": {},
   "outputs": [],
   "source": []
  }
 ],
 "metadata": {
  "kernelspec": {
   "display_name": "Python 3",
   "language": "python",
   "name": "python3"
  },
  "language_info": {
   "codemirror_mode": {
    "name": "ipython",
    "version": 3
   },
   "file_extension": ".py",
   "mimetype": "text/x-python",
   "name": "python",
   "nbconvert_exporter": "python",
   "pygments_lexer": "ipython3",
   "version": "3.6.7"
  }
 },
 "nbformat": 4,
 "nbformat_minor": 2
}
